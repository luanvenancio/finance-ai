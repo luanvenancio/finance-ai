{
  "cells": [
    {
      "cell_type": "code",
      "execution_count": 3,
      "metadata": {
        "id": "zJelH_H0qYSA",
        "colab": {
          "base_uri": "https://localhost:8080/"
        },
        "outputId": "30e4683c-54c6-4b28-c399-2d3418b53dd7"
      },
      "outputs": [
        {
          "output_type": "stream",
          "name": "stdout",
          "text": [
            "Requirement already satisfied: ta in /usr/local/lib/python3.10/dist-packages (0.10.2)\n",
            "Requirement already satisfied: numpy in /usr/local/lib/python3.10/dist-packages (from ta) (1.23.5)\n",
            "Requirement already satisfied: pandas in /usr/local/lib/python3.10/dist-packages (from ta) (1.5.3)\n",
            "Requirement already satisfied: python-dateutil>=2.8.1 in /usr/local/lib/python3.10/dist-packages (from pandas->ta) (2.8.2)\n",
            "Requirement already satisfied: pytz>=2020.1 in /usr/local/lib/python3.10/dist-packages (from pandas->ta) (2023.3.post1)\n",
            "Requirement already satisfied: six>=1.5 in /usr/local/lib/python3.10/dist-packages (from python-dateutil>=2.8.1->pandas->ta) (1.16.0)\n"
          ]
        }
      ],
      "source": [
        "!pip install ta\n",
        "\n",
        "import ta\n",
        "import pandas as pd\n",
        "import numpy as np\n",
        "import matplotlib.pyplot as plt"
      ]
    },
    {
      "cell_type": "markdown",
      "metadata": {
        "id": "ONBdHvPr53ZR"
      },
      "source": []
    },
    {
      "cell_type": "markdown",
      "metadata": {
        "id": "6iv8fqg7P-bd"
      },
      "source": [
        "# Random Forest"
      ]
    },
    {
      "cell_type": "markdown",
      "source": [
        "## Data Extraction"
      ],
      "metadata": {
        "id": "c-rLcypHZZYA"
      }
    },
    {
      "cell_type": "code",
      "execution_count": 122,
      "metadata": {
        "id": "T-GZaoxnytCc",
        "colab": {
          "base_uri": "https://localhost:8080/",
          "height": 617
        },
        "outputId": "63266c18-330f-4da9-8af6-f9a8c11568e7"
      },
      "outputs": [
        {
          "output_type": "execute_result",
          "data": {
            "text/plain": [
              "                     Date   Open   High    Low  Close   Volume  Return  Output\n",
              "0     04/01/2010 16:56:00   5.87   5.92   5.69   5.87   449800   -0.08       0\n",
              "1     05/01/2010 16:56:00   5.87   6.04   5.77   5.95   817700   -0.47       0\n",
              "2     06/01/2010 16:56:00   5.98   6.51   5.96   6.42  1077000    0.27       1\n",
              "3     07/01/2010 16:56:00   6.37   6.37   6.09   6.15   425400   -0.05       0\n",
              "4     08/01/2010 16:56:00   6.15   6.34   6.04   6.20   366600   -0.04       0\n",
              "...                   ...    ...    ...    ...    ...      ...     ...     ...\n",
              "3319  24/08/2023 16:56:00  66.15  66.48  65.40  65.45  6201500    2.52       1\n",
              "3320  25/08/2023 16:56:00  65.45  65.60  62.69  62.93  5148500    0.15       1\n",
              "3321  28/08/2023 16:56:00  63.19  63.24  62.04  62.78  4100600   -0.78       0\n",
              "3322  29/08/2023 16:56:00  63.00  64.20  62.87  63.56  3955100    0.17       1\n",
              "3323  30/08/2023 16:56:00  63.92  64.02  62.99  63.39  3110100    0.22       1\n",
              "\n",
              "[3324 rows x 8 columns]"
            ],
            "text/html": [
              "\n",
              "  <div id=\"df-d16f5319-7b42-49e6-89e9-fca8cba17ebf\" class=\"colab-df-container\">\n",
              "    <div>\n",
              "<style scoped>\n",
              "    .dataframe tbody tr th:only-of-type {\n",
              "        vertical-align: middle;\n",
              "    }\n",
              "\n",
              "    .dataframe tbody tr th {\n",
              "        vertical-align: top;\n",
              "    }\n",
              "\n",
              "    .dataframe thead th {\n",
              "        text-align: right;\n",
              "    }\n",
              "</style>\n",
              "<table border=\"1\" class=\"dataframe\">\n",
              "  <thead>\n",
              "    <tr style=\"text-align: right;\">\n",
              "      <th></th>\n",
              "      <th>Date</th>\n",
              "      <th>Open</th>\n",
              "      <th>High</th>\n",
              "      <th>Low</th>\n",
              "      <th>Close</th>\n",
              "      <th>Volume</th>\n",
              "      <th>Return</th>\n",
              "      <th>Output</th>\n",
              "    </tr>\n",
              "  </thead>\n",
              "  <tbody>\n",
              "    <tr>\n",
              "      <th>0</th>\n",
              "      <td>04/01/2010 16:56:00</td>\n",
              "      <td>5.87</td>\n",
              "      <td>5.92</td>\n",
              "      <td>5.69</td>\n",
              "      <td>5.87</td>\n",
              "      <td>449800</td>\n",
              "      <td>-0.08</td>\n",
              "      <td>0</td>\n",
              "    </tr>\n",
              "    <tr>\n",
              "      <th>1</th>\n",
              "      <td>05/01/2010 16:56:00</td>\n",
              "      <td>5.87</td>\n",
              "      <td>6.04</td>\n",
              "      <td>5.77</td>\n",
              "      <td>5.95</td>\n",
              "      <td>817700</td>\n",
              "      <td>-0.47</td>\n",
              "      <td>0</td>\n",
              "    </tr>\n",
              "    <tr>\n",
              "      <th>2</th>\n",
              "      <td>06/01/2010 16:56:00</td>\n",
              "      <td>5.98</td>\n",
              "      <td>6.51</td>\n",
              "      <td>5.96</td>\n",
              "      <td>6.42</td>\n",
              "      <td>1077000</td>\n",
              "      <td>0.27</td>\n",
              "      <td>1</td>\n",
              "    </tr>\n",
              "    <tr>\n",
              "      <th>3</th>\n",
              "      <td>07/01/2010 16:56:00</td>\n",
              "      <td>6.37</td>\n",
              "      <td>6.37</td>\n",
              "      <td>6.09</td>\n",
              "      <td>6.15</td>\n",
              "      <td>425400</td>\n",
              "      <td>-0.05</td>\n",
              "      <td>0</td>\n",
              "    </tr>\n",
              "    <tr>\n",
              "      <th>4</th>\n",
              "      <td>08/01/2010 16:56:00</td>\n",
              "      <td>6.15</td>\n",
              "      <td>6.34</td>\n",
              "      <td>6.04</td>\n",
              "      <td>6.20</td>\n",
              "      <td>366600</td>\n",
              "      <td>-0.04</td>\n",
              "      <td>0</td>\n",
              "    </tr>\n",
              "    <tr>\n",
              "      <th>...</th>\n",
              "      <td>...</td>\n",
              "      <td>...</td>\n",
              "      <td>...</td>\n",
              "      <td>...</td>\n",
              "      <td>...</td>\n",
              "      <td>...</td>\n",
              "      <td>...</td>\n",
              "      <td>...</td>\n",
              "    </tr>\n",
              "    <tr>\n",
              "      <th>3319</th>\n",
              "      <td>24/08/2023 16:56:00</td>\n",
              "      <td>66.15</td>\n",
              "      <td>66.48</td>\n",
              "      <td>65.40</td>\n",
              "      <td>65.45</td>\n",
              "      <td>6201500</td>\n",
              "      <td>2.52</td>\n",
              "      <td>1</td>\n",
              "    </tr>\n",
              "    <tr>\n",
              "      <th>3320</th>\n",
              "      <td>25/08/2023 16:56:00</td>\n",
              "      <td>65.45</td>\n",
              "      <td>65.60</td>\n",
              "      <td>62.69</td>\n",
              "      <td>62.93</td>\n",
              "      <td>5148500</td>\n",
              "      <td>0.15</td>\n",
              "      <td>1</td>\n",
              "    </tr>\n",
              "    <tr>\n",
              "      <th>3321</th>\n",
              "      <td>28/08/2023 16:56:00</td>\n",
              "      <td>63.19</td>\n",
              "      <td>63.24</td>\n",
              "      <td>62.04</td>\n",
              "      <td>62.78</td>\n",
              "      <td>4100600</td>\n",
              "      <td>-0.78</td>\n",
              "      <td>0</td>\n",
              "    </tr>\n",
              "    <tr>\n",
              "      <th>3322</th>\n",
              "      <td>29/08/2023 16:56:00</td>\n",
              "      <td>63.00</td>\n",
              "      <td>64.20</td>\n",
              "      <td>62.87</td>\n",
              "      <td>63.56</td>\n",
              "      <td>3955100</td>\n",
              "      <td>0.17</td>\n",
              "      <td>1</td>\n",
              "    </tr>\n",
              "    <tr>\n",
              "      <th>3323</th>\n",
              "      <td>30/08/2023 16:56:00</td>\n",
              "      <td>63.92</td>\n",
              "      <td>64.02</td>\n",
              "      <td>62.99</td>\n",
              "      <td>63.39</td>\n",
              "      <td>3110100</td>\n",
              "      <td>0.22</td>\n",
              "      <td>1</td>\n",
              "    </tr>\n",
              "  </tbody>\n",
              "</table>\n",
              "<p>3324 rows × 8 columns</p>\n",
              "</div>\n",
              "    <div class=\"colab-df-buttons\">\n",
              "\n",
              "  <div class=\"colab-df-container\">\n",
              "    <button class=\"colab-df-convert\" onclick=\"convertToInteractive('df-d16f5319-7b42-49e6-89e9-fca8cba17ebf')\"\n",
              "            title=\"Convert this dataframe to an interactive table.\"\n",
              "            style=\"display:none;\">\n",
              "\n",
              "  <svg xmlns=\"http://www.w3.org/2000/svg\" height=\"24px\" viewBox=\"0 -960 960 960\">\n",
              "    <path d=\"M120-120v-720h720v720H120Zm60-500h600v-160H180v160Zm220 220h160v-160H400v160Zm0 220h160v-160H400v160ZM180-400h160v-160H180v160Zm440 0h160v-160H620v160ZM180-180h160v-160H180v160Zm440 0h160v-160H620v160Z\"/>\n",
              "  </svg>\n",
              "    </button>\n",
              "\n",
              "  <style>\n",
              "    .colab-df-container {\n",
              "      display:flex;\n",
              "      gap: 12px;\n",
              "    }\n",
              "\n",
              "    .colab-df-convert {\n",
              "      background-color: #E8F0FE;\n",
              "      border: none;\n",
              "      border-radius: 50%;\n",
              "      cursor: pointer;\n",
              "      display: none;\n",
              "      fill: #1967D2;\n",
              "      height: 32px;\n",
              "      padding: 0 0 0 0;\n",
              "      width: 32px;\n",
              "    }\n",
              "\n",
              "    .colab-df-convert:hover {\n",
              "      background-color: #E2EBFA;\n",
              "      box-shadow: 0px 1px 2px rgba(60, 64, 67, 0.3), 0px 1px 3px 1px rgba(60, 64, 67, 0.15);\n",
              "      fill: #174EA6;\n",
              "    }\n",
              "\n",
              "    .colab-df-buttons div {\n",
              "      margin-bottom: 4px;\n",
              "    }\n",
              "\n",
              "    [theme=dark] .colab-df-convert {\n",
              "      background-color: #3B4455;\n",
              "      fill: #D2E3FC;\n",
              "    }\n",
              "\n",
              "    [theme=dark] .colab-df-convert:hover {\n",
              "      background-color: #434B5C;\n",
              "      box-shadow: 0px 1px 3px 1px rgba(0, 0, 0, 0.15);\n",
              "      filter: drop-shadow(0px 1px 2px rgba(0, 0, 0, 0.3));\n",
              "      fill: #FFFFFF;\n",
              "    }\n",
              "  </style>\n",
              "\n",
              "    <script>\n",
              "      const buttonEl =\n",
              "        document.querySelector('#df-d16f5319-7b42-49e6-89e9-fca8cba17ebf button.colab-df-convert');\n",
              "      buttonEl.style.display =\n",
              "        google.colab.kernel.accessAllowed ? 'block' : 'none';\n",
              "\n",
              "      async function convertToInteractive(key) {\n",
              "        const element = document.querySelector('#df-d16f5319-7b42-49e6-89e9-fca8cba17ebf');\n",
              "        const dataTable =\n",
              "          await google.colab.kernel.invokeFunction('convertToInteractive',\n",
              "                                                    [key], {});\n",
              "        if (!dataTable) return;\n",
              "\n",
              "        const docLinkHtml = 'Like what you see? Visit the ' +\n",
              "          '<a target=\"_blank\" href=https://colab.research.google.com/notebooks/data_table.ipynb>data table notebook</a>'\n",
              "          + ' to learn more about interactive tables.';\n",
              "        element.innerHTML = '';\n",
              "        dataTable['output_type'] = 'display_data';\n",
              "        await google.colab.output.renderOutput(dataTable, element);\n",
              "        const docLink = document.createElement('div');\n",
              "        docLink.innerHTML = docLinkHtml;\n",
              "        element.appendChild(docLink);\n",
              "      }\n",
              "    </script>\n",
              "  </div>\n",
              "\n",
              "\n",
              "<div id=\"df-db07b7fa-b1b5-4fe8-8715-53fecbf82fe2\">\n",
              "  <button class=\"colab-df-quickchart\" onclick=\"quickchart('df-db07b7fa-b1b5-4fe8-8715-53fecbf82fe2')\"\n",
              "            title=\"Suggest charts.\"\n",
              "            style=\"display:none;\">\n",
              "\n",
              "<svg xmlns=\"http://www.w3.org/2000/svg\" height=\"24px\"viewBox=\"0 0 24 24\"\n",
              "     width=\"24px\">\n",
              "    <g>\n",
              "        <path d=\"M19 3H5c-1.1 0-2 .9-2 2v14c0 1.1.9 2 2 2h14c1.1 0 2-.9 2-2V5c0-1.1-.9-2-2-2zM9 17H7v-7h2v7zm4 0h-2V7h2v10zm4 0h-2v-4h2v4z\"/>\n",
              "    </g>\n",
              "</svg>\n",
              "  </button>\n",
              "\n",
              "<style>\n",
              "  .colab-df-quickchart {\n",
              "      --bg-color: #E8F0FE;\n",
              "      --fill-color: #1967D2;\n",
              "      --hover-bg-color: #E2EBFA;\n",
              "      --hover-fill-color: #174EA6;\n",
              "      --disabled-fill-color: #AAA;\n",
              "      --disabled-bg-color: #DDD;\n",
              "  }\n",
              "\n",
              "  [theme=dark] .colab-df-quickchart {\n",
              "      --bg-color: #3B4455;\n",
              "      --fill-color: #D2E3FC;\n",
              "      --hover-bg-color: #434B5C;\n",
              "      --hover-fill-color: #FFFFFF;\n",
              "      --disabled-bg-color: #3B4455;\n",
              "      --disabled-fill-color: #666;\n",
              "  }\n",
              "\n",
              "  .colab-df-quickchart {\n",
              "    background-color: var(--bg-color);\n",
              "    border: none;\n",
              "    border-radius: 50%;\n",
              "    cursor: pointer;\n",
              "    display: none;\n",
              "    fill: var(--fill-color);\n",
              "    height: 32px;\n",
              "    padding: 0;\n",
              "    width: 32px;\n",
              "  }\n",
              "\n",
              "  .colab-df-quickchart:hover {\n",
              "    background-color: var(--hover-bg-color);\n",
              "    box-shadow: 0 1px 2px rgba(60, 64, 67, 0.3), 0 1px 3px 1px rgba(60, 64, 67, 0.15);\n",
              "    fill: var(--button-hover-fill-color);\n",
              "  }\n",
              "\n",
              "  .colab-df-quickchart-complete:disabled,\n",
              "  .colab-df-quickchart-complete:disabled:hover {\n",
              "    background-color: var(--disabled-bg-color);\n",
              "    fill: var(--disabled-fill-color);\n",
              "    box-shadow: none;\n",
              "  }\n",
              "\n",
              "  .colab-df-spinner {\n",
              "    border: 2px solid var(--fill-color);\n",
              "    border-color: transparent;\n",
              "    border-bottom-color: var(--fill-color);\n",
              "    animation:\n",
              "      spin 1s steps(1) infinite;\n",
              "  }\n",
              "\n",
              "  @keyframes spin {\n",
              "    0% {\n",
              "      border-color: transparent;\n",
              "      border-bottom-color: var(--fill-color);\n",
              "      border-left-color: var(--fill-color);\n",
              "    }\n",
              "    20% {\n",
              "      border-color: transparent;\n",
              "      border-left-color: var(--fill-color);\n",
              "      border-top-color: var(--fill-color);\n",
              "    }\n",
              "    30% {\n",
              "      border-color: transparent;\n",
              "      border-left-color: var(--fill-color);\n",
              "      border-top-color: var(--fill-color);\n",
              "      border-right-color: var(--fill-color);\n",
              "    }\n",
              "    40% {\n",
              "      border-color: transparent;\n",
              "      border-right-color: var(--fill-color);\n",
              "      border-top-color: var(--fill-color);\n",
              "    }\n",
              "    60% {\n",
              "      border-color: transparent;\n",
              "      border-right-color: var(--fill-color);\n",
              "    }\n",
              "    80% {\n",
              "      border-color: transparent;\n",
              "      border-right-color: var(--fill-color);\n",
              "      border-bottom-color: var(--fill-color);\n",
              "    }\n",
              "    90% {\n",
              "      border-color: transparent;\n",
              "      border-bottom-color: var(--fill-color);\n",
              "    }\n",
              "  }\n",
              "</style>\n",
              "\n",
              "  <script>\n",
              "    async function quickchart(key) {\n",
              "      const quickchartButtonEl =\n",
              "        document.querySelector('#' + key + ' button');\n",
              "      quickchartButtonEl.disabled = true;  // To prevent multiple clicks.\n",
              "      quickchartButtonEl.classList.add('colab-df-spinner');\n",
              "      try {\n",
              "        const charts = await google.colab.kernel.invokeFunction(\n",
              "            'suggestCharts', [key], {});\n",
              "      } catch (error) {\n",
              "        console.error('Error during call to suggestCharts:', error);\n",
              "      }\n",
              "      quickchartButtonEl.classList.remove('colab-df-spinner');\n",
              "      quickchartButtonEl.classList.add('colab-df-quickchart-complete');\n",
              "    }\n",
              "    (() => {\n",
              "      let quickchartButtonEl =\n",
              "        document.querySelector('#df-db07b7fa-b1b5-4fe8-8715-53fecbf82fe2 button');\n",
              "      quickchartButtonEl.style.display =\n",
              "        google.colab.kernel.accessAllowed ? 'block' : 'none';\n",
              "    })();\n",
              "  </script>\n",
              "</div>\n",
              "    </div>\n",
              "  </div>\n"
            ]
          },
          "metadata": {},
          "execution_count": 122
        }
      ],
      "source": [
        "np.random.seed(1111)\n",
        "\n",
        "df = pd.read_csv('Database.csv')\n",
        "df"
      ]
    },
    {
      "cell_type": "code",
      "execution_count": 123,
      "metadata": {
        "id": "rA5Dq1iYAxb4",
        "colab": {
          "base_uri": "https://localhost:8080/",
          "height": 617
        },
        "outputId": "9c5f59c4-354a-406e-b3fd-e54b5c3eb5d5"
      },
      "outputs": [
        {
          "output_type": "execute_result",
          "data": {
            "text/plain": [
              "                     Date   Open   High    Low  Close   Volume  Return  \\\n",
              "0     04/01/2010 16:56:00   5.87   5.92   5.69   5.87   449800   -0.08   \n",
              "1     05/01/2010 16:56:00   5.87   6.04   5.77   5.95   817700   -0.47   \n",
              "2     06/01/2010 16:56:00   5.98   6.51   5.96   6.42  1077000    0.27   \n",
              "3     07/01/2010 16:56:00   6.37   6.37   6.09   6.15   425400   -0.05   \n",
              "4     08/01/2010 16:56:00   6.15   6.34   6.04   6.20   366600   -0.04   \n",
              "...                   ...    ...    ...    ...    ...      ...     ...   \n",
              "3319  24/08/2023 16:56:00  66.15  66.48  65.40  65.45  6201500    2.52   \n",
              "3320  25/08/2023 16:56:00  65.45  65.60  62.69  62.93  5148500    0.15   \n",
              "3321  28/08/2023 16:56:00  63.19  63.24  62.04  62.78  4100600   -0.78   \n",
              "3322  29/08/2023 16:56:00  63.00  64.20  62.87  63.56  3955100    0.17   \n",
              "3323  30/08/2023 16:56:00  63.92  64.02  62.99  63.39  3110100    0.22   \n",
              "\n",
              "      Output  year  \n",
              "0          0  2010  \n",
              "1          0  2010  \n",
              "2          1  2010  \n",
              "3          0  2010  \n",
              "4          0  2010  \n",
              "...      ...   ...  \n",
              "3319       1  2023  \n",
              "3320       1  2023  \n",
              "3321       0  2023  \n",
              "3322       1  2023  \n",
              "3323       1  2023  \n",
              "\n",
              "[3324 rows x 9 columns]"
            ],
            "text/html": [
              "\n",
              "  <div id=\"df-8ab09c0e-455c-41d2-b5ec-52cd71f20a5e\" class=\"colab-df-container\">\n",
              "    <div>\n",
              "<style scoped>\n",
              "    .dataframe tbody tr th:only-of-type {\n",
              "        vertical-align: middle;\n",
              "    }\n",
              "\n",
              "    .dataframe tbody tr th {\n",
              "        vertical-align: top;\n",
              "    }\n",
              "\n",
              "    .dataframe thead th {\n",
              "        text-align: right;\n",
              "    }\n",
              "</style>\n",
              "<table border=\"1\" class=\"dataframe\">\n",
              "  <thead>\n",
              "    <tr style=\"text-align: right;\">\n",
              "      <th></th>\n",
              "      <th>Date</th>\n",
              "      <th>Open</th>\n",
              "      <th>High</th>\n",
              "      <th>Low</th>\n",
              "      <th>Close</th>\n",
              "      <th>Volume</th>\n",
              "      <th>Return</th>\n",
              "      <th>Output</th>\n",
              "      <th>year</th>\n",
              "    </tr>\n",
              "  </thead>\n",
              "  <tbody>\n",
              "    <tr>\n",
              "      <th>0</th>\n",
              "      <td>04/01/2010 16:56:00</td>\n",
              "      <td>5.87</td>\n",
              "      <td>5.92</td>\n",
              "      <td>5.69</td>\n",
              "      <td>5.87</td>\n",
              "      <td>449800</td>\n",
              "      <td>-0.08</td>\n",
              "      <td>0</td>\n",
              "      <td>2010</td>\n",
              "    </tr>\n",
              "    <tr>\n",
              "      <th>1</th>\n",
              "      <td>05/01/2010 16:56:00</td>\n",
              "      <td>5.87</td>\n",
              "      <td>6.04</td>\n",
              "      <td>5.77</td>\n",
              "      <td>5.95</td>\n",
              "      <td>817700</td>\n",
              "      <td>-0.47</td>\n",
              "      <td>0</td>\n",
              "      <td>2010</td>\n",
              "    </tr>\n",
              "    <tr>\n",
              "      <th>2</th>\n",
              "      <td>06/01/2010 16:56:00</td>\n",
              "      <td>5.98</td>\n",
              "      <td>6.51</td>\n",
              "      <td>5.96</td>\n",
              "      <td>6.42</td>\n",
              "      <td>1077000</td>\n",
              "      <td>0.27</td>\n",
              "      <td>1</td>\n",
              "      <td>2010</td>\n",
              "    </tr>\n",
              "    <tr>\n",
              "      <th>3</th>\n",
              "      <td>07/01/2010 16:56:00</td>\n",
              "      <td>6.37</td>\n",
              "      <td>6.37</td>\n",
              "      <td>6.09</td>\n",
              "      <td>6.15</td>\n",
              "      <td>425400</td>\n",
              "      <td>-0.05</td>\n",
              "      <td>0</td>\n",
              "      <td>2010</td>\n",
              "    </tr>\n",
              "    <tr>\n",
              "      <th>4</th>\n",
              "      <td>08/01/2010 16:56:00</td>\n",
              "      <td>6.15</td>\n",
              "      <td>6.34</td>\n",
              "      <td>6.04</td>\n",
              "      <td>6.20</td>\n",
              "      <td>366600</td>\n",
              "      <td>-0.04</td>\n",
              "      <td>0</td>\n",
              "      <td>2010</td>\n",
              "    </tr>\n",
              "    <tr>\n",
              "      <th>...</th>\n",
              "      <td>...</td>\n",
              "      <td>...</td>\n",
              "      <td>...</td>\n",
              "      <td>...</td>\n",
              "      <td>...</td>\n",
              "      <td>...</td>\n",
              "      <td>...</td>\n",
              "      <td>...</td>\n",
              "      <td>...</td>\n",
              "    </tr>\n",
              "    <tr>\n",
              "      <th>3319</th>\n",
              "      <td>24/08/2023 16:56:00</td>\n",
              "      <td>66.15</td>\n",
              "      <td>66.48</td>\n",
              "      <td>65.40</td>\n",
              "      <td>65.45</td>\n",
              "      <td>6201500</td>\n",
              "      <td>2.52</td>\n",
              "      <td>1</td>\n",
              "      <td>2023</td>\n",
              "    </tr>\n",
              "    <tr>\n",
              "      <th>3320</th>\n",
              "      <td>25/08/2023 16:56:00</td>\n",
              "      <td>65.45</td>\n",
              "      <td>65.60</td>\n",
              "      <td>62.69</td>\n",
              "      <td>62.93</td>\n",
              "      <td>5148500</td>\n",
              "      <td>0.15</td>\n",
              "      <td>1</td>\n",
              "      <td>2023</td>\n",
              "    </tr>\n",
              "    <tr>\n",
              "      <th>3321</th>\n",
              "      <td>28/08/2023 16:56:00</td>\n",
              "      <td>63.19</td>\n",
              "      <td>63.24</td>\n",
              "      <td>62.04</td>\n",
              "      <td>62.78</td>\n",
              "      <td>4100600</td>\n",
              "      <td>-0.78</td>\n",
              "      <td>0</td>\n",
              "      <td>2023</td>\n",
              "    </tr>\n",
              "    <tr>\n",
              "      <th>3322</th>\n",
              "      <td>29/08/2023 16:56:00</td>\n",
              "      <td>63.00</td>\n",
              "      <td>64.20</td>\n",
              "      <td>62.87</td>\n",
              "      <td>63.56</td>\n",
              "      <td>3955100</td>\n",
              "      <td>0.17</td>\n",
              "      <td>1</td>\n",
              "      <td>2023</td>\n",
              "    </tr>\n",
              "    <tr>\n",
              "      <th>3323</th>\n",
              "      <td>30/08/2023 16:56:00</td>\n",
              "      <td>63.92</td>\n",
              "      <td>64.02</td>\n",
              "      <td>62.99</td>\n",
              "      <td>63.39</td>\n",
              "      <td>3110100</td>\n",
              "      <td>0.22</td>\n",
              "      <td>1</td>\n",
              "      <td>2023</td>\n",
              "    </tr>\n",
              "  </tbody>\n",
              "</table>\n",
              "<p>3324 rows × 9 columns</p>\n",
              "</div>\n",
              "    <div class=\"colab-df-buttons\">\n",
              "\n",
              "  <div class=\"colab-df-container\">\n",
              "    <button class=\"colab-df-convert\" onclick=\"convertToInteractive('df-8ab09c0e-455c-41d2-b5ec-52cd71f20a5e')\"\n",
              "            title=\"Convert this dataframe to an interactive table.\"\n",
              "            style=\"display:none;\">\n",
              "\n",
              "  <svg xmlns=\"http://www.w3.org/2000/svg\" height=\"24px\" viewBox=\"0 -960 960 960\">\n",
              "    <path d=\"M120-120v-720h720v720H120Zm60-500h600v-160H180v160Zm220 220h160v-160H400v160Zm0 220h160v-160H400v160ZM180-400h160v-160H180v160Zm440 0h160v-160H620v160ZM180-180h160v-160H180v160Zm440 0h160v-160H620v160Z\"/>\n",
              "  </svg>\n",
              "    </button>\n",
              "\n",
              "  <style>\n",
              "    .colab-df-container {\n",
              "      display:flex;\n",
              "      gap: 12px;\n",
              "    }\n",
              "\n",
              "    .colab-df-convert {\n",
              "      background-color: #E8F0FE;\n",
              "      border: none;\n",
              "      border-radius: 50%;\n",
              "      cursor: pointer;\n",
              "      display: none;\n",
              "      fill: #1967D2;\n",
              "      height: 32px;\n",
              "      padding: 0 0 0 0;\n",
              "      width: 32px;\n",
              "    }\n",
              "\n",
              "    .colab-df-convert:hover {\n",
              "      background-color: #E2EBFA;\n",
              "      box-shadow: 0px 1px 2px rgba(60, 64, 67, 0.3), 0px 1px 3px 1px rgba(60, 64, 67, 0.15);\n",
              "      fill: #174EA6;\n",
              "    }\n",
              "\n",
              "    .colab-df-buttons div {\n",
              "      margin-bottom: 4px;\n",
              "    }\n",
              "\n",
              "    [theme=dark] .colab-df-convert {\n",
              "      background-color: #3B4455;\n",
              "      fill: #D2E3FC;\n",
              "    }\n",
              "\n",
              "    [theme=dark] .colab-df-convert:hover {\n",
              "      background-color: #434B5C;\n",
              "      box-shadow: 0px 1px 3px 1px rgba(0, 0, 0, 0.15);\n",
              "      filter: drop-shadow(0px 1px 2px rgba(0, 0, 0, 0.3));\n",
              "      fill: #FFFFFF;\n",
              "    }\n",
              "  </style>\n",
              "\n",
              "    <script>\n",
              "      const buttonEl =\n",
              "        document.querySelector('#df-8ab09c0e-455c-41d2-b5ec-52cd71f20a5e button.colab-df-convert');\n",
              "      buttonEl.style.display =\n",
              "        google.colab.kernel.accessAllowed ? 'block' : 'none';\n",
              "\n",
              "      async function convertToInteractive(key) {\n",
              "        const element = document.querySelector('#df-8ab09c0e-455c-41d2-b5ec-52cd71f20a5e');\n",
              "        const dataTable =\n",
              "          await google.colab.kernel.invokeFunction('convertToInteractive',\n",
              "                                                    [key], {});\n",
              "        if (!dataTable) return;\n",
              "\n",
              "        const docLinkHtml = 'Like what you see? Visit the ' +\n",
              "          '<a target=\"_blank\" href=https://colab.research.google.com/notebooks/data_table.ipynb>data table notebook</a>'\n",
              "          + ' to learn more about interactive tables.';\n",
              "        element.innerHTML = '';\n",
              "        dataTable['output_type'] = 'display_data';\n",
              "        await google.colab.output.renderOutput(dataTable, element);\n",
              "        const docLink = document.createElement('div');\n",
              "        docLink.innerHTML = docLinkHtml;\n",
              "        element.appendChild(docLink);\n",
              "      }\n",
              "    </script>\n",
              "  </div>\n",
              "\n",
              "\n",
              "<div id=\"df-c8ee75d5-7928-4be5-a8a3-d6ea6405c226\">\n",
              "  <button class=\"colab-df-quickchart\" onclick=\"quickchart('df-c8ee75d5-7928-4be5-a8a3-d6ea6405c226')\"\n",
              "            title=\"Suggest charts.\"\n",
              "            style=\"display:none;\">\n",
              "\n",
              "<svg xmlns=\"http://www.w3.org/2000/svg\" height=\"24px\"viewBox=\"0 0 24 24\"\n",
              "     width=\"24px\">\n",
              "    <g>\n",
              "        <path d=\"M19 3H5c-1.1 0-2 .9-2 2v14c0 1.1.9 2 2 2h14c1.1 0 2-.9 2-2V5c0-1.1-.9-2-2-2zM9 17H7v-7h2v7zm4 0h-2V7h2v10zm4 0h-2v-4h2v4z\"/>\n",
              "    </g>\n",
              "</svg>\n",
              "  </button>\n",
              "\n",
              "<style>\n",
              "  .colab-df-quickchart {\n",
              "      --bg-color: #E8F0FE;\n",
              "      --fill-color: #1967D2;\n",
              "      --hover-bg-color: #E2EBFA;\n",
              "      --hover-fill-color: #174EA6;\n",
              "      --disabled-fill-color: #AAA;\n",
              "      --disabled-bg-color: #DDD;\n",
              "  }\n",
              "\n",
              "  [theme=dark] .colab-df-quickchart {\n",
              "      --bg-color: #3B4455;\n",
              "      --fill-color: #D2E3FC;\n",
              "      --hover-bg-color: #434B5C;\n",
              "      --hover-fill-color: #FFFFFF;\n",
              "      --disabled-bg-color: #3B4455;\n",
              "      --disabled-fill-color: #666;\n",
              "  }\n",
              "\n",
              "  .colab-df-quickchart {\n",
              "    background-color: var(--bg-color);\n",
              "    border: none;\n",
              "    border-radius: 50%;\n",
              "    cursor: pointer;\n",
              "    display: none;\n",
              "    fill: var(--fill-color);\n",
              "    height: 32px;\n",
              "    padding: 0;\n",
              "    width: 32px;\n",
              "  }\n",
              "\n",
              "  .colab-df-quickchart:hover {\n",
              "    background-color: var(--hover-bg-color);\n",
              "    box-shadow: 0 1px 2px rgba(60, 64, 67, 0.3), 0 1px 3px 1px rgba(60, 64, 67, 0.15);\n",
              "    fill: var(--button-hover-fill-color);\n",
              "  }\n",
              "\n",
              "  .colab-df-quickchart-complete:disabled,\n",
              "  .colab-df-quickchart-complete:disabled:hover {\n",
              "    background-color: var(--disabled-bg-color);\n",
              "    fill: var(--disabled-fill-color);\n",
              "    box-shadow: none;\n",
              "  }\n",
              "\n",
              "  .colab-df-spinner {\n",
              "    border: 2px solid var(--fill-color);\n",
              "    border-color: transparent;\n",
              "    border-bottom-color: var(--fill-color);\n",
              "    animation:\n",
              "      spin 1s steps(1) infinite;\n",
              "  }\n",
              "\n",
              "  @keyframes spin {\n",
              "    0% {\n",
              "      border-color: transparent;\n",
              "      border-bottom-color: var(--fill-color);\n",
              "      border-left-color: var(--fill-color);\n",
              "    }\n",
              "    20% {\n",
              "      border-color: transparent;\n",
              "      border-left-color: var(--fill-color);\n",
              "      border-top-color: var(--fill-color);\n",
              "    }\n",
              "    30% {\n",
              "      border-color: transparent;\n",
              "      border-left-color: var(--fill-color);\n",
              "      border-top-color: var(--fill-color);\n",
              "      border-right-color: var(--fill-color);\n",
              "    }\n",
              "    40% {\n",
              "      border-color: transparent;\n",
              "      border-right-color: var(--fill-color);\n",
              "      border-top-color: var(--fill-color);\n",
              "    }\n",
              "    60% {\n",
              "      border-color: transparent;\n",
              "      border-right-color: var(--fill-color);\n",
              "    }\n",
              "    80% {\n",
              "      border-color: transparent;\n",
              "      border-right-color: var(--fill-color);\n",
              "      border-bottom-color: var(--fill-color);\n",
              "    }\n",
              "    90% {\n",
              "      border-color: transparent;\n",
              "      border-bottom-color: var(--fill-color);\n",
              "    }\n",
              "  }\n",
              "</style>\n",
              "\n",
              "  <script>\n",
              "    async function quickchart(key) {\n",
              "      const quickchartButtonEl =\n",
              "        document.querySelector('#' + key + ' button');\n",
              "      quickchartButtonEl.disabled = true;  // To prevent multiple clicks.\n",
              "      quickchartButtonEl.classList.add('colab-df-spinner');\n",
              "      try {\n",
              "        const charts = await google.colab.kernel.invokeFunction(\n",
              "            'suggestCharts', [key], {});\n",
              "      } catch (error) {\n",
              "        console.error('Error during call to suggestCharts:', error);\n",
              "      }\n",
              "      quickchartButtonEl.classList.remove('colab-df-spinner');\n",
              "      quickchartButtonEl.classList.add('colab-df-quickchart-complete');\n",
              "    }\n",
              "    (() => {\n",
              "      let quickchartButtonEl =\n",
              "        document.querySelector('#df-c8ee75d5-7928-4be5-a8a3-d6ea6405c226 button');\n",
              "      quickchartButtonEl.style.display =\n",
              "        google.colab.kernel.accessAllowed ? 'block' : 'none';\n",
              "    })();\n",
              "  </script>\n",
              "</div>\n",
              "    </div>\n",
              "  </div>\n"
            ]
          },
          "metadata": {},
          "execution_count": 123
        }
      ],
      "source": [
        "# df['Date'] = pd.to_datetime(df['Date'], format=\"%d/%m/%Y %H:%M:%S\")\n",
        "dataDates = pd.to_datetime(df['Date'], errors='coerce')\n",
        "\n",
        "df[\"year\"] =  dataDates.dt.year\n",
        "df"
      ]
    },
    {
      "cell_type": "markdown",
      "metadata": {
        "id": "OChN30zTscf1"
      },
      "source": [
        "## Feature Engineering"
      ]
    },
    {
      "cell_type": "markdown",
      "metadata": {
        "id": "taAMk2BS041G"
      },
      "source": [
        "### Time Series Feature\n",
        "\n"
      ]
    },
    {
      "cell_type": "code",
      "execution_count": 124,
      "metadata": {
        "id": "XHPQO23bsFS_"
      },
      "outputs": [],
      "source": [
        "open = df.Open\n",
        "high = df.High\n",
        "low = df.Low\n",
        "close = df.Close\n",
        "volume = df.Volume"
      ]
    },
    {
      "cell_type": "code",
      "source": [
        "# Close Lag Feature\n",
        "df['Close_Lag_1'] = close.shift(1)\n",
        "\n",
        "# Volume difference\n",
        "df['Volume_diff'] = volume.diff()\n",
        "\n",
        "# Volume Weighted Average Price\n",
        "df['vwap'] = (close * volume).cumsum() / volume.cumsum()\n",
        "\n",
        "# Volume Percentage Change\n",
        "df['volume_percentage_change'] = volume.pct_change()\n",
        "\n",
        "# Daily Return\n",
        "df['daily_Return'] = close.pct_change() * 100"
      ],
      "metadata": {
        "id": "Q2pNvLzGQeax"
      },
      "execution_count": 125,
      "outputs": []
    },
    {
      "cell_type": "code",
      "execution_count": 126,
      "metadata": {
        "id": "bn3RRCIjDY3u",
        "colab": {
          "base_uri": "https://localhost:8080/"
        },
        "outputId": "ff63ac7c-8336-4d5d-98ed-ae8635e497ef"
      },
      "outputs": [
        {
          "output_type": "stream",
          "name": "stderr",
          "text": [
            "<ipython-input-126-c6832f42c335>:10: FutureWarning: Dropping of nuisance columns in rolling operations is deprecated; in a future version this will raise TypeError. Select only valid columns before calling the operation. Dropped columns were Index(['Date'], dtype='object')\n",
            "  rolling_averages = df.rolling(interator).mean()\n",
            "<ipython-input-126-c6832f42c335>:19: FutureWarning: Dropping of nuisance columns in rolling operations is deprecated; in a future version this will raise TypeError. Select only valid columns before calling the operation. Dropped columns were Index(['Date'], dtype='object')\n",
            "  rolling_std = df.rolling(interator).std()\n",
            "<ipython-input-126-c6832f42c335>:24: FutureWarning: Dropping of nuisance columns in rolling operations is deprecated; in a future version this will raise TypeError. Select only valid columns before calling the operation. Dropped columns were Index(['Date'], dtype='object')\n",
            "  expanding_averages = df.expanding(interator).mean()\n",
            "<ipython-input-126-c6832f42c335>:29: FutureWarning: Dropping of nuisance columns in rolling operations is deprecated; in a future version this will raise TypeError. Select only valid columns before calling the operation. Dropped columns were Index(['Date'], dtype='object')\n",
            "  expanding_std = df.expanding(interator).std()\n",
            "<ipython-input-126-c6832f42c335>:34: FutureWarning: Dropping of nuisance columns in rolling operations is deprecated; in a future version this will raise TypeError. Select only valid columns before calling the operation. Dropped columns were Index(['Date'], dtype='object')\n",
            "  exponential_mov_avg = df.ewm(span=interator, adjust=False).mean()\n",
            "<ipython-input-126-c6832f42c335>:39: FutureWarning: Dropping of nuisance columns in rolling operations is deprecated; in a future version this will raise TypeError. Select only valid columns before calling the operation. Dropped columns were Index(['Date'], dtype='object')\n",
            "  sma = df.rolling(interator).mean()\n",
            "<ipython-input-126-c6832f42c335>:10: FutureWarning: Dropping of nuisance columns in rolling operations is deprecated; in a future version this will raise TypeError. Select only valid columns before calling the operation. Dropped columns were Index(['Date'], dtype='object')\n",
            "  rolling_averages = df.rolling(interator).mean()\n",
            "<ipython-input-126-c6832f42c335>:19: FutureWarning: Dropping of nuisance columns in rolling operations is deprecated; in a future version this will raise TypeError. Select only valid columns before calling the operation. Dropped columns were Index(['Date'], dtype='object')\n",
            "  rolling_std = df.rolling(interator).std()\n",
            "<ipython-input-126-c6832f42c335>:24: FutureWarning: Dropping of nuisance columns in rolling operations is deprecated; in a future version this will raise TypeError. Select only valid columns before calling the operation. Dropped columns were Index(['Date'], dtype='object')\n",
            "  expanding_averages = df.expanding(interator).mean()\n",
            "<ipython-input-126-c6832f42c335>:29: FutureWarning: Dropping of nuisance columns in rolling operations is deprecated; in a future version this will raise TypeError. Select only valid columns before calling the operation. Dropped columns were Index(['Date'], dtype='object')\n",
            "  expanding_std = df.expanding(interator).std()\n",
            "<ipython-input-126-c6832f42c335>:34: FutureWarning: Dropping of nuisance columns in rolling operations is deprecated; in a future version this will raise TypeError. Select only valid columns before calling the operation. Dropped columns were Index(['Date'], dtype='object')\n",
            "  exponential_mov_avg = df.ewm(span=interator, adjust=False).mean()\n",
            "<ipython-input-126-c6832f42c335>:39: FutureWarning: Dropping of nuisance columns in rolling operations is deprecated; in a future version this will raise TypeError. Select only valid columns before calling the operation. Dropped columns were Index(['Date'], dtype='object')\n",
            "  sma = df.rolling(interator).mean()\n",
            "<ipython-input-126-c6832f42c335>:10: FutureWarning: Dropping of nuisance columns in rolling operations is deprecated; in a future version this will raise TypeError. Select only valid columns before calling the operation. Dropped columns were Index(['Date'], dtype='object')\n",
            "  rolling_averages = df.rolling(interator).mean()\n",
            "<ipython-input-126-c6832f42c335>:19: FutureWarning: Dropping of nuisance columns in rolling operations is deprecated; in a future version this will raise TypeError. Select only valid columns before calling the operation. Dropped columns were Index(['Date'], dtype='object')\n",
            "  rolling_std = df.rolling(interator).std()\n",
            "<ipython-input-126-c6832f42c335>:24: FutureWarning: Dropping of nuisance columns in rolling operations is deprecated; in a future version this will raise TypeError. Select only valid columns before calling the operation. Dropped columns were Index(['Date'], dtype='object')\n",
            "  expanding_averages = df.expanding(interator).mean()\n",
            "<ipython-input-126-c6832f42c335>:29: FutureWarning: Dropping of nuisance columns in rolling operations is deprecated; in a future version this will raise TypeError. Select only valid columns before calling the operation. Dropped columns were Index(['Date'], dtype='object')\n",
            "  expanding_std = df.expanding(interator).std()\n",
            "<ipython-input-126-c6832f42c335>:34: FutureWarning: Dropping of nuisance columns in rolling operations is deprecated; in a future version this will raise TypeError. Select only valid columns before calling the operation. Dropped columns were Index(['Date'], dtype='object')\n",
            "  exponential_mov_avg = df.ewm(span=interator, adjust=False).mean()\n",
            "<ipython-input-126-c6832f42c335>:39: FutureWarning: Dropping of nuisance columns in rolling operations is deprecated; in a future version this will raise TypeError. Select only valid columns before calling the operation. Dropped columns were Index(['Date'], dtype='object')\n",
            "  sma = df.rolling(interator).mean()\n",
            "<ipython-input-126-c6832f42c335>:10: FutureWarning: Dropping of nuisance columns in rolling operations is deprecated; in a future version this will raise TypeError. Select only valid columns before calling the operation. Dropped columns were Index(['Date'], dtype='object')\n",
            "  rolling_averages = df.rolling(interator).mean()\n",
            "<ipython-input-126-c6832f42c335>:19: FutureWarning: Dropping of nuisance columns in rolling operations is deprecated; in a future version this will raise TypeError. Select only valid columns before calling the operation. Dropped columns were Index(['Date'], dtype='object')\n",
            "  rolling_std = df.rolling(interator).std()\n",
            "<ipython-input-126-c6832f42c335>:24: FutureWarning: Dropping of nuisance columns in rolling operations is deprecated; in a future version this will raise TypeError. Select only valid columns before calling the operation. Dropped columns were Index(['Date'], dtype='object')\n",
            "  expanding_averages = df.expanding(interator).mean()\n",
            "<ipython-input-126-c6832f42c335>:29: FutureWarning: Dropping of nuisance columns in rolling operations is deprecated; in a future version this will raise TypeError. Select only valid columns before calling the operation. Dropped columns were Index(['Date'], dtype='object')\n",
            "  expanding_std = df.expanding(interator).std()\n",
            "<ipython-input-126-c6832f42c335>:34: FutureWarning: Dropping of nuisance columns in rolling operations is deprecated; in a future version this will raise TypeError. Select only valid columns before calling the operation. Dropped columns were Index(['Date'], dtype='object')\n",
            "  exponential_mov_avg = df.ewm(span=interator, adjust=False).mean()\n",
            "<ipython-input-126-c6832f42c335>:39: FutureWarning: Dropping of nuisance columns in rolling operations is deprecated; in a future version this will raise TypeError. Select only valid columns before calling the operation. Dropped columns were Index(['Date'], dtype='object')\n",
            "  sma = df.rolling(interator).mean()\n",
            "<ipython-input-126-c6832f42c335>:10: FutureWarning: Dropping of nuisance columns in rolling operations is deprecated; in a future version this will raise TypeError. Select only valid columns before calling the operation. Dropped columns were Index(['Date'], dtype='object')\n",
            "  rolling_averages = df.rolling(interator).mean()\n",
            "<ipython-input-126-c6832f42c335>:19: FutureWarning: Dropping of nuisance columns in rolling operations is deprecated; in a future version this will raise TypeError. Select only valid columns before calling the operation. Dropped columns were Index(['Date'], dtype='object')\n",
            "  rolling_std = df.rolling(interator).std()\n",
            "<ipython-input-126-c6832f42c335>:24: FutureWarning: Dropping of nuisance columns in rolling operations is deprecated; in a future version this will raise TypeError. Select only valid columns before calling the operation. Dropped columns were Index(['Date'], dtype='object')\n",
            "  expanding_averages = df.expanding(interator).mean()\n",
            "<ipython-input-126-c6832f42c335>:29: FutureWarning: Dropping of nuisance columns in rolling operations is deprecated; in a future version this will raise TypeError. Select only valid columns before calling the operation. Dropped columns were Index(['Date'], dtype='object')\n",
            "  expanding_std = df.expanding(interator).std()\n",
            "<ipython-input-126-c6832f42c335>:34: FutureWarning: Dropping of nuisance columns in rolling operations is deprecated; in a future version this will raise TypeError. Select only valid columns before calling the operation. Dropped columns were Index(['Date'], dtype='object')\n",
            "  exponential_mov_avg = df.ewm(span=interator, adjust=False).mean()\n",
            "<ipython-input-126-c6832f42c335>:39: FutureWarning: Dropping of nuisance columns in rolling operations is deprecated; in a future version this will raise TypeError. Select only valid columns before calling the operation. Dropped columns were Index(['Date'], dtype='object')\n",
            "  sma = df.rolling(interator).mean()\n"
          ]
        }
      ],
      "source": [
        "interators = [2, 3, 4, 5, 10]\n",
        "\n",
        "for interator in interators:\n",
        "\n",
        "    # Lag Feature\n",
        "    close_lag_column = f\"Close_Lag_{interator}\"\n",
        "    df[close_lag_column] = close.shift(interator)\n",
        "\n",
        "    # Rolling Avg\n",
        "    rolling_averages = df.rolling(interator).mean()\n",
        "    close_rolling_mean_column = f\"Close_Rolling_Mean_{interator}\"\n",
        "    df[close_rolling_mean_column] = rolling_averages[\"Close\"]\n",
        "\n",
        "    # Close Ratio\n",
        "    close_ratio_column = f\"Close_Ratio_{interator}\"\n",
        "    df[close_ratio_column] = close / rolling_averages[\"Close\"]\n",
        "\n",
        "    # Rolling Standard Deviation\n",
        "    rolling_std = df.rolling(interator).std()\n",
        "    close_rolling_std_column = f\"Close_Rolling_Std_{interator}\"\n",
        "    df[close_rolling_std_column] = rolling_std[\"Close\"]\n",
        "\n",
        "    # Expanding Avg\n",
        "    expanding_averages = df.expanding(interator).mean()\n",
        "    close_expanding_mean_column = f\"Close_Expanding_Mean_{interator}\"\n",
        "    df[close_expanding_mean_column] = expanding_averages[\"Close\"]\n",
        "\n",
        "    # Expanding Standard Deviation\n",
        "    expanding_std = df.expanding(interator).std()\n",
        "    close_expanding_std_column = f\"Close_Expanding_Mean_{interator}\"\n",
        "    df[close_expanding_std_column] = expanding_std[\"Close\"]\n",
        "\n",
        "    # Exponential Moving Avg\n",
        "    exponential_mov_avg = df.ewm(span=interator, adjust=False).mean()\n",
        "    exponential_moving_avg_column = f\"Exponential_Moving_Avg_{interator}\"\n",
        "    df[exponential_moving_avg_column] = exponential_mov_avg[\"Close\"]\n",
        "\n",
        "    # Simple Moving Average\n",
        "    sma = df.rolling(interator).mean()\n",
        "    sma_mean_column = f\"sma_{interator}\"\n",
        "    df[sma_mean_column] = sma[\"Close\"]"
      ]
    },
    {
      "cell_type": "code",
      "execution_count": 127,
      "metadata": {
        "id": "iVMuQSVJ2Y46",
        "colab": {
          "base_uri": "https://localhost:8080/",
          "height": 342
        },
        "outputId": "d5eccf91-5f4b-4b5b-df12-db5d0abb0065"
      },
      "outputs": [
        {
          "output_type": "execute_result",
          "data": {
            "text/plain": [
              "                   Date  Open  High   Low  Close  Volume  Return  Output  \\\n",
              "10  18/01/2010 16:56:00  6.56  6.68  6.48   6.61  370300   -0.02       0   \n",
              "11  19/01/2010 16:56:00  6.59  6.71  6.48   6.63  798300    0.26       1   \n",
              "12  20/01/2010 16:56:00  6.60  6.65  6.36   6.37  641600    0.24       1   \n",
              "13  21/01/2010 16:56:00  6.45  6.53  6.06   6.13  684600    0.01       1   \n",
              "14  22/01/2010 16:56:00  6.06  6.16  5.97   6.12  688000   -0.06       0   \n",
              "\n",
              "    year  Close_Lag_1  ...  Close_Expanding_Mean_5  Exponential_Moving_Avg_5  \\\n",
              "10  2010         6.41  ...                0.230391                  6.458262   \n",
              "11  2010         6.61  ...                0.240599                  6.515508   \n",
              "12  2010         6.63  ...                0.230801                  6.467005   \n",
              "13  2010         6.37  ...                0.227625                  6.354670   \n",
              "14  2010         6.13  ...                0.224684                  6.276447   \n",
              "\n",
              "    sma_5  Close_Lag_10  Close_Rolling_Mean_10  Close_Ratio_10  \\\n",
              "10  6.472          5.87                  6.332        1.043904   \n",
              "11  6.514          5.95                  6.400        1.035937   \n",
              "12  6.498          6.42                  6.395        0.996091   \n",
              "13  6.430          6.15                  6.393        0.958861   \n",
              "14  6.372          6.20                  6.385        0.958496   \n",
              "\n",
              "    Close_Rolling_Std_10  Close_Expanding_Mean_10  Exponential_Moving_Avg_10  \\\n",
              "10              0.193437                 0.230391                   6.338106   \n",
              "11              0.161038                 0.240599                   6.391178   \n",
              "12              0.161125                 0.230801                   6.387327   \n",
              "13              0.164590                 0.227625                   6.340540   \n",
              "14              0.176525                 0.224684                   6.300442   \n",
              "\n",
              "    sma_10  \n",
              "10   6.332  \n",
              "11   6.400  \n",
              "12   6.395  \n",
              "13   6.393  \n",
              "14   6.385  \n",
              "\n",
              "[5 rows x 49 columns]"
            ],
            "text/html": [
              "\n",
              "  <div id=\"df-b5ca74ec-35c1-4f9d-83bf-bc6a7f9e63f2\" class=\"colab-df-container\">\n",
              "    <div>\n",
              "<style scoped>\n",
              "    .dataframe tbody tr th:only-of-type {\n",
              "        vertical-align: middle;\n",
              "    }\n",
              "\n",
              "    .dataframe tbody tr th {\n",
              "        vertical-align: top;\n",
              "    }\n",
              "\n",
              "    .dataframe thead th {\n",
              "        text-align: right;\n",
              "    }\n",
              "</style>\n",
              "<table border=\"1\" class=\"dataframe\">\n",
              "  <thead>\n",
              "    <tr style=\"text-align: right;\">\n",
              "      <th></th>\n",
              "      <th>Date</th>\n",
              "      <th>Open</th>\n",
              "      <th>High</th>\n",
              "      <th>Low</th>\n",
              "      <th>Close</th>\n",
              "      <th>Volume</th>\n",
              "      <th>Return</th>\n",
              "      <th>Output</th>\n",
              "      <th>year</th>\n",
              "      <th>Close_Lag_1</th>\n",
              "      <th>...</th>\n",
              "      <th>Close_Expanding_Mean_5</th>\n",
              "      <th>Exponential_Moving_Avg_5</th>\n",
              "      <th>sma_5</th>\n",
              "      <th>Close_Lag_10</th>\n",
              "      <th>Close_Rolling_Mean_10</th>\n",
              "      <th>Close_Ratio_10</th>\n",
              "      <th>Close_Rolling_Std_10</th>\n",
              "      <th>Close_Expanding_Mean_10</th>\n",
              "      <th>Exponential_Moving_Avg_10</th>\n",
              "      <th>sma_10</th>\n",
              "    </tr>\n",
              "  </thead>\n",
              "  <tbody>\n",
              "    <tr>\n",
              "      <th>10</th>\n",
              "      <td>18/01/2010 16:56:00</td>\n",
              "      <td>6.56</td>\n",
              "      <td>6.68</td>\n",
              "      <td>6.48</td>\n",
              "      <td>6.61</td>\n",
              "      <td>370300</td>\n",
              "      <td>-0.02</td>\n",
              "      <td>0</td>\n",
              "      <td>2010</td>\n",
              "      <td>6.41</td>\n",
              "      <td>...</td>\n",
              "      <td>0.230391</td>\n",
              "      <td>6.458262</td>\n",
              "      <td>6.472</td>\n",
              "      <td>5.87</td>\n",
              "      <td>6.332</td>\n",
              "      <td>1.043904</td>\n",
              "      <td>0.193437</td>\n",
              "      <td>0.230391</td>\n",
              "      <td>6.338106</td>\n",
              "      <td>6.332</td>\n",
              "    </tr>\n",
              "    <tr>\n",
              "      <th>11</th>\n",
              "      <td>19/01/2010 16:56:00</td>\n",
              "      <td>6.59</td>\n",
              "      <td>6.71</td>\n",
              "      <td>6.48</td>\n",
              "      <td>6.63</td>\n",
              "      <td>798300</td>\n",
              "      <td>0.26</td>\n",
              "      <td>1</td>\n",
              "      <td>2010</td>\n",
              "      <td>6.61</td>\n",
              "      <td>...</td>\n",
              "      <td>0.240599</td>\n",
              "      <td>6.515508</td>\n",
              "      <td>6.514</td>\n",
              "      <td>5.95</td>\n",
              "      <td>6.400</td>\n",
              "      <td>1.035937</td>\n",
              "      <td>0.161038</td>\n",
              "      <td>0.240599</td>\n",
              "      <td>6.391178</td>\n",
              "      <td>6.400</td>\n",
              "    </tr>\n",
              "    <tr>\n",
              "      <th>12</th>\n",
              "      <td>20/01/2010 16:56:00</td>\n",
              "      <td>6.60</td>\n",
              "      <td>6.65</td>\n",
              "      <td>6.36</td>\n",
              "      <td>6.37</td>\n",
              "      <td>641600</td>\n",
              "      <td>0.24</td>\n",
              "      <td>1</td>\n",
              "      <td>2010</td>\n",
              "      <td>6.63</td>\n",
              "      <td>...</td>\n",
              "      <td>0.230801</td>\n",
              "      <td>6.467005</td>\n",
              "      <td>6.498</td>\n",
              "      <td>6.42</td>\n",
              "      <td>6.395</td>\n",
              "      <td>0.996091</td>\n",
              "      <td>0.161125</td>\n",
              "      <td>0.230801</td>\n",
              "      <td>6.387327</td>\n",
              "      <td>6.395</td>\n",
              "    </tr>\n",
              "    <tr>\n",
              "      <th>13</th>\n",
              "      <td>21/01/2010 16:56:00</td>\n",
              "      <td>6.45</td>\n",
              "      <td>6.53</td>\n",
              "      <td>6.06</td>\n",
              "      <td>6.13</td>\n",
              "      <td>684600</td>\n",
              "      <td>0.01</td>\n",
              "      <td>1</td>\n",
              "      <td>2010</td>\n",
              "      <td>6.37</td>\n",
              "      <td>...</td>\n",
              "      <td>0.227625</td>\n",
              "      <td>6.354670</td>\n",
              "      <td>6.430</td>\n",
              "      <td>6.15</td>\n",
              "      <td>6.393</td>\n",
              "      <td>0.958861</td>\n",
              "      <td>0.164590</td>\n",
              "      <td>0.227625</td>\n",
              "      <td>6.340540</td>\n",
              "      <td>6.393</td>\n",
              "    </tr>\n",
              "    <tr>\n",
              "      <th>14</th>\n",
              "      <td>22/01/2010 16:56:00</td>\n",
              "      <td>6.06</td>\n",
              "      <td>6.16</td>\n",
              "      <td>5.97</td>\n",
              "      <td>6.12</td>\n",
              "      <td>688000</td>\n",
              "      <td>-0.06</td>\n",
              "      <td>0</td>\n",
              "      <td>2010</td>\n",
              "      <td>6.13</td>\n",
              "      <td>...</td>\n",
              "      <td>0.224684</td>\n",
              "      <td>6.276447</td>\n",
              "      <td>6.372</td>\n",
              "      <td>6.20</td>\n",
              "      <td>6.385</td>\n",
              "      <td>0.958496</td>\n",
              "      <td>0.176525</td>\n",
              "      <td>0.224684</td>\n",
              "      <td>6.300442</td>\n",
              "      <td>6.385</td>\n",
              "    </tr>\n",
              "  </tbody>\n",
              "</table>\n",
              "<p>5 rows × 49 columns</p>\n",
              "</div>\n",
              "    <div class=\"colab-df-buttons\">\n",
              "\n",
              "  <div class=\"colab-df-container\">\n",
              "    <button class=\"colab-df-convert\" onclick=\"convertToInteractive('df-b5ca74ec-35c1-4f9d-83bf-bc6a7f9e63f2')\"\n",
              "            title=\"Convert this dataframe to an interactive table.\"\n",
              "            style=\"display:none;\">\n",
              "\n",
              "  <svg xmlns=\"http://www.w3.org/2000/svg\" height=\"24px\" viewBox=\"0 -960 960 960\">\n",
              "    <path d=\"M120-120v-720h720v720H120Zm60-500h600v-160H180v160Zm220 220h160v-160H400v160Zm0 220h160v-160H400v160ZM180-400h160v-160H180v160Zm440 0h160v-160H620v160ZM180-180h160v-160H180v160Zm440 0h160v-160H620v160Z\"/>\n",
              "  </svg>\n",
              "    </button>\n",
              "\n",
              "  <style>\n",
              "    .colab-df-container {\n",
              "      display:flex;\n",
              "      gap: 12px;\n",
              "    }\n",
              "\n",
              "    .colab-df-convert {\n",
              "      background-color: #E8F0FE;\n",
              "      border: none;\n",
              "      border-radius: 50%;\n",
              "      cursor: pointer;\n",
              "      display: none;\n",
              "      fill: #1967D2;\n",
              "      height: 32px;\n",
              "      padding: 0 0 0 0;\n",
              "      width: 32px;\n",
              "    }\n",
              "\n",
              "    .colab-df-convert:hover {\n",
              "      background-color: #E2EBFA;\n",
              "      box-shadow: 0px 1px 2px rgba(60, 64, 67, 0.3), 0px 1px 3px 1px rgba(60, 64, 67, 0.15);\n",
              "      fill: #174EA6;\n",
              "    }\n",
              "\n",
              "    .colab-df-buttons div {\n",
              "      margin-bottom: 4px;\n",
              "    }\n",
              "\n",
              "    [theme=dark] .colab-df-convert {\n",
              "      background-color: #3B4455;\n",
              "      fill: #D2E3FC;\n",
              "    }\n",
              "\n",
              "    [theme=dark] .colab-df-convert:hover {\n",
              "      background-color: #434B5C;\n",
              "      box-shadow: 0px 1px 3px 1px rgba(0, 0, 0, 0.15);\n",
              "      filter: drop-shadow(0px 1px 2px rgba(0, 0, 0, 0.3));\n",
              "      fill: #FFFFFF;\n",
              "    }\n",
              "  </style>\n",
              "\n",
              "    <script>\n",
              "      const buttonEl =\n",
              "        document.querySelector('#df-b5ca74ec-35c1-4f9d-83bf-bc6a7f9e63f2 button.colab-df-convert');\n",
              "      buttonEl.style.display =\n",
              "        google.colab.kernel.accessAllowed ? 'block' : 'none';\n",
              "\n",
              "      async function convertToInteractive(key) {\n",
              "        const element = document.querySelector('#df-b5ca74ec-35c1-4f9d-83bf-bc6a7f9e63f2');\n",
              "        const dataTable =\n",
              "          await google.colab.kernel.invokeFunction('convertToInteractive',\n",
              "                                                    [key], {});\n",
              "        if (!dataTable) return;\n",
              "\n",
              "        const docLinkHtml = 'Like what you see? Visit the ' +\n",
              "          '<a target=\"_blank\" href=https://colab.research.google.com/notebooks/data_table.ipynb>data table notebook</a>'\n",
              "          + ' to learn more about interactive tables.';\n",
              "        element.innerHTML = '';\n",
              "        dataTable['output_type'] = 'display_data';\n",
              "        await google.colab.output.renderOutput(dataTable, element);\n",
              "        const docLink = document.createElement('div');\n",
              "        docLink.innerHTML = docLinkHtml;\n",
              "        element.appendChild(docLink);\n",
              "      }\n",
              "    </script>\n",
              "  </div>\n",
              "\n",
              "\n",
              "<div id=\"df-c44d8d22-ac7b-4781-ae87-d1beae8b6ab5\">\n",
              "  <button class=\"colab-df-quickchart\" onclick=\"quickchart('df-c44d8d22-ac7b-4781-ae87-d1beae8b6ab5')\"\n",
              "            title=\"Suggest charts.\"\n",
              "            style=\"display:none;\">\n",
              "\n",
              "<svg xmlns=\"http://www.w3.org/2000/svg\" height=\"24px\"viewBox=\"0 0 24 24\"\n",
              "     width=\"24px\">\n",
              "    <g>\n",
              "        <path d=\"M19 3H5c-1.1 0-2 .9-2 2v14c0 1.1.9 2 2 2h14c1.1 0 2-.9 2-2V5c0-1.1-.9-2-2-2zM9 17H7v-7h2v7zm4 0h-2V7h2v10zm4 0h-2v-4h2v4z\"/>\n",
              "    </g>\n",
              "</svg>\n",
              "  </button>\n",
              "\n",
              "<style>\n",
              "  .colab-df-quickchart {\n",
              "      --bg-color: #E8F0FE;\n",
              "      --fill-color: #1967D2;\n",
              "      --hover-bg-color: #E2EBFA;\n",
              "      --hover-fill-color: #174EA6;\n",
              "      --disabled-fill-color: #AAA;\n",
              "      --disabled-bg-color: #DDD;\n",
              "  }\n",
              "\n",
              "  [theme=dark] .colab-df-quickchart {\n",
              "      --bg-color: #3B4455;\n",
              "      --fill-color: #D2E3FC;\n",
              "      --hover-bg-color: #434B5C;\n",
              "      --hover-fill-color: #FFFFFF;\n",
              "      --disabled-bg-color: #3B4455;\n",
              "      --disabled-fill-color: #666;\n",
              "  }\n",
              "\n",
              "  .colab-df-quickchart {\n",
              "    background-color: var(--bg-color);\n",
              "    border: none;\n",
              "    border-radius: 50%;\n",
              "    cursor: pointer;\n",
              "    display: none;\n",
              "    fill: var(--fill-color);\n",
              "    height: 32px;\n",
              "    padding: 0;\n",
              "    width: 32px;\n",
              "  }\n",
              "\n",
              "  .colab-df-quickchart:hover {\n",
              "    background-color: var(--hover-bg-color);\n",
              "    box-shadow: 0 1px 2px rgba(60, 64, 67, 0.3), 0 1px 3px 1px rgba(60, 64, 67, 0.15);\n",
              "    fill: var(--button-hover-fill-color);\n",
              "  }\n",
              "\n",
              "  .colab-df-quickchart-complete:disabled,\n",
              "  .colab-df-quickchart-complete:disabled:hover {\n",
              "    background-color: var(--disabled-bg-color);\n",
              "    fill: var(--disabled-fill-color);\n",
              "    box-shadow: none;\n",
              "  }\n",
              "\n",
              "  .colab-df-spinner {\n",
              "    border: 2px solid var(--fill-color);\n",
              "    border-color: transparent;\n",
              "    border-bottom-color: var(--fill-color);\n",
              "    animation:\n",
              "      spin 1s steps(1) infinite;\n",
              "  }\n",
              "\n",
              "  @keyframes spin {\n",
              "    0% {\n",
              "      border-color: transparent;\n",
              "      border-bottom-color: var(--fill-color);\n",
              "      border-left-color: var(--fill-color);\n",
              "    }\n",
              "    20% {\n",
              "      border-color: transparent;\n",
              "      border-left-color: var(--fill-color);\n",
              "      border-top-color: var(--fill-color);\n",
              "    }\n",
              "    30% {\n",
              "      border-color: transparent;\n",
              "      border-left-color: var(--fill-color);\n",
              "      border-top-color: var(--fill-color);\n",
              "      border-right-color: var(--fill-color);\n",
              "    }\n",
              "    40% {\n",
              "      border-color: transparent;\n",
              "      border-right-color: var(--fill-color);\n",
              "      border-top-color: var(--fill-color);\n",
              "    }\n",
              "    60% {\n",
              "      border-color: transparent;\n",
              "      border-right-color: var(--fill-color);\n",
              "    }\n",
              "    80% {\n",
              "      border-color: transparent;\n",
              "      border-right-color: var(--fill-color);\n",
              "      border-bottom-color: var(--fill-color);\n",
              "    }\n",
              "    90% {\n",
              "      border-color: transparent;\n",
              "      border-bottom-color: var(--fill-color);\n",
              "    }\n",
              "  }\n",
              "</style>\n",
              "\n",
              "  <script>\n",
              "    async function quickchart(key) {\n",
              "      const quickchartButtonEl =\n",
              "        document.querySelector('#' + key + ' button');\n",
              "      quickchartButtonEl.disabled = true;  // To prevent multiple clicks.\n",
              "      quickchartButtonEl.classList.add('colab-df-spinner');\n",
              "      try {\n",
              "        const charts = await google.colab.kernel.invokeFunction(\n",
              "            'suggestCharts', [key], {});\n",
              "      } catch (error) {\n",
              "        console.error('Error during call to suggestCharts:', error);\n",
              "      }\n",
              "      quickchartButtonEl.classList.remove('colab-df-spinner');\n",
              "      quickchartButtonEl.classList.add('colab-df-quickchart-complete');\n",
              "    }\n",
              "    (() => {\n",
              "      let quickchartButtonEl =\n",
              "        document.querySelector('#df-c44d8d22-ac7b-4781-ae87-d1beae8b6ab5 button');\n",
              "      quickchartButtonEl.style.display =\n",
              "        google.colab.kernel.accessAllowed ? 'block' : 'none';\n",
              "    })();\n",
              "  </script>\n",
              "</div>\n",
              "    </div>\n",
              "  </div>\n"
            ]
          },
          "metadata": {},
          "execution_count": 127
        }
      ],
      "source": [
        "df = df.replace([np.inf, -np.inf], np.nan)\n",
        "df = df.dropna()\n",
        "df.head()"
      ]
    },
    {
      "cell_type": "markdown",
      "metadata": {
        "id": "49vjOte91LE5"
      },
      "source": [
        "### Technical Indicator Feature"
      ]
    },
    {
      "cell_type": "code",
      "source": [
        "# Moving Average Convergence Divergence (MACD)\n",
        "df['MACD'] = ta.trend.macd_diff(df['Close'])\n",
        "\n",
        "# Relative Strength Index (RSI)\n",
        "df['RSI_5'] = ta.momentum.rsi(df['Close'], window=5)\n",
        "df['RSI_14'] = ta.momentum.rsi(df['Close'], window=14)\n",
        "\n",
        "# Money Flow Multiplier: [(Close - Low) - (High - Close)] /(High - Low)\n",
        "money_flow_mult = ((close - low) - (high - close)) /(high - low)\n",
        "df['money_flow_mult'] = money_flow_mult\n",
        "\n",
        "# Money Flow Volume: Money Flow Multiplier x Volume for the Period\n",
        "money_flow_volume = money_flow_mult * volume\n",
        "df['money_flow_volume'] = money_flow_volume\n",
        "\n",
        "# ADL(ADI): Previous ADL + Current Period's Money Flow Volume\n",
        "adi = money_flow_volume.cumsum()\n",
        "df['adi'] = adi\n",
        "\n",
        "# Chaikin Money Flow\n",
        "cmf = money_flow_volume.rolling(20).sum() / volume.rolling(20).sum()\n",
        "df['chaikin_money_flow'] = cmf\n",
        "\n",
        "df = df.replace([np.inf, -np.inf], np.nan)\n",
        "df = df.dropna()\n",
        "\n",
        "df.head()"
      ],
      "metadata": {
        "id": "wFnHIL2UFbQy",
        "colab": {
          "base_uri": "https://localhost:8080/",
          "height": 342
        },
        "outputId": "364ac161-6ec0-4229-e2e8-d45effdfb544"
      },
      "execution_count": 128,
      "outputs": [
        {
          "output_type": "execute_result",
          "data": {
            "text/plain": [
              "                   Date  Open  High   Low  Close  Volume  Return  Output  \\\n",
              "43  09/03/2010 16:56:00  5.95  6.14  5.87   6.08  583300    0.01       1   \n",
              "44  10/03/2010 16:56:00  6.09  6.15  6.02   6.07  309200    0.10       1   \n",
              "45  11/03/2010 16:56:00  5.97  6.05  5.96   5.97  246300    0.05       1   \n",
              "46  12/03/2010 16:56:00  5.99  6.01  5.88   5.92  494000    0.05       1   \n",
              "47  15/03/2010 16:56:00  5.96  5.99  5.87   5.87  178500   -0.04       0   \n",
              "\n",
              "    year  Close_Lag_1  ...  Close_Expanding_Mean_10  \\\n",
              "43  2010         5.93  ...                 0.244513   \n",
              "44  2010         6.08  ...                 0.241731   \n",
              "45  2010         6.07  ...                 0.239641   \n",
              "46  2010         5.97  ...                 0.238218   \n",
              "47  2010         5.92  ...                 0.237611   \n",
              "\n",
              "    Exponential_Moving_Avg_10  sma_10      MACD      RSI_5     RSI_14  \\\n",
              "43                   5.999138   5.987  0.018214  59.721023  51.026089   \n",
              "44                   6.012022   6.006  0.021761  58.312843  50.656062   \n",
              "45                   6.004381   6.020  0.017001  45.038221  46.986624   \n",
              "46                   5.989039   6.019  0.010437  39.428421  45.222703   \n",
              "47                   5.967396   5.994  0.003062  34.116617  43.465451   \n",
              "\n",
              "    money_flow_mult  money_flow_volume           adi  chaikin_money_flow  \n",
              "43         0.555556      324055.555556 -4.953375e+05            0.064261  \n",
              "44        -0.230769      -71353.846154 -5.666913e+05            0.108964  \n",
              "45        -0.777778     -191566.666667 -7.582580e+05            0.096629  \n",
              "46        -0.384615     -190000.000000 -9.482580e+05            0.061770  \n",
              "47        -1.000000     -178500.000000 -1.126758e+06           -0.014307  \n",
              "\n",
              "[5 rows x 56 columns]"
            ],
            "text/html": [
              "\n",
              "  <div id=\"df-3b524b9f-e56c-4fc8-8b88-52e9d32bb388\" class=\"colab-df-container\">\n",
              "    <div>\n",
              "<style scoped>\n",
              "    .dataframe tbody tr th:only-of-type {\n",
              "        vertical-align: middle;\n",
              "    }\n",
              "\n",
              "    .dataframe tbody tr th {\n",
              "        vertical-align: top;\n",
              "    }\n",
              "\n",
              "    .dataframe thead th {\n",
              "        text-align: right;\n",
              "    }\n",
              "</style>\n",
              "<table border=\"1\" class=\"dataframe\">\n",
              "  <thead>\n",
              "    <tr style=\"text-align: right;\">\n",
              "      <th></th>\n",
              "      <th>Date</th>\n",
              "      <th>Open</th>\n",
              "      <th>High</th>\n",
              "      <th>Low</th>\n",
              "      <th>Close</th>\n",
              "      <th>Volume</th>\n",
              "      <th>Return</th>\n",
              "      <th>Output</th>\n",
              "      <th>year</th>\n",
              "      <th>Close_Lag_1</th>\n",
              "      <th>...</th>\n",
              "      <th>Close_Expanding_Mean_10</th>\n",
              "      <th>Exponential_Moving_Avg_10</th>\n",
              "      <th>sma_10</th>\n",
              "      <th>MACD</th>\n",
              "      <th>RSI_5</th>\n",
              "      <th>RSI_14</th>\n",
              "      <th>money_flow_mult</th>\n",
              "      <th>money_flow_volume</th>\n",
              "      <th>adi</th>\n",
              "      <th>chaikin_money_flow</th>\n",
              "    </tr>\n",
              "  </thead>\n",
              "  <tbody>\n",
              "    <tr>\n",
              "      <th>43</th>\n",
              "      <td>09/03/2010 16:56:00</td>\n",
              "      <td>5.95</td>\n",
              "      <td>6.14</td>\n",
              "      <td>5.87</td>\n",
              "      <td>6.08</td>\n",
              "      <td>583300</td>\n",
              "      <td>0.01</td>\n",
              "      <td>1</td>\n",
              "      <td>2010</td>\n",
              "      <td>5.93</td>\n",
              "      <td>...</td>\n",
              "      <td>0.244513</td>\n",
              "      <td>5.999138</td>\n",
              "      <td>5.987</td>\n",
              "      <td>0.018214</td>\n",
              "      <td>59.721023</td>\n",
              "      <td>51.026089</td>\n",
              "      <td>0.555556</td>\n",
              "      <td>324055.555556</td>\n",
              "      <td>-4.953375e+05</td>\n",
              "      <td>0.064261</td>\n",
              "    </tr>\n",
              "    <tr>\n",
              "      <th>44</th>\n",
              "      <td>10/03/2010 16:56:00</td>\n",
              "      <td>6.09</td>\n",
              "      <td>6.15</td>\n",
              "      <td>6.02</td>\n",
              "      <td>6.07</td>\n",
              "      <td>309200</td>\n",
              "      <td>0.10</td>\n",
              "      <td>1</td>\n",
              "      <td>2010</td>\n",
              "      <td>6.08</td>\n",
              "      <td>...</td>\n",
              "      <td>0.241731</td>\n",
              "      <td>6.012022</td>\n",
              "      <td>6.006</td>\n",
              "      <td>0.021761</td>\n",
              "      <td>58.312843</td>\n",
              "      <td>50.656062</td>\n",
              "      <td>-0.230769</td>\n",
              "      <td>-71353.846154</td>\n",
              "      <td>-5.666913e+05</td>\n",
              "      <td>0.108964</td>\n",
              "    </tr>\n",
              "    <tr>\n",
              "      <th>45</th>\n",
              "      <td>11/03/2010 16:56:00</td>\n",
              "      <td>5.97</td>\n",
              "      <td>6.05</td>\n",
              "      <td>5.96</td>\n",
              "      <td>5.97</td>\n",
              "      <td>246300</td>\n",
              "      <td>0.05</td>\n",
              "      <td>1</td>\n",
              "      <td>2010</td>\n",
              "      <td>6.07</td>\n",
              "      <td>...</td>\n",
              "      <td>0.239641</td>\n",
              "      <td>6.004381</td>\n",
              "      <td>6.020</td>\n",
              "      <td>0.017001</td>\n",
              "      <td>45.038221</td>\n",
              "      <td>46.986624</td>\n",
              "      <td>-0.777778</td>\n",
              "      <td>-191566.666667</td>\n",
              "      <td>-7.582580e+05</td>\n",
              "      <td>0.096629</td>\n",
              "    </tr>\n",
              "    <tr>\n",
              "      <th>46</th>\n",
              "      <td>12/03/2010 16:56:00</td>\n",
              "      <td>5.99</td>\n",
              "      <td>6.01</td>\n",
              "      <td>5.88</td>\n",
              "      <td>5.92</td>\n",
              "      <td>494000</td>\n",
              "      <td>0.05</td>\n",
              "      <td>1</td>\n",
              "      <td>2010</td>\n",
              "      <td>5.97</td>\n",
              "      <td>...</td>\n",
              "      <td>0.238218</td>\n",
              "      <td>5.989039</td>\n",
              "      <td>6.019</td>\n",
              "      <td>0.010437</td>\n",
              "      <td>39.428421</td>\n",
              "      <td>45.222703</td>\n",
              "      <td>-0.384615</td>\n",
              "      <td>-190000.000000</td>\n",
              "      <td>-9.482580e+05</td>\n",
              "      <td>0.061770</td>\n",
              "    </tr>\n",
              "    <tr>\n",
              "      <th>47</th>\n",
              "      <td>15/03/2010 16:56:00</td>\n",
              "      <td>5.96</td>\n",
              "      <td>5.99</td>\n",
              "      <td>5.87</td>\n",
              "      <td>5.87</td>\n",
              "      <td>178500</td>\n",
              "      <td>-0.04</td>\n",
              "      <td>0</td>\n",
              "      <td>2010</td>\n",
              "      <td>5.92</td>\n",
              "      <td>...</td>\n",
              "      <td>0.237611</td>\n",
              "      <td>5.967396</td>\n",
              "      <td>5.994</td>\n",
              "      <td>0.003062</td>\n",
              "      <td>34.116617</td>\n",
              "      <td>43.465451</td>\n",
              "      <td>-1.000000</td>\n",
              "      <td>-178500.000000</td>\n",
              "      <td>-1.126758e+06</td>\n",
              "      <td>-0.014307</td>\n",
              "    </tr>\n",
              "  </tbody>\n",
              "</table>\n",
              "<p>5 rows × 56 columns</p>\n",
              "</div>\n",
              "    <div class=\"colab-df-buttons\">\n",
              "\n",
              "  <div class=\"colab-df-container\">\n",
              "    <button class=\"colab-df-convert\" onclick=\"convertToInteractive('df-3b524b9f-e56c-4fc8-8b88-52e9d32bb388')\"\n",
              "            title=\"Convert this dataframe to an interactive table.\"\n",
              "            style=\"display:none;\">\n",
              "\n",
              "  <svg xmlns=\"http://www.w3.org/2000/svg\" height=\"24px\" viewBox=\"0 -960 960 960\">\n",
              "    <path d=\"M120-120v-720h720v720H120Zm60-500h600v-160H180v160Zm220 220h160v-160H400v160Zm0 220h160v-160H400v160ZM180-400h160v-160H180v160Zm440 0h160v-160H620v160ZM180-180h160v-160H180v160Zm440 0h160v-160H620v160Z\"/>\n",
              "  </svg>\n",
              "    </button>\n",
              "\n",
              "  <style>\n",
              "    .colab-df-container {\n",
              "      display:flex;\n",
              "      gap: 12px;\n",
              "    }\n",
              "\n",
              "    .colab-df-convert {\n",
              "      background-color: #E8F0FE;\n",
              "      border: none;\n",
              "      border-radius: 50%;\n",
              "      cursor: pointer;\n",
              "      display: none;\n",
              "      fill: #1967D2;\n",
              "      height: 32px;\n",
              "      padding: 0 0 0 0;\n",
              "      width: 32px;\n",
              "    }\n",
              "\n",
              "    .colab-df-convert:hover {\n",
              "      background-color: #E2EBFA;\n",
              "      box-shadow: 0px 1px 2px rgba(60, 64, 67, 0.3), 0px 1px 3px 1px rgba(60, 64, 67, 0.15);\n",
              "      fill: #174EA6;\n",
              "    }\n",
              "\n",
              "    .colab-df-buttons div {\n",
              "      margin-bottom: 4px;\n",
              "    }\n",
              "\n",
              "    [theme=dark] .colab-df-convert {\n",
              "      background-color: #3B4455;\n",
              "      fill: #D2E3FC;\n",
              "    }\n",
              "\n",
              "    [theme=dark] .colab-df-convert:hover {\n",
              "      background-color: #434B5C;\n",
              "      box-shadow: 0px 1px 3px 1px rgba(0, 0, 0, 0.15);\n",
              "      filter: drop-shadow(0px 1px 2px rgba(0, 0, 0, 0.3));\n",
              "      fill: #FFFFFF;\n",
              "    }\n",
              "  </style>\n",
              "\n",
              "    <script>\n",
              "      const buttonEl =\n",
              "        document.querySelector('#df-3b524b9f-e56c-4fc8-8b88-52e9d32bb388 button.colab-df-convert');\n",
              "      buttonEl.style.display =\n",
              "        google.colab.kernel.accessAllowed ? 'block' : 'none';\n",
              "\n",
              "      async function convertToInteractive(key) {\n",
              "        const element = document.querySelector('#df-3b524b9f-e56c-4fc8-8b88-52e9d32bb388');\n",
              "        const dataTable =\n",
              "          await google.colab.kernel.invokeFunction('convertToInteractive',\n",
              "                                                    [key], {});\n",
              "        if (!dataTable) return;\n",
              "\n",
              "        const docLinkHtml = 'Like what you see? Visit the ' +\n",
              "          '<a target=\"_blank\" href=https://colab.research.google.com/notebooks/data_table.ipynb>data table notebook</a>'\n",
              "          + ' to learn more about interactive tables.';\n",
              "        element.innerHTML = '';\n",
              "        dataTable['output_type'] = 'display_data';\n",
              "        await google.colab.output.renderOutput(dataTable, element);\n",
              "        const docLink = document.createElement('div');\n",
              "        docLink.innerHTML = docLinkHtml;\n",
              "        element.appendChild(docLink);\n",
              "      }\n",
              "    </script>\n",
              "  </div>\n",
              "\n",
              "\n",
              "<div id=\"df-45d174f4-dd85-469f-a7a7-b442758e99bc\">\n",
              "  <button class=\"colab-df-quickchart\" onclick=\"quickchart('df-45d174f4-dd85-469f-a7a7-b442758e99bc')\"\n",
              "            title=\"Suggest charts.\"\n",
              "            style=\"display:none;\">\n",
              "\n",
              "<svg xmlns=\"http://www.w3.org/2000/svg\" height=\"24px\"viewBox=\"0 0 24 24\"\n",
              "     width=\"24px\">\n",
              "    <g>\n",
              "        <path d=\"M19 3H5c-1.1 0-2 .9-2 2v14c0 1.1.9 2 2 2h14c1.1 0 2-.9 2-2V5c0-1.1-.9-2-2-2zM9 17H7v-7h2v7zm4 0h-2V7h2v10zm4 0h-2v-4h2v4z\"/>\n",
              "    </g>\n",
              "</svg>\n",
              "  </button>\n",
              "\n",
              "<style>\n",
              "  .colab-df-quickchart {\n",
              "      --bg-color: #E8F0FE;\n",
              "      --fill-color: #1967D2;\n",
              "      --hover-bg-color: #E2EBFA;\n",
              "      --hover-fill-color: #174EA6;\n",
              "      --disabled-fill-color: #AAA;\n",
              "      --disabled-bg-color: #DDD;\n",
              "  }\n",
              "\n",
              "  [theme=dark] .colab-df-quickchart {\n",
              "      --bg-color: #3B4455;\n",
              "      --fill-color: #D2E3FC;\n",
              "      --hover-bg-color: #434B5C;\n",
              "      --hover-fill-color: #FFFFFF;\n",
              "      --disabled-bg-color: #3B4455;\n",
              "      --disabled-fill-color: #666;\n",
              "  }\n",
              "\n",
              "  .colab-df-quickchart {\n",
              "    background-color: var(--bg-color);\n",
              "    border: none;\n",
              "    border-radius: 50%;\n",
              "    cursor: pointer;\n",
              "    display: none;\n",
              "    fill: var(--fill-color);\n",
              "    height: 32px;\n",
              "    padding: 0;\n",
              "    width: 32px;\n",
              "  }\n",
              "\n",
              "  .colab-df-quickchart:hover {\n",
              "    background-color: var(--hover-bg-color);\n",
              "    box-shadow: 0 1px 2px rgba(60, 64, 67, 0.3), 0 1px 3px 1px rgba(60, 64, 67, 0.15);\n",
              "    fill: var(--button-hover-fill-color);\n",
              "  }\n",
              "\n",
              "  .colab-df-quickchart-complete:disabled,\n",
              "  .colab-df-quickchart-complete:disabled:hover {\n",
              "    background-color: var(--disabled-bg-color);\n",
              "    fill: var(--disabled-fill-color);\n",
              "    box-shadow: none;\n",
              "  }\n",
              "\n",
              "  .colab-df-spinner {\n",
              "    border: 2px solid var(--fill-color);\n",
              "    border-color: transparent;\n",
              "    border-bottom-color: var(--fill-color);\n",
              "    animation:\n",
              "      spin 1s steps(1) infinite;\n",
              "  }\n",
              "\n",
              "  @keyframes spin {\n",
              "    0% {\n",
              "      border-color: transparent;\n",
              "      border-bottom-color: var(--fill-color);\n",
              "      border-left-color: var(--fill-color);\n",
              "    }\n",
              "    20% {\n",
              "      border-color: transparent;\n",
              "      border-left-color: var(--fill-color);\n",
              "      border-top-color: var(--fill-color);\n",
              "    }\n",
              "    30% {\n",
              "      border-color: transparent;\n",
              "      border-left-color: var(--fill-color);\n",
              "      border-top-color: var(--fill-color);\n",
              "      border-right-color: var(--fill-color);\n",
              "    }\n",
              "    40% {\n",
              "      border-color: transparent;\n",
              "      border-right-color: var(--fill-color);\n",
              "      border-top-color: var(--fill-color);\n",
              "    }\n",
              "    60% {\n",
              "      border-color: transparent;\n",
              "      border-right-color: var(--fill-color);\n",
              "    }\n",
              "    80% {\n",
              "      border-color: transparent;\n",
              "      border-right-color: var(--fill-color);\n",
              "      border-bottom-color: var(--fill-color);\n",
              "    }\n",
              "    90% {\n",
              "      border-color: transparent;\n",
              "      border-bottom-color: var(--fill-color);\n",
              "    }\n",
              "  }\n",
              "</style>\n",
              "\n",
              "  <script>\n",
              "    async function quickchart(key) {\n",
              "      const quickchartButtonEl =\n",
              "        document.querySelector('#' + key + ' button');\n",
              "      quickchartButtonEl.disabled = true;  // To prevent multiple clicks.\n",
              "      quickchartButtonEl.classList.add('colab-df-spinner');\n",
              "      try {\n",
              "        const charts = await google.colab.kernel.invokeFunction(\n",
              "            'suggestCharts', [key], {});\n",
              "      } catch (error) {\n",
              "        console.error('Error during call to suggestCharts:', error);\n",
              "      }\n",
              "      quickchartButtonEl.classList.remove('colab-df-spinner');\n",
              "      quickchartButtonEl.classList.add('colab-df-quickchart-complete');\n",
              "    }\n",
              "    (() => {\n",
              "      let quickchartButtonEl =\n",
              "        document.querySelector('#df-45d174f4-dd85-469f-a7a7-b442758e99bc button');\n",
              "      quickchartButtonEl.style.display =\n",
              "        google.colab.kernel.accessAllowed ? 'block' : 'none';\n",
              "    })();\n",
              "  </script>\n",
              "</div>\n",
              "    </div>\n",
              "  </div>\n"
            ]
          },
          "metadata": {},
          "execution_count": 128
        }
      ]
    },
    {
      "cell_type": "code",
      "execution_count": 38,
      "metadata": {
        "id": "y-UqhwL0mIGn"
      },
      "outputs": [],
      "source": [
        "# Simple Moving Average (SMA)\n",
        "sma_5 = close.transform(lambda x: x.rolling(window = 5).mean())\n",
        "df['sma_5'] = sma_5\n",
        "sma_15 = close.transform(lambda x: x.rolling(window = 15).mean())\n",
        "df['sma_15'] = sma_15\n",
        "\n",
        "SMA_ratio = sma_15/sma_5\n",
        "df['SMA_ratio'] = SMA_ratio\n",
        "\n",
        "# Simple Moving Average Volume\n",
        "sma_5_volume = volume.transform(lambda x: x.rolling(window = 5).mean())\n",
        "df['sma_5_volume'] = sma_5_volume\n",
        "sma_15_volume = close.transform(lambda x: x.rolling(window = 15).mean())\n",
        "df['sma_15_volume'] = sma_15_volume\n",
        "\n",
        "SMA_ratio_volume = sma_15_volume/sma_5_volume\n",
        "df['SMA_ratio_volume'] = SMA_ratio_volume\n",
        "\n",
        "# Exponential Moving Average (EMA)\n",
        "df['EMA_5'] = ta.trend.ema_indicator(df['Close'], window=5)\n",
        "df['EMA_14'] = ta.trend.ema_indicator(df['Close'], window=14)"
      ]
    },
    {
      "cell_type": "code",
      "source": [
        "# On-Balance Volume (OBV)\n",
        "df['OBV'] = ta.volume.on_balance_volume(df['Close'], df['Volume'])\n",
        "\n",
        "# ATR\n",
        "atr = ta.volatility.average_true_range(high,low,close,window=14)\n",
        "df['atr'] = atr\n",
        "\n",
        "# Money Flow Index (MFI)\n",
        "df['MFI'] = ta.volume.money_flow_index(df['High'], df['Low'], df['Close'], df['Volume'])\n",
        "\n",
        "# KCPI\n",
        "kcpi = ta.volatility.keltner_channel_pband(high,low,close)\n",
        "df['kcpi'] = kcpi\n",
        "\n",
        "# DCPI\n",
        "dcpi = ta.volatility.donchian_channel_pband(high,low,close)\n",
        "df['dcpi'] = dcpi\n",
        "\n",
        "# BBPI\n",
        "bbpi = ta.volatility.bollinger_pband(close,window=20)\n",
        "df['bbpi'] = bbpi\n",
        "\n",
        "# EOM\n",
        "eom = ta.volume.ease_of_movement(high,low,volume,1)\n",
        "df['eom'] = eom\n",
        "\n",
        "# Bollinger Bands\n",
        "df['BB_High'] = ta.volatility.bollinger_hband(df['Close'])\n",
        "df['BB_Low'] = ta.volatility.bollinger_lband(df['Close'])"
      ],
      "metadata": {
        "id": "8B7NUBqqSKSf"
      },
      "execution_count": 39,
      "outputs": []
    },
    {
      "cell_type": "code",
      "execution_count": 40,
      "metadata": {
        "id": "lk1mLI0DFuye",
        "colab": {
          "base_uri": "https://localhost:8080/",
          "height": 322
        },
        "outputId": "58854074-263c-446c-ba1d-5b24161be577"
      },
      "outputs": [
        {
          "output_type": "execute_result",
          "data": {
            "text/plain": [
              "                   Date  Open  High   Low  Close   Volume  Return  Output  \\\n",
              "62  07/04/2010 16:56:00  5.62  5.74  5.62   5.65   595200    0.09       1   \n",
              "63  09/04/2010 16:56:00  5.68  5.68  5.55   5.56  1254100   -0.01       0   \n",
              "64  12/04/2010 16:56:00  5.58  5.66  5.54   5.57  1091200   -0.11       0   \n",
              "65  13/04/2010 16:56:00  5.60  5.69  5.59   5.68   339400   -0.30       0   \n",
              "66  14/04/2010 16:56:00  5.74  5.99  5.74   5.98  1465700    0.05       1   \n",
              "\n",
              "    year  Close_Lag_1  ...    EMA_14      OBV       atr        MFI      kcpi  \\\n",
              "62  2010         5.66  ...  5.740908 -2388800  0.164929  23.637203 -0.065292   \n",
              "63  2010         5.65  ...  5.716787 -3642900  0.162434  21.727440 -0.340554   \n",
              "64  2010         5.56  ...  5.697215 -2551700  0.159403  19.847891 -0.218599   \n",
              "65  2010         5.57  ...  5.694920 -2212300  0.156588  23.482107  0.242479   \n",
              "66  2010         5.68  ...  5.732931  -746600  0.167546  38.101179  1.297001   \n",
              "\n",
              "        dcpi      bbpi       eom   BB_High    BB_Low  \n",
              "62  0.136364  0.209466 -0.705645  6.077193  5.536807  \n",
              "63  0.035714  0.074987 -0.673790  6.040992  5.521008  \n",
              "64  0.111111  0.111473 -0.164956  5.995366  5.516634  \n",
              "65  0.518519  0.360301  1.178550  5.961616  5.521384  \n",
              "66  0.977778  1.009463  3.837757  5.975626  5.513374  \n",
              "\n",
              "[5 rows x 72 columns]"
            ],
            "text/html": [
              "\n",
              "  <div id=\"df-cfde1151-5ed2-4bbf-8890-cfbb4fcb9352\" class=\"colab-df-container\">\n",
              "    <div>\n",
              "<style scoped>\n",
              "    .dataframe tbody tr th:only-of-type {\n",
              "        vertical-align: middle;\n",
              "    }\n",
              "\n",
              "    .dataframe tbody tr th {\n",
              "        vertical-align: top;\n",
              "    }\n",
              "\n",
              "    .dataframe thead th {\n",
              "        text-align: right;\n",
              "    }\n",
              "</style>\n",
              "<table border=\"1\" class=\"dataframe\">\n",
              "  <thead>\n",
              "    <tr style=\"text-align: right;\">\n",
              "      <th></th>\n",
              "      <th>Date</th>\n",
              "      <th>Open</th>\n",
              "      <th>High</th>\n",
              "      <th>Low</th>\n",
              "      <th>Close</th>\n",
              "      <th>Volume</th>\n",
              "      <th>Return</th>\n",
              "      <th>Output</th>\n",
              "      <th>year</th>\n",
              "      <th>Close_Lag_1</th>\n",
              "      <th>...</th>\n",
              "      <th>EMA_14</th>\n",
              "      <th>OBV</th>\n",
              "      <th>atr</th>\n",
              "      <th>MFI</th>\n",
              "      <th>kcpi</th>\n",
              "      <th>dcpi</th>\n",
              "      <th>bbpi</th>\n",
              "      <th>eom</th>\n",
              "      <th>BB_High</th>\n",
              "      <th>BB_Low</th>\n",
              "    </tr>\n",
              "  </thead>\n",
              "  <tbody>\n",
              "    <tr>\n",
              "      <th>62</th>\n",
              "      <td>07/04/2010 16:56:00</td>\n",
              "      <td>5.62</td>\n",
              "      <td>5.74</td>\n",
              "      <td>5.62</td>\n",
              "      <td>5.65</td>\n",
              "      <td>595200</td>\n",
              "      <td>0.09</td>\n",
              "      <td>1</td>\n",
              "      <td>2010</td>\n",
              "      <td>5.66</td>\n",
              "      <td>...</td>\n",
              "      <td>5.740908</td>\n",
              "      <td>-2388800</td>\n",
              "      <td>0.164929</td>\n",
              "      <td>23.637203</td>\n",
              "      <td>-0.065292</td>\n",
              "      <td>0.136364</td>\n",
              "      <td>0.209466</td>\n",
              "      <td>-0.705645</td>\n",
              "      <td>6.077193</td>\n",
              "      <td>5.536807</td>\n",
              "    </tr>\n",
              "    <tr>\n",
              "      <th>63</th>\n",
              "      <td>09/04/2010 16:56:00</td>\n",
              "      <td>5.68</td>\n",
              "      <td>5.68</td>\n",
              "      <td>5.55</td>\n",
              "      <td>5.56</td>\n",
              "      <td>1254100</td>\n",
              "      <td>-0.01</td>\n",
              "      <td>0</td>\n",
              "      <td>2010</td>\n",
              "      <td>5.65</td>\n",
              "      <td>...</td>\n",
              "      <td>5.716787</td>\n",
              "      <td>-3642900</td>\n",
              "      <td>0.162434</td>\n",
              "      <td>21.727440</td>\n",
              "      <td>-0.340554</td>\n",
              "      <td>0.035714</td>\n",
              "      <td>0.074987</td>\n",
              "      <td>-0.673790</td>\n",
              "      <td>6.040992</td>\n",
              "      <td>5.521008</td>\n",
              "    </tr>\n",
              "    <tr>\n",
              "      <th>64</th>\n",
              "      <td>12/04/2010 16:56:00</td>\n",
              "      <td>5.58</td>\n",
              "      <td>5.66</td>\n",
              "      <td>5.54</td>\n",
              "      <td>5.57</td>\n",
              "      <td>1091200</td>\n",
              "      <td>-0.11</td>\n",
              "      <td>0</td>\n",
              "      <td>2010</td>\n",
              "      <td>5.56</td>\n",
              "      <td>...</td>\n",
              "      <td>5.697215</td>\n",
              "      <td>-2551700</td>\n",
              "      <td>0.159403</td>\n",
              "      <td>19.847891</td>\n",
              "      <td>-0.218599</td>\n",
              "      <td>0.111111</td>\n",
              "      <td>0.111473</td>\n",
              "      <td>-0.164956</td>\n",
              "      <td>5.995366</td>\n",
              "      <td>5.516634</td>\n",
              "    </tr>\n",
              "    <tr>\n",
              "      <th>65</th>\n",
              "      <td>13/04/2010 16:56:00</td>\n",
              "      <td>5.60</td>\n",
              "      <td>5.69</td>\n",
              "      <td>5.59</td>\n",
              "      <td>5.68</td>\n",
              "      <td>339400</td>\n",
              "      <td>-0.30</td>\n",
              "      <td>0</td>\n",
              "      <td>2010</td>\n",
              "      <td>5.57</td>\n",
              "      <td>...</td>\n",
              "      <td>5.694920</td>\n",
              "      <td>-2212300</td>\n",
              "      <td>0.156588</td>\n",
              "      <td>23.482107</td>\n",
              "      <td>0.242479</td>\n",
              "      <td>0.518519</td>\n",
              "      <td>0.360301</td>\n",
              "      <td>1.178550</td>\n",
              "      <td>5.961616</td>\n",
              "      <td>5.521384</td>\n",
              "    </tr>\n",
              "    <tr>\n",
              "      <th>66</th>\n",
              "      <td>14/04/2010 16:56:00</td>\n",
              "      <td>5.74</td>\n",
              "      <td>5.99</td>\n",
              "      <td>5.74</td>\n",
              "      <td>5.98</td>\n",
              "      <td>1465700</td>\n",
              "      <td>0.05</td>\n",
              "      <td>1</td>\n",
              "      <td>2010</td>\n",
              "      <td>5.68</td>\n",
              "      <td>...</td>\n",
              "      <td>5.732931</td>\n",
              "      <td>-746600</td>\n",
              "      <td>0.167546</td>\n",
              "      <td>38.101179</td>\n",
              "      <td>1.297001</td>\n",
              "      <td>0.977778</td>\n",
              "      <td>1.009463</td>\n",
              "      <td>3.837757</td>\n",
              "      <td>5.975626</td>\n",
              "      <td>5.513374</td>\n",
              "    </tr>\n",
              "  </tbody>\n",
              "</table>\n",
              "<p>5 rows × 72 columns</p>\n",
              "</div>\n",
              "    <div class=\"colab-df-buttons\">\n",
              "\n",
              "  <div class=\"colab-df-container\">\n",
              "    <button class=\"colab-df-convert\" onclick=\"convertToInteractive('df-cfde1151-5ed2-4bbf-8890-cfbb4fcb9352')\"\n",
              "            title=\"Convert this dataframe to an interactive table.\"\n",
              "            style=\"display:none;\">\n",
              "\n",
              "  <svg xmlns=\"http://www.w3.org/2000/svg\" height=\"24px\" viewBox=\"0 -960 960 960\">\n",
              "    <path d=\"M120-120v-720h720v720H120Zm60-500h600v-160H180v160Zm220 220h160v-160H400v160Zm0 220h160v-160H400v160ZM180-400h160v-160H180v160Zm440 0h160v-160H620v160ZM180-180h160v-160H180v160Zm440 0h160v-160H620v160Z\"/>\n",
              "  </svg>\n",
              "    </button>\n",
              "\n",
              "  <style>\n",
              "    .colab-df-container {\n",
              "      display:flex;\n",
              "      gap: 12px;\n",
              "    }\n",
              "\n",
              "    .colab-df-convert {\n",
              "      background-color: #E8F0FE;\n",
              "      border: none;\n",
              "      border-radius: 50%;\n",
              "      cursor: pointer;\n",
              "      display: none;\n",
              "      fill: #1967D2;\n",
              "      height: 32px;\n",
              "      padding: 0 0 0 0;\n",
              "      width: 32px;\n",
              "    }\n",
              "\n",
              "    .colab-df-convert:hover {\n",
              "      background-color: #E2EBFA;\n",
              "      box-shadow: 0px 1px 2px rgba(60, 64, 67, 0.3), 0px 1px 3px 1px rgba(60, 64, 67, 0.15);\n",
              "      fill: #174EA6;\n",
              "    }\n",
              "\n",
              "    .colab-df-buttons div {\n",
              "      margin-bottom: 4px;\n",
              "    }\n",
              "\n",
              "    [theme=dark] .colab-df-convert {\n",
              "      background-color: #3B4455;\n",
              "      fill: #D2E3FC;\n",
              "    }\n",
              "\n",
              "    [theme=dark] .colab-df-convert:hover {\n",
              "      background-color: #434B5C;\n",
              "      box-shadow: 0px 1px 3px 1px rgba(0, 0, 0, 0.15);\n",
              "      filter: drop-shadow(0px 1px 2px rgba(0, 0, 0, 0.3));\n",
              "      fill: #FFFFFF;\n",
              "    }\n",
              "  </style>\n",
              "\n",
              "    <script>\n",
              "      const buttonEl =\n",
              "        document.querySelector('#df-cfde1151-5ed2-4bbf-8890-cfbb4fcb9352 button.colab-df-convert');\n",
              "      buttonEl.style.display =\n",
              "        google.colab.kernel.accessAllowed ? 'block' : 'none';\n",
              "\n",
              "      async function convertToInteractive(key) {\n",
              "        const element = document.querySelector('#df-cfde1151-5ed2-4bbf-8890-cfbb4fcb9352');\n",
              "        const dataTable =\n",
              "          await google.colab.kernel.invokeFunction('convertToInteractive',\n",
              "                                                    [key], {});\n",
              "        if (!dataTable) return;\n",
              "\n",
              "        const docLinkHtml = 'Like what you see? Visit the ' +\n",
              "          '<a target=\"_blank\" href=https://colab.research.google.com/notebooks/data_table.ipynb>data table notebook</a>'\n",
              "          + ' to learn more about interactive tables.';\n",
              "        element.innerHTML = '';\n",
              "        dataTable['output_type'] = 'display_data';\n",
              "        await google.colab.output.renderOutput(dataTable, element);\n",
              "        const docLink = document.createElement('div');\n",
              "        docLink.innerHTML = docLinkHtml;\n",
              "        element.appendChild(docLink);\n",
              "      }\n",
              "    </script>\n",
              "  </div>\n",
              "\n",
              "\n",
              "<div id=\"df-9b8a62b3-dcb3-45d3-ad4e-5eba594fd8e0\">\n",
              "  <button class=\"colab-df-quickchart\" onclick=\"quickchart('df-9b8a62b3-dcb3-45d3-ad4e-5eba594fd8e0')\"\n",
              "            title=\"Suggest charts.\"\n",
              "            style=\"display:none;\">\n",
              "\n",
              "<svg xmlns=\"http://www.w3.org/2000/svg\" height=\"24px\"viewBox=\"0 0 24 24\"\n",
              "     width=\"24px\">\n",
              "    <g>\n",
              "        <path d=\"M19 3H5c-1.1 0-2 .9-2 2v14c0 1.1.9 2 2 2h14c1.1 0 2-.9 2-2V5c0-1.1-.9-2-2-2zM9 17H7v-7h2v7zm4 0h-2V7h2v10zm4 0h-2v-4h2v4z\"/>\n",
              "    </g>\n",
              "</svg>\n",
              "  </button>\n",
              "\n",
              "<style>\n",
              "  .colab-df-quickchart {\n",
              "      --bg-color: #E8F0FE;\n",
              "      --fill-color: #1967D2;\n",
              "      --hover-bg-color: #E2EBFA;\n",
              "      --hover-fill-color: #174EA6;\n",
              "      --disabled-fill-color: #AAA;\n",
              "      --disabled-bg-color: #DDD;\n",
              "  }\n",
              "\n",
              "  [theme=dark] .colab-df-quickchart {\n",
              "      --bg-color: #3B4455;\n",
              "      --fill-color: #D2E3FC;\n",
              "      --hover-bg-color: #434B5C;\n",
              "      --hover-fill-color: #FFFFFF;\n",
              "      --disabled-bg-color: #3B4455;\n",
              "      --disabled-fill-color: #666;\n",
              "  }\n",
              "\n",
              "  .colab-df-quickchart {\n",
              "    background-color: var(--bg-color);\n",
              "    border: none;\n",
              "    border-radius: 50%;\n",
              "    cursor: pointer;\n",
              "    display: none;\n",
              "    fill: var(--fill-color);\n",
              "    height: 32px;\n",
              "    padding: 0;\n",
              "    width: 32px;\n",
              "  }\n",
              "\n",
              "  .colab-df-quickchart:hover {\n",
              "    background-color: var(--hover-bg-color);\n",
              "    box-shadow: 0 1px 2px rgba(60, 64, 67, 0.3), 0 1px 3px 1px rgba(60, 64, 67, 0.15);\n",
              "    fill: var(--button-hover-fill-color);\n",
              "  }\n",
              "\n",
              "  .colab-df-quickchart-complete:disabled,\n",
              "  .colab-df-quickchart-complete:disabled:hover {\n",
              "    background-color: var(--disabled-bg-color);\n",
              "    fill: var(--disabled-fill-color);\n",
              "    box-shadow: none;\n",
              "  }\n",
              "\n",
              "  .colab-df-spinner {\n",
              "    border: 2px solid var(--fill-color);\n",
              "    border-color: transparent;\n",
              "    border-bottom-color: var(--fill-color);\n",
              "    animation:\n",
              "      spin 1s steps(1) infinite;\n",
              "  }\n",
              "\n",
              "  @keyframes spin {\n",
              "    0% {\n",
              "      border-color: transparent;\n",
              "      border-bottom-color: var(--fill-color);\n",
              "      border-left-color: var(--fill-color);\n",
              "    }\n",
              "    20% {\n",
              "      border-color: transparent;\n",
              "      border-left-color: var(--fill-color);\n",
              "      border-top-color: var(--fill-color);\n",
              "    }\n",
              "    30% {\n",
              "      border-color: transparent;\n",
              "      border-left-color: var(--fill-color);\n",
              "      border-top-color: var(--fill-color);\n",
              "      border-right-color: var(--fill-color);\n",
              "    }\n",
              "    40% {\n",
              "      border-color: transparent;\n",
              "      border-right-color: var(--fill-color);\n",
              "      border-top-color: var(--fill-color);\n",
              "    }\n",
              "    60% {\n",
              "      border-color: transparent;\n",
              "      border-right-color: var(--fill-color);\n",
              "    }\n",
              "    80% {\n",
              "      border-color: transparent;\n",
              "      border-right-color: var(--fill-color);\n",
              "      border-bottom-color: var(--fill-color);\n",
              "    }\n",
              "    90% {\n",
              "      border-color: transparent;\n",
              "      border-bottom-color: var(--fill-color);\n",
              "    }\n",
              "  }\n",
              "</style>\n",
              "\n",
              "  <script>\n",
              "    async function quickchart(key) {\n",
              "      const quickchartButtonEl =\n",
              "        document.querySelector('#' + key + ' button');\n",
              "      quickchartButtonEl.disabled = true;  // To prevent multiple clicks.\n",
              "      quickchartButtonEl.classList.add('colab-df-spinner');\n",
              "      try {\n",
              "        const charts = await google.colab.kernel.invokeFunction(\n",
              "            'suggestCharts', [key], {});\n",
              "      } catch (error) {\n",
              "        console.error('Error during call to suggestCharts:', error);\n",
              "      }\n",
              "      quickchartButtonEl.classList.remove('colab-df-spinner');\n",
              "      quickchartButtonEl.classList.add('colab-df-quickchart-complete');\n",
              "    }\n",
              "    (() => {\n",
              "      let quickchartButtonEl =\n",
              "        document.querySelector('#df-9b8a62b3-dcb3-45d3-ad4e-5eba594fd8e0 button');\n",
              "      quickchartButtonEl.style.display =\n",
              "        google.colab.kernel.accessAllowed ? 'block' : 'none';\n",
              "    })();\n",
              "  </script>\n",
              "</div>\n",
              "    </div>\n",
              "  </div>\n"
            ]
          },
          "metadata": {},
          "execution_count": 40
        }
      ],
      "source": [
        "df = df.replace([np.inf, -np.inf], np.nan)\n",
        "df = df.dropna()\n",
        "\n",
        "df.head()"
      ]
    },
    {
      "cell_type": "markdown",
      "metadata": {
        "id": "l6W4LmWWsjb_"
      },
      "source": [
        "## Split Dataset"
      ]
    },
    {
      "cell_type": "code",
      "execution_count": 19,
      "metadata": {
        "id": "Y20_K4PB6OQF"
      },
      "outputs": [],
      "source": [
        "y_test_aux = df.loc[df['year'] >= 2022, ['Date', 'Output']].reset_index()\n",
        "\n",
        "y_train = df.loc[df['year'] < 2022, 'Output']\n",
        "X_train = df.loc[df['year']  < 2022].drop(['Output', 'Return', 'Date'], axis=\"columns\")\n",
        "\n",
        "y_test = df.loc[df['year']  >= 2022, 'Output']\n",
        "X_test = df.loc[df['year']  >= 2022].drop(['Output', 'Return', 'Date'], axis=\"columns\")"
      ]
    },
    {
      "cell_type": "markdown",
      "metadata": {
        "id": "YPzAHh1HrefY"
      },
      "source": [
        "## Holdout"
      ]
    },
    {
      "cell_type": "code",
      "execution_count": 20,
      "metadata": {
        "id": "wu6PzhD6gPPb"
      },
      "outputs": [],
      "source": [
        "from sklearn.ensemble import RandomForestClassifier\n",
        "\n",
        "# Aplica Random Forest Classification para o conjunto de treinamento\n",
        "classifier = RandomForestClassifier(n_estimators=100, max_depth=5, random_state=1111)\n",
        "classifier.fit(X_train, y_train)\n",
        "\n",
        "# Predição com os o conjunto de teste\n",
        "y_pred = classifier.predict(X_test)\n"
      ]
    },
    {
      "cell_type": "markdown",
      "metadata": {
        "id": "dk6w4EUw50aC"
      },
      "source": [
        "## Evaluate"
      ]
    },
    {
      "cell_type": "code",
      "execution_count": 12,
      "metadata": {
        "id": "bfS2dSrqq_GP"
      },
      "outputs": [],
      "source": [
        "from sklearn.metrics import recall_score, precision_score, accuracy_score, roc_auc_score, confusion_matrix, ConfusionMatrixDisplay\n",
        "\n",
        "def evaluate_classification(y_test, y_pred):\n",
        "  cm = confusion_matrix(y_test, y_pred)\n",
        "\n",
        "  ConfusionMatrixDisplay(confusion_matrix=cm).plot();\n",
        "\n",
        "  accuracy = accuracy_score(y_test, y_pred)\n",
        "  precision = precision_score(y_test, y_pred)\n",
        "  recall = recall_score(y_test, y_pred)\n",
        "  AUC = roc_auc_score(y_test, y_pred)\n",
        "\n",
        "  print(\"Accuracy:\", accuracy)\n",
        "  print(\"Precision:\", precision)\n",
        "  print(\"Recall:\", recall)\n",
        "  print(\"AUC:\", AUC)"
      ]
    },
    {
      "cell_type": "code",
      "execution_count": 21,
      "metadata": {
        "colab": {
          "base_uri": "https://localhost:8080/",
          "height": 520
        },
        "id": "OfddfOm1pHCA",
        "outputId": "2df63259-9f7d-4a10-d2ee-448082a868f3"
      },
      "outputs": [
        {
          "output_type": "stream",
          "name": "stdout",
          "text": [
            "Accuracy: 0.5227817745803357\n",
            "Precision: 0.5229007633587787\n",
            "Recall: 0.6492890995260664\n",
            "AUC: 0.5212464915106061\n"
          ]
        },
        {
          "output_type": "display_data",
          "data": {
            "text/plain": [
              "<Figure size 640x480 with 2 Axes>"
            ],
            "image/png": "[encoded data removed]"
          },
          "metadata": {}
        }
      ],
      "source": [
        "evaluate_classification(y_test, y_pred)"
      ]
    },
    {
      "cell_type": "markdown",
      "metadata": {
        "id": "-dlUexgnr6tw"
      },
      "source": [
        "## Hyperparameters"
      ]
    },
    {
      "cell_type": "code",
      "execution_count": null,
      "metadata": {
        "colab": {
          "base_uri": "https://localhost:8080/",
          "height": 118
        },
        "id": "VCE3Oj7roDRB",
        "outputId": "a81b5707-8673-453e-e26f-43c19d2df6b0"
      },
      "outputs": [
        {
          "output_type": "execute_result",
          "data": {
            "text/plain": [
              "RandomizedSearchCV(cv=6, estimator=RandomForestClassifier(), n_iter=8,\n",
              "                   param_distributions={'max_depth': array([ 1,  2,  3,  4,  5,  6,  7,  8,  9, 10, 11, 12, 13, 14, 15, 16, 17,\n",
              "       18, 19, 20, 21, 22, 23, 24, 25, 26, 27, 28, 29, 30, 31, 32, 33, 34,\n",
              "       35, 36, 37, 38, 39, 40, 41, 42, 43, 44, 45, 46, 47, 48, 49, 50, 51,\n",
              "       52, 53, 54, 55, 56, 57, 58, 59, 60, 61, 62, 63, 64, 65, 66, 67, 68,\n",
              "       69, 70, 71, 72, 73, 74, 75, 76, 77, 78, 79, 80, 81, 82, 83, 84, 85,\n",
              "       86, 87, 88, 89, 90, 91, 92, 93, 94, 95, 96, 97, 98, 99]),\n",
              "                                        'n_estimators': array([  50,   51,   52, ..., 1397, 1398, 1399])})"
            ],
            "text/html": [
              "<style>#sk-container-id-1 {color: black;background-color: white;}#sk-container-id-1 pre{padding: 0;}#sk-container-id-1 div.sk-toggleable {background-color: white;}#sk-container-id-1 label.sk-toggleable__label {cursor: pointer;display: block;width: 100%;margin-bottom: 0;padding: 0.3em;box-sizing: border-box;text-align: center;}#sk-container-id-1 label.sk-toggleable__label-arrow:before {content: \"▸\";float: left;margin-right: 0.25em;color: #696969;}#sk-container-id-1 label.sk-toggleable__label-arrow:hover:before {color: black;}#sk-container-id-1 div.sk-estimator:hover label.sk-toggleable__label-arrow:before {color: black;}#sk-container-id-1 div.sk-toggleable__content {max-height: 0;max-width: 0;overflow: hidden;text-align: left;background-color: #f0f8ff;}#sk-container-id-1 div.sk-toggleable__content pre {margin: 0.2em;color: black;border-radius: 0.25em;background-color: #f0f8ff;}#sk-container-id-1 input.sk-toggleable__control:checked~div.sk-toggleable__content {max-height: 200px;max-width: 100%;overflow: auto;}#sk-container-id-1 input.sk-toggleable__control:checked~label.sk-toggleable__label-arrow:before {content: \"▾\";}#sk-container-id-1 div.sk-estimator input.sk-toggleable__control:checked~label.sk-toggleable__label {background-color: #d4ebff;}#sk-container-id-1 div.sk-label input.sk-toggleable__control:checked~label.sk-toggleable__label {background-color: #d4ebff;}#sk-container-id-1 input.sk-hidden--visually {border: 0;clip: rect(1px 1px 1px 1px);clip: rect(1px, 1px, 1px, 1px);height: 1px;margin: -1px;overflow: hidden;padding: 0;position: absolute;width: 1px;}#sk-container-id-1 div.sk-estimator {font-family: monospace;background-color: #f0f8ff;border: 1px dotted black;border-radius: 0.25em;box-sizing: border-box;margin-bottom: 0.5em;}#sk-container-id-1 div.sk-estimator:hover {background-color: #d4ebff;}#sk-container-id-1 div.sk-parallel-item::after {content: \"\";width: 100%;border-bottom: 1px solid gray;flex-grow: 1;}#sk-container-id-1 div.sk-label:hover label.sk-toggleable__label {background-color: #d4ebff;}#sk-container-id-1 div.sk-serial::before {content: \"\";position: absolute;border-left: 1px solid gray;box-sizing: border-box;top: 0;bottom: 0;left: 50%;z-index: 0;}#sk-container-id-1 div.sk-serial {display: flex;flex-direction: column;align-items: center;background-color: white;padding-right: 0.2em;padding-left: 0.2em;position: relative;}#sk-container-id-1 div.sk-item {position: relative;z-index: 1;}#sk-container-id-1 div.sk-parallel {display: flex;align-items: stretch;justify-content: center;background-color: white;position: relative;}#sk-container-id-1 div.sk-item::before, #sk-container-id-1 div.sk-parallel-item::before {content: \"\";position: absolute;border-left: 1px solid gray;box-sizing: border-box;top: 0;bottom: 0;left: 50%;z-index: -1;}#sk-container-id-1 div.sk-parallel-item {display: flex;flex-direction: column;z-index: 1;position: relative;background-color: white;}#sk-container-id-1 div.sk-parallel-item:first-child::after {align-self: flex-end;width: 50%;}#sk-container-id-1 div.sk-parallel-item:last-child::after {align-self: flex-start;width: 50%;}#sk-container-id-1 div.sk-parallel-item:only-child::after {width: 0;}#sk-container-id-1 div.sk-dashed-wrapped {border: 1px dashed gray;margin: 0 0.4em 0.5em 0.4em;box-sizing: border-box;padding-bottom: 0.4em;background-color: white;}#sk-container-id-1 div.sk-label label {font-family: monospace;font-weight: bold;display: inline-block;line-height: 1.2em;}#sk-container-id-1 div.sk-label-container {text-align: center;}#sk-container-id-1 div.sk-container {/* jupyter's `normalize.less` sets `[hidden] { display: none; }` but bootstrap.min.css set `[hidden] { display: none !important; }` so we also need the `!important` here to be able to override the default hidden behavior on the sphinx rendered scikit-learn.org. See: https://github.com/scikit-learn/scikit-learn/issues/21755 */display: inline-block !important;position: relative;}#sk-container-id-1 div.sk-text-repr-fallback {display: none;}</style><div id=\"sk-container-id-1\" class=\"sk-top-container\"><div class=\"sk-text-repr-fallback\"><pre>RandomizedSearchCV(cv=6, estimator=RandomForestClassifier(), n_iter=8,\n",
              "                   param_distributions={&#x27;max_depth&#x27;: array([ 1,  2,  3,  4,  5,  6,  7,  8,  9, 10, 11, 12, 13, 14, 15, 16, 17,\n",
              "       18, 19, 20, 21, 22, 23, 24, 25, 26, 27, 28, 29, 30, 31, 32, 33, 34,\n",
              "       35, 36, 37, 38, 39, 40, 41, 42, 43, 44, 45, 46, 47, 48, 49, 50, 51,\n",
              "       52, 53, 54, 55, 56, 57, 58, 59, 60, 61, 62, 63, 64, 65, 66, 67, 68,\n",
              "       69, 70, 71, 72, 73, 74, 75, 76, 77, 78, 79, 80, 81, 82, 83, 84, 85,\n",
              "       86, 87, 88, 89, 90, 91, 92, 93, 94, 95, 96, 97, 98, 99]),\n",
              "                                        &#x27;n_estimators&#x27;: array([  50,   51,   52, ..., 1397, 1398, 1399])})</pre><b>In a Jupyter environment, please rerun this cell to show the HTML representation or trust the notebook. <br />On GitHub, the HTML representation is unable to render, please try loading this page with nbviewer.org.</b></div><div class=\"sk-container\" hidden><div class=\"sk-item sk-dashed-wrapped\"><div class=\"sk-label-container\"><div class=\"sk-label sk-toggleable\"><input class=\"sk-toggleable__control sk-hidden--visually\" id=\"sk-estimator-id-1\" type=\"checkbox\" ><label for=\"sk-estimator-id-1\" class=\"sk-toggleable__label sk-toggleable__label-arrow\">RandomizedSearchCV</label><div class=\"sk-toggleable__content\"><pre>RandomizedSearchCV(cv=6, estimator=RandomForestClassifier(), n_iter=8,\n",
              "                   param_distributions={&#x27;max_depth&#x27;: array([ 1,  2,  3,  4,  5,  6,  7,  8,  9, 10, 11, 12, 13, 14, 15, 16, 17,\n",
              "       18, 19, 20, 21, 22, 23, 24, 25, 26, 27, 28, 29, 30, 31, 32, 33, 34,\n",
              "       35, 36, 37, 38, 39, 40, 41, 42, 43, 44, 45, 46, 47, 48, 49, 50, 51,\n",
              "       52, 53, 54, 55, 56, 57, 58, 59, 60, 61, 62, 63, 64, 65, 66, 67, 68,\n",
              "       69, 70, 71, 72, 73, 74, 75, 76, 77, 78, 79, 80, 81, 82, 83, 84, 85,\n",
              "       86, 87, 88, 89, 90, 91, 92, 93, 94, 95, 96, 97, 98, 99]),\n",
              "                                        &#x27;n_estimators&#x27;: array([  50,   51,   52, ..., 1397, 1398, 1399])})</pre></div></div></div><div class=\"sk-parallel\"><div class=\"sk-parallel-item\"><div class=\"sk-item\"><div class=\"sk-label-container\"><div class=\"sk-label sk-toggleable\"><input class=\"sk-toggleable__control sk-hidden--visually\" id=\"sk-estimator-id-2\" type=\"checkbox\" ><label for=\"sk-estimator-id-2\" class=\"sk-toggleable__label sk-toggleable__label-arrow\">estimator: RandomForestClassifier</label><div class=\"sk-toggleable__content\"><pre>RandomForestClassifier()</pre></div></div></div><div class=\"sk-serial\"><div class=\"sk-item\"><div class=\"sk-estimator sk-toggleable\"><input class=\"sk-toggleable__control sk-hidden--visually\" id=\"sk-estimator-id-3\" type=\"checkbox\" ><label for=\"sk-estimator-id-3\" class=\"sk-toggleable__label sk-toggleable__label-arrow\">RandomForestClassifier</label><div class=\"sk-toggleable__content\"><pre>RandomForestClassifier()</pre></div></div></div></div></div></div></div></div></div></div>"
            ]
          },
          "metadata": {},
          "execution_count": 190
        }
      ],
      "source": [
        "from sklearn.model_selection import RandomizedSearchCV\n",
        "import random\n",
        "\n",
        "param_dist = {'n_estimators': np.arange(50,1400),\n",
        "              'max_depth': np.arange(1,100)}\n",
        "\n",
        "# Create a random forest classifier\n",
        "rf = RandomForestClassifier()\n",
        "\n",
        "# Use random search to find the best hyperparameters\n",
        "rand_search = RandomizedSearchCV(rf,\n",
        "                                 param_distributions = param_dist,\n",
        "                                 n_iter=8,\n",
        "                                 cv=6)\n",
        "\n",
        "# Fit the random search object to the data\n",
        "rand_search.fit(X_train, y_train)"
      ]
    },
    {
      "cell_type": "code",
      "execution_count": null,
      "metadata": {
        "colab": {
          "base_uri": "https://localhost:8080/"
        },
        "id": "z0HzpkIspb7I",
        "outputId": "e0594001-4730-47ad-ac7c-46724b1ccb7e"
      },
      "outputs": [
        {
          "output_type": "stream",
          "name": "stdout",
          "text": [
            "Best hyperparameters: {'n_estimators': 838, 'max_depth': 1}\n"
          ]
        }
      ],
      "source": [
        "# Create a variable for the best model\n",
        "best_rf = rand_search.best_estimator_\n",
        "\n",
        "# Print the best hyperparameters\n",
        "print('Best hyperparameters:',  rand_search.best_params_)\n",
        "\n",
        "# Generate predictions with the best model\n",
        "y_pred = best_rf.predict(X_test)"
      ]
    },
    {
      "cell_type": "code",
      "execution_count": null,
      "metadata": {
        "colab": {
          "base_uri": "https://localhost:8080/",
          "height": 520
        },
        "id": "dFCMClJhl_Ia",
        "outputId": "97d53cc1-5564-454b-a61d-59144b4affc7"
      },
      "outputs": [
        {
          "output_type": "stream",
          "name": "stdout",
          "text": [
            "Accuracy: 0.5011990407673861\n",
            "Precision: 0.5205479452054794\n",
            "Recall: 0.18009478672985782\n",
            "AUC: 0.5050959370542493\n"
          ]
        },
        {
          "output_type": "display_data",
          "data": {
            "text/plain": [
              "<Figure size 640x480 with 2 Axes>"
            ],
            "image/png": "[encoded data removed]"
          },
          "metadata": {}
        }
      ],
      "source": [
        "evaluate_classification(y_test, y_pred)"
      ]
    },
    {
      "cell_type": "markdown",
      "metadata": {
        "id": "ox7ntUgssiqV"
      },
      "source": [
        "## Generate Output"
      ]
    },
    {
      "cell_type": "code",
      "execution_count": 58,
      "metadata": {
        "id": "j5G2RD2ApmZW"
      },
      "outputs": [],
      "source": [
        "def generate_output(y_test, y_pred):\n",
        "\n",
        "  #testDate = y_test.reset_index()\n",
        "  #testDate = testDate['Date'].dt.strftime('%Y%m%d')\n",
        "  #testDate = pd.DataFrame(testDate)\n",
        "  date = df.loc[df['year'] >= 2022, ['Date', 'Output']].reset_index()\n",
        "  date = pd.to_datetime(date['Date']).dt.strftime('%Y%m%d')\n",
        "  date = pd.DataFrame(date)\n",
        "\n",
        "  pred = pd.DataFrame(y_pred, columns = ['Prediction'])\n",
        "\n",
        "  output = pd.concat([date, pred], axis=1)\n",
        "  output.to_csv('output.csv', index=False)\n",
        "\n",
        "  return output"
      ]
    },
    {
      "cell_type": "code",
      "source": [
        "generate_output(y_test,y_pred)"
      ],
      "metadata": {
        "colab": {
          "base_uri": "https://localhost:8080/",
          "height": 424
        },
        "id": "ma4viV-NaefZ",
        "outputId": "12383591-a190-4019-975c-2be7f93d179d"
      },
      "execution_count": 102,
      "outputs": [
        {
          "output_type": "execute_result",
          "data": {
            "text/plain": [
              "         Date  Prediction\n",
              "0    20220301           0\n",
              "1    20220401           0\n",
              "2    20220501           0\n",
              "3    20220601           0\n",
              "4    20220701           0\n",
              "..        ...         ...\n",
              "412  20230824           0\n",
              "413  20230825           0\n",
              "414  20230828           0\n",
              "415  20230829           1\n",
              "416  20230830           0\n",
              "\n",
              "[417 rows x 2 columns]"
            ],
            "text/html": [
              "\n",
              "  <div id=\"df-557fadb7-e438-42b4-aa50-84df97198e9a\" class=\"colab-df-container\">\n",
              "    <div>\n",
              "<style scoped>\n",
              "    .dataframe tbody tr th:only-of-type {\n",
              "        vertical-align: middle;\n",
              "    }\n",
              "\n",
              "    .dataframe tbody tr th {\n",
              "        vertical-align: top;\n",
              "    }\n",
              "\n",
              "    .dataframe thead th {\n",
              "        text-align: right;\n",
              "    }\n",
              "</style>\n",
              "<table border=\"1\" class=\"dataframe\">\n",
              "  <thead>\n",
              "    <tr style=\"text-align: right;\">\n",
              "      <th></th>\n",
              "      <th>Date</th>\n",
              "      <th>Prediction</th>\n",
              "    </tr>\n",
              "  </thead>\n",
              "  <tbody>\n",
              "    <tr>\n",
              "      <th>0</th>\n",
              "      <td>20220301</td>\n",
              "      <td>0</td>\n",
              "    </tr>\n",
              "    <tr>\n",
              "      <th>1</th>\n",
              "      <td>20220401</td>\n",
              "      <td>0</td>\n",
              "    </tr>\n",
              "    <tr>\n",
              "      <th>2</th>\n",
              "      <td>20220501</td>\n",
              "      <td>0</td>\n",
              "    </tr>\n",
              "    <tr>\n",
              "      <th>3</th>\n",
              "      <td>20220601</td>\n",
              "      <td>0</td>\n",
              "    </tr>\n",
              "    <tr>\n",
              "      <th>4</th>\n",
              "      <td>20220701</td>\n",
              "      <td>0</td>\n",
              "    </tr>\n",
              "    <tr>\n",
              "      <th>...</th>\n",
              "      <td>...</td>\n",
              "      <td>...</td>\n",
              "    </tr>\n",
              "    <tr>\n",
              "      <th>412</th>\n",
              "      <td>20230824</td>\n",
              "      <td>0</td>\n",
              "    </tr>\n",
              "    <tr>\n",
              "      <th>413</th>\n",
              "      <td>20230825</td>\n",
              "      <td>0</td>\n",
              "    </tr>\n",
              "    <tr>\n",
              "      <th>414</th>\n",
              "      <td>20230828</td>\n",
              "      <td>0</td>\n",
              "    </tr>\n",
              "    <tr>\n",
              "      <th>415</th>\n",
              "      <td>20230829</td>\n",
              "      <td>1</td>\n",
              "    </tr>\n",
              "    <tr>\n",
              "      <th>416</th>\n",
              "      <td>20230830</td>\n",
              "      <td>0</td>\n",
              "    </tr>\n",
              "  </tbody>\n",
              "</table>\n",
              "<p>417 rows × 2 columns</p>\n",
              "</div>\n",
              "    <div class=\"colab-df-buttons\">\n",
              "\n",
              "  <div class=\"colab-df-container\">\n",
              "    <button class=\"colab-df-convert\" onclick=\"convertToInteractive('df-557fadb7-e438-42b4-aa50-84df97198e9a')\"\n",
              "            title=\"Convert this dataframe to an interactive table.\"\n",
              "            style=\"display:none;\">\n",
              "\n",
              "  <svg xmlns=\"http://www.w3.org/2000/svg\" height=\"24px\" viewBox=\"0 -960 960 960\">\n",
              "    <path d=\"M120-120v-720h720v720H120Zm60-500h600v-160H180v160Zm220 220h160v-160H400v160Zm0 220h160v-160H400v160ZM180-400h160v-160H180v160Zm440 0h160v-160H620v160ZM180-180h160v-160H180v160Zm440 0h160v-160H620v160Z\"/>\n",
              "  </svg>\n",
              "    </button>\n",
              "\n",
              "  <style>\n",
              "    .colab-df-container {\n",
              "      display:flex;\n",
              "      gap: 12px;\n",
              "    }\n",
              "\n",
              "    .colab-df-convert {\n",
              "      background-color: #E8F0FE;\n",
              "      border: none;\n",
              "      border-radius: 50%;\n",
              "      cursor: pointer;\n",
              "      display: none;\n",
              "      fill: #1967D2;\n",
              "      height: 32px;\n",
              "      padding: 0 0 0 0;\n",
              "      width: 32px;\n",
              "    }\n",
              "\n",
              "    .colab-df-convert:hover {\n",
              "      background-color: #E2EBFA;\n",
              "      box-shadow: 0px 1px 2px rgba(60, 64, 67, 0.3), 0px 1px 3px 1px rgba(60, 64, 67, 0.15);\n",
              "      fill: #174EA6;\n",
              "    }\n",
              "\n",
              "    .colab-df-buttons div {\n",
              "      margin-bottom: 4px;\n",
              "    }\n",
              "\n",
              "    [theme=dark] .colab-df-convert {\n",
              "      background-color: #3B4455;\n",
              "      fill: #D2E3FC;\n",
              "    }\n",
              "\n",
              "    [theme=dark] .colab-df-convert:hover {\n",
              "      background-color: #434B5C;\n",
              "      box-shadow: 0px 1px 3px 1px rgba(0, 0, 0, 0.15);\n",
              "      filter: drop-shadow(0px 1px 2px rgba(0, 0, 0, 0.3));\n",
              "      fill: #FFFFFF;\n",
              "    }\n",
              "  </style>\n",
              "\n",
              "    <script>\n",
              "      const buttonEl =\n",
              "        document.querySelector('#df-557fadb7-e438-42b4-aa50-84df97198e9a button.colab-df-convert');\n",
              "      buttonEl.style.display =\n",
              "        google.colab.kernel.accessAllowed ? 'block' : 'none';\n",
              "\n",
              "      async function convertToInteractive(key) {\n",
              "        const element = document.querySelector('#df-557fadb7-e438-42b4-aa50-84df97198e9a');\n",
              "        const dataTable =\n",
              "          await google.colab.kernel.invokeFunction('convertToInteractive',\n",
              "                                                    [key], {});\n",
              "        if (!dataTable) return;\n",
              "\n",
              "        const docLinkHtml = 'Like what you see? Visit the ' +\n",
              "          '<a target=\"_blank\" href=https://colab.research.google.com/notebooks/data_table.ipynb>data table notebook</a>'\n",
              "          + ' to learn more about interactive tables.';\n",
              "        element.innerHTML = '';\n",
              "        dataTable['output_type'] = 'display_data';\n",
              "        await google.colab.output.renderOutput(dataTable, element);\n",
              "        const docLink = document.createElement('div');\n",
              "        docLink.innerHTML = docLinkHtml;\n",
              "        element.appendChild(docLink);\n",
              "      }\n",
              "    </script>\n",
              "  </div>\n",
              "\n",
              "\n",
              "<div id=\"df-6fd110ce-2587-4a0a-a9e6-ce48c254511f\">\n",
              "  <button class=\"colab-df-quickchart\" onclick=\"quickchart('df-6fd110ce-2587-4a0a-a9e6-ce48c254511f')\"\n",
              "            title=\"Suggest charts.\"\n",
              "            style=\"display:none;\">\n",
              "\n",
              "<svg xmlns=\"http://www.w3.org/2000/svg\" height=\"24px\"viewBox=\"0 0 24 24\"\n",
              "     width=\"24px\">\n",
              "    <g>\n",
              "        <path d=\"M19 3H5c-1.1 0-2 .9-2 2v14c0 1.1.9 2 2 2h14c1.1 0 2-.9 2-2V5c0-1.1-.9-2-2-2zM9 17H7v-7h2v7zm4 0h-2V7h2v10zm4 0h-2v-4h2v4z\"/>\n",
              "    </g>\n",
              "</svg>\n",
              "  </button>\n",
              "\n",
              "<style>\n",
              "  .colab-df-quickchart {\n",
              "      --bg-color: #E8F0FE;\n",
              "      --fill-color: #1967D2;\n",
              "      --hover-bg-color: #E2EBFA;\n",
              "      --hover-fill-color: #174EA6;\n",
              "      --disabled-fill-color: #AAA;\n",
              "      --disabled-bg-color: #DDD;\n",
              "  }\n",
              "\n",
              "  [theme=dark] .colab-df-quickchart {\n",
              "      --bg-color: #3B4455;\n",
              "      --fill-color: #D2E3FC;\n",
              "      --hover-bg-color: #434B5C;\n",
              "      --hover-fill-color: #FFFFFF;\n",
              "      --disabled-bg-color: #3B4455;\n",
              "      --disabled-fill-color: #666;\n",
              "  }\n",
              "\n",
              "  .colab-df-quickchart {\n",
              "    background-color: var(--bg-color);\n",
              "    border: none;\n",
              "    border-radius: 50%;\n",
              "    cursor: pointer;\n",
              "    display: none;\n",
              "    fill: var(--fill-color);\n",
              "    height: 32px;\n",
              "    padding: 0;\n",
              "    width: 32px;\n",
              "  }\n",
              "\n",
              "  .colab-df-quickchart:hover {\n",
              "    background-color: var(--hover-bg-color);\n",
              "    box-shadow: 0 1px 2px rgba(60, 64, 67, 0.3), 0 1px 3px 1px rgba(60, 64, 67, 0.15);\n",
              "    fill: var(--button-hover-fill-color);\n",
              "  }\n",
              "\n",
              "  .colab-df-quickchart-complete:disabled,\n",
              "  .colab-df-quickchart-complete:disabled:hover {\n",
              "    background-color: var(--disabled-bg-color);\n",
              "    fill: var(--disabled-fill-color);\n",
              "    box-shadow: none;\n",
              "  }\n",
              "\n",
              "  .colab-df-spinner {\n",
              "    border: 2px solid var(--fill-color);\n",
              "    border-color: transparent;\n",
              "    border-bottom-color: var(--fill-color);\n",
              "    animation:\n",
              "      spin 1s steps(1) infinite;\n",
              "  }\n",
              "\n",
              "  @keyframes spin {\n",
              "    0% {\n",
              "      border-color: transparent;\n",
              "      border-bottom-color: var(--fill-color);\n",
              "      border-left-color: var(--fill-color);\n",
              "    }\n",
              "    20% {\n",
              "      border-color: transparent;\n",
              "      border-left-color: var(--fill-color);\n",
              "      border-top-color: var(--fill-color);\n",
              "    }\n",
              "    30% {\n",
              "      border-color: transparent;\n",
              "      border-left-color: var(--fill-color);\n",
              "      border-top-color: var(--fill-color);\n",
              "      border-right-color: var(--fill-color);\n",
              "    }\n",
              "    40% {\n",
              "      border-color: transparent;\n",
              "      border-right-color: var(--fill-color);\n",
              "      border-top-color: var(--fill-color);\n",
              "    }\n",
              "    60% {\n",
              "      border-color: transparent;\n",
              "      border-right-color: var(--fill-color);\n",
              "    }\n",
              "    80% {\n",
              "      border-color: transparent;\n",
              "      border-right-color: var(--fill-color);\n",
              "      border-bottom-color: var(--fill-color);\n",
              "    }\n",
              "    90% {\n",
              "      border-color: transparent;\n",
              "      border-bottom-color: var(--fill-color);\n",
              "    }\n",
              "  }\n",
              "</style>\n",
              "\n",
              "  <script>\n",
              "    async function quickchart(key) {\n",
              "      const quickchartButtonEl =\n",
              "        document.querySelector('#' + key + ' button');\n",
              "      quickchartButtonEl.disabled = true;  // To prevent multiple clicks.\n",
              "      quickchartButtonEl.classList.add('colab-df-spinner');\n",
              "      try {\n",
              "        const charts = await google.colab.kernel.invokeFunction(\n",
              "            'suggestCharts', [key], {});\n",
              "      } catch (error) {\n",
              "        console.error('Error during call to suggestCharts:', error);\n",
              "      }\n",
              "      quickchartButtonEl.classList.remove('colab-df-spinner');\n",
              "      quickchartButtonEl.classList.add('colab-df-quickchart-complete');\n",
              "    }\n",
              "    (() => {\n",
              "      let quickchartButtonEl =\n",
              "        document.querySelector('#df-6fd110ce-2587-4a0a-a9e6-ce48c254511f button');\n",
              "      quickchartButtonEl.style.display =\n",
              "        google.colab.kernel.accessAllowed ? 'block' : 'none';\n",
              "    })();\n",
              "  </script>\n",
              "</div>\n",
              "    </div>\n",
              "  </div>\n"
            ]
          },
          "metadata": {},
          "execution_count": 102
        }
      ]
    },
    {
      "cell_type": "markdown",
      "metadata": {
        "id": "zJO1b5rUrrxA"
      },
      "source": [
        "## Time Series Split"
      ]
    },
    {
      "cell_type": "code",
      "execution_count": 139,
      "metadata": {
        "id": "nwSHMRKSe5Su"
      },
      "outputs": [],
      "source": [
        "from sklearn.model_selection import TimeSeriesSplit\n",
        "from sklearn.preprocessing import StandardScaler\n",
        "\n",
        "def expanding_window(model, X_train, y_train, window_size):\n",
        "\n",
        "    predictions = []\n",
        "    actuals = []\n",
        "    size = len(df.loc[df['year'] < 2022].index)\n",
        "    size_max =  len(df)\n",
        "    i = 0\n",
        "\n",
        "    sc = StandardScaler()\n",
        "    X_train = sc.fit_transform(X_train)\n",
        "\n",
        "    idx = np.arange(len(X_train))\n",
        "    train_starts = range(size, size_max, window_size)\n",
        "\n",
        "    for train_start in train_starts:\n",
        "\n",
        "        train_idx = idx[:train_start]\n",
        "        test_idx = idx[train_start : train_start + window_size]\n",
        "\n",
        "        #X_train_window, X_test_window = X_train[:train_start], X_train[train_start : train_start + window_size]\n",
        "        #y_train_window, y_test_window = y_train[:train_start], y_train[train_start : train_start + window_size]\n",
        "\n",
        "        X_train_window, X_test_window = X_train[:train_start], X_train[train_start : train_start + window_size]\n",
        "        y_train_window, y_test_window = y_train[:train_start], y_train[train_start : train_start + window_size]\n",
        "\n",
        "        print(f\"Fold: {i}\")\n",
        "        #print(f\"Train: index={train_idx.index} - Size: {X_train[:train_start].size}\")\n",
        "        print(f\"Test:  index={y_train[train_start : train_start + window_size].index} - Size: {y_train[train_start : train_start + window_size].size} \\n\")\n",
        "\n",
        "        model.fit(X_train_window, y_train_window)\n",
        "        y_pred_window = model.predict(X_test_window)\n",
        "\n",
        "        i+=1\n",
        "        predictions.extend(y_pred_window)\n",
        "        actuals.extend(y_test_window)\n",
        "\n",
        "    return np.array(predictions), np.array(actuals)\n"
      ]
    },
    {
      "cell_type": "code",
      "execution_count": 103,
      "metadata": {
        "id": "G7SmjnBegw4S"
      },
      "outputs": [],
      "source": [
        "y = df['Output']\n",
        "X = df.drop(['Output', 'Return', 'Date'], axis=\"columns\")"
      ]
    },
    {
      "cell_type": "markdown",
      "metadata": {
        "id": "6gy1CufSbPlb"
      },
      "source": [
        "### Time Series Split (22 Days)"
      ]
    },
    {
      "cell_type": "code",
      "execution_count": 104,
      "metadata": {
        "colab": {
          "base_uri": "https://localhost:8080/"
        },
        "id": "H_hlztVPrxWA",
        "outputId": "39b07f7f-68a9-4bfd-9e15-650f38ceea83"
      },
      "outputs": [
        {
          "output_type": "stream",
          "name": "stdout",
          "text": [
            "Fold: 0\n",
            "Train: index=Int64Index([  76,   77,   78,   79,   80,   81,   82,   83,   84,   85,\n",
            "            ...\n",
            "            2897, 2898, 2899, 2900, 2901, 2902, 2903, 2904, 2905, 2906],\n",
            "           dtype='int64', length=2769) - Size: 146757\n",
            "Test:  index=Int64Index([2907, 2908, 2909, 2910, 2911, 2912, 2913, 2914, 2915, 2916, 2917,\n",
            "            2918, 2919, 2920, 2921, 2922, 2923, 2924, 2925, 2926, 2927, 2928],\n",
            "           dtype='int64') - Size: 22 \n",
            "\n",
            "Fold: 1\n",
            "Train: index=Int64Index([  76,   77,   78,   79,   80,   81,   82,   83,   84,   85,\n",
            "            ...\n",
            "            2919, 2920, 2921, 2922, 2923, 2924, 2925, 2926, 2927, 2928],\n",
            "           dtype='int64', length=2791) - Size: 147923\n",
            "Test:  index=Int64Index([2929, 2930, 2931, 2932, 2933, 2934, 2935, 2936, 2937, 2938, 2939,\n",
            "            2940, 2941, 2942, 2943, 2944, 2945, 2946, 2947, 2948, 2949, 2950],\n",
            "           dtype='int64') - Size: 22 \n",
            "\n",
            "Fold: 2\n",
            "Train: index=Int64Index([  76,   77,   78,   79,   80,   81,   82,   83,   84,   85,\n",
            "            ...\n",
            "            2941, 2942, 2943, 2944, 2945, 2946, 2947, 2948, 2949, 2950],\n",
            "           dtype='int64', length=2813) - Size: 149089\n",
            "Test:  index=Int64Index([2951, 2952, 2953, 2954, 2955, 2956, 2957, 2958, 2959, 2960, 2961,\n",
            "            2962, 2963, 2964, 2965, 2966, 2967, 2968, 2969, 2970, 2971, 2972],\n",
            "           dtype='int64') - Size: 22 \n",
            "\n",
            "Fold: 3\n",
            "Train: index=Int64Index([  76,   77,   78,   79,   80,   81,   82,   83,   84,   85,\n",
            "            ...\n",
            "            2963, 2964, 2965, 2966, 2967, 2968, 2969, 2970, 2971, 2972],\n",
            "           dtype='int64', length=2835) - Size: 150255\n",
            "Test:  index=Int64Index([2973, 2974, 2975, 2976, 2977, 2978, 2979, 2980, 2981, 2982, 2983,\n",
            "            2984, 2985, 2986, 2987, 2988, 2989, 2990, 2991, 2992, 2993, 2994],\n",
            "           dtype='int64') - Size: 22 \n",
            "\n",
            "Fold: 4\n",
            "Train: index=Int64Index([  76,   77,   78,   79,   80,   81,   82,   83,   84,   85,\n",
            "            ...\n",
            "            2985, 2986, 2987, 2988, 2989, 2990, 2991, 2992, 2993, 2994],\n",
            "           dtype='int64', length=2857) - Size: 151421\n",
            "Test:  index=Int64Index([2995, 2996, 2997, 2998, 2999, 3000, 3001, 3002, 3003, 3004, 3005,\n",
            "            3006, 3007, 3008, 3009, 3010, 3011, 3012, 3013, 3014, 3015, 3016],\n",
            "           dtype='int64') - Size: 22 \n",
            "\n",
            "Fold: 5\n",
            "Train: index=Int64Index([  76,   77,   78,   79,   80,   81,   82,   83,   84,   85,\n",
            "            ...\n",
            "            3007, 3008, 3009, 3010, 3011, 3012, 3013, 3014, 3015, 3016],\n",
            "           dtype='int64', length=2879) - Size: 152587\n",
            "Test:  index=Int64Index([3017, 3018, 3019, 3020, 3021, 3022, 3023, 3024, 3025, 3026, 3027,\n",
            "            3028, 3029, 3030, 3031, 3032, 3033, 3034, 3035, 3036, 3037, 3038],\n",
            "           dtype='int64') - Size: 22 \n",
            "\n",
            "Fold: 6\n",
            "Train: index=Int64Index([  76,   77,   78,   79,   80,   81,   82,   83,   84,   85,\n",
            "            ...\n",
            "            3029, 3030, 3031, 3032, 3033, 3034, 3035, 3036, 3037, 3038],\n",
            "           dtype='int64', length=2901) - Size: 153753\n",
            "Test:  index=Int64Index([3039, 3040, 3041, 3042, 3043, 3044, 3045, 3046, 3047, 3048, 3049,\n",
            "            3050, 3051, 3052, 3053, 3054, 3055, 3056, 3057, 3058, 3059, 3060],\n",
            "           dtype='int64') - Size: 22 \n",
            "\n",
            "Fold: 7\n",
            "Train: index=Int64Index([  76,   77,   78,   79,   80,   81,   82,   83,   84,   85,\n",
            "            ...\n",
            "            3051, 3052, 3053, 3054, 3055, 3056, 3057, 3058, 3059, 3060],\n",
            "           dtype='int64', length=2923) - Size: 154919\n",
            "Test:  index=Int64Index([3061, 3062, 3063, 3064, 3065, 3066, 3067, 3068, 3069, 3070, 3071,\n",
            "            3072, 3073, 3074, 3075, 3076, 3077, 3078, 3079, 3080, 3081, 3082],\n",
            "           dtype='int64') - Size: 22 \n",
            "\n",
            "Fold: 8\n",
            "Train: index=Int64Index([  76,   77,   78,   79,   80,   81,   82,   83,   84,   85,\n",
            "            ...\n",
            "            3073, 3074, 3075, 3076, 3077, 3078, 3079, 3080, 3081, 3082],\n",
            "           dtype='int64', length=2945) - Size: 156085\n",
            "Test:  index=Int64Index([3083, 3084, 3085, 3086, 3087, 3088, 3089, 3090, 3091, 3092, 3093,\n",
            "            3094, 3095, 3096, 3097, 3098, 3099, 3100, 3101, 3102, 3103, 3104],\n",
            "           dtype='int64') - Size: 22 \n",
            "\n",
            "Fold: 9\n",
            "Train: index=Int64Index([  76,   77,   78,   79,   80,   81,   82,   83,   84,   85,\n",
            "            ...\n",
            "            3095, 3096, 3097, 3098, 3099, 3100, 3101, 3102, 3103, 3104],\n",
            "           dtype='int64', length=2967) - Size: 157251\n",
            "Test:  index=Int64Index([3105, 3106, 3107, 3108, 3109, 3110, 3111, 3112, 3113, 3114, 3115,\n",
            "            3116, 3117, 3118, 3119, 3120, 3121, 3122, 3123, 3124, 3125, 3126],\n",
            "           dtype='int64') - Size: 22 \n",
            "\n",
            "Fold: 10\n",
            "Train: index=Int64Index([  76,   77,   78,   79,   80,   81,   82,   83,   84,   85,\n",
            "            ...\n",
            "            3117, 3118, 3119, 3120, 3121, 3122, 3123, 3124, 3125, 3126],\n",
            "           dtype='int64', length=2989) - Size: 158417\n",
            "Test:  index=Int64Index([3127, 3128, 3129, 3130, 3131, 3132, 3133, 3134, 3135, 3136, 3137,\n",
            "            3138, 3139, 3140, 3141, 3142, 3143, 3144, 3145, 3146, 3147, 3148],\n",
            "           dtype='int64') - Size: 22 \n",
            "\n",
            "Fold: 11\n",
            "Train: index=Int64Index([  76,   77,   78,   79,   80,   81,   82,   83,   84,   85,\n",
            "            ...\n",
            "            3139, 3140, 3141, 3142, 3143, 3144, 3145, 3146, 3147, 3148],\n",
            "           dtype='int64', length=3011) - Size: 159583\n",
            "Test:  index=Int64Index([3149, 3150, 3151, 3152, 3153, 3154, 3155, 3156, 3157, 3158, 3159,\n",
            "            3160, 3161, 3162, 3163, 3164, 3165, 3166, 3167, 3168, 3169, 3170],\n",
            "           dtype='int64') - Size: 22 \n",
            "\n",
            "Fold: 12\n",
            "Train: index=Int64Index([  76,   77,   78,   79,   80,   81,   82,   83,   84,   85,\n",
            "            ...\n",
            "            3161, 3162, 3163, 3164, 3165, 3166, 3167, 3168, 3169, 3170],\n",
            "           dtype='int64', length=3033) - Size: 160749\n",
            "Test:  index=Int64Index([3171, 3172, 3173, 3174, 3175, 3176, 3177, 3178, 3179, 3180, 3181,\n",
            "            3182, 3183, 3184, 3185, 3186, 3187, 3188, 3189, 3190, 3191, 3192],\n",
            "           dtype='int64') - Size: 22 \n",
            "\n",
            "Fold: 13\n",
            "Train: index=Int64Index([  76,   77,   78,   79,   80,   81,   82,   83,   84,   85,\n",
            "            ...\n",
            "            3183, 3184, 3185, 3186, 3187, 3188, 3189, 3190, 3191, 3192],\n",
            "           dtype='int64', length=3055) - Size: 161915\n",
            "Test:  index=Int64Index([3193, 3194, 3195, 3196, 3197, 3198, 3199, 3200, 3201, 3202, 3203,\n",
            "            3204, 3205, 3206, 3207, 3208, 3209, 3210, 3211, 3212, 3213, 3214],\n",
            "           dtype='int64') - Size: 22 \n",
            "\n",
            "Fold: 14\n",
            "Train: index=Int64Index([  76,   77,   78,   79,   80,   81,   82,   83,   84,   85,\n",
            "            ...\n",
            "            3205, 3206, 3207, 3208, 3209, 3210, 3211, 3212, 3213, 3214],\n",
            "           dtype='int64', length=3077) - Size: 163081\n",
            "Test:  index=Int64Index([3215, 3216, 3217, 3218, 3219, 3220, 3221, 3222, 3223, 3224, 3225,\n",
            "            3226, 3227, 3228, 3229, 3230, 3231, 3232, 3233, 3234, 3235, 3236],\n",
            "           dtype='int64') - Size: 22 \n",
            "\n",
            "Fold: 15\n",
            "Train: index=Int64Index([  76,   77,   78,   79,   80,   81,   82,   83,   84,   85,\n",
            "            ...\n",
            "            3227, 3228, 3229, 3230, 3231, 3232, 3233, 3234, 3235, 3236],\n",
            "           dtype='int64', length=3099) - Size: 164247\n",
            "Test:  index=Int64Index([3237, 3238, 3239, 3240, 3241, 3242, 3243, 3244, 3245, 3246, 3247,\n",
            "            3248, 3249, 3250, 3251, 3252, 3253, 3254, 3255, 3256, 3257, 3258],\n",
            "           dtype='int64') - Size: 22 \n",
            "\n",
            "Fold: 16\n",
            "Train: index=Int64Index([  76,   77,   78,   79,   80,   81,   82,   83,   84,   85,\n",
            "            ...\n",
            "            3249, 3250, 3251, 3252, 3253, 3254, 3255, 3256, 3257, 3258],\n",
            "           dtype='int64', length=3121) - Size: 165413\n",
            "Test:  index=Int64Index([3259, 3260, 3261, 3262, 3263, 3264, 3265, 3266, 3267, 3268, 3269,\n",
            "            3270, 3271, 3272, 3273, 3274, 3275, 3276, 3277, 3278, 3279, 3280],\n",
            "           dtype='int64') - Size: 22 \n",
            "\n",
            "Fold: 17\n",
            "Train: index=Int64Index([  76,   77,   78,   79,   80,   81,   82,   83,   84,   85,\n",
            "            ...\n",
            "            3271, 3272, 3273, 3274, 3275, 3276, 3277, 3278, 3279, 3280],\n",
            "           dtype='int64', length=3143) - Size: 166579\n",
            "Test:  index=Int64Index([3281, 3282, 3283, 3284, 3285, 3286, 3287, 3288, 3289, 3290, 3291,\n",
            "            3292, 3293, 3294, 3295, 3296, 3297, 3298, 3299, 3300, 3301, 3302],\n",
            "           dtype='int64') - Size: 22 \n",
            "\n",
            "Fold: 18\n",
            "Train: index=Int64Index([  76,   77,   78,   79,   80,   81,   82,   83,   84,   85,\n",
            "            ...\n",
            "            3293, 3294, 3295, 3296, 3297, 3298, 3299, 3300, 3301, 3302],\n",
            "           dtype='int64', length=3165) - Size: 167745\n",
            "Test:  index=Int64Index([3303, 3304, 3305, 3306, 3307, 3308, 3309, 3310, 3311, 3312, 3313,\n",
            "            3314, 3315, 3316, 3317, 3318, 3319, 3320, 3321, 3322, 3323],\n",
            "           dtype='int64') - Size: 21 \n",
            "\n"
          ]
        }
      ],
      "source": [
        "from sklearn.ensemble import RandomForestClassifier\n",
        "classifier = RandomForestClassifier(random_state=1111)\n",
        "y_pred_window, y_test_window = expanding_window(classifier, X, y, window_size=22)"
      ]
    },
    {
      "cell_type": "code",
      "execution_count": 61,
      "metadata": {
        "colab": {
          "base_uri": "https://localhost:8080/",
          "height": 520
        },
        "id": "sSjMzVPIQX43",
        "outputId": "83d3414e-7181-4346-d341-4c6b68eab921"
      },
      "outputs": [
        {
          "output_type": "stream",
          "name": "stdout",
          "text": [
            "Accuracy: 0.5707434052757794\n",
            "Precision: 0.5666666666666667\n",
            "Recall: 0.6445497630331753\n",
            "AUC: 0.5698476970505683\n"
          ]
        },
        {
          "output_type": "display_data",
          "data": {
            "text/plain": [
              "<Figure size 640x480 with 2 Axes>"
            ],
            "image/png": "[encoded data removed]"
          },
          "metadata": {}
        }
      ],
      "source": [
        "evaluate_classification(y_test_window, y_pred_window)"
      ]
    },
    {
      "cell_type": "code",
      "source": [
        "generate_output(y_test_window, y_pred_window)"
      ],
      "metadata": {
        "colab": {
          "base_uri": "https://localhost:8080/",
          "height": 424
        },
        "id": "s9uUNAGIMo0a",
        "outputId": "f56e5cfe-5140-487b-9a60-ff9aec23916e"
      },
      "execution_count": 106,
      "outputs": [
        {
          "output_type": "execute_result",
          "data": {
            "text/plain": [
              "         Date  Prediction\n",
              "0    20220301           0\n",
              "1    20220401           1\n",
              "2    20220501           0\n",
              "3    20220601           1\n",
              "4    20220701           1\n",
              "..        ...         ...\n",
              "412  20230824           0\n",
              "413  20230825           0\n",
              "414  20230828           0\n",
              "415  20230829           0\n",
              "416  20230830           0\n",
              "\n",
              "[417 rows x 2 columns]"
            ],
            "text/html": [
              "\n",
              "  <div id=\"df-0c3baf3e-feb7-4267-be57-659979d5f186\" class=\"colab-df-container\">\n",
              "    <div>\n",
              "<style scoped>\n",
              "    .dataframe tbody tr th:only-of-type {\n",
              "        vertical-align: middle;\n",
              "    }\n",
              "\n",
              "    .dataframe tbody tr th {\n",
              "        vertical-align: top;\n",
              "    }\n",
              "\n",
              "    .dataframe thead th {\n",
              "        text-align: right;\n",
              "    }\n",
              "</style>\n",
              "<table border=\"1\" class=\"dataframe\">\n",
              "  <thead>\n",
              "    <tr style=\"text-align: right;\">\n",
              "      <th></th>\n",
              "      <th>Date</th>\n",
              "      <th>Prediction</th>\n",
              "    </tr>\n",
              "  </thead>\n",
              "  <tbody>\n",
              "    <tr>\n",
              "      <th>0</th>\n",
              "      <td>20220301</td>\n",
              "      <td>0</td>\n",
              "    </tr>\n",
              "    <tr>\n",
              "      <th>1</th>\n",
              "      <td>20220401</td>\n",
              "      <td>1</td>\n",
              "    </tr>\n",
              "    <tr>\n",
              "      <th>2</th>\n",
              "      <td>20220501</td>\n",
              "      <td>0</td>\n",
              "    </tr>\n",
              "    <tr>\n",
              "      <th>3</th>\n",
              "      <td>20220601</td>\n",
              "      <td>1</td>\n",
              "    </tr>\n",
              "    <tr>\n",
              "      <th>4</th>\n",
              "      <td>20220701</td>\n",
              "      <td>1</td>\n",
              "    </tr>\n",
              "    <tr>\n",
              "      <th>...</th>\n",
              "      <td>...</td>\n",
              "      <td>...</td>\n",
              "    </tr>\n",
              "    <tr>\n",
              "      <th>412</th>\n",
              "      <td>20230824</td>\n",
              "      <td>0</td>\n",
              "    </tr>\n",
              "    <tr>\n",
              "      <th>413</th>\n",
              "      <td>20230825</td>\n",
              "      <td>0</td>\n",
              "    </tr>\n",
              "    <tr>\n",
              "      <th>414</th>\n",
              "      <td>20230828</td>\n",
              "      <td>0</td>\n",
              "    </tr>\n",
              "    <tr>\n",
              "      <th>415</th>\n",
              "      <td>20230829</td>\n",
              "      <td>0</td>\n",
              "    </tr>\n",
              "    <tr>\n",
              "      <th>416</th>\n",
              "      <td>20230830</td>\n",
              "      <td>0</td>\n",
              "    </tr>\n",
              "  </tbody>\n",
              "</table>\n",
              "<p>417 rows × 2 columns</p>\n",
              "</div>\n",
              "    <div class=\"colab-df-buttons\">\n",
              "\n",
              "  <div class=\"colab-df-container\">\n",
              "    <button class=\"colab-df-convert\" onclick=\"convertToInteractive('df-0c3baf3e-feb7-4267-be57-659979d5f186')\"\n",
              "            title=\"Convert this dataframe to an interactive table.\"\n",
              "            style=\"display:none;\">\n",
              "\n",
              "  <svg xmlns=\"http://www.w3.org/2000/svg\" height=\"24px\" viewBox=\"0 -960 960 960\">\n",
              "    <path d=\"M120-120v-720h720v720H120Zm60-500h600v-160H180v160Zm220 220h160v-160H400v160Zm0 220h160v-160H400v160ZM180-400h160v-160H180v160Zm440 0h160v-160H620v160ZM180-180h160v-160H180v160Zm440 0h160v-160H620v160Z\"/>\n",
              "  </svg>\n",
              "    </button>\n",
              "\n",
              "  <style>\n",
              "    .colab-df-container {\n",
              "      display:flex;\n",
              "      gap: 12px;\n",
              "    }\n",
              "\n",
              "    .colab-df-convert {\n",
              "      background-color: #E8F0FE;\n",
              "      border: none;\n",
              "      border-radius: 50%;\n",
              "      cursor: pointer;\n",
              "      display: none;\n",
              "      fill: #1967D2;\n",
              "      height: 32px;\n",
              "      padding: 0 0 0 0;\n",
              "      width: 32px;\n",
              "    }\n",
              "\n",
              "    .colab-df-convert:hover {\n",
              "      background-color: #E2EBFA;\n",
              "      box-shadow: 0px 1px 2px rgba(60, 64, 67, 0.3), 0px 1px 3px 1px rgba(60, 64, 67, 0.15);\n",
              "      fill: #174EA6;\n",
              "    }\n",
              "\n",
              "    .colab-df-buttons div {\n",
              "      margin-bottom: 4px;\n",
              "    }\n",
              "\n",
              "    [theme=dark] .colab-df-convert {\n",
              "      background-color: #3B4455;\n",
              "      fill: #D2E3FC;\n",
              "    }\n",
              "\n",
              "    [theme=dark] .colab-df-convert:hover {\n",
              "      background-color: #434B5C;\n",
              "      box-shadow: 0px 1px 3px 1px rgba(0, 0, 0, 0.15);\n",
              "      filter: drop-shadow(0px 1px 2px rgba(0, 0, 0, 0.3));\n",
              "      fill: #FFFFFF;\n",
              "    }\n",
              "  </style>\n",
              "\n",
              "    <script>\n",
              "      const buttonEl =\n",
              "        document.querySelector('#df-0c3baf3e-feb7-4267-be57-659979d5f186 button.colab-df-convert');\n",
              "      buttonEl.style.display =\n",
              "        google.colab.kernel.accessAllowed ? 'block' : 'none';\n",
              "\n",
              "      async function convertToInteractive(key) {\n",
              "        const element = document.querySelector('#df-0c3baf3e-feb7-4267-be57-659979d5f186');\n",
              "        const dataTable =\n",
              "          await google.colab.kernel.invokeFunction('convertToInteractive',\n",
              "                                                    [key], {});\n",
              "        if (!dataTable) return;\n",
              "\n",
              "        const docLinkHtml = 'Like what you see? Visit the ' +\n",
              "          '<a target=\"_blank\" href=https://colab.research.google.com/notebooks/data_table.ipynb>data table notebook</a>'\n",
              "          + ' to learn more about interactive tables.';\n",
              "        element.innerHTML = '';\n",
              "        dataTable['output_type'] = 'display_data';\n",
              "        await google.colab.output.renderOutput(dataTable, element);\n",
              "        const docLink = document.createElement('div');\n",
              "        docLink.innerHTML = docLinkHtml;\n",
              "        element.appendChild(docLink);\n",
              "      }\n",
              "    </script>\n",
              "  </div>\n",
              "\n",
              "\n",
              "<div id=\"df-ea3e2cbe-3e06-4b70-a59f-c05b23629598\">\n",
              "  <button class=\"colab-df-quickchart\" onclick=\"quickchart('df-ea3e2cbe-3e06-4b70-a59f-c05b23629598')\"\n",
              "            title=\"Suggest charts.\"\n",
              "            style=\"display:none;\">\n",
              "\n",
              "<svg xmlns=\"http://www.w3.org/2000/svg\" height=\"24px\"viewBox=\"0 0 24 24\"\n",
              "     width=\"24px\">\n",
              "    <g>\n",
              "        <path d=\"M19 3H5c-1.1 0-2 .9-2 2v14c0 1.1.9 2 2 2h14c1.1 0 2-.9 2-2V5c0-1.1-.9-2-2-2zM9 17H7v-7h2v7zm4 0h-2V7h2v10zm4 0h-2v-4h2v4z\"/>\n",
              "    </g>\n",
              "</svg>\n",
              "  </button>\n",
              "\n",
              "<style>\n",
              "  .colab-df-quickchart {\n",
              "      --bg-color: #E8F0FE;\n",
              "      --fill-color: #1967D2;\n",
              "      --hover-bg-color: #E2EBFA;\n",
              "      --hover-fill-color: #174EA6;\n",
              "      --disabled-fill-color: #AAA;\n",
              "      --disabled-bg-color: #DDD;\n",
              "  }\n",
              "\n",
              "  [theme=dark] .colab-df-quickchart {\n",
              "      --bg-color: #3B4455;\n",
              "      --fill-color: #D2E3FC;\n",
              "      --hover-bg-color: #434B5C;\n",
              "      --hover-fill-color: #FFFFFF;\n",
              "      --disabled-bg-color: #3B4455;\n",
              "      --disabled-fill-color: #666;\n",
              "  }\n",
              "\n",
              "  .colab-df-quickchart {\n",
              "    background-color: var(--bg-color);\n",
              "    border: none;\n",
              "    border-radius: 50%;\n",
              "    cursor: pointer;\n",
              "    display: none;\n",
              "    fill: var(--fill-color);\n",
              "    height: 32px;\n",
              "    padding: 0;\n",
              "    width: 32px;\n",
              "  }\n",
              "\n",
              "  .colab-df-quickchart:hover {\n",
              "    background-color: var(--hover-bg-color);\n",
              "    box-shadow: 0 1px 2px rgba(60, 64, 67, 0.3), 0 1px 3px 1px rgba(60, 64, 67, 0.15);\n",
              "    fill: var(--button-hover-fill-color);\n",
              "  }\n",
              "\n",
              "  .colab-df-quickchart-complete:disabled,\n",
              "  .colab-df-quickchart-complete:disabled:hover {\n",
              "    background-color: var(--disabled-bg-color);\n",
              "    fill: var(--disabled-fill-color);\n",
              "    box-shadow: none;\n",
              "  }\n",
              "\n",
              "  .colab-df-spinner {\n",
              "    border: 2px solid var(--fill-color);\n",
              "    border-color: transparent;\n",
              "    border-bottom-color: var(--fill-color);\n",
              "    animation:\n",
              "      spin 1s steps(1) infinite;\n",
              "  }\n",
              "\n",
              "  @keyframes spin {\n",
              "    0% {\n",
              "      border-color: transparent;\n",
              "      border-bottom-color: var(--fill-color);\n",
              "      border-left-color: var(--fill-color);\n",
              "    }\n",
              "    20% {\n",
              "      border-color: transparent;\n",
              "      border-left-color: var(--fill-color);\n",
              "      border-top-color: var(--fill-color);\n",
              "    }\n",
              "    30% {\n",
              "      border-color: transparent;\n",
              "      border-left-color: var(--fill-color);\n",
              "      border-top-color: var(--fill-color);\n",
              "      border-right-color: var(--fill-color);\n",
              "    }\n",
              "    40% {\n",
              "      border-color: transparent;\n",
              "      border-right-color: var(--fill-color);\n",
              "      border-top-color: var(--fill-color);\n",
              "    }\n",
              "    60% {\n",
              "      border-color: transparent;\n",
              "      border-right-color: var(--fill-color);\n",
              "    }\n",
              "    80% {\n",
              "      border-color: transparent;\n",
              "      border-right-color: var(--fill-color);\n",
              "      border-bottom-color: var(--fill-color);\n",
              "    }\n",
              "    90% {\n",
              "      border-color: transparent;\n",
              "      border-bottom-color: var(--fill-color);\n",
              "    }\n",
              "  }\n",
              "</style>\n",
              "\n",
              "  <script>\n",
              "    async function quickchart(key) {\n",
              "      const quickchartButtonEl =\n",
              "        document.querySelector('#' + key + ' button');\n",
              "      quickchartButtonEl.disabled = true;  // To prevent multiple clicks.\n",
              "      quickchartButtonEl.classList.add('colab-df-spinner');\n",
              "      try {\n",
              "        const charts = await google.colab.kernel.invokeFunction(\n",
              "            'suggestCharts', [key], {});\n",
              "      } catch (error) {\n",
              "        console.error('Error during call to suggestCharts:', error);\n",
              "      }\n",
              "      quickchartButtonEl.classList.remove('colab-df-spinner');\n",
              "      quickchartButtonEl.classList.add('colab-df-quickchart-complete');\n",
              "    }\n",
              "    (() => {\n",
              "      let quickchartButtonEl =\n",
              "        document.querySelector('#df-ea3e2cbe-3e06-4b70-a59f-c05b23629598 button');\n",
              "      quickchartButtonEl.style.display =\n",
              "        google.colab.kernel.accessAllowed ? 'block' : 'none';\n",
              "    })();\n",
              "  </script>\n",
              "</div>\n",
              "    </div>\n",
              "  </div>\n"
            ]
          },
          "metadata": {},
          "execution_count": 106
        }
      ]
    },
    {
      "cell_type": "markdown",
      "metadata": {
        "id": "INfbPi4Kbb30"
      },
      "source": [
        "### Time Series Split (5 Days)"
      ]
    },
    {
      "cell_type": "code",
      "execution_count": 107,
      "metadata": {
        "colab": {
          "base_uri": "https://localhost:8080/"
        },
        "id": "kVbllw0jbb39",
        "outputId": "3871f345-e2a7-4aec-8e1a-1668a156f817"
      },
      "outputs": [
        {
          "output_type": "stream",
          "name": "stdout",
          "text": [
            "Fold: 0\n",
            "Train: index=Int64Index([  76,   77,   78,   79,   80,   81,   82,   83,   84,   85,\n",
            "            ...\n",
            "            2897, 2898, 2899, 2900, 2901, 2902, 2903, 2904, 2905, 2906],\n",
            "           dtype='int64', length=2769) - Size: 146757\n",
            "Test:  index=Int64Index([2907, 2908, 2909, 2910, 2911], dtype='int64') - Size: 5 \n",
            "\n",
            "Fold: 1\n",
            "Train: index=Int64Index([  76,   77,   78,   79,   80,   81,   82,   83,   84,   85,\n",
            "            ...\n",
            "            2902, 2903, 2904, 2905, 2906, 2907, 2908, 2909, 2910, 2911],\n",
            "           dtype='int64', length=2774) - Size: 147022\n",
            "Test:  index=Int64Index([2912, 2913, 2914, 2915, 2916], dtype='int64') - Size: 5 \n",
            "\n",
            "Fold: 2\n",
            "Train: index=Int64Index([  76,   77,   78,   79,   80,   81,   82,   83,   84,   85,\n",
            "            ...\n",
            "            2907, 2908, 2909, 2910, 2911, 2912, 2913, 2914, 2915, 2916],\n",
            "           dtype='int64', length=2779) - Size: 147287\n",
            "Test:  index=Int64Index([2917, 2918, 2919, 2920, 2921], dtype='int64') - Size: 5 \n",
            "\n",
            "Fold: 3\n",
            "Train: index=Int64Index([  76,   77,   78,   79,   80,   81,   82,   83,   84,   85,\n",
            "            ...\n",
            "            2912, 2913, 2914, 2915, 2916, 2917, 2918, 2919, 2920, 2921],\n",
            "           dtype='int64', length=2784) - Size: 147552\n",
            "Test:  index=Int64Index([2922, 2923, 2924, 2925, 2926], dtype='int64') - Size: 5 \n",
            "\n",
            "Fold: 4\n",
            "Train: index=Int64Index([  76,   77,   78,   79,   80,   81,   82,   83,   84,   85,\n",
            "            ...\n",
            "            2917, 2918, 2919, 2920, 2921, 2922, 2923, 2924, 2925, 2926],\n",
            "           dtype='int64', length=2789) - Size: 147817\n",
            "Test:  index=Int64Index([2927, 2928, 2929, 2930, 2931], dtype='int64') - Size: 5 \n",
            "\n",
            "Fold: 5\n",
            "Train: index=Int64Index([  76,   77,   78,   79,   80,   81,   82,   83,   84,   85,\n",
            "            ...\n",
            "            2922, 2923, 2924, 2925, 2926, 2927, 2928, 2929, 2930, 2931],\n",
            "           dtype='int64', length=2794) - Size: 148082\n",
            "Test:  index=Int64Index([2932, 2933, 2934, 2935, 2936], dtype='int64') - Size: 5 \n",
            "\n",
            "Fold: 6\n",
            "Train: index=Int64Index([  76,   77,   78,   79,   80,   81,   82,   83,   84,   85,\n",
            "            ...\n",
            "            2927, 2928, 2929, 2930, 2931, 2932, 2933, 2934, 2935, 2936],\n",
            "           dtype='int64', length=2799) - Size: 148347\n",
            "Test:  index=Int64Index([2937, 2938, 2939, 2940, 2941], dtype='int64') - Size: 5 \n",
            "\n",
            "Fold: 7\n",
            "Train: index=Int64Index([  76,   77,   78,   79,   80,   81,   82,   83,   84,   85,\n",
            "            ...\n",
            "            2932, 2933, 2934, 2935, 2936, 2937, 2938, 2939, 2940, 2941],\n",
            "           dtype='int64', length=2804) - Size: 148612\n",
            "Test:  index=Int64Index([2942, 2943, 2944, 2945, 2946], dtype='int64') - Size: 5 \n",
            "\n",
            "Fold: 8\n",
            "Train: index=Int64Index([  76,   77,   78,   79,   80,   81,   82,   83,   84,   85,\n",
            "            ...\n",
            "            2937, 2938, 2939, 2940, 2941, 2942, 2943, 2944, 2945, 2946],\n",
            "           dtype='int64', length=2809) - Size: 148877\n",
            "Test:  index=Int64Index([2947, 2948, 2949, 2950, 2951], dtype='int64') - Size: 5 \n",
            "\n",
            "Fold: 9\n",
            "Train: index=Int64Index([  76,   77,   78,   79,   80,   81,   82,   83,   84,   85,\n",
            "            ...\n",
            "            2942, 2943, 2944, 2945, 2946, 2947, 2948, 2949, 2950, 2951],\n",
            "           dtype='int64', length=2814) - Size: 149142\n",
            "Test:  index=Int64Index([2952, 2953, 2954, 2955, 2956], dtype='int64') - Size: 5 \n",
            "\n",
            "Fold: 10\n",
            "Train: index=Int64Index([  76,   77,   78,   79,   80,   81,   82,   83,   84,   85,\n",
            "            ...\n",
            "            2947, 2948, 2949, 2950, 2951, 2952, 2953, 2954, 2955, 2956],\n",
            "           dtype='int64', length=2819) - Size: 149407\n",
            "Test:  index=Int64Index([2957, 2958, 2959, 2960, 2961], dtype='int64') - Size: 5 \n",
            "\n",
            "Fold: 11\n",
            "Train: index=Int64Index([  76,   77,   78,   79,   80,   81,   82,   83,   84,   85,\n",
            "            ...\n",
            "            2952, 2953, 2954, 2955, 2956, 2957, 2958, 2959, 2960, 2961],\n",
            "           dtype='int64', length=2824) - Size: 149672\n",
            "Test:  index=Int64Index([2962, 2963, 2964, 2965, 2966], dtype='int64') - Size: 5 \n",
            "\n",
            "Fold: 12\n",
            "Train: index=Int64Index([  76,   77,   78,   79,   80,   81,   82,   83,   84,   85,\n",
            "            ...\n",
            "            2957, 2958, 2959, 2960, 2961, 2962, 2963, 2964, 2965, 2966],\n",
            "           dtype='int64', length=2829) - Size: 149937\n",
            "Test:  index=Int64Index([2967, 2968, 2969, 2970, 2971], dtype='int64') - Size: 5 \n",
            "\n",
            "Fold: 13\n",
            "Train: index=Int64Index([  76,   77,   78,   79,   80,   81,   82,   83,   84,   85,\n",
            "            ...\n",
            "            2962, 2963, 2964, 2965, 2966, 2967, 2968, 2969, 2970, 2971],\n",
            "           dtype='int64', length=2834) - Size: 150202\n",
            "Test:  index=Int64Index([2972, 2973, 2974, 2975, 2976], dtype='int64') - Size: 5 \n",
            "\n",
            "Fold: 14\n",
            "Train: index=Int64Index([  76,   77,   78,   79,   80,   81,   82,   83,   84,   85,\n",
            "            ...\n",
            "            2967, 2968, 2969, 2970, 2971, 2972, 2973, 2974, 2975, 2976],\n",
            "           dtype='int64', length=2839) - Size: 150467\n",
            "Test:  index=Int64Index([2977, 2978, 2979, 2980, 2981], dtype='int64') - Size: 5 \n",
            "\n",
            "Fold: 15\n",
            "Train: index=Int64Index([  76,   77,   78,   79,   80,   81,   82,   83,   84,   85,\n",
            "            ...\n",
            "            2972, 2973, 2974, 2975, 2976, 2977, 2978, 2979, 2980, 2981],\n",
            "           dtype='int64', length=2844) - Size: 150732\n",
            "Test:  index=Int64Index([2982, 2983, 2984, 2985, 2986], dtype='int64') - Size: 5 \n",
            "\n",
            "Fold: 16\n",
            "Train: index=Int64Index([  76,   77,   78,   79,   80,   81,   82,   83,   84,   85,\n",
            "            ...\n",
            "            2977, 2978, 2979, 2980, 2981, 2982, 2983, 2984, 2985, 2986],\n",
            "           dtype='int64', length=2849) - Size: 150997\n",
            "Test:  index=Int64Index([2987, 2988, 2989, 2990, 2991], dtype='int64') - Size: 5 \n",
            "\n",
            "Fold: 17\n",
            "Train: index=Int64Index([  76,   77,   78,   79,   80,   81,   82,   83,   84,   85,\n",
            "            ...\n",
            "            2982, 2983, 2984, 2985, 2986, 2987, 2988, 2989, 2990, 2991],\n",
            "           dtype='int64', length=2854) - Size: 151262\n",
            "Test:  index=Int64Index([2992, 2993, 2994, 2995, 2996], dtype='int64') - Size: 5 \n",
            "\n",
            "Fold: 18\n",
            "Train: index=Int64Index([  76,   77,   78,   79,   80,   81,   82,   83,   84,   85,\n",
            "            ...\n",
            "            2987, 2988, 2989, 2990, 2991, 2992, 2993, 2994, 2995, 2996],\n",
            "           dtype='int64', length=2859) - Size: 151527\n",
            "Test:  index=Int64Index([2997, 2998, 2999, 3000, 3001], dtype='int64') - Size: 5 \n",
            "\n",
            "Fold: 19\n",
            "Train: index=Int64Index([  76,   77,   78,   79,   80,   81,   82,   83,   84,   85,\n",
            "            ...\n",
            "            2992, 2993, 2994, 2995, 2996, 2997, 2998, 2999, 3000, 3001],\n",
            "           dtype='int64', length=2864) - Size: 151792\n",
            "Test:  index=Int64Index([3002, 3003, 3004, 3005, 3006], dtype='int64') - Size: 5 \n",
            "\n",
            "Fold: 20\n",
            "Train: index=Int64Index([  76,   77,   78,   79,   80,   81,   82,   83,   84,   85,\n",
            "            ...\n",
            "            2997, 2998, 2999, 3000, 3001, 3002, 3003, 3004, 3005, 3006],\n",
            "           dtype='int64', length=2869) - Size: 152057\n",
            "Test:  index=Int64Index([3007, 3008, 3009, 3010, 3011], dtype='int64') - Size: 5 \n",
            "\n",
            "Fold: 21\n",
            "Train: index=Int64Index([  76,   77,   78,   79,   80,   81,   82,   83,   84,   85,\n",
            "            ...\n",
            "            3002, 3003, 3004, 3005, 3006, 3007, 3008, 3009, 3010, 3011],\n",
            "           dtype='int64', length=2874) - Size: 152322\n",
            "Test:  index=Int64Index([3012, 3013, 3014, 3015, 3016], dtype='int64') - Size: 5 \n",
            "\n",
            "Fold: 22\n",
            "Train: index=Int64Index([  76,   77,   78,   79,   80,   81,   82,   83,   84,   85,\n",
            "            ...\n",
            "            3007, 3008, 3009, 3010, 3011, 3012, 3013, 3014, 3015, 3016],\n",
            "           dtype='int64', length=2879) - Size: 152587\n",
            "Test:  index=Int64Index([3017, 3018, 3019, 3020, 3021], dtype='int64') - Size: 5 \n",
            "\n",
            "Fold: 23\n",
            "Train: index=Int64Index([  76,   77,   78,   79,   80,   81,   82,   83,   84,   85,\n",
            "            ...\n",
            "            3012, 3013, 3014, 3015, 3016, 3017, 3018, 3019, 3020, 3021],\n",
            "           dtype='int64', length=2884) - Size: 152852\n",
            "Test:  index=Int64Index([3022, 3023, 3024, 3025, 3026], dtype='int64') - Size: 5 \n",
            "\n",
            "Fold: 24\n",
            "Train: index=Int64Index([  76,   77,   78,   79,   80,   81,   82,   83,   84,   85,\n",
            "            ...\n",
            "            3017, 3018, 3019, 3020, 3021, 3022, 3023, 3024, 3025, 3026],\n",
            "           dtype='int64', length=2889) - Size: 153117\n",
            "Test:  index=Int64Index([3027, 3028, 3029, 3030, 3031], dtype='int64') - Size: 5 \n",
            "\n",
            "Fold: 25\n",
            "Train: index=Int64Index([  76,   77,   78,   79,   80,   81,   82,   83,   84,   85,\n",
            "            ...\n",
            "            3022, 3023, 3024, 3025, 3026, 3027, 3028, 3029, 3030, 3031],\n",
            "           dtype='int64', length=2894) - Size: 153382\n",
            "Test:  index=Int64Index([3032, 3033, 3034, 3035, 3036], dtype='int64') - Size: 5 \n",
            "\n",
            "Fold: 26\n",
            "Train: index=Int64Index([  76,   77,   78,   79,   80,   81,   82,   83,   84,   85,\n",
            "            ...\n",
            "            3027, 3028, 3029, 3030, 3031, 3032, 3033, 3034, 3035, 3036],\n",
            "           dtype='int64', length=2899) - Size: 153647\n",
            "Test:  index=Int64Index([3037, 3038, 3039, 3040, 3041], dtype='int64') - Size: 5 \n",
            "\n",
            "Fold: 27\n",
            "Train: index=Int64Index([  76,   77,   78,   79,   80,   81,   82,   83,   84,   85,\n",
            "            ...\n",
            "            3032, 3033, 3034, 3035, 3036, 3037, 3038, 3039, 3040, 3041],\n",
            "           dtype='int64', length=2904) - Size: 153912\n",
            "Test:  index=Int64Index([3042, 3043, 3044, 3045, 3046], dtype='int64') - Size: 5 \n",
            "\n",
            "Fold: 28\n",
            "Train: index=Int64Index([  76,   77,   78,   79,   80,   81,   82,   83,   84,   85,\n",
            "            ...\n",
            "            3037, 3038, 3039, 3040, 3041, 3042, 3043, 3044, 3045, 3046],\n",
            "           dtype='int64', length=2909) - Size: 154177\n",
            "Test:  index=Int64Index([3047, 3048, 3049, 3050, 3051], dtype='int64') - Size: 5 \n",
            "\n",
            "Fold: 29\n",
            "Train: index=Int64Index([  76,   77,   78,   79,   80,   81,   82,   83,   84,   85,\n",
            "            ...\n",
            "            3042, 3043, 3044, 3045, 3046, 3047, 3048, 3049, 3050, 3051],\n",
            "           dtype='int64', length=2914) - Size: 154442\n",
            "Test:  index=Int64Index([3052, 3053, 3054, 3055, 3056], dtype='int64') - Size: 5 \n",
            "\n",
            "Fold: 30\n",
            "Train: index=Int64Index([  76,   77,   78,   79,   80,   81,   82,   83,   84,   85,\n",
            "            ...\n",
            "            3047, 3048, 3049, 3050, 3051, 3052, 3053, 3054, 3055, 3056],\n",
            "           dtype='int64', length=2919) - Size: 154707\n",
            "Test:  index=Int64Index([3057, 3058, 3059, 3060, 3061], dtype='int64') - Size: 5 \n",
            "\n",
            "Fold: 31\n",
            "Train: index=Int64Index([  76,   77,   78,   79,   80,   81,   82,   83,   84,   85,\n",
            "            ...\n",
            "            3052, 3053, 3054, 3055, 3056, 3057, 3058, 3059, 3060, 3061],\n",
            "           dtype='int64', length=2924) - Size: 154972\n",
            "Test:  index=Int64Index([3062, 3063, 3064, 3065, 3066], dtype='int64') - Size: 5 \n",
            "\n",
            "Fold: 32\n",
            "Train: index=Int64Index([  76,   77,   78,   79,   80,   81,   82,   83,   84,   85,\n",
            "            ...\n",
            "            3057, 3058, 3059, 3060, 3061, 3062, 3063, 3064, 3065, 3066],\n",
            "           dtype='int64', length=2929) - Size: 155237\n",
            "Test:  index=Int64Index([3067, 3068, 3069, 3070, 3071], dtype='int64') - Size: 5 \n",
            "\n",
            "Fold: 33\n",
            "Train: index=Int64Index([  76,   77,   78,   79,   80,   81,   82,   83,   84,   85,\n",
            "            ...\n",
            "            3062, 3063, 3064, 3065, 3066, 3067, 3068, 3069, 3070, 3071],\n",
            "           dtype='int64', length=2934) - Size: 155502\n",
            "Test:  index=Int64Index([3072, 3073, 3074, 3075, 3076], dtype='int64') - Size: 5 \n",
            "\n",
            "Fold: 34\n",
            "Train: index=Int64Index([  76,   77,   78,   79,   80,   81,   82,   83,   84,   85,\n",
            "            ...\n",
            "            3067, 3068, 3069, 3070, 3071, 3072, 3073, 3074, 3075, 3076],\n",
            "           dtype='int64', length=2939) - Size: 155767\n",
            "Test:  index=Int64Index([3077, 3078, 3079, 3080, 3081], dtype='int64') - Size: 5 \n",
            "\n",
            "Fold: 35\n",
            "Train: index=Int64Index([  76,   77,   78,   79,   80,   81,   82,   83,   84,   85,\n",
            "            ...\n",
            "            3072, 3073, 3074, 3075, 3076, 3077, 3078, 3079, 3080, 3081],\n",
            "           dtype='int64', length=2944) - Size: 156032\n",
            "Test:  index=Int64Index([3082, 3083, 3084, 3085, 3086], dtype='int64') - Size: 5 \n",
            "\n",
            "Fold: 36\n",
            "Train: index=Int64Index([  76,   77,   78,   79,   80,   81,   82,   83,   84,   85,\n",
            "            ...\n",
            "            3077, 3078, 3079, 3080, 3081, 3082, 3083, 3084, 3085, 3086],\n",
            "           dtype='int64', length=2949) - Size: 156297\n",
            "Test:  index=Int64Index([3087, 3088, 3089, 3090, 3091], dtype='int64') - Size: 5 \n",
            "\n",
            "Fold: 37\n",
            "Train: index=Int64Index([  76,   77,   78,   79,   80,   81,   82,   83,   84,   85,\n",
            "            ...\n",
            "            3082, 3083, 3084, 3085, 3086, 3087, 3088, 3089, 3090, 3091],\n",
            "           dtype='int64', length=2954) - Size: 156562\n",
            "Test:  index=Int64Index([3092, 3093, 3094, 3095, 3096], dtype='int64') - Size: 5 \n",
            "\n",
            "Fold: 38\n",
            "Train: index=Int64Index([  76,   77,   78,   79,   80,   81,   82,   83,   84,   85,\n",
            "            ...\n",
            "            3087, 3088, 3089, 3090, 3091, 3092, 3093, 3094, 3095, 3096],\n",
            "           dtype='int64', length=2959) - Size: 156827\n",
            "Test:  index=Int64Index([3097, 3098, 3099, 3100, 3101], dtype='int64') - Size: 5 \n",
            "\n",
            "Fold: 39\n",
            "Train: index=Int64Index([  76,   77,   78,   79,   80,   81,   82,   83,   84,   85,\n",
            "            ...\n",
            "            3092, 3093, 3094, 3095, 3096, 3097, 3098, 3099, 3100, 3101],\n",
            "           dtype='int64', length=2964) - Size: 157092\n",
            "Test:  index=Int64Index([3102, 3103, 3104, 3105, 3106], dtype='int64') - Size: 5 \n",
            "\n",
            "Fold: 40\n",
            "Train: index=Int64Index([  76,   77,   78,   79,   80,   81,   82,   83,   84,   85,\n",
            "            ...\n",
            "            3097, 3098, 3099, 3100, 3101, 3102, 3103, 3104, 3105, 3106],\n",
            "           dtype='int64', length=2969) - Size: 157357\n",
            "Test:  index=Int64Index([3107, 3108, 3109, 3110, 3111], dtype='int64') - Size: 5 \n",
            "\n",
            "Fold: 41\n",
            "Train: index=Int64Index([  76,   77,   78,   79,   80,   81,   82,   83,   84,   85,\n",
            "            ...\n",
            "            3102, 3103, 3104, 3105, 3106, 3107, 3108, 3109, 3110, 3111],\n",
            "           dtype='int64', length=2974) - Size: 157622\n",
            "Test:  index=Int64Index([3112, 3113, 3114, 3115, 3116], dtype='int64') - Size: 5 \n",
            "\n",
            "Fold: 42\n",
            "Train: index=Int64Index([  76,   77,   78,   79,   80,   81,   82,   83,   84,   85,\n",
            "            ...\n",
            "            3107, 3108, 3109, 3110, 3111, 3112, 3113, 3114, 3115, 3116],\n",
            "           dtype='int64', length=2979) - Size: 157887\n",
            "Test:  index=Int64Index([3117, 3118, 3119, 3120, 3121], dtype='int64') - Size: 5 \n",
            "\n",
            "Fold: 43\n",
            "Train: index=Int64Index([  76,   77,   78,   79,   80,   81,   82,   83,   84,   85,\n",
            "            ...\n",
            "            3112, 3113, 3114, 3115, 3116, 3117, 3118, 3119, 3120, 3121],\n",
            "           dtype='int64', length=2984) - Size: 158152\n",
            "Test:  index=Int64Index([3122, 3123, 3124, 3125, 3126], dtype='int64') - Size: 5 \n",
            "\n",
            "Fold: 44\n",
            "Train: index=Int64Index([  76,   77,   78,   79,   80,   81,   82,   83,   84,   85,\n",
            "            ...\n",
            "            3117, 3118, 3119, 3120, 3121, 3122, 3123, 3124, 3125, 3126],\n",
            "           dtype='int64', length=2989) - Size: 158417\n",
            "Test:  index=Int64Index([3127, 3128, 3129, 3130, 3131], dtype='int64') - Size: 5 \n",
            "\n",
            "Fold: 45\n",
            "Train: index=Int64Index([  76,   77,   78,   79,   80,   81,   82,   83,   84,   85,\n",
            "            ...\n",
            "            3122, 3123, 3124, 3125, 3126, 3127, 3128, 3129, 3130, 3131],\n",
            "           dtype='int64', length=2994) - Size: 158682\n",
            "Test:  index=Int64Index([3132, 3133, 3134, 3135, 3136], dtype='int64') - Size: 5 \n",
            "\n",
            "Fold: 46\n",
            "Train: index=Int64Index([  76,   77,   78,   79,   80,   81,   82,   83,   84,   85,\n",
            "            ...\n",
            "            3127, 3128, 3129, 3130, 3131, 3132, 3133, 3134, 3135, 3136],\n",
            "           dtype='int64', length=2999) - Size: 158947\n",
            "Test:  index=Int64Index([3137, 3138, 3139, 3140, 3141], dtype='int64') - Size: 5 \n",
            "\n",
            "Fold: 47\n",
            "Train: index=Int64Index([  76,   77,   78,   79,   80,   81,   82,   83,   84,   85,\n",
            "            ...\n",
            "            3132, 3133, 3134, 3135, 3136, 3137, 3138, 3139, 3140, 3141],\n",
            "           dtype='int64', length=3004) - Size: 159212\n",
            "Test:  index=Int64Index([3142, 3143, 3144, 3145, 3146], dtype='int64') - Size: 5 \n",
            "\n",
            "Fold: 48\n",
            "Train: index=Int64Index([  76,   77,   78,   79,   80,   81,   82,   83,   84,   85,\n",
            "            ...\n",
            "            3137, 3138, 3139, 3140, 3141, 3142, 3143, 3144, 3145, 3146],\n",
            "           dtype='int64', length=3009) - Size: 159477\n",
            "Test:  index=Int64Index([3147, 3148, 3149, 3150, 3151], dtype='int64') - Size: 5 \n",
            "\n",
            "Fold: 49\n",
            "Train: index=Int64Index([  76,   77,   78,   79,   80,   81,   82,   83,   84,   85,\n",
            "            ...\n",
            "            3142, 3143, 3144, 3145, 3146, 3147, 3148, 3149, 3150, 3151],\n",
            "           dtype='int64', length=3014) - Size: 159742\n",
            "Test:  index=Int64Index([3152, 3153, 3154, 3155, 3156], dtype='int64') - Size: 5 \n",
            "\n",
            "Fold: 50\n",
            "Train: index=Int64Index([  76,   77,   78,   79,   80,   81,   82,   83,   84,   85,\n",
            "            ...\n",
            "            3147, 3148, 3149, 3150, 3151, 3152, 3153, 3154, 3155, 3156],\n",
            "           dtype='int64', length=3019) - Size: 160007\n",
            "Test:  index=Int64Index([3157, 3158, 3159, 3160, 3161], dtype='int64') - Size: 5 \n",
            "\n",
            "Fold: 51\n",
            "Train: index=Int64Index([  76,   77,   78,   79,   80,   81,   82,   83,   84,   85,\n",
            "            ...\n",
            "            3152, 3153, 3154, 3155, 3156, 3157, 3158, 3159, 3160, 3161],\n",
            "           dtype='int64', length=3024) - Size: 160272\n",
            "Test:  index=Int64Index([3162, 3163, 3164, 3165, 3166], dtype='int64') - Size: 5 \n",
            "\n",
            "Fold: 52\n",
            "Train: index=Int64Index([  76,   77,   78,   79,   80,   81,   82,   83,   84,   85,\n",
            "            ...\n",
            "            3157, 3158, 3159, 3160, 3161, 3162, 3163, 3164, 3165, 3166],\n",
            "           dtype='int64', length=3029) - Size: 160537\n",
            "Test:  index=Int64Index([3167, 3168, 3169, 3170, 3171], dtype='int64') - Size: 5 \n",
            "\n",
            "Fold: 53\n",
            "Train: index=Int64Index([  76,   77,   78,   79,   80,   81,   82,   83,   84,   85,\n",
            "            ...\n",
            "            3162, 3163, 3164, 3165, 3166, 3167, 3168, 3169, 3170, 3171],\n",
            "           dtype='int64', length=3034) - Size: 160802\n",
            "Test:  index=Int64Index([3172, 3173, 3174, 3175, 3176], dtype='int64') - Size: 5 \n",
            "\n",
            "Fold: 54\n",
            "Train: index=Int64Index([  76,   77,   78,   79,   80,   81,   82,   83,   84,   85,\n",
            "            ...\n",
            "            3167, 3168, 3169, 3170, 3171, 3172, 3173, 3174, 3175, 3176],\n",
            "           dtype='int64', length=3039) - Size: 161067\n",
            "Test:  index=Int64Index([3177, 3178, 3179, 3180, 3181], dtype='int64') - Size: 5 \n",
            "\n",
            "Fold: 55\n",
            "Train: index=Int64Index([  76,   77,   78,   79,   80,   81,   82,   83,   84,   85,\n",
            "            ...\n",
            "            3172, 3173, 3174, 3175, 3176, 3177, 3178, 3179, 3180, 3181],\n",
            "           dtype='int64', length=3044) - Size: 161332\n",
            "Test:  index=Int64Index([3182, 3183, 3184, 3185, 3186], dtype='int64') - Size: 5 \n",
            "\n",
            "Fold: 56\n",
            "Train: index=Int64Index([  76,   77,   78,   79,   80,   81,   82,   83,   84,   85,\n",
            "            ...\n",
            "            3177, 3178, 3179, 3180, 3181, 3182, 3183, 3184, 3185, 3186],\n",
            "           dtype='int64', length=3049) - Size: 161597\n",
            "Test:  index=Int64Index([3187, 3188, 3189, 3190, 3191], dtype='int64') - Size: 5 \n",
            "\n",
            "Fold: 57\n",
            "Train: index=Int64Index([  76,   77,   78,   79,   80,   81,   82,   83,   84,   85,\n",
            "            ...\n",
            "            3182, 3183, 3184, 3185, 3186, 3187, 3188, 3189, 3190, 3191],\n",
            "           dtype='int64', length=3054) - Size: 161862\n",
            "Test:  index=Int64Index([3192, 3193, 3194, 3195, 3196], dtype='int64') - Size: 5 \n",
            "\n",
            "Fold: 58\n",
            "Train: index=Int64Index([  76,   77,   78,   79,   80,   81,   82,   83,   84,   85,\n",
            "            ...\n",
            "            3187, 3188, 3189, 3190, 3191, 3192, 3193, 3194, 3195, 3196],\n",
            "           dtype='int64', length=3059) - Size: 162127\n",
            "Test:  index=Int64Index([3197, 3198, 3199, 3200, 3201], dtype='int64') - Size: 5 \n",
            "\n",
            "Fold: 59\n",
            "Train: index=Int64Index([  76,   77,   78,   79,   80,   81,   82,   83,   84,   85,\n",
            "            ...\n",
            "            3192, 3193, 3194, 3195, 3196, 3197, 3198, 3199, 3200, 3201],\n",
            "           dtype='int64', length=3064) - Size: 162392\n",
            "Test:  index=Int64Index([3202, 3203, 3204, 3205, 3206], dtype='int64') - Size: 5 \n",
            "\n",
            "Fold: 60\n",
            "Train: index=Int64Index([  76,   77,   78,   79,   80,   81,   82,   83,   84,   85,\n",
            "            ...\n",
            "            3197, 3198, 3199, 3200, 3201, 3202, 3203, 3204, 3205, 3206],\n",
            "           dtype='int64', length=3069) - Size: 162657\n",
            "Test:  index=Int64Index([3207, 3208, 3209, 3210, 3211], dtype='int64') - Size: 5 \n",
            "\n",
            "Fold: 61\n",
            "Train: index=Int64Index([  76,   77,   78,   79,   80,   81,   82,   83,   84,   85,\n",
            "            ...\n",
            "            3202, 3203, 3204, 3205, 3206, 3207, 3208, 3209, 3210, 3211],\n",
            "           dtype='int64', length=3074) - Size: 162922\n",
            "Test:  index=Int64Index([3212, 3213, 3214, 3215, 3216], dtype='int64') - Size: 5 \n",
            "\n",
            "Fold: 62\n",
            "Train: index=Int64Index([  76,   77,   78,   79,   80,   81,   82,   83,   84,   85,\n",
            "            ...\n",
            "            3207, 3208, 3209, 3210, 3211, 3212, 3213, 3214, 3215, 3216],\n",
            "           dtype='int64', length=3079) - Size: 163187\n",
            "Test:  index=Int64Index([3217, 3218, 3219, 3220, 3221], dtype='int64') - Size: 5 \n",
            "\n",
            "Fold: 63\n",
            "Train: index=Int64Index([  76,   77,   78,   79,   80,   81,   82,   83,   84,   85,\n",
            "            ...\n",
            "            3212, 3213, 3214, 3215, 3216, 3217, 3218, 3219, 3220, 3221],\n",
            "           dtype='int64', length=3084) - Size: 163452\n",
            "Test:  index=Int64Index([3222, 3223, 3224, 3225, 3226], dtype='int64') - Size: 5 \n",
            "\n",
            "Fold: 64\n",
            "Train: index=Int64Index([  76,   77,   78,   79,   80,   81,   82,   83,   84,   85,\n",
            "            ...\n",
            "            3217, 3218, 3219, 3220, 3221, 3222, 3223, 3224, 3225, 3226],\n",
            "           dtype='int64', length=3089) - Size: 163717\n",
            "Test:  index=Int64Index([3227, 3228, 3229, 3230, 3231], dtype='int64') - Size: 5 \n",
            "\n",
            "Fold: 65\n",
            "Train: index=Int64Index([  76,   77,   78,   79,   80,   81,   82,   83,   84,   85,\n",
            "            ...\n",
            "            3222, 3223, 3224, 3225, 3226, 3227, 3228, 3229, 3230, 3231],\n",
            "           dtype='int64', length=3094) - Size: 163982\n",
            "Test:  index=Int64Index([3232, 3233, 3234, 3235, 3236], dtype='int64') - Size: 5 \n",
            "\n",
            "Fold: 66\n",
            "Train: index=Int64Index([  76,   77,   78,   79,   80,   81,   82,   83,   84,   85,\n",
            "            ...\n",
            "            3227, 3228, 3229, 3230, 3231, 3232, 3233, 3234, 3235, 3236],\n",
            "           dtype='int64', length=3099) - Size: 164247\n",
            "Test:  index=Int64Index([3237, 3238, 3239, 3240, 3241], dtype='int64') - Size: 5 \n",
            "\n",
            "Fold: 67\n",
            "Train: index=Int64Index([  76,   77,   78,   79,   80,   81,   82,   83,   84,   85,\n",
            "            ...\n",
            "            3232, 3233, 3234, 3235, 3236, 3237, 3238, 3239, 3240, 3241],\n",
            "           dtype='int64', length=3104) - Size: 164512\n",
            "Test:  index=Int64Index([3242, 3243, 3244, 3245, 3246], dtype='int64') - Size: 5 \n",
            "\n",
            "Fold: 68\n",
            "Train: index=Int64Index([  76,   77,   78,   79,   80,   81,   82,   83,   84,   85,\n",
            "            ...\n",
            "            3237, 3238, 3239, 3240, 3241, 3242, 3243, 3244, 3245, 3246],\n",
            "           dtype='int64', length=3109) - Size: 164777\n",
            "Test:  index=Int64Index([3247, 3248, 3249, 3250, 3251], dtype='int64') - Size: 5 \n",
            "\n",
            "Fold: 69\n",
            "Train: index=Int64Index([  76,   77,   78,   79,   80,   81,   82,   83,   84,   85,\n",
            "            ...\n",
            "            3242, 3243, 3244, 3245, 3246, 3247, 3248, 3249, 3250, 3251],\n",
            "           dtype='int64', length=3114) - Size: 165042\n",
            "Test:  index=Int64Index([3252, 3253, 3254, 3255, 3256], dtype='int64') - Size: 5 \n",
            "\n",
            "Fold: 70\n",
            "Train: index=Int64Index([  76,   77,   78,   79,   80,   81,   82,   83,   84,   85,\n",
            "            ...\n",
            "            3247, 3248, 3249, 3250, 3251, 3252, 3253, 3254, 3255, 3256],\n",
            "           dtype='int64', length=3119) - Size: 165307\n",
            "Test:  index=Int64Index([3257, 3258, 3259, 3260, 3261], dtype='int64') - Size: 5 \n",
            "\n",
            "Fold: 71\n",
            "Train: index=Int64Index([  76,   77,   78,   79,   80,   81,   82,   83,   84,   85,\n",
            "            ...\n",
            "            3252, 3253, 3254, 3255, 3256, 3257, 3258, 3259, 3260, 3261],\n",
            "           dtype='int64', length=3124) - Size: 165572\n",
            "Test:  index=Int64Index([3262, 3263, 3264, 3265, 3266], dtype='int64') - Size: 5 \n",
            "\n",
            "Fold: 72\n",
            "Train: index=Int64Index([  76,   77,   78,   79,   80,   81,   82,   83,   84,   85,\n",
            "            ...\n",
            "            3257, 3258, 3259, 3260, 3261, 3262, 3263, 3264, 3265, 3266],\n",
            "           dtype='int64', length=3129) - Size: 165837\n",
            "Test:  index=Int64Index([3267, 3268, 3269, 3270, 3271], dtype='int64') - Size: 5 \n",
            "\n",
            "Fold: 73\n",
            "Train: index=Int64Index([  76,   77,   78,   79,   80,   81,   82,   83,   84,   85,\n",
            "            ...\n",
            "            3262, 3263, 3264, 3265, 3266, 3267, 3268, 3269, 3270, 3271],\n",
            "           dtype='int64', length=3134) - Size: 166102\n",
            "Test:  index=Int64Index([3272, 3273, 3274, 3275, 3276], dtype='int64') - Size: 5 \n",
            "\n",
            "Fold: 74\n",
            "Train: index=Int64Index([  76,   77,   78,   79,   80,   81,   82,   83,   84,   85,\n",
            "            ...\n",
            "            3267, 3268, 3269, 3270, 3271, 3272, 3273, 3274, 3275, 3276],\n",
            "           dtype='int64', length=3139) - Size: 166367\n",
            "Test:  index=Int64Index([3277, 3278, 3279, 3280, 3281], dtype='int64') - Size: 5 \n",
            "\n",
            "Fold: 75\n",
            "Train: index=Int64Index([  76,   77,   78,   79,   80,   81,   82,   83,   84,   85,\n",
            "            ...\n",
            "            3272, 3273, 3274, 3275, 3276, 3277, 3278, 3279, 3280, 3281],\n",
            "           dtype='int64', length=3144) - Size: 166632\n",
            "Test:  index=Int64Index([3282, 3283, 3284, 3285, 3286], dtype='int64') - Size: 5 \n",
            "\n",
            "Fold: 76\n",
            "Train: index=Int64Index([  76,   77,   78,   79,   80,   81,   82,   83,   84,   85,\n",
            "            ...\n",
            "            3277, 3278, 3279, 3280, 3281, 3282, 3283, 3284, 3285, 3286],\n",
            "           dtype='int64', length=3149) - Size: 166897\n",
            "Test:  index=Int64Index([3287, 3288, 3289, 3290, 3291], dtype='int64') - Size: 5 \n",
            "\n",
            "Fold: 77\n",
            "Train: index=Int64Index([  76,   77,   78,   79,   80,   81,   82,   83,   84,   85,\n",
            "            ...\n",
            "            3282, 3283, 3284, 3285, 3286, 3287, 3288, 3289, 3290, 3291],\n",
            "           dtype='int64', length=3154) - Size: 167162\n",
            "Test:  index=Int64Index([3292, 3293, 3294, 3295, 3296], dtype='int64') - Size: 5 \n",
            "\n",
            "Fold: 78\n",
            "Train: index=Int64Index([  76,   77,   78,   79,   80,   81,   82,   83,   84,   85,\n",
            "            ...\n",
            "            3287, 3288, 3289, 3290, 3291, 3292, 3293, 3294, 3295, 3296],\n",
            "           dtype='int64', length=3159) - Size: 167427\n",
            "Test:  index=Int64Index([3297, 3298, 3299, 3300, 3301], dtype='int64') - Size: 5 \n",
            "\n",
            "Fold: 79\n",
            "Train: index=Int64Index([  76,   77,   78,   79,   80,   81,   82,   83,   84,   85,\n",
            "            ...\n",
            "            3292, 3293, 3294, 3295, 3296, 3297, 3298, 3299, 3300, 3301],\n",
            "           dtype='int64', length=3164) - Size: 167692\n",
            "Test:  index=Int64Index([3302, 3303, 3304, 3305, 3306], dtype='int64') - Size: 5 \n",
            "\n",
            "Fold: 80\n",
            "Train: index=Int64Index([  76,   77,   78,   79,   80,   81,   82,   83,   84,   85,\n",
            "            ...\n",
            "            3297, 3298, 3299, 3300, 3301, 3302, 3303, 3304, 3305, 3306],\n",
            "           dtype='int64', length=3169) - Size: 167957\n",
            "Test:  index=Int64Index([3307, 3308, 3309, 3310, 3311], dtype='int64') - Size: 5 \n",
            "\n",
            "Fold: 81\n",
            "Train: index=Int64Index([  76,   77,   78,   79,   80,   81,   82,   83,   84,   85,\n",
            "            ...\n",
            "            3302, 3303, 3304, 3305, 3306, 3307, 3308, 3309, 3310, 3311],\n",
            "           dtype='int64', length=3174) - Size: 168222\n",
            "Test:  index=Int64Index([3312, 3313, 3314, 3315, 3316], dtype='int64') - Size: 5 \n",
            "\n",
            "Fold: 82\n",
            "Train: index=Int64Index([  76,   77,   78,   79,   80,   81,   82,   83,   84,   85,\n",
            "            ...\n",
            "            3307, 3308, 3309, 3310, 3311, 3312, 3313, 3314, 3315, 3316],\n",
            "           dtype='int64', length=3179) - Size: 168487\n",
            "Test:  index=Int64Index([3317, 3318, 3319, 3320, 3321], dtype='int64') - Size: 5 \n",
            "\n",
            "Fold: 83\n",
            "Train: index=Int64Index([  76,   77,   78,   79,   80,   81,   82,   83,   84,   85,\n",
            "            ...\n",
            "            3312, 3313, 3314, 3315, 3316, 3317, 3318, 3319, 3320, 3321],\n",
            "           dtype='int64', length=3184) - Size: 168752\n",
            "Test:  index=Int64Index([3322, 3323], dtype='int64') - Size: 2 \n",
            "\n"
          ]
        }
      ],
      "source": [
        "from sklearn.ensemble import RandomForestClassifier\n",
        "classifier = RandomForestClassifier(random_state=1111)\n",
        "y_pred_window, y_test_window = expanding_window(classifier, X, y, window_size=5)"
      ]
    },
    {
      "cell_type": "code",
      "execution_count": 108,
      "metadata": {
        "colab": {
          "base_uri": "https://localhost:8080/",
          "height": 520
        },
        "id": "3OPrS0-0bb4A",
        "outputId": "fb58f098-a7a1-4aff-f42c-63eab50eb543"
      },
      "outputs": [
        {
          "output_type": "stream",
          "name": "stdout",
          "text": [
            "Accuracy: 0.5203836930455635\n",
            "Precision: 0.5228215767634855\n",
            "Recall: 0.5971563981042654\n",
            "AUC: 0.5194519854598997\n"
          ]
        },
        {
          "output_type": "display_data",
          "data": {
            "text/plain": [
              "<Figure size 640x480 with 2 Axes>"
            ],
            "image/png": "[encoded data removed]"
          },
          "metadata": {}
        }
      ],
      "source": [
        "evaluate_classification(y_test_window, y_pred_window)"
      ]
    },
    {
      "cell_type": "code",
      "execution_count": 121,
      "metadata": {
        "colab": {
          "base_uri": "https://localhost:8080/",
          "height": 424
        },
        "id": "bDyhFa6yeddc",
        "outputId": "a22c5c5e-e78c-4973-8104-981c36484a03"
      },
      "outputs": [
        {
          "output_type": "execute_result",
          "data": {
            "text/plain": [
              "         Date  Prediction\n",
              "0    20220301           0\n",
              "1    20220401           1\n",
              "2    20220501           0\n",
              "3    20220601           1\n",
              "4    20220701           1\n",
              "..        ...         ...\n",
              "412  20230824           0\n",
              "413  20230825           0\n",
              "414  20230828           1\n",
              "415  20230829           1\n",
              "416  20230830           0\n",
              "\n",
              "[417 rows x 2 columns]"
            ],
            "text/html": [
              "\n",
              "  <div id=\"df-87374b89-9dd8-42fa-a169-7519c2274026\" class=\"colab-df-container\">\n",
              "    <div>\n",
              "<style scoped>\n",
              "    .dataframe tbody tr th:only-of-type {\n",
              "        vertical-align: middle;\n",
              "    }\n",
              "\n",
              "    .dataframe tbody tr th {\n",
              "        vertical-align: top;\n",
              "    }\n",
              "\n",
              "    .dataframe thead th {\n",
              "        text-align: right;\n",
              "    }\n",
              "</style>\n",
              "<table border=\"1\" class=\"dataframe\">\n",
              "  <thead>\n",
              "    <tr style=\"text-align: right;\">\n",
              "      <th></th>\n",
              "      <th>Date</th>\n",
              "      <th>Prediction</th>\n",
              "    </tr>\n",
              "  </thead>\n",
              "  <tbody>\n",
              "    <tr>\n",
              "      <th>0</th>\n",
              "      <td>20220301</td>\n",
              "      <td>0</td>\n",
              "    </tr>\n",
              "    <tr>\n",
              "      <th>1</th>\n",
              "      <td>20220401</td>\n",
              "      <td>1</td>\n",
              "    </tr>\n",
              "    <tr>\n",
              "      <th>2</th>\n",
              "      <td>20220501</td>\n",
              "      <td>0</td>\n",
              "    </tr>\n",
              "    <tr>\n",
              "      <th>3</th>\n",
              "      <td>20220601</td>\n",
              "      <td>1</td>\n",
              "    </tr>\n",
              "    <tr>\n",
              "      <th>4</th>\n",
              "      <td>20220701</td>\n",
              "      <td>1</td>\n",
              "    </tr>\n",
              "    <tr>\n",
              "      <th>...</th>\n",
              "      <td>...</td>\n",
              "      <td>...</td>\n",
              "    </tr>\n",
              "    <tr>\n",
              "      <th>412</th>\n",
              "      <td>20230824</td>\n",
              "      <td>0</td>\n",
              "    </tr>\n",
              "    <tr>\n",
              "      <th>413</th>\n",
              "      <td>20230825</td>\n",
              "      <td>0</td>\n",
              "    </tr>\n",
              "    <tr>\n",
              "      <th>414</th>\n",
              "      <td>20230828</td>\n",
              "      <td>1</td>\n",
              "    </tr>\n",
              "    <tr>\n",
              "      <th>415</th>\n",
              "      <td>20230829</td>\n",
              "      <td>1</td>\n",
              "    </tr>\n",
              "    <tr>\n",
              "      <th>416</th>\n",
              "      <td>20230830</td>\n",
              "      <td>0</td>\n",
              "    </tr>\n",
              "  </tbody>\n",
              "</table>\n",
              "<p>417 rows × 2 columns</p>\n",
              "</div>\n",
              "    <div class=\"colab-df-buttons\">\n",
              "\n",
              "  <div class=\"colab-df-container\">\n",
              "    <button class=\"colab-df-convert\" onclick=\"convertToInteractive('df-87374b89-9dd8-42fa-a169-7519c2274026')\"\n",
              "            title=\"Convert this dataframe to an interactive table.\"\n",
              "            style=\"display:none;\">\n",
              "\n",
              "  <svg xmlns=\"http://www.w3.org/2000/svg\" height=\"24px\" viewBox=\"0 -960 960 960\">\n",
              "    <path d=\"M120-120v-720h720v720H120Zm60-500h600v-160H180v160Zm220 220h160v-160H400v160Zm0 220h160v-160H400v160ZM180-400h160v-160H180v160Zm440 0h160v-160H620v160ZM180-180h160v-160H180v160Zm440 0h160v-160H620v160Z\"/>\n",
              "  </svg>\n",
              "    </button>\n",
              "\n",
              "  <style>\n",
              "    .colab-df-container {\n",
              "      display:flex;\n",
              "      gap: 12px;\n",
              "    }\n",
              "\n",
              "    .colab-df-convert {\n",
              "      background-color: #E8F0FE;\n",
              "      border: none;\n",
              "      border-radius: 50%;\n",
              "      cursor: pointer;\n",
              "      display: none;\n",
              "      fill: #1967D2;\n",
              "      height: 32px;\n",
              "      padding: 0 0 0 0;\n",
              "      width: 32px;\n",
              "    }\n",
              "\n",
              "    .colab-df-convert:hover {\n",
              "      background-color: #E2EBFA;\n",
              "      box-shadow: 0px 1px 2px rgba(60, 64, 67, 0.3), 0px 1px 3px 1px rgba(60, 64, 67, 0.15);\n",
              "      fill: #174EA6;\n",
              "    }\n",
              "\n",
              "    .colab-df-buttons div {\n",
              "      margin-bottom: 4px;\n",
              "    }\n",
              "\n",
              "    [theme=dark] .colab-df-convert {\n",
              "      background-color: #3B4455;\n",
              "      fill: #D2E3FC;\n",
              "    }\n",
              "\n",
              "    [theme=dark] .colab-df-convert:hover {\n",
              "      background-color: #434B5C;\n",
              "      box-shadow: 0px 1px 3px 1px rgba(0, 0, 0, 0.15);\n",
              "      filter: drop-shadow(0px 1px 2px rgba(0, 0, 0, 0.3));\n",
              "      fill: #FFFFFF;\n",
              "    }\n",
              "  </style>\n",
              "\n",
              "    <script>\n",
              "      const buttonEl =\n",
              "        document.querySelector('#df-87374b89-9dd8-42fa-a169-7519c2274026 button.colab-df-convert');\n",
              "      buttonEl.style.display =\n",
              "        google.colab.kernel.accessAllowed ? 'block' : 'none';\n",
              "\n",
              "      async function convertToInteractive(key) {\n",
              "        const element = document.querySelector('#df-87374b89-9dd8-42fa-a169-7519c2274026');\n",
              "        const dataTable =\n",
              "          await google.colab.kernel.invokeFunction('convertToInteractive',\n",
              "                                                    [key], {});\n",
              "        if (!dataTable) return;\n",
              "\n",
              "        const docLinkHtml = 'Like what you see? Visit the ' +\n",
              "          '<a target=\"_blank\" href=https://colab.research.google.com/notebooks/data_table.ipynb>data table notebook</a>'\n",
              "          + ' to learn more about interactive tables.';\n",
              "        element.innerHTML = '';\n",
              "        dataTable['output_type'] = 'display_data';\n",
              "        await google.colab.output.renderOutput(dataTable, element);\n",
              "        const docLink = document.createElement('div');\n",
              "        docLink.innerHTML = docLinkHtml;\n",
              "        element.appendChild(docLink);\n",
              "      }\n",
              "    </script>\n",
              "  </div>\n",
              "\n",
              "\n",
              "<div id=\"df-02d49104-8741-4c3c-b455-7e082940f101\">\n",
              "  <button class=\"colab-df-quickchart\" onclick=\"quickchart('df-02d49104-8741-4c3c-b455-7e082940f101')\"\n",
              "            title=\"Suggest charts.\"\n",
              "            style=\"display:none;\">\n",
              "\n",
              "<svg xmlns=\"http://www.w3.org/2000/svg\" height=\"24px\"viewBox=\"0 0 24 24\"\n",
              "     width=\"24px\">\n",
              "    <g>\n",
              "        <path d=\"M19 3H5c-1.1 0-2 .9-2 2v14c0 1.1.9 2 2 2h14c1.1 0 2-.9 2-2V5c0-1.1-.9-2-2-2zM9 17H7v-7h2v7zm4 0h-2V7h2v10zm4 0h-2v-4h2v4z\"/>\n",
              "    </g>\n",
              "</svg>\n",
              "  </button>\n",
              "\n",
              "<style>\n",
              "  .colab-df-quickchart {\n",
              "      --bg-color: #E8F0FE;\n",
              "      --fill-color: #1967D2;\n",
              "      --hover-bg-color: #E2EBFA;\n",
              "      --hover-fill-color: #174EA6;\n",
              "      --disabled-fill-color: #AAA;\n",
              "      --disabled-bg-color: #DDD;\n",
              "  }\n",
              "\n",
              "  [theme=dark] .colab-df-quickchart {\n",
              "      --bg-color: #3B4455;\n",
              "      --fill-color: #D2E3FC;\n",
              "      --hover-bg-color: #434B5C;\n",
              "      --hover-fill-color: #FFFFFF;\n",
              "      --disabled-bg-color: #3B4455;\n",
              "      --disabled-fill-color: #666;\n",
              "  }\n",
              "\n",
              "  .colab-df-quickchart {\n",
              "    background-color: var(--bg-color);\n",
              "    border: none;\n",
              "    border-radius: 50%;\n",
              "    cursor: pointer;\n",
              "    display: none;\n",
              "    fill: var(--fill-color);\n",
              "    height: 32px;\n",
              "    padding: 0;\n",
              "    width: 32px;\n",
              "  }\n",
              "\n",
              "  .colab-df-quickchart:hover {\n",
              "    background-color: var(--hover-bg-color);\n",
              "    box-shadow: 0 1px 2px rgba(60, 64, 67, 0.3), 0 1px 3px 1px rgba(60, 64, 67, 0.15);\n",
              "    fill: var(--button-hover-fill-color);\n",
              "  }\n",
              "\n",
              "  .colab-df-quickchart-complete:disabled,\n",
              "  .colab-df-quickchart-complete:disabled:hover {\n",
              "    background-color: var(--disabled-bg-color);\n",
              "    fill: var(--disabled-fill-color);\n",
              "    box-shadow: none;\n",
              "  }\n",
              "\n",
              "  .colab-df-spinner {\n",
              "    border: 2px solid var(--fill-color);\n",
              "    border-color: transparent;\n",
              "    border-bottom-color: var(--fill-color);\n",
              "    animation:\n",
              "      spin 1s steps(1) infinite;\n",
              "  }\n",
              "\n",
              "  @keyframes spin {\n",
              "    0% {\n",
              "      border-color: transparent;\n",
              "      border-bottom-color: var(--fill-color);\n",
              "      border-left-color: var(--fill-color);\n",
              "    }\n",
              "    20% {\n",
              "      border-color: transparent;\n",
              "      border-left-color: var(--fill-color);\n",
              "      border-top-color: var(--fill-color);\n",
              "    }\n",
              "    30% {\n",
              "      border-color: transparent;\n",
              "      border-left-color: var(--fill-color);\n",
              "      border-top-color: var(--fill-color);\n",
              "      border-right-color: var(--fill-color);\n",
              "    }\n",
              "    40% {\n",
              "      border-color: transparent;\n",
              "      border-right-color: var(--fill-color);\n",
              "      border-top-color: var(--fill-color);\n",
              "    }\n",
              "    60% {\n",
              "      border-color: transparent;\n",
              "      border-right-color: var(--fill-color);\n",
              "    }\n",
              "    80% {\n",
              "      border-color: transparent;\n",
              "      border-right-color: var(--fill-color);\n",
              "      border-bottom-color: var(--fill-color);\n",
              "    }\n",
              "    90% {\n",
              "      border-color: transparent;\n",
              "      border-bottom-color: var(--fill-color);\n",
              "    }\n",
              "  }\n",
              "</style>\n",
              "\n",
              "  <script>\n",
              "    async function quickchart(key) {\n",
              "      const quickchartButtonEl =\n",
              "        document.querySelector('#' + key + ' button');\n",
              "      quickchartButtonEl.disabled = true;  // To prevent multiple clicks.\n",
              "      quickchartButtonEl.classList.add('colab-df-spinner');\n",
              "      try {\n",
              "        const charts = await google.colab.kernel.invokeFunction(\n",
              "            'suggestCharts', [key], {});\n",
              "      } catch (error) {\n",
              "        console.error('Error during call to suggestCharts:', error);\n",
              "      }\n",
              "      quickchartButtonEl.classList.remove('colab-df-spinner');\n",
              "      quickchartButtonEl.classList.add('colab-df-quickchart-complete');\n",
              "    }\n",
              "    (() => {\n",
              "      let quickchartButtonEl =\n",
              "        document.querySelector('#df-02d49104-8741-4c3c-b455-7e082940f101 button');\n",
              "      quickchartButtonEl.style.display =\n",
              "        google.colab.kernel.accessAllowed ? 'block' : 'none';\n",
              "    })();\n",
              "  </script>\n",
              "</div>\n",
              "    </div>\n",
              "  </div>\n"
            ]
          },
          "metadata": {},
          "execution_count": 121
        }
      ],
      "source": [
        "#generate_output(y_test, y_pred_window)\n",
        "generate_output(y_test_window, y_pred_window)"
      ]
    },
    {
      "cell_type": "markdown",
      "metadata": {
        "id": "WZmDlA2Gbqpf"
      },
      "source": [
        "### Time Series Split (1 Days)"
      ]
    },
    {
      "cell_type": "code",
      "execution_count": null,
      "metadata": {
        "id": "R01UZ4clbqpl"
      },
      "outputs": [],
      "source": [
        "from sklearn.ensemble import RandomForestClassifier\n",
        "classifier = RandomForestClassifier(random_state=1111)\n",
        "y_pred_window, y_test_window = expanding_window(classifier, X, y, window_size=1)"
      ]
    },
    {
      "cell_type": "code",
      "execution_count": 111,
      "metadata": {
        "id": "dGI7SiJIbqpo",
        "colab": {
          "base_uri": "https://localhost:8080/",
          "height": 520
        },
        "outputId": "895f175d-58fd-468b-9685-05f875e6447e"
      },
      "outputs": [
        {
          "output_type": "stream",
          "name": "stdout",
          "text": [
            "Accuracy: 0.49640287769784175\n",
            "Precision: 0.5021645021645021\n",
            "Recall: 0.5497630331753555\n",
            "AUC: 0.4957553029954447\n"
          ]
        },
        {
          "output_type": "display_data",
          "data": {
            "text/plain": [
              "<Figure size 640x480 with 2 Axes>"
            ],
            "image/png": "[encoded data removed]"
          },
          "metadata": {}
        }
      ],
      "source": [
        "evaluate_classification(y_test_window, y_pred_window)"
      ]
    },
    {
      "cell_type": "markdown",
      "metadata": {
        "id": "VY8Y5xzd0tWI"
      },
      "source": [
        "## Baseline"
      ]
    },
    {
      "cell_type": "code",
      "execution_count": null,
      "metadata": {
        "id": "EvMSRM1Q0wF_"
      },
      "outputs": [],
      "source": [
        "y_train = df.loc[df['year'] < 2022, 'Output']\n",
        "X_train = df.loc[df['year'] < 2022].drop(['Output', 'Return'], axis=\"columns\")\n",
        "\n",
        "y_test = df.loc[df['year'] >= 2022, 'Output']\n",
        "X_test = df.loc[df['year'] >= 2022].drop(['Output', 'Return'], axis=\"columns\")"
      ]
    },
    {
      "cell_type": "code",
      "execution_count": null,
      "metadata": {
        "colab": {
          "base_uri": "https://localhost:8080/"
        },
        "id": "2xDO5EWY0_J2",
        "outputId": "2d4903e7-5700-48a8-cf48-5d68e727cbc2"
      },
      "outputs": [
        {
          "output_type": "execute_result",
          "data": {
            "text/plain": [
              "Output\n",
              "1         211\n",
              "0         206\n",
              "dtype: int64"
            ]
          },
          "metadata": {},
          "execution_count": 7
        }
      ],
      "source": [
        "y_pred_base_classifier = pd.DataFrame(y_test)\n",
        "y_pred_base_classifier.value_counts()"
      ]
    },
    {
      "cell_type": "code",
      "execution_count": null,
      "metadata": {
        "colab": {
          "base_uri": "https://localhost:8080/",
          "height": 424
        },
        "id": "cnt7R7WZ1iJd",
        "outputId": "90f12a5f-9348-48a0-de68-5a234cc9cd24"
      },
      "outputs": [
        {
          "output_type": "execute_result",
          "data": {
            "text/plain": [
              "      Output\n",
              "2907       1\n",
              "2908       1\n",
              "2909       1\n",
              "2910       1\n",
              "2911       1\n",
              "...      ...\n",
              "3319       1\n",
              "3320       1\n",
              "3321       1\n",
              "3322       1\n",
              "3323       1\n",
              "\n",
              "[417 rows x 1 columns]"
            ],
            "text/html": [
              "\n",
              "  <div id=\"df-15207061-7015-4406-be8c-efc43db1d366\" class=\"colab-df-container\">\n",
              "    <div>\n",
              "<style scoped>\n",
              "    .dataframe tbody tr th:only-of-type {\n",
              "        vertical-align: middle;\n",
              "    }\n",
              "\n",
              "    .dataframe tbody tr th {\n",
              "        vertical-align: top;\n",
              "    }\n",
              "\n",
              "    .dataframe thead th {\n",
              "        text-align: right;\n",
              "    }\n",
              "</style>\n",
              "<table border=\"1\" class=\"dataframe\">\n",
              "  <thead>\n",
              "    <tr style=\"text-align: right;\">\n",
              "      <th></th>\n",
              "      <th>Output</th>\n",
              "    </tr>\n",
              "  </thead>\n",
              "  <tbody>\n",
              "    <tr>\n",
              "      <th>2907</th>\n",
              "      <td>1</td>\n",
              "    </tr>\n",
              "    <tr>\n",
              "      <th>2908</th>\n",
              "      <td>1</td>\n",
              "    </tr>\n",
              "    <tr>\n",
              "      <th>2909</th>\n",
              "      <td>1</td>\n",
              "    </tr>\n",
              "    <tr>\n",
              "      <th>2910</th>\n",
              "      <td>1</td>\n",
              "    </tr>\n",
              "    <tr>\n",
              "      <th>2911</th>\n",
              "      <td>1</td>\n",
              "    </tr>\n",
              "    <tr>\n",
              "      <th>...</th>\n",
              "      <td>...</td>\n",
              "    </tr>\n",
              "    <tr>\n",
              "      <th>3319</th>\n",
              "      <td>1</td>\n",
              "    </tr>\n",
              "    <tr>\n",
              "      <th>3320</th>\n",
              "      <td>1</td>\n",
              "    </tr>\n",
              "    <tr>\n",
              "      <th>3321</th>\n",
              "      <td>1</td>\n",
              "    </tr>\n",
              "    <tr>\n",
              "      <th>3322</th>\n",
              "      <td>1</td>\n",
              "    </tr>\n",
              "    <tr>\n",
              "      <th>3323</th>\n",
              "      <td>1</td>\n",
              "    </tr>\n",
              "  </tbody>\n",
              "</table>\n",
              "<p>417 rows × 1 columns</p>\n",
              "</div>\n",
              "    <div class=\"colab-df-buttons\">\n",
              "\n",
              "  <div class=\"colab-df-container\">\n",
              "    <button class=\"colab-df-convert\" onclick=\"convertToInteractive('df-15207061-7015-4406-be8c-efc43db1d366')\"\n",
              "            title=\"Convert this dataframe to an interactive table.\"\n",
              "            style=\"display:none;\">\n",
              "\n",
              "  <svg xmlns=\"http://www.w3.org/2000/svg\" height=\"24px\" viewBox=\"0 -960 960 960\">\n",
              "    <path d=\"M120-120v-720h720v720H120Zm60-500h600v-160H180v160Zm220 220h160v-160H400v160Zm0 220h160v-160H400v160ZM180-400h160v-160H180v160Zm440 0h160v-160H620v160ZM180-180h160v-160H180v160Zm440 0h160v-160H620v160Z\"/>\n",
              "  </svg>\n",
              "    </button>\n",
              "\n",
              "  <style>\n",
              "    .colab-df-container {\n",
              "      display:flex;\n",
              "      gap: 12px;\n",
              "    }\n",
              "\n",
              "    .colab-df-convert {\n",
              "      background-color: #E8F0FE;\n",
              "      border: none;\n",
              "      border-radius: 50%;\n",
              "      cursor: pointer;\n",
              "      display: none;\n",
              "      fill: #1967D2;\n",
              "      height: 32px;\n",
              "      padding: 0 0 0 0;\n",
              "      width: 32px;\n",
              "    }\n",
              "\n",
              "    .colab-df-convert:hover {\n",
              "      background-color: #E2EBFA;\n",
              "      box-shadow: 0px 1px 2px rgba(60, 64, 67, 0.3), 0px 1px 3px 1px rgba(60, 64, 67, 0.15);\n",
              "      fill: #174EA6;\n",
              "    }\n",
              "\n",
              "    .colab-df-buttons div {\n",
              "      margin-bottom: 4px;\n",
              "    }\n",
              "\n",
              "    [theme=dark] .colab-df-convert {\n",
              "      background-color: #3B4455;\n",
              "      fill: #D2E3FC;\n",
              "    }\n",
              "\n",
              "    [theme=dark] .colab-df-convert:hover {\n",
              "      background-color: #434B5C;\n",
              "      box-shadow: 0px 1px 3px 1px rgba(0, 0, 0, 0.15);\n",
              "      filter: drop-shadow(0px 1px 2px rgba(0, 0, 0, 0.3));\n",
              "      fill: #FFFFFF;\n",
              "    }\n",
              "  </style>\n",
              "\n",
              "    <script>\n",
              "      const buttonEl =\n",
              "        document.querySelector('#df-15207061-7015-4406-be8c-efc43db1d366 button.colab-df-convert');\n",
              "      buttonEl.style.display =\n",
              "        google.colab.kernel.accessAllowed ? 'block' : 'none';\n",
              "\n",
              "      async function convertToInteractive(key) {\n",
              "        const element = document.querySelector('#df-15207061-7015-4406-be8c-efc43db1d366');\n",
              "        const dataTable =\n",
              "          await google.colab.kernel.invokeFunction('convertToInteractive',\n",
              "                                                    [key], {});\n",
              "        if (!dataTable) return;\n",
              "\n",
              "        const docLinkHtml = 'Like what you see? Visit the ' +\n",
              "          '<a target=\"_blank\" href=https://colab.research.google.com/notebooks/data_table.ipynb>data table notebook</a>'\n",
              "          + ' to learn more about interactive tables.';\n",
              "        element.innerHTML = '';\n",
              "        dataTable['output_type'] = 'display_data';\n",
              "        await google.colab.output.renderOutput(dataTable, element);\n",
              "        const docLink = document.createElement('div');\n",
              "        docLink.innerHTML = docLinkHtml;\n",
              "        element.appendChild(docLink);\n",
              "      }\n",
              "    </script>\n",
              "  </div>\n",
              "\n",
              "\n",
              "<div id=\"df-9e1c8b0e-b48d-4453-adde-6ae86b18625c\">\n",
              "  <button class=\"colab-df-quickchart\" onclick=\"quickchart('df-9e1c8b0e-b48d-4453-adde-6ae86b18625c')\"\n",
              "            title=\"Suggest charts.\"\n",
              "            style=\"display:none;\">\n",
              "\n",
              "<svg xmlns=\"http://www.w3.org/2000/svg\" height=\"24px\"viewBox=\"0 0 24 24\"\n",
              "     width=\"24px\">\n",
              "    <g>\n",
              "        <path d=\"M19 3H5c-1.1 0-2 .9-2 2v14c0 1.1.9 2 2 2h14c1.1 0 2-.9 2-2V5c0-1.1-.9-2-2-2zM9 17H7v-7h2v7zm4 0h-2V7h2v10zm4 0h-2v-4h2v4z\"/>\n",
              "    </g>\n",
              "</svg>\n",
              "  </button>\n",
              "\n",
              "<style>\n",
              "  .colab-df-quickchart {\n",
              "      --bg-color: #E8F0FE;\n",
              "      --fill-color: #1967D2;\n",
              "      --hover-bg-color: #E2EBFA;\n",
              "      --hover-fill-color: #174EA6;\n",
              "      --disabled-fill-color: #AAA;\n",
              "      --disabled-bg-color: #DDD;\n",
              "  }\n",
              "\n",
              "  [theme=dark] .colab-df-quickchart {\n",
              "      --bg-color: #3B4455;\n",
              "      --fill-color: #D2E3FC;\n",
              "      --hover-bg-color: #434B5C;\n",
              "      --hover-fill-color: #FFFFFF;\n",
              "      --disabled-bg-color: #3B4455;\n",
              "      --disabled-fill-color: #666;\n",
              "  }\n",
              "\n",
              "  .colab-df-quickchart {\n",
              "    background-color: var(--bg-color);\n",
              "    border: none;\n",
              "    border-radius: 50%;\n",
              "    cursor: pointer;\n",
              "    display: none;\n",
              "    fill: var(--fill-color);\n",
              "    height: 32px;\n",
              "    padding: 0;\n",
              "    width: 32px;\n",
              "  }\n",
              "\n",
              "  .colab-df-quickchart:hover {\n",
              "    background-color: var(--hover-bg-color);\n",
              "    box-shadow: 0 1px 2px rgba(60, 64, 67, 0.3), 0 1px 3px 1px rgba(60, 64, 67, 0.15);\n",
              "    fill: var(--button-hover-fill-color);\n",
              "  }\n",
              "\n",
              "  .colab-df-quickchart-complete:disabled,\n",
              "  .colab-df-quickchart-complete:disabled:hover {\n",
              "    background-color: var(--disabled-bg-color);\n",
              "    fill: var(--disabled-fill-color);\n",
              "    box-shadow: none;\n",
              "  }\n",
              "\n",
              "  .colab-df-spinner {\n",
              "    border: 2px solid var(--fill-color);\n",
              "    border-color: transparent;\n",
              "    border-bottom-color: var(--fill-color);\n",
              "    animation:\n",
              "      spin 1s steps(1) infinite;\n",
              "  }\n",
              "\n",
              "  @keyframes spin {\n",
              "    0% {\n",
              "      border-color: transparent;\n",
              "      border-bottom-color: var(--fill-color);\n",
              "      border-left-color: var(--fill-color);\n",
              "    }\n",
              "    20% {\n",
              "      border-color: transparent;\n",
              "      border-left-color: var(--fill-color);\n",
              "      border-top-color: var(--fill-color);\n",
              "    }\n",
              "    30% {\n",
              "      border-color: transparent;\n",
              "      border-left-color: var(--fill-color);\n",
              "      border-top-color: var(--fill-color);\n",
              "      border-right-color: var(--fill-color);\n",
              "    }\n",
              "    40% {\n",
              "      border-color: transparent;\n",
              "      border-right-color: var(--fill-color);\n",
              "      border-top-color: var(--fill-color);\n",
              "    }\n",
              "    60% {\n",
              "      border-color: transparent;\n",
              "      border-right-color: var(--fill-color);\n",
              "    }\n",
              "    80% {\n",
              "      border-color: transparent;\n",
              "      border-right-color: var(--fill-color);\n",
              "      border-bottom-color: var(--fill-color);\n",
              "    }\n",
              "    90% {\n",
              "      border-color: transparent;\n",
              "      border-bottom-color: var(--fill-color);\n",
              "    }\n",
              "  }\n",
              "</style>\n",
              "\n",
              "  <script>\n",
              "    async function quickchart(key) {\n",
              "      const quickchartButtonEl =\n",
              "        document.querySelector('#' + key + ' button');\n",
              "      quickchartButtonEl.disabled = true;  // To prevent multiple clicks.\n",
              "      quickchartButtonEl.classList.add('colab-df-spinner');\n",
              "      try {\n",
              "        const charts = await google.colab.kernel.invokeFunction(\n",
              "            'suggestCharts', [key], {});\n",
              "      } catch (error) {\n",
              "        console.error('Error during call to suggestCharts:', error);\n",
              "      }\n",
              "      quickchartButtonEl.classList.remove('colab-df-spinner');\n",
              "      quickchartButtonEl.classList.add('colab-df-quickchart-complete');\n",
              "    }\n",
              "    (() => {\n",
              "      let quickchartButtonEl =\n",
              "        document.querySelector('#df-9e1c8b0e-b48d-4453-adde-6ae86b18625c button');\n",
              "      quickchartButtonEl.style.display =\n",
              "        google.colab.kernel.accessAllowed ? 'block' : 'none';\n",
              "    })();\n",
              "  </script>\n",
              "</div>\n",
              "    </div>\n",
              "  </div>\n"
            ]
          },
          "metadata": {},
          "execution_count": 8
        }
      ],
      "source": [
        "y_pred_base_classifier['Output'] = 1\n",
        "y_pred_base_classifier"
      ]
    },
    {
      "cell_type": "code",
      "execution_count": null,
      "metadata": {
        "colab": {
          "base_uri": "https://localhost:8080/",
          "height": 520
        },
        "id": "Zx481yC71zAh",
        "outputId": "c9435240-4749-4cf4-8e9a-22a373ffe3b8"
      },
      "outputs": [
        {
          "output_type": "stream",
          "name": "stdout",
          "text": [
            "Accuracy: 0.5059952038369304\n",
            "Precision: 0.5059952038369304\n",
            "Recall: 1.0\n",
            "AUC: 0.5\n"
          ]
        },
        {
          "output_type": "display_data",
          "data": {
            "text/plain": [
              "<Figure size 640x480 with 2 Axes>"
            ],
            "image/png": "[encoded data removed]"
          },
          "metadata": {}
        }
      ],
      "source": [
        "evaluate_classification(y_test, y_pred_base_classifier)"
      ]
    },
    {
      "cell_type": "markdown",
      "metadata": {
        "id": "DVc2dlqkMmN2"
      },
      "source": [
        "# MLP"
      ]
    },
    {
      "cell_type": "code",
      "execution_count": 80,
      "metadata": {
        "id": "sJKe-X7GIJKT"
      },
      "outputs": [],
      "source": [
        "y_test_aux = df.loc[df['year'] >= 2022, ['Date', 'Output']].reset_index()\n",
        "\n",
        "y_train = df.loc[df['year'] < 2022, 'Return']\n",
        "X_train = df.loc[df['year']  < 2022].drop(['Output', 'Return', 'Date'], axis=\"columns\")\n",
        "\n",
        "y_test = df.loc[df['year'] >= 2022, 'Return']\n",
        "X_test = df.loc[df['year'] >= 2022].drop(['Output', 'Return', 'Date'], axis=\"columns\")"
      ]
    },
    {
      "cell_type": "markdown",
      "metadata": {
        "id": "3E67ayVgqodf"
      },
      "source": [
        "## Holdout"
      ]
    },
    {
      "cell_type": "code",
      "execution_count": 70,
      "metadata": {
        "id": "Qc95FxkHH-L9"
      },
      "outputs": [],
      "source": [
        "from sklearn.metrics import mean_squared_error, mean_absolute_error\n",
        "\n",
        "def evaluate_regressor(y_test, y_pred):\n",
        "  test_set_rmse = np.sqrt(mean_squared_error(y_test, y_pred))\n",
        "  print('RMSE = ', test_set_rmse)\n",
        "\n",
        "  mae = mean_absolute_error(y_test, y_pred)\n",
        "  print(\"MAE = \", mae)"
      ]
    },
    {
      "cell_type": "code",
      "execution_count": 82,
      "metadata": {
        "id": "3PMvidW7Ithk"
      },
      "outputs": [],
      "source": [
        "# Feature Scaling\n",
        "from sklearn.preprocessing import StandardScaler\n",
        "sc = StandardScaler()\n",
        "X_train = sc.fit_transform(X_train)\n",
        "X_test = sc.transform(X_test)"
      ]
    },
    {
      "cell_type": "code",
      "execution_count": 83,
      "metadata": {
        "colab": {
          "base_uri": "https://localhost:8080/"
        },
        "id": "Jr3Dz99BH0Qn",
        "outputId": "1d0619d9-0be0-487f-ec6c-386944d8a7ee"
      },
      "outputs": [
        {
          "output_type": "stream",
          "name": "stdout",
          "text": [
            "RMSE =  1.3548437627944685\n",
            "MAE =  1.053642392057289\n"
          ]
        }
      ],
      "source": [
        "from sklearn.neural_network import MLPRegressor\n",
        "\n",
        "# Initializing the MLP Regressor\n",
        "regressor = MLPRegressor(random_state=1111)\n",
        "\n",
        "# Fitting MLP Regressor to the Training Set\n",
        "regressor.fit(X_train, y_train)\n",
        "\n",
        "# Predicting the test set results\n",
        "y_pred = regressor.predict(X_test)\n",
        "\n",
        "# Evaluate\n",
        "evaluate_regressor(y_test, y_pred)"
      ]
    },
    {
      "cell_type": "code",
      "execution_count": 85,
      "metadata": {
        "id": "kWomP2ktKhcd",
        "colab": {
          "base_uri": "https://localhost:8080/",
          "height": 424
        },
        "outputId": "aa522372-de4f-4502-c707-2ba66247a6a0"
      },
      "outputs": [
        {
          "output_type": "execute_result",
          "data": {
            "text/plain": [
              "         Date  Prediction\n",
              "0    20220301   -0.285059\n",
              "1    20220401   -0.490296\n",
              "2    20220501    0.056965\n",
              "3    20220601   -0.749776\n",
              "4    20220701   -0.403736\n",
              "..        ...         ...\n",
              "412  20230824   -0.244528\n",
              "413  20230825   -0.567601\n",
              "414  20230828   -0.289565\n",
              "415  20230829   -0.113016\n",
              "416  20230830   -0.480929\n",
              "\n",
              "[417 rows x 2 columns]"
            ],
            "text/html": [
              "\n",
              "  <div id=\"df-fd4fa2e5-2df5-4788-a1fc-19e4054a4ae0\" class=\"colab-df-container\">\n",
              "    <div>\n",
              "<style scoped>\n",
              "    .dataframe tbody tr th:only-of-type {\n",
              "        vertical-align: middle;\n",
              "    }\n",
              "\n",
              "    .dataframe tbody tr th {\n",
              "        vertical-align: top;\n",
              "    }\n",
              "\n",
              "    .dataframe thead th {\n",
              "        text-align: right;\n",
              "    }\n",
              "</style>\n",
              "<table border=\"1\" class=\"dataframe\">\n",
              "  <thead>\n",
              "    <tr style=\"text-align: right;\">\n",
              "      <th></th>\n",
              "      <th>Date</th>\n",
              "      <th>Prediction</th>\n",
              "    </tr>\n",
              "  </thead>\n",
              "  <tbody>\n",
              "    <tr>\n",
              "      <th>0</th>\n",
              "      <td>20220301</td>\n",
              "      <td>-0.285059</td>\n",
              "    </tr>\n",
              "    <tr>\n",
              "      <th>1</th>\n",
              "      <td>20220401</td>\n",
              "      <td>-0.490296</td>\n",
              "    </tr>\n",
              "    <tr>\n",
              "      <th>2</th>\n",
              "      <td>20220501</td>\n",
              "      <td>0.056965</td>\n",
              "    </tr>\n",
              "    <tr>\n",
              "      <th>3</th>\n",
              "      <td>20220601</td>\n",
              "      <td>-0.749776</td>\n",
              "    </tr>\n",
              "    <tr>\n",
              "      <th>4</th>\n",
              "      <td>20220701</td>\n",
              "      <td>-0.403736</td>\n",
              "    </tr>\n",
              "    <tr>\n",
              "      <th>...</th>\n",
              "      <td>...</td>\n",
              "      <td>...</td>\n",
              "    </tr>\n",
              "    <tr>\n",
              "      <th>412</th>\n",
              "      <td>20230824</td>\n",
              "      <td>-0.244528</td>\n",
              "    </tr>\n",
              "    <tr>\n",
              "      <th>413</th>\n",
              "      <td>20230825</td>\n",
              "      <td>-0.567601</td>\n",
              "    </tr>\n",
              "    <tr>\n",
              "      <th>414</th>\n",
              "      <td>20230828</td>\n",
              "      <td>-0.289565</td>\n",
              "    </tr>\n",
              "    <tr>\n",
              "      <th>415</th>\n",
              "      <td>20230829</td>\n",
              "      <td>-0.113016</td>\n",
              "    </tr>\n",
              "    <tr>\n",
              "      <th>416</th>\n",
              "      <td>20230830</td>\n",
              "      <td>-0.480929</td>\n",
              "    </tr>\n",
              "  </tbody>\n",
              "</table>\n",
              "<p>417 rows × 2 columns</p>\n",
              "</div>\n",
              "    <div class=\"colab-df-buttons\">\n",
              "\n",
              "  <div class=\"colab-df-container\">\n",
              "    <button class=\"colab-df-convert\" onclick=\"convertToInteractive('df-fd4fa2e5-2df5-4788-a1fc-19e4054a4ae0')\"\n",
              "            title=\"Convert this dataframe to an interactive table.\"\n",
              "            style=\"display:none;\">\n",
              "\n",
              "  <svg xmlns=\"http://www.w3.org/2000/svg\" height=\"24px\" viewBox=\"0 -960 960 960\">\n",
              "    <path d=\"M120-120v-720h720v720H120Zm60-500h600v-160H180v160Zm220 220h160v-160H400v160Zm0 220h160v-160H400v160ZM180-400h160v-160H180v160Zm440 0h160v-160H620v160ZM180-180h160v-160H180v160Zm440 0h160v-160H620v160Z\"/>\n",
              "  </svg>\n",
              "    </button>\n",
              "\n",
              "  <style>\n",
              "    .colab-df-container {\n",
              "      display:flex;\n",
              "      gap: 12px;\n",
              "    }\n",
              "\n",
              "    .colab-df-convert {\n",
              "      background-color: #E8F0FE;\n",
              "      border: none;\n",
              "      border-radius: 50%;\n",
              "      cursor: pointer;\n",
              "      display: none;\n",
              "      fill: #1967D2;\n",
              "      height: 32px;\n",
              "      padding: 0 0 0 0;\n",
              "      width: 32px;\n",
              "    }\n",
              "\n",
              "    .colab-df-convert:hover {\n",
              "      background-color: #E2EBFA;\n",
              "      box-shadow: 0px 1px 2px rgba(60, 64, 67, 0.3), 0px 1px 3px 1px rgba(60, 64, 67, 0.15);\n",
              "      fill: #174EA6;\n",
              "    }\n",
              "\n",
              "    .colab-df-buttons div {\n",
              "      margin-bottom: 4px;\n",
              "    }\n",
              "\n",
              "    [theme=dark] .colab-df-convert {\n",
              "      background-color: #3B4455;\n",
              "      fill: #D2E3FC;\n",
              "    }\n",
              "\n",
              "    [theme=dark] .colab-df-convert:hover {\n",
              "      background-color: #434B5C;\n",
              "      box-shadow: 0px 1px 3px 1px rgba(0, 0, 0, 0.15);\n",
              "      filter: drop-shadow(0px 1px 2px rgba(0, 0, 0, 0.3));\n",
              "      fill: #FFFFFF;\n",
              "    }\n",
              "  </style>\n",
              "\n",
              "    <script>\n",
              "      const buttonEl =\n",
              "        document.querySelector('#df-fd4fa2e5-2df5-4788-a1fc-19e4054a4ae0 button.colab-df-convert');\n",
              "      buttonEl.style.display =\n",
              "        google.colab.kernel.accessAllowed ? 'block' : 'none';\n",
              "\n",
              "      async function convertToInteractive(key) {\n",
              "        const element = document.querySelector('#df-fd4fa2e5-2df5-4788-a1fc-19e4054a4ae0');\n",
              "        const dataTable =\n",
              "          await google.colab.kernel.invokeFunction('convertToInteractive',\n",
              "                                                    [key], {});\n",
              "        if (!dataTable) return;\n",
              "\n",
              "        const docLinkHtml = 'Like what you see? Visit the ' +\n",
              "          '<a target=\"_blank\" href=https://colab.research.google.com/notebooks/data_table.ipynb>data table notebook</a>'\n",
              "          + ' to learn more about interactive tables.';\n",
              "        element.innerHTML = '';\n",
              "        dataTable['output_type'] = 'display_data';\n",
              "        await google.colab.output.renderOutput(dataTable, element);\n",
              "        const docLink = document.createElement('div');\n",
              "        docLink.innerHTML = docLinkHtml;\n",
              "        element.appendChild(docLink);\n",
              "      }\n",
              "    </script>\n",
              "  </div>\n",
              "\n",
              "\n",
              "<div id=\"df-f901282f-c304-4854-9aee-7b4d7659902d\">\n",
              "  <button class=\"colab-df-quickchart\" onclick=\"quickchart('df-f901282f-c304-4854-9aee-7b4d7659902d')\"\n",
              "            title=\"Suggest charts.\"\n",
              "            style=\"display:none;\">\n",
              "\n",
              "<svg xmlns=\"http://www.w3.org/2000/svg\" height=\"24px\"viewBox=\"0 0 24 24\"\n",
              "     width=\"24px\">\n",
              "    <g>\n",
              "        <path d=\"M19 3H5c-1.1 0-2 .9-2 2v14c0 1.1.9 2 2 2h14c1.1 0 2-.9 2-2V5c0-1.1-.9-2-2-2zM9 17H7v-7h2v7zm4 0h-2V7h2v10zm4 0h-2v-4h2v4z\"/>\n",
              "    </g>\n",
              "</svg>\n",
              "  </button>\n",
              "\n",
              "<style>\n",
              "  .colab-df-quickchart {\n",
              "      --bg-color: #E8F0FE;\n",
              "      --fill-color: #1967D2;\n",
              "      --hover-bg-color: #E2EBFA;\n",
              "      --hover-fill-color: #174EA6;\n",
              "      --disabled-fill-color: #AAA;\n",
              "      --disabled-bg-color: #DDD;\n",
              "  }\n",
              "\n",
              "  [theme=dark] .colab-df-quickchart {\n",
              "      --bg-color: #3B4455;\n",
              "      --fill-color: #D2E3FC;\n",
              "      --hover-bg-color: #434B5C;\n",
              "      --hover-fill-color: #FFFFFF;\n",
              "      --disabled-bg-color: #3B4455;\n",
              "      --disabled-fill-color: #666;\n",
              "  }\n",
              "\n",
              "  .colab-df-quickchart {\n",
              "    background-color: var(--bg-color);\n",
              "    border: none;\n",
              "    border-radius: 50%;\n",
              "    cursor: pointer;\n",
              "    display: none;\n",
              "    fill: var(--fill-color);\n",
              "    height: 32px;\n",
              "    padding: 0;\n",
              "    width: 32px;\n",
              "  }\n",
              "\n",
              "  .colab-df-quickchart:hover {\n",
              "    background-color: var(--hover-bg-color);\n",
              "    box-shadow: 0 1px 2px rgba(60, 64, 67, 0.3), 0 1px 3px 1px rgba(60, 64, 67, 0.15);\n",
              "    fill: var(--button-hover-fill-color);\n",
              "  }\n",
              "\n",
              "  .colab-df-quickchart-complete:disabled,\n",
              "  .colab-df-quickchart-complete:disabled:hover {\n",
              "    background-color: var(--disabled-bg-color);\n",
              "    fill: var(--disabled-fill-color);\n",
              "    box-shadow: none;\n",
              "  }\n",
              "\n",
              "  .colab-df-spinner {\n",
              "    border: 2px solid var(--fill-color);\n",
              "    border-color: transparent;\n",
              "    border-bottom-color: var(--fill-color);\n",
              "    animation:\n",
              "      spin 1s steps(1) infinite;\n",
              "  }\n",
              "\n",
              "  @keyframes spin {\n",
              "    0% {\n",
              "      border-color: transparent;\n",
              "      border-bottom-color: var(--fill-color);\n",
              "      border-left-color: var(--fill-color);\n",
              "    }\n",
              "    20% {\n",
              "      border-color: transparent;\n",
              "      border-left-color: var(--fill-color);\n",
              "      border-top-color: var(--fill-color);\n",
              "    }\n",
              "    30% {\n",
              "      border-color: transparent;\n",
              "      border-left-color: var(--fill-color);\n",
              "      border-top-color: var(--fill-color);\n",
              "      border-right-color: var(--fill-color);\n",
              "    }\n",
              "    40% {\n",
              "      border-color: transparent;\n",
              "      border-right-color: var(--fill-color);\n",
              "      border-top-color: var(--fill-color);\n",
              "    }\n",
              "    60% {\n",
              "      border-color: transparent;\n",
              "      border-right-color: var(--fill-color);\n",
              "    }\n",
              "    80% {\n",
              "      border-color: transparent;\n",
              "      border-right-color: var(--fill-color);\n",
              "      border-bottom-color: var(--fill-color);\n",
              "    }\n",
              "    90% {\n",
              "      border-color: transparent;\n",
              "      border-bottom-color: var(--fill-color);\n",
              "    }\n",
              "  }\n",
              "</style>\n",
              "\n",
              "  <script>\n",
              "    async function quickchart(key) {\n",
              "      const quickchartButtonEl =\n",
              "        document.querySelector('#' + key + ' button');\n",
              "      quickchartButtonEl.disabled = true;  // To prevent multiple clicks.\n",
              "      quickchartButtonEl.classList.add('colab-df-spinner');\n",
              "      try {\n",
              "        const charts = await google.colab.kernel.invokeFunction(\n",
              "            'suggestCharts', [key], {});\n",
              "      } catch (error) {\n",
              "        console.error('Error during call to suggestCharts:', error);\n",
              "      }\n",
              "      quickchartButtonEl.classList.remove('colab-df-spinner');\n",
              "      quickchartButtonEl.classList.add('colab-df-quickchart-complete');\n",
              "    }\n",
              "    (() => {\n",
              "      let quickchartButtonEl =\n",
              "        document.querySelector('#df-f901282f-c304-4854-9aee-7b4d7659902d button');\n",
              "      quickchartButtonEl.style.display =\n",
              "        google.colab.kernel.accessAllowed ? 'block' : 'none';\n",
              "    })();\n",
              "  </script>\n",
              "</div>\n",
              "    </div>\n",
              "  </div>\n"
            ]
          },
          "metadata": {},
          "execution_count": 85
        }
      ],
      "source": [
        "generate_output(y_test, y_pred)"
      ]
    },
    {
      "cell_type": "markdown",
      "metadata": {
        "id": "n-FvFH1MqUSB"
      },
      "source": [
        "## Time Series Split"
      ]
    },
    {
      "cell_type": "code",
      "execution_count": 140,
      "metadata": {
        "id": "-BRw-shHqSWA"
      },
      "outputs": [],
      "source": [
        "y = df['Return']\n",
        "X = df.drop(['Output', 'Return', 'Date'], axis=\"columns\")"
      ]
    },
    {
      "cell_type": "markdown",
      "metadata": {
        "id": "hqs9X9JWpwr-"
      },
      "source": [
        "### Time Series Split (22 Days)"
      ]
    },
    {
      "cell_type": "code",
      "execution_count": 150,
      "metadata": {
        "id": "J63-GJGbp3T9",
        "colab": {
          "base_uri": "https://localhost:8080/"
        },
        "outputId": "dd83c7b0-9223-4285-e55d-3e3cbef87f96"
      },
      "outputs": [
        {
          "output_type": "stream",
          "name": "stdout",
          "text": [
            "Fold: 0\n",
            "Test:  index=Int64Index([2907, 2908, 2909, 2910, 2911, 2912, 2913, 2914, 2915, 2916, 2917,\n",
            "            2918, 2919, 2920, 2921, 2922, 2923, 2924, 2925, 2926, 2927, 2928],\n",
            "           dtype='int64') - Size: 22 \n",
            "\n"
          ]
        },
        {
          "output_type": "stream",
          "name": "stderr",
          "text": [
            "/usr/local/lib/python3.10/dist-packages/sklearn/neural_network/_multilayer_perceptron.py:686: ConvergenceWarning: Stochastic Optimizer: Maximum iterations (100) reached and the optimization hasn't converged yet.\n",
            "  warnings.warn(\n"
          ]
        },
        {
          "output_type": "stream",
          "name": "stdout",
          "text": [
            "Fold: 1\n",
            "Test:  index=Int64Index([2929, 2930, 2931, 2932, 2933, 2934, 2935, 2936, 2937, 2938, 2939,\n",
            "            2940, 2941, 2942, 2943, 2944, 2945, 2946, 2947, 2948, 2949, 2950],\n",
            "           dtype='int64') - Size: 22 \n",
            "\n"
          ]
        },
        {
          "output_type": "stream",
          "name": "stderr",
          "text": [
            "/usr/local/lib/python3.10/dist-packages/sklearn/neural_network/_multilayer_perceptron.py:686: ConvergenceWarning: Stochastic Optimizer: Maximum iterations (100) reached and the optimization hasn't converged yet.\n",
            "  warnings.warn(\n"
          ]
        },
        {
          "output_type": "stream",
          "name": "stdout",
          "text": [
            "Fold: 2\n",
            "Test:  index=Int64Index([2951, 2952, 2953, 2954, 2955, 2956, 2957, 2958, 2959, 2960, 2961,\n",
            "            2962, 2963, 2964, 2965, 2966, 2967, 2968, 2969, 2970, 2971, 2972],\n",
            "           dtype='int64') - Size: 22 \n",
            "\n"
          ]
        },
        {
          "output_type": "stream",
          "name": "stderr",
          "text": [
            "/usr/local/lib/python3.10/dist-packages/sklearn/neural_network/_multilayer_perceptron.py:686: ConvergenceWarning: Stochastic Optimizer: Maximum iterations (100) reached and the optimization hasn't converged yet.\n",
            "  warnings.warn(\n"
          ]
        },
        {
          "output_type": "stream",
          "name": "stdout",
          "text": [
            "Fold: 3\n",
            "Test:  index=Int64Index([2973, 2974, 2975, 2976, 2977, 2978, 2979, 2980, 2981, 2982, 2983,\n",
            "            2984, 2985, 2986, 2987, 2988, 2989, 2990, 2991, 2992, 2993, 2994],\n",
            "           dtype='int64') - Size: 22 \n",
            "\n"
          ]
        },
        {
          "output_type": "stream",
          "name": "stderr",
          "text": [
            "/usr/local/lib/python3.10/dist-packages/sklearn/neural_network/_multilayer_perceptron.py:686: ConvergenceWarning: Stochastic Optimizer: Maximum iterations (100) reached and the optimization hasn't converged yet.\n",
            "  warnings.warn(\n"
          ]
        },
        {
          "output_type": "stream",
          "name": "stdout",
          "text": [
            "Fold: 4\n",
            "Test:  index=Int64Index([2995, 2996, 2997, 2998, 2999, 3000, 3001, 3002, 3003, 3004, 3005,\n",
            "            3006, 3007, 3008, 3009, 3010, 3011, 3012, 3013, 3014, 3015, 3016],\n",
            "           dtype='int64') - Size: 22 \n",
            "\n"
          ]
        },
        {
          "output_type": "stream",
          "name": "stderr",
          "text": [
            "/usr/local/lib/python3.10/dist-packages/sklearn/neural_network/_multilayer_perceptron.py:686: ConvergenceWarning: Stochastic Optimizer: Maximum iterations (100) reached and the optimization hasn't converged yet.\n",
            "  warnings.warn(\n"
          ]
        },
        {
          "output_type": "stream",
          "name": "stdout",
          "text": [
            "Fold: 5\n",
            "Test:  index=Int64Index([3017, 3018, 3019, 3020, 3021, 3022, 3023, 3024, 3025, 3026, 3027,\n",
            "            3028, 3029, 3030, 3031, 3032, 3033, 3034, 3035, 3036, 3037, 3038],\n",
            "           dtype='int64') - Size: 22 \n",
            "\n"
          ]
        },
        {
          "output_type": "stream",
          "name": "stderr",
          "text": [
            "/usr/local/lib/python3.10/dist-packages/sklearn/neural_network/_multilayer_perceptron.py:686: ConvergenceWarning: Stochastic Optimizer: Maximum iterations (100) reached and the optimization hasn't converged yet.\n",
            "  warnings.warn(\n"
          ]
        },
        {
          "output_type": "stream",
          "name": "stdout",
          "text": [
            "Fold: 6\n",
            "Test:  index=Int64Index([3039, 3040, 3041, 3042, 3043, 3044, 3045, 3046, 3047, 3048, 3049,\n",
            "            3050, 3051, 3052, 3053, 3054, 3055, 3056, 3057, 3058, 3059, 3060],\n",
            "           dtype='int64') - Size: 22 \n",
            "\n"
          ]
        },
        {
          "output_type": "stream",
          "name": "stderr",
          "text": [
            "/usr/local/lib/python3.10/dist-packages/sklearn/neural_network/_multilayer_perceptron.py:686: ConvergenceWarning: Stochastic Optimizer: Maximum iterations (100) reached and the optimization hasn't converged yet.\n",
            "  warnings.warn(\n"
          ]
        },
        {
          "output_type": "stream",
          "name": "stdout",
          "text": [
            "Fold: 7\n",
            "Test:  index=Int64Index([3061, 3062, 3063, 3064, 3065, 3066, 3067, 3068, 3069, 3070, 3071,\n",
            "            3072, 3073, 3074, 3075, 3076, 3077, 3078, 3079, 3080, 3081, 3082],\n",
            "           dtype='int64') - Size: 22 \n",
            "\n"
          ]
        },
        {
          "output_type": "stream",
          "name": "stderr",
          "text": [
            "/usr/local/lib/python3.10/dist-packages/sklearn/neural_network/_multilayer_perceptron.py:686: ConvergenceWarning: Stochastic Optimizer: Maximum iterations (100) reached and the optimization hasn't converged yet.\n",
            "  warnings.warn(\n"
          ]
        },
        {
          "output_type": "stream",
          "name": "stdout",
          "text": [
            "Fold: 8\n",
            "Test:  index=Int64Index([3083, 3084, 3085, 3086, 3087, 3088, 3089, 3090, 3091, 3092, 3093,\n",
            "            3094, 3095, 3096, 3097, 3098, 3099, 3100, 3101, 3102, 3103, 3104],\n",
            "           dtype='int64') - Size: 22 \n",
            "\n"
          ]
        },
        {
          "output_type": "stream",
          "name": "stderr",
          "text": [
            "/usr/local/lib/python3.10/dist-packages/sklearn/neural_network/_multilayer_perceptron.py:686: ConvergenceWarning: Stochastic Optimizer: Maximum iterations (100) reached and the optimization hasn't converged yet.\n",
            "  warnings.warn(\n"
          ]
        },
        {
          "output_type": "stream",
          "name": "stdout",
          "text": [
            "Fold: 9\n",
            "Test:  index=Int64Index([3105, 3106, 3107, 3108, 3109, 3110, 3111, 3112, 3113, 3114, 3115,\n",
            "            3116, 3117, 3118, 3119, 3120, 3121, 3122, 3123, 3124, 3125, 3126],\n",
            "           dtype='int64') - Size: 22 \n",
            "\n"
          ]
        },
        {
          "output_type": "stream",
          "name": "stderr",
          "text": [
            "/usr/local/lib/python3.10/dist-packages/sklearn/neural_network/_multilayer_perceptron.py:686: ConvergenceWarning: Stochastic Optimizer: Maximum iterations (100) reached and the optimization hasn't converged yet.\n",
            "  warnings.warn(\n"
          ]
        },
        {
          "output_type": "stream",
          "name": "stdout",
          "text": [
            "Fold: 10\n",
            "Test:  index=Int64Index([3127, 3128, 3129, 3130, 3131, 3132, 3133, 3134, 3135, 3136, 3137,\n",
            "            3138, 3139, 3140, 3141, 3142, 3143, 3144, 3145, 3146, 3147, 3148],\n",
            "           dtype='int64') - Size: 22 \n",
            "\n"
          ]
        },
        {
          "output_type": "stream",
          "name": "stderr",
          "text": [
            "/usr/local/lib/python3.10/dist-packages/sklearn/neural_network/_multilayer_perceptron.py:686: ConvergenceWarning: Stochastic Optimizer: Maximum iterations (100) reached and the optimization hasn't converged yet.\n",
            "  warnings.warn(\n"
          ]
        },
        {
          "output_type": "stream",
          "name": "stdout",
          "text": [
            "Fold: 11\n",
            "Test:  index=Int64Index([3149, 3150, 3151, 3152, 3153, 3154, 3155, 3156, 3157, 3158, 3159,\n",
            "            3160, 3161, 3162, 3163, 3164, 3165, 3166, 3167, 3168, 3169, 3170],\n",
            "           dtype='int64') - Size: 22 \n",
            "\n"
          ]
        },
        {
          "output_type": "stream",
          "name": "stderr",
          "text": [
            "/usr/local/lib/python3.10/dist-packages/sklearn/neural_network/_multilayer_perceptron.py:686: ConvergenceWarning: Stochastic Optimizer: Maximum iterations (100) reached and the optimization hasn't converged yet.\n",
            "  warnings.warn(\n"
          ]
        },
        {
          "output_type": "stream",
          "name": "stdout",
          "text": [
            "Fold: 12\n",
            "Test:  index=Int64Index([3171, 3172, 3173, 3174, 3175, 3176, 3177, 3178, 3179, 3180, 3181,\n",
            "            3182, 3183, 3184, 3185, 3186, 3187, 3188, 3189, 3190, 3191, 3192],\n",
            "           dtype='int64') - Size: 22 \n",
            "\n"
          ]
        },
        {
          "output_type": "stream",
          "name": "stderr",
          "text": [
            "/usr/local/lib/python3.10/dist-packages/sklearn/neural_network/_multilayer_perceptron.py:686: ConvergenceWarning: Stochastic Optimizer: Maximum iterations (100) reached and the optimization hasn't converged yet.\n",
            "  warnings.warn(\n"
          ]
        },
        {
          "output_type": "stream",
          "name": "stdout",
          "text": [
            "Fold: 13\n",
            "Test:  index=Int64Index([3193, 3194, 3195, 3196, 3197, 3198, 3199, 3200, 3201, 3202, 3203,\n",
            "            3204, 3205, 3206, 3207, 3208, 3209, 3210, 3211, 3212, 3213, 3214],\n",
            "           dtype='int64') - Size: 22 \n",
            "\n"
          ]
        },
        {
          "output_type": "stream",
          "name": "stderr",
          "text": [
            "/usr/local/lib/python3.10/dist-packages/sklearn/neural_network/_multilayer_perceptron.py:686: ConvergenceWarning: Stochastic Optimizer: Maximum iterations (100) reached and the optimization hasn't converged yet.\n",
            "  warnings.warn(\n"
          ]
        },
        {
          "output_type": "stream",
          "name": "stdout",
          "text": [
            "Fold: 14\n",
            "Test:  index=Int64Index([3215, 3216, 3217, 3218, 3219, 3220, 3221, 3222, 3223, 3224, 3225,\n",
            "            3226, 3227, 3228, 3229, 3230, 3231, 3232, 3233, 3234, 3235, 3236],\n",
            "           dtype='int64') - Size: 22 \n",
            "\n"
          ]
        },
        {
          "output_type": "stream",
          "name": "stderr",
          "text": [
            "/usr/local/lib/python3.10/dist-packages/sklearn/neural_network/_multilayer_perceptron.py:686: ConvergenceWarning: Stochastic Optimizer: Maximum iterations (100) reached and the optimization hasn't converged yet.\n",
            "  warnings.warn(\n"
          ]
        },
        {
          "output_type": "stream",
          "name": "stdout",
          "text": [
            "Fold: 15\n",
            "Test:  index=Int64Index([3237, 3238, 3239, 3240, 3241, 3242, 3243, 3244, 3245, 3246, 3247,\n",
            "            3248, 3249, 3250, 3251, 3252, 3253, 3254, 3255, 3256, 3257, 3258],\n",
            "           dtype='int64') - Size: 22 \n",
            "\n"
          ]
        },
        {
          "output_type": "stream",
          "name": "stderr",
          "text": [
            "/usr/local/lib/python3.10/dist-packages/sklearn/neural_network/_multilayer_perceptron.py:686: ConvergenceWarning: Stochastic Optimizer: Maximum iterations (100) reached and the optimization hasn't converged yet.\n",
            "  warnings.warn(\n"
          ]
        },
        {
          "output_type": "stream",
          "name": "stdout",
          "text": [
            "Fold: 16\n",
            "Test:  index=Int64Index([3259, 3260, 3261, 3262, 3263, 3264, 3265, 3266, 3267, 3268, 3269,\n",
            "            3270, 3271, 3272, 3273, 3274, 3275, 3276, 3277, 3278, 3279, 3280],\n",
            "           dtype='int64') - Size: 22 \n",
            "\n"
          ]
        },
        {
          "output_type": "stream",
          "name": "stderr",
          "text": [
            "/usr/local/lib/python3.10/dist-packages/sklearn/neural_network/_multilayer_perceptron.py:686: ConvergenceWarning: Stochastic Optimizer: Maximum iterations (100) reached and the optimization hasn't converged yet.\n",
            "  warnings.warn(\n"
          ]
        },
        {
          "output_type": "stream",
          "name": "stdout",
          "text": [
            "Fold: 17\n",
            "Test:  index=Int64Index([3281, 3282, 3283, 3284, 3285, 3286, 3287, 3288, 3289, 3290, 3291,\n",
            "            3292, 3293, 3294, 3295, 3296, 3297, 3298, 3299, 3300, 3301, 3302],\n",
            "           dtype='int64') - Size: 22 \n",
            "\n"
          ]
        },
        {
          "output_type": "stream",
          "name": "stderr",
          "text": [
            "/usr/local/lib/python3.10/dist-packages/sklearn/neural_network/_multilayer_perceptron.py:686: ConvergenceWarning: Stochastic Optimizer: Maximum iterations (100) reached and the optimization hasn't converged yet.\n",
            "  warnings.warn(\n"
          ]
        },
        {
          "output_type": "stream",
          "name": "stdout",
          "text": [
            "Fold: 18\n",
            "Test:  index=Int64Index([3303, 3304, 3305, 3306, 3307, 3308, 3309, 3310, 3311, 3312, 3313,\n",
            "            3314, 3315, 3316, 3317, 3318, 3319, 3320, 3321, 3322, 3323],\n",
            "           dtype='int64') - Size: 21 \n",
            "\n"
          ]
        },
        {
          "output_type": "stream",
          "name": "stderr",
          "text": [
            "/usr/local/lib/python3.10/dist-packages/sklearn/neural_network/_multilayer_perceptron.py:686: ConvergenceWarning: Stochastic Optimizer: Maximum iterations (100) reached and the optimization hasn't converged yet.\n",
            "  warnings.warn(\n"
          ]
        }
      ],
      "source": [
        "from sklearn.neural_network import MLPRegressor\n",
        "regressor = MLPRegressor(hidden_layer_sizes=(1), max_iter=100, random_state=1111)\n",
        "y_pred_window, y_test_window = expanding_window(regressor, X, y, window_size=22)"
      ]
    },
    {
      "cell_type": "code",
      "execution_count": 152,
      "metadata": {
        "colab": {
          "base_uri": "https://localhost:8080/"
        },
        "id": "bqW9jSDIrmrv",
        "outputId": "8bf798f9-0fbd-4a49-aa3e-9249e433c505"
      },
      "outputs": [
        {
          "output_type": "stream",
          "name": "stdout",
          "text": [
            "RMSE =  1.3324061841494972\n",
            "MAE =  1.0239407571698989\n"
          ]
        }
      ],
      "source": [
        "evaluate_regressor(y_test_window, y_pred_window)"
      ]
    },
    {
      "cell_type": "code",
      "execution_count": 153,
      "metadata": {
        "colab": {
          "base_uri": "https://localhost:8080/",
          "height": 424
        },
        "id": "gCmE2EyAKr8E",
        "outputId": "94b0b49b-9c78-4464-fd7b-12d24ed78ac1"
      },
      "outputs": [
        {
          "output_type": "execute_result",
          "data": {
            "text/plain": [
              "         Date  Prediction\n",
              "0    20220301   -0.362303\n",
              "1    20220401   -0.196741\n",
              "2    20220501   -0.382775\n",
              "3    20220601   -0.196741\n",
              "4    20220701   -0.394170\n",
              "..        ...         ...\n",
              "412  20230824   -0.174164\n",
              "413  20230825   -0.174164\n",
              "414  20230828   -0.174164\n",
              "415  20230829   -0.174164\n",
              "416  20230830   -0.174164\n",
              "\n",
              "[417 rows x 2 columns]"
            ],
            "text/html": [
              "\n",
              "  <div id=\"df-a19bf79b-1ee2-4b67-b68a-b7a1cff3538f\" class=\"colab-df-container\">\n",
              "    <div>\n",
              "<style scoped>\n",
              "    .dataframe tbody tr th:only-of-type {\n",
              "        vertical-align: middle;\n",
              "    }\n",
              "\n",
              "    .dataframe tbody tr th {\n",
              "        vertical-align: top;\n",
              "    }\n",
              "\n",
              "    .dataframe thead th {\n",
              "        text-align: right;\n",
              "    }\n",
              "</style>\n",
              "<table border=\"1\" class=\"dataframe\">\n",
              "  <thead>\n",
              "    <tr style=\"text-align: right;\">\n",
              "      <th></th>\n",
              "      <th>Date</th>\n",
              "      <th>Prediction</th>\n",
              "    </tr>\n",
              "  </thead>\n",
              "  <tbody>\n",
              "    <tr>\n",
              "      <th>0</th>\n",
              "      <td>20220301</td>\n",
              "      <td>-0.362303</td>\n",
              "    </tr>\n",
              "    <tr>\n",
              "      <th>1</th>\n",
              "      <td>20220401</td>\n",
              "      <td>-0.196741</td>\n",
              "    </tr>\n",
              "    <tr>\n",
              "      <th>2</th>\n",
              "      <td>20220501</td>\n",
              "      <td>-0.382775</td>\n",
              "    </tr>\n",
              "    <tr>\n",
              "      <th>3</th>\n",
              "      <td>20220601</td>\n",
              "      <td>-0.196741</td>\n",
              "    </tr>\n",
              "    <tr>\n",
              "      <th>4</th>\n",
              "      <td>20220701</td>\n",
              "      <td>-0.394170</td>\n",
              "    </tr>\n",
              "    <tr>\n",
              "      <th>...</th>\n",
              "      <td>...</td>\n",
              "      <td>...</td>\n",
              "    </tr>\n",
              "    <tr>\n",
              "      <th>412</th>\n",
              "      <td>20230824</td>\n",
              "      <td>-0.174164</td>\n",
              "    </tr>\n",
              "    <tr>\n",
              "      <th>413</th>\n",
              "      <td>20230825</td>\n",
              "      <td>-0.174164</td>\n",
              "    </tr>\n",
              "    <tr>\n",
              "      <th>414</th>\n",
              "      <td>20230828</td>\n",
              "      <td>-0.174164</td>\n",
              "    </tr>\n",
              "    <tr>\n",
              "      <th>415</th>\n",
              "      <td>20230829</td>\n",
              "      <td>-0.174164</td>\n",
              "    </tr>\n",
              "    <tr>\n",
              "      <th>416</th>\n",
              "      <td>20230830</td>\n",
              "      <td>-0.174164</td>\n",
              "    </tr>\n",
              "  </tbody>\n",
              "</table>\n",
              "<p>417 rows × 2 columns</p>\n",
              "</div>\n",
              "    <div class=\"colab-df-buttons\">\n",
              "\n",
              "  <div class=\"colab-df-container\">\n",
              "    <button class=\"colab-df-convert\" onclick=\"convertToInteractive('df-a19bf79b-1ee2-4b67-b68a-b7a1cff3538f')\"\n",
              "            title=\"Convert this dataframe to an interactive table.\"\n",
              "            style=\"display:none;\">\n",
              "\n",
              "  <svg xmlns=\"http://www.w3.org/2000/svg\" height=\"24px\" viewBox=\"0 -960 960 960\">\n",
              "    <path d=\"M120-120v-720h720v720H120Zm60-500h600v-160H180v160Zm220 220h160v-160H400v160Zm0 220h160v-160H400v160ZM180-400h160v-160H180v160Zm440 0h160v-160H620v160ZM180-180h160v-160H180v160Zm440 0h160v-160H620v160Z\"/>\n",
              "  </svg>\n",
              "    </button>\n",
              "\n",
              "  <style>\n",
              "    .colab-df-container {\n",
              "      display:flex;\n",
              "      gap: 12px;\n",
              "    }\n",
              "\n",
              "    .colab-df-convert {\n",
              "      background-color: #E8F0FE;\n",
              "      border: none;\n",
              "      border-radius: 50%;\n",
              "      cursor: pointer;\n",
              "      display: none;\n",
              "      fill: #1967D2;\n",
              "      height: 32px;\n",
              "      padding: 0 0 0 0;\n",
              "      width: 32px;\n",
              "    }\n",
              "\n",
              "    .colab-df-convert:hover {\n",
              "      background-color: #E2EBFA;\n",
              "      box-shadow: 0px 1px 2px rgba(60, 64, 67, 0.3), 0px 1px 3px 1px rgba(60, 64, 67, 0.15);\n",
              "      fill: #174EA6;\n",
              "    }\n",
              "\n",
              "    .colab-df-buttons div {\n",
              "      margin-bottom: 4px;\n",
              "    }\n",
              "\n",
              "    [theme=dark] .colab-df-convert {\n",
              "      background-color: #3B4455;\n",
              "      fill: #D2E3FC;\n",
              "    }\n",
              "\n",
              "    [theme=dark] .colab-df-convert:hover {\n",
              "      background-color: #434B5C;\n",
              "      box-shadow: 0px 1px 3px 1px rgba(0, 0, 0, 0.15);\n",
              "      filter: drop-shadow(0px 1px 2px rgba(0, 0, 0, 0.3));\n",
              "      fill: #FFFFFF;\n",
              "    }\n",
              "  </style>\n",
              "\n",
              "    <script>\n",
              "      const buttonEl =\n",
              "        document.querySelector('#df-a19bf79b-1ee2-4b67-b68a-b7a1cff3538f button.colab-df-convert');\n",
              "      buttonEl.style.display =\n",
              "        google.colab.kernel.accessAllowed ? 'block' : 'none';\n",
              "\n",
              "      async function convertToInteractive(key) {\n",
              "        const element = document.querySelector('#df-a19bf79b-1ee2-4b67-b68a-b7a1cff3538f');\n",
              "        const dataTable =\n",
              "          await google.colab.kernel.invokeFunction('convertToInteractive',\n",
              "                                                    [key], {});\n",
              "        if (!dataTable) return;\n",
              "\n",
              "        const docLinkHtml = 'Like what you see? Visit the ' +\n",
              "          '<a target=\"_blank\" href=https://colab.research.google.com/notebooks/data_table.ipynb>data table notebook</a>'\n",
              "          + ' to learn more about interactive tables.';\n",
              "        element.innerHTML = '';\n",
              "        dataTable['output_type'] = 'display_data';\n",
              "        await google.colab.output.renderOutput(dataTable, element);\n",
              "        const docLink = document.createElement('div');\n",
              "        docLink.innerHTML = docLinkHtml;\n",
              "        element.appendChild(docLink);\n",
              "      }\n",
              "    </script>\n",
              "  </div>\n",
              "\n",
              "\n",
              "<div id=\"df-a0450a09-6909-40df-bce6-68bd261bfd61\">\n",
              "  <button class=\"colab-df-quickchart\" onclick=\"quickchart('df-a0450a09-6909-40df-bce6-68bd261bfd61')\"\n",
              "            title=\"Suggest charts.\"\n",
              "            style=\"display:none;\">\n",
              "\n",
              "<svg xmlns=\"http://www.w3.org/2000/svg\" height=\"24px\"viewBox=\"0 0 24 24\"\n",
              "     width=\"24px\">\n",
              "    <g>\n",
              "        <path d=\"M19 3H5c-1.1 0-2 .9-2 2v14c0 1.1.9 2 2 2h14c1.1 0 2-.9 2-2V5c0-1.1-.9-2-2-2zM9 17H7v-7h2v7zm4 0h-2V7h2v10zm4 0h-2v-4h2v4z\"/>\n",
              "    </g>\n",
              "</svg>\n",
              "  </button>\n",
              "\n",
              "<style>\n",
              "  .colab-df-quickchart {\n",
              "      --bg-color: #E8F0FE;\n",
              "      --fill-color: #1967D2;\n",
              "      --hover-bg-color: #E2EBFA;\n",
              "      --hover-fill-color: #174EA6;\n",
              "      --disabled-fill-color: #AAA;\n",
              "      --disabled-bg-color: #DDD;\n",
              "  }\n",
              "\n",
              "  [theme=dark] .colab-df-quickchart {\n",
              "      --bg-color: #3B4455;\n",
              "      --fill-color: #D2E3FC;\n",
              "      --hover-bg-color: #434B5C;\n",
              "      --hover-fill-color: #FFFFFF;\n",
              "      --disabled-bg-color: #3B4455;\n",
              "      --disabled-fill-color: #666;\n",
              "  }\n",
              "\n",
              "  .colab-df-quickchart {\n",
              "    background-color: var(--bg-color);\n",
              "    border: none;\n",
              "    border-radius: 50%;\n",
              "    cursor: pointer;\n",
              "    display: none;\n",
              "    fill: var(--fill-color);\n",
              "    height: 32px;\n",
              "    padding: 0;\n",
              "    width: 32px;\n",
              "  }\n",
              "\n",
              "  .colab-df-quickchart:hover {\n",
              "    background-color: var(--hover-bg-color);\n",
              "    box-shadow: 0 1px 2px rgba(60, 64, 67, 0.3), 0 1px 3px 1px rgba(60, 64, 67, 0.15);\n",
              "    fill: var(--button-hover-fill-color);\n",
              "  }\n",
              "\n",
              "  .colab-df-quickchart-complete:disabled,\n",
              "  .colab-df-quickchart-complete:disabled:hover {\n",
              "    background-color: var(--disabled-bg-color);\n",
              "    fill: var(--disabled-fill-color);\n",
              "    box-shadow: none;\n",
              "  }\n",
              "\n",
              "  .colab-df-spinner {\n",
              "    border: 2px solid var(--fill-color);\n",
              "    border-color: transparent;\n",
              "    border-bottom-color: var(--fill-color);\n",
              "    animation:\n",
              "      spin 1s steps(1) infinite;\n",
              "  }\n",
              "\n",
              "  @keyframes spin {\n",
              "    0% {\n",
              "      border-color: transparent;\n",
              "      border-bottom-color: var(--fill-color);\n",
              "      border-left-color: var(--fill-color);\n",
              "    }\n",
              "    20% {\n",
              "      border-color: transparent;\n",
              "      border-left-color: var(--fill-color);\n",
              "      border-top-color: var(--fill-color);\n",
              "    }\n",
              "    30% {\n",
              "      border-color: transparent;\n",
              "      border-left-color: var(--fill-color);\n",
              "      border-top-color: var(--fill-color);\n",
              "      border-right-color: var(--fill-color);\n",
              "    }\n",
              "    40% {\n",
              "      border-color: transparent;\n",
              "      border-right-color: var(--fill-color);\n",
              "      border-top-color: var(--fill-color);\n",
              "    }\n",
              "    60% {\n",
              "      border-color: transparent;\n",
              "      border-right-color: var(--fill-color);\n",
              "    }\n",
              "    80% {\n",
              "      border-color: transparent;\n",
              "      border-right-color: var(--fill-color);\n",
              "      border-bottom-color: var(--fill-color);\n",
              "    }\n",
              "    90% {\n",
              "      border-color: transparent;\n",
              "      border-bottom-color: var(--fill-color);\n",
              "    }\n",
              "  }\n",
              "</style>\n",
              "\n",
              "  <script>\n",
              "    async function quickchart(key) {\n",
              "      const quickchartButtonEl =\n",
              "        document.querySelector('#' + key + ' button');\n",
              "      quickchartButtonEl.disabled = true;  // To prevent multiple clicks.\n",
              "      quickchartButtonEl.classList.add('colab-df-spinner');\n",
              "      try {\n",
              "        const charts = await google.colab.kernel.invokeFunction(\n",
              "            'suggestCharts', [key], {});\n",
              "      } catch (error) {\n",
              "        console.error('Error during call to suggestCharts:', error);\n",
              "      }\n",
              "      quickchartButtonEl.classList.remove('colab-df-spinner');\n",
              "      quickchartButtonEl.classList.add('colab-df-quickchart-complete');\n",
              "    }\n",
              "    (() => {\n",
              "      let quickchartButtonEl =\n",
              "        document.querySelector('#df-a0450a09-6909-40df-bce6-68bd261bfd61 button');\n",
              "      quickchartButtonEl.style.display =\n",
              "        google.colab.kernel.accessAllowed ? 'block' : 'none';\n",
              "    })();\n",
              "  </script>\n",
              "</div>\n",
              "    </div>\n",
              "  </div>\n"
            ]
          },
          "metadata": {},
          "execution_count": 153
        }
      ],
      "source": [
        "generate_output(y_test_window, y_pred_window)"
      ]
    },
    {
      "cell_type": "markdown",
      "metadata": {
        "id": "V3L5tla5qdT4"
      },
      "source": [
        "### Time Series Split (5 Days)"
      ]
    },
    {
      "cell_type": "code",
      "execution_count": 144,
      "metadata": {
        "colab": {
          "base_uri": "https://localhost:8080/"
        },
        "id": "LdZZcydTqaUz",
        "outputId": "3cb5f763-b0fc-46f0-d09a-7c830dd4ef92"
      },
      "outputs": [
        {
          "output_type": "stream",
          "name": "stdout",
          "text": [
            "Fold: 0\n",
            "Test:  index=Int64Index([2907, 2908, 2909, 2910, 2911], dtype='int64') - Size: 5 \n",
            "\n",
            "Fold: 1\n",
            "Test:  index=Int64Index([2912, 2913, 2914, 2915, 2916], dtype='int64') - Size: 5 \n",
            "\n",
            "Fold: 2\n",
            "Test:  index=Int64Index([2917, 2918, 2919, 2920, 2921], dtype='int64') - Size: 5 \n",
            "\n",
            "Fold: 3\n",
            "Test:  index=Int64Index([2922, 2923, 2924, 2925, 2926], dtype='int64') - Size: 5 \n",
            "\n"
          ]
        },
        {
          "output_type": "stream",
          "name": "stderr",
          "text": [
            "/usr/local/lib/python3.10/dist-packages/sklearn/neural_network/_multilayer_perceptron.py:686: ConvergenceWarning: Stochastic Optimizer: Maximum iterations (200) reached and the optimization hasn't converged yet.\n",
            "  warnings.warn(\n"
          ]
        },
        {
          "output_type": "stream",
          "name": "stdout",
          "text": [
            "Fold: 4\n",
            "Test:  index=Int64Index([2927, 2928, 2929, 2930, 2931], dtype='int64') - Size: 5 \n",
            "\n"
          ]
        },
        {
          "output_type": "stream",
          "name": "stderr",
          "text": [
            "/usr/local/lib/python3.10/dist-packages/sklearn/neural_network/_multilayer_perceptron.py:686: ConvergenceWarning: Stochastic Optimizer: Maximum iterations (200) reached and the optimization hasn't converged yet.\n",
            "  warnings.warn(\n"
          ]
        },
        {
          "output_type": "stream",
          "name": "stdout",
          "text": [
            "Fold: 5\n",
            "Test:  index=Int64Index([2932, 2933, 2934, 2935, 2936], dtype='int64') - Size: 5 \n",
            "\n",
            "Fold: 6\n",
            "Test:  index=Int64Index([2937, 2938, 2939, 2940, 2941], dtype='int64') - Size: 5 \n",
            "\n",
            "Fold: 7\n",
            "Test:  index=Int64Index([2942, 2943, 2944, 2945, 2946], dtype='int64') - Size: 5 \n",
            "\n"
          ]
        },
        {
          "output_type": "stream",
          "name": "stderr",
          "text": [
            "/usr/local/lib/python3.10/dist-packages/sklearn/neural_network/_multilayer_perceptron.py:686: ConvergenceWarning: Stochastic Optimizer: Maximum iterations (200) reached and the optimization hasn't converged yet.\n",
            "  warnings.warn(\n"
          ]
        },
        {
          "output_type": "stream",
          "name": "stdout",
          "text": [
            "Fold: 8\n",
            "Test:  index=Int64Index([2947, 2948, 2949, 2950, 2951], dtype='int64') - Size: 5 \n",
            "\n",
            "Fold: 9\n",
            "Test:  index=Int64Index([2952, 2953, 2954, 2955, 2956], dtype='int64') - Size: 5 \n",
            "\n",
            "Fold: 10\n",
            "Test:  index=Int64Index([2957, 2958, 2959, 2960, 2961], dtype='int64') - Size: 5 \n",
            "\n"
          ]
        },
        {
          "output_type": "stream",
          "name": "stderr",
          "text": [
            "/usr/local/lib/python3.10/dist-packages/sklearn/neural_network/_multilayer_perceptron.py:686: ConvergenceWarning: Stochastic Optimizer: Maximum iterations (200) reached and the optimization hasn't converged yet.\n",
            "  warnings.warn(\n"
          ]
        },
        {
          "output_type": "stream",
          "name": "stdout",
          "text": [
            "Fold: 11\n",
            "Test:  index=Int64Index([2962, 2963, 2964, 2965, 2966], dtype='int64') - Size: 5 \n",
            "\n",
            "Fold: 12\n",
            "Test:  index=Int64Index([2967, 2968, 2969, 2970, 2971], dtype='int64') - Size: 5 \n",
            "\n",
            "Fold: 13\n",
            "Test:  index=Int64Index([2972, 2973, 2974, 2975, 2976], dtype='int64') - Size: 5 \n",
            "\n"
          ]
        },
        {
          "output_type": "stream",
          "name": "stderr",
          "text": [
            "/usr/local/lib/python3.10/dist-packages/sklearn/neural_network/_multilayer_perceptron.py:686: ConvergenceWarning: Stochastic Optimizer: Maximum iterations (200) reached and the optimization hasn't converged yet.\n",
            "  warnings.warn(\n"
          ]
        },
        {
          "output_type": "stream",
          "name": "stdout",
          "text": [
            "Fold: 14\n",
            "Test:  index=Int64Index([2977, 2978, 2979, 2980, 2981], dtype='int64') - Size: 5 \n",
            "\n"
          ]
        },
        {
          "output_type": "stream",
          "name": "stderr",
          "text": [
            "/usr/local/lib/python3.10/dist-packages/sklearn/neural_network/_multilayer_perceptron.py:686: ConvergenceWarning: Stochastic Optimizer: Maximum iterations (200) reached and the optimization hasn't converged yet.\n",
            "  warnings.warn(\n"
          ]
        },
        {
          "output_type": "stream",
          "name": "stdout",
          "text": [
            "Fold: 15\n",
            "Test:  index=Int64Index([2982, 2983, 2984, 2985, 2986], dtype='int64') - Size: 5 \n",
            "\n",
            "Fold: 16\n",
            "Test:  index=Int64Index([2987, 2988, 2989, 2990, 2991], dtype='int64') - Size: 5 \n",
            "\n"
          ]
        },
        {
          "output_type": "stream",
          "name": "stderr",
          "text": [
            "/usr/local/lib/python3.10/dist-packages/sklearn/neural_network/_multilayer_perceptron.py:686: ConvergenceWarning: Stochastic Optimizer: Maximum iterations (200) reached and the optimization hasn't converged yet.\n",
            "  warnings.warn(\n"
          ]
        },
        {
          "output_type": "stream",
          "name": "stdout",
          "text": [
            "Fold: 17\n",
            "Test:  index=Int64Index([2992, 2993, 2994, 2995, 2996], dtype='int64') - Size: 5 \n",
            "\n",
            "Fold: 18\n",
            "Test:  index=Int64Index([2997, 2998, 2999, 3000, 3001], dtype='int64') - Size: 5 \n",
            "\n",
            "Fold: 19\n",
            "Test:  index=Int64Index([3002, 3003, 3004, 3005, 3006], dtype='int64') - Size: 5 \n",
            "\n",
            "Fold: 20\n",
            "Test:  index=Int64Index([3007, 3008, 3009, 3010, 3011], dtype='int64') - Size: 5 \n",
            "\n",
            "Fold: 21\n",
            "Test:  index=Int64Index([3012, 3013, 3014, 3015, 3016], dtype='int64') - Size: 5 \n",
            "\n"
          ]
        },
        {
          "output_type": "stream",
          "name": "stderr",
          "text": [
            "/usr/local/lib/python3.10/dist-packages/sklearn/neural_network/_multilayer_perceptron.py:686: ConvergenceWarning: Stochastic Optimizer: Maximum iterations (200) reached and the optimization hasn't converged yet.\n",
            "  warnings.warn(\n"
          ]
        },
        {
          "output_type": "stream",
          "name": "stdout",
          "text": [
            "Fold: 22\n",
            "Test:  index=Int64Index([3017, 3018, 3019, 3020, 3021], dtype='int64') - Size: 5 \n",
            "\n"
          ]
        },
        {
          "output_type": "stream",
          "name": "stderr",
          "text": [
            "/usr/local/lib/python3.10/dist-packages/sklearn/neural_network/_multilayer_perceptron.py:686: ConvergenceWarning: Stochastic Optimizer: Maximum iterations (200) reached and the optimization hasn't converged yet.\n",
            "  warnings.warn(\n"
          ]
        },
        {
          "output_type": "stream",
          "name": "stdout",
          "text": [
            "Fold: 23\n",
            "Test:  index=Int64Index([3022, 3023, 3024, 3025, 3026], dtype='int64') - Size: 5 \n",
            "\n"
          ]
        },
        {
          "output_type": "stream",
          "name": "stderr",
          "text": [
            "/usr/local/lib/python3.10/dist-packages/sklearn/neural_network/_multilayer_perceptron.py:686: ConvergenceWarning: Stochastic Optimizer: Maximum iterations (200) reached and the optimization hasn't converged yet.\n",
            "  warnings.warn(\n"
          ]
        },
        {
          "output_type": "stream",
          "name": "stdout",
          "text": [
            "Fold: 24\n",
            "Test:  index=Int64Index([3027, 3028, 3029, 3030, 3031], dtype='int64') - Size: 5 \n",
            "\n"
          ]
        },
        {
          "output_type": "stream",
          "name": "stderr",
          "text": [
            "/usr/local/lib/python3.10/dist-packages/sklearn/neural_network/_multilayer_perceptron.py:686: ConvergenceWarning: Stochastic Optimizer: Maximum iterations (200) reached and the optimization hasn't converged yet.\n",
            "  warnings.warn(\n"
          ]
        },
        {
          "output_type": "stream",
          "name": "stdout",
          "text": [
            "Fold: 25\n",
            "Test:  index=Int64Index([3032, 3033, 3034, 3035, 3036], dtype='int64') - Size: 5 \n",
            "\n"
          ]
        },
        {
          "output_type": "stream",
          "name": "stderr",
          "text": [
            "/usr/local/lib/python3.10/dist-packages/sklearn/neural_network/_multilayer_perceptron.py:686: ConvergenceWarning: Stochastic Optimizer: Maximum iterations (200) reached and the optimization hasn't converged yet.\n",
            "  warnings.warn(\n"
          ]
        },
        {
          "output_type": "stream",
          "name": "stdout",
          "text": [
            "Fold: 26\n",
            "Test:  index=Int64Index([3037, 3038, 3039, 3040, 3041], dtype='int64') - Size: 5 \n",
            "\n",
            "Fold: 27\n",
            "Test:  index=Int64Index([3042, 3043, 3044, 3045, 3046], dtype='int64') - Size: 5 \n",
            "\n",
            "Fold: 28\n",
            "Test:  index=Int64Index([3047, 3048, 3049, 3050, 3051], dtype='int64') - Size: 5 \n",
            "\n"
          ]
        },
        {
          "output_type": "stream",
          "name": "stderr",
          "text": [
            "/usr/local/lib/python3.10/dist-packages/sklearn/neural_network/_multilayer_perceptron.py:686: ConvergenceWarning: Stochastic Optimizer: Maximum iterations (200) reached and the optimization hasn't converged yet.\n",
            "  warnings.warn(\n"
          ]
        },
        {
          "output_type": "stream",
          "name": "stdout",
          "text": [
            "Fold: 29\n",
            "Test:  index=Int64Index([3052, 3053, 3054, 3055, 3056], dtype='int64') - Size: 5 \n",
            "\n"
          ]
        },
        {
          "output_type": "stream",
          "name": "stderr",
          "text": [
            "/usr/local/lib/python3.10/dist-packages/sklearn/neural_network/_multilayer_perceptron.py:686: ConvergenceWarning: Stochastic Optimizer: Maximum iterations (200) reached and the optimization hasn't converged yet.\n",
            "  warnings.warn(\n"
          ]
        },
        {
          "output_type": "stream",
          "name": "stdout",
          "text": [
            "Fold: 30\n",
            "Test:  index=Int64Index([3057, 3058, 3059, 3060, 3061], dtype='int64') - Size: 5 \n",
            "\n"
          ]
        },
        {
          "output_type": "stream",
          "name": "stderr",
          "text": [
            "/usr/local/lib/python3.10/dist-packages/sklearn/neural_network/_multilayer_perceptron.py:686: ConvergenceWarning: Stochastic Optimizer: Maximum iterations (200) reached and the optimization hasn't converged yet.\n",
            "  warnings.warn(\n"
          ]
        },
        {
          "output_type": "stream",
          "name": "stdout",
          "text": [
            "Fold: 31\n",
            "Test:  index=Int64Index([3062, 3063, 3064, 3065, 3066], dtype='int64') - Size: 5 \n",
            "\n"
          ]
        },
        {
          "output_type": "stream",
          "name": "stderr",
          "text": [
            "/usr/local/lib/python3.10/dist-packages/sklearn/neural_network/_multilayer_perceptron.py:686: ConvergenceWarning: Stochastic Optimizer: Maximum iterations (200) reached and the optimization hasn't converged yet.\n",
            "  warnings.warn(\n"
          ]
        },
        {
          "output_type": "stream",
          "name": "stdout",
          "text": [
            "Fold: 32\n",
            "Test:  index=Int64Index([3067, 3068, 3069, 3070, 3071], dtype='int64') - Size: 5 \n",
            "\n"
          ]
        },
        {
          "output_type": "stream",
          "name": "stderr",
          "text": [
            "/usr/local/lib/python3.10/dist-packages/sklearn/neural_network/_multilayer_perceptron.py:686: ConvergenceWarning: Stochastic Optimizer: Maximum iterations (200) reached and the optimization hasn't converged yet.\n",
            "  warnings.warn(\n"
          ]
        },
        {
          "output_type": "stream",
          "name": "stdout",
          "text": [
            "Fold: 33\n",
            "Test:  index=Int64Index([3072, 3073, 3074, 3075, 3076], dtype='int64') - Size: 5 \n",
            "\n",
            "Fold: 34\n",
            "Test:  index=Int64Index([3077, 3078, 3079, 3080, 3081], dtype='int64') - Size: 5 \n",
            "\n"
          ]
        },
        {
          "output_type": "stream",
          "name": "stderr",
          "text": [
            "/usr/local/lib/python3.10/dist-packages/sklearn/neural_network/_multilayer_perceptron.py:686: ConvergenceWarning: Stochastic Optimizer: Maximum iterations (200) reached and the optimization hasn't converged yet.\n",
            "  warnings.warn(\n"
          ]
        },
        {
          "output_type": "stream",
          "name": "stdout",
          "text": [
            "Fold: 35\n",
            "Test:  index=Int64Index([3082, 3083, 3084, 3085, 3086], dtype='int64') - Size: 5 \n",
            "\n"
          ]
        },
        {
          "output_type": "stream",
          "name": "stderr",
          "text": [
            "/usr/local/lib/python3.10/dist-packages/sklearn/neural_network/_multilayer_perceptron.py:686: ConvergenceWarning: Stochastic Optimizer: Maximum iterations (200) reached and the optimization hasn't converged yet.\n",
            "  warnings.warn(\n"
          ]
        },
        {
          "output_type": "stream",
          "name": "stdout",
          "text": [
            "Fold: 36\n",
            "Test:  index=Int64Index([3087, 3088, 3089, 3090, 3091], dtype='int64') - Size: 5 \n",
            "\n"
          ]
        },
        {
          "output_type": "stream",
          "name": "stderr",
          "text": [
            "/usr/local/lib/python3.10/dist-packages/sklearn/neural_network/_multilayer_perceptron.py:686: ConvergenceWarning: Stochastic Optimizer: Maximum iterations (200) reached and the optimization hasn't converged yet.\n",
            "  warnings.warn(\n"
          ]
        },
        {
          "output_type": "stream",
          "name": "stdout",
          "text": [
            "Fold: 37\n",
            "Test:  index=Int64Index([3092, 3093, 3094, 3095, 3096], dtype='int64') - Size: 5 \n",
            "\n"
          ]
        },
        {
          "output_type": "stream",
          "name": "stderr",
          "text": [
            "/usr/local/lib/python3.10/dist-packages/sklearn/neural_network/_multilayer_perceptron.py:686: ConvergenceWarning: Stochastic Optimizer: Maximum iterations (200) reached and the optimization hasn't converged yet.\n",
            "  warnings.warn(\n"
          ]
        },
        {
          "output_type": "stream",
          "name": "stdout",
          "text": [
            "Fold: 38\n",
            "Test:  index=Int64Index([3097, 3098, 3099, 3100, 3101], dtype='int64') - Size: 5 \n",
            "\n"
          ]
        },
        {
          "output_type": "stream",
          "name": "stderr",
          "text": [
            "/usr/local/lib/python3.10/dist-packages/sklearn/neural_network/_multilayer_perceptron.py:686: ConvergenceWarning: Stochastic Optimizer: Maximum iterations (200) reached and the optimization hasn't converged yet.\n",
            "  warnings.warn(\n"
          ]
        },
        {
          "output_type": "stream",
          "name": "stdout",
          "text": [
            "Fold: 39\n",
            "Test:  index=Int64Index([3102, 3103, 3104, 3105, 3106], dtype='int64') - Size: 5 \n",
            "\n"
          ]
        },
        {
          "output_type": "stream",
          "name": "stderr",
          "text": [
            "/usr/local/lib/python3.10/dist-packages/sklearn/neural_network/_multilayer_perceptron.py:686: ConvergenceWarning: Stochastic Optimizer: Maximum iterations (200) reached and the optimization hasn't converged yet.\n",
            "  warnings.warn(\n"
          ]
        },
        {
          "output_type": "stream",
          "name": "stdout",
          "text": [
            "Fold: 40\n",
            "Test:  index=Int64Index([3107, 3108, 3109, 3110, 3111], dtype='int64') - Size: 5 \n",
            "\n",
            "Fold: 41\n",
            "Test:  index=Int64Index([3112, 3113, 3114, 3115, 3116], dtype='int64') - Size: 5 \n",
            "\n",
            "Fold: 42\n",
            "Test:  index=Int64Index([3117, 3118, 3119, 3120, 3121], dtype='int64') - Size: 5 \n",
            "\n",
            "Fold: 43\n",
            "Test:  index=Int64Index([3122, 3123, 3124, 3125, 3126], dtype='int64') - Size: 5 \n",
            "\n"
          ]
        },
        {
          "output_type": "stream",
          "name": "stderr",
          "text": [
            "/usr/local/lib/python3.10/dist-packages/sklearn/neural_network/_multilayer_perceptron.py:686: ConvergenceWarning: Stochastic Optimizer: Maximum iterations (200) reached and the optimization hasn't converged yet.\n",
            "  warnings.warn(\n"
          ]
        },
        {
          "output_type": "stream",
          "name": "stdout",
          "text": [
            "Fold: 44\n",
            "Test:  index=Int64Index([3127, 3128, 3129, 3130, 3131], dtype='int64') - Size: 5 \n",
            "\n"
          ]
        },
        {
          "output_type": "stream",
          "name": "stderr",
          "text": [
            "/usr/local/lib/python3.10/dist-packages/sklearn/neural_network/_multilayer_perceptron.py:686: ConvergenceWarning: Stochastic Optimizer: Maximum iterations (200) reached and the optimization hasn't converged yet.\n",
            "  warnings.warn(\n"
          ]
        },
        {
          "output_type": "stream",
          "name": "stdout",
          "text": [
            "Fold: 45\n",
            "Test:  index=Int64Index([3132, 3133, 3134, 3135, 3136], dtype='int64') - Size: 5 \n",
            "\n",
            "Fold: 46\n",
            "Test:  index=Int64Index([3137, 3138, 3139, 3140, 3141], dtype='int64') - Size: 5 \n",
            "\n"
          ]
        },
        {
          "output_type": "stream",
          "name": "stderr",
          "text": [
            "/usr/local/lib/python3.10/dist-packages/sklearn/neural_network/_multilayer_perceptron.py:686: ConvergenceWarning: Stochastic Optimizer: Maximum iterations (200) reached and the optimization hasn't converged yet.\n",
            "  warnings.warn(\n"
          ]
        },
        {
          "output_type": "stream",
          "name": "stdout",
          "text": [
            "Fold: 47\n",
            "Test:  index=Int64Index([3142, 3143, 3144, 3145, 3146], dtype='int64') - Size: 5 \n",
            "\n"
          ]
        },
        {
          "output_type": "stream",
          "name": "stderr",
          "text": [
            "/usr/local/lib/python3.10/dist-packages/sklearn/neural_network/_multilayer_perceptron.py:686: ConvergenceWarning: Stochastic Optimizer: Maximum iterations (200) reached and the optimization hasn't converged yet.\n",
            "  warnings.warn(\n"
          ]
        },
        {
          "output_type": "stream",
          "name": "stdout",
          "text": [
            "Fold: 48\n",
            "Test:  index=Int64Index([3147, 3148, 3149, 3150, 3151], dtype='int64') - Size: 5 \n",
            "\n",
            "Fold: 49\n",
            "Test:  index=Int64Index([3152, 3153, 3154, 3155, 3156], dtype='int64') - Size: 5 \n",
            "\n",
            "Fold: 50\n",
            "Test:  index=Int64Index([3157, 3158, 3159, 3160, 3161], dtype='int64') - Size: 5 \n",
            "\n",
            "Fold: 51\n",
            "Test:  index=Int64Index([3162, 3163, 3164, 3165, 3166], dtype='int64') - Size: 5 \n",
            "\n"
          ]
        },
        {
          "output_type": "stream",
          "name": "stderr",
          "text": [
            "/usr/local/lib/python3.10/dist-packages/sklearn/neural_network/_multilayer_perceptron.py:686: ConvergenceWarning: Stochastic Optimizer: Maximum iterations (200) reached and the optimization hasn't converged yet.\n",
            "  warnings.warn(\n"
          ]
        },
        {
          "output_type": "stream",
          "name": "stdout",
          "text": [
            "Fold: 52\n",
            "Test:  index=Int64Index([3167, 3168, 3169, 3170, 3171], dtype='int64') - Size: 5 \n",
            "\n",
            "Fold: 53\n",
            "Test:  index=Int64Index([3172, 3173, 3174, 3175, 3176], dtype='int64') - Size: 5 \n",
            "\n"
          ]
        },
        {
          "output_type": "stream",
          "name": "stderr",
          "text": [
            "/usr/local/lib/python3.10/dist-packages/sklearn/neural_network/_multilayer_perceptron.py:686: ConvergenceWarning: Stochastic Optimizer: Maximum iterations (200) reached and the optimization hasn't converged yet.\n",
            "  warnings.warn(\n"
          ]
        },
        {
          "output_type": "stream",
          "name": "stdout",
          "text": [
            "Fold: 54\n",
            "Test:  index=Int64Index([3177, 3178, 3179, 3180, 3181], dtype='int64') - Size: 5 \n",
            "\n"
          ]
        },
        {
          "output_type": "stream",
          "name": "stderr",
          "text": [
            "/usr/local/lib/python3.10/dist-packages/sklearn/neural_network/_multilayer_perceptron.py:686: ConvergenceWarning: Stochastic Optimizer: Maximum iterations (200) reached and the optimization hasn't converged yet.\n",
            "  warnings.warn(\n"
          ]
        },
        {
          "output_type": "stream",
          "name": "stdout",
          "text": [
            "Fold: 55\n",
            "Test:  index=Int64Index([3182, 3183, 3184, 3185, 3186], dtype='int64') - Size: 5 \n",
            "\n"
          ]
        },
        {
          "output_type": "stream",
          "name": "stderr",
          "text": [
            "/usr/local/lib/python3.10/dist-packages/sklearn/neural_network/_multilayer_perceptron.py:686: ConvergenceWarning: Stochastic Optimizer: Maximum iterations (200) reached and the optimization hasn't converged yet.\n",
            "  warnings.warn(\n"
          ]
        },
        {
          "output_type": "stream",
          "name": "stdout",
          "text": [
            "Fold: 56\n",
            "Test:  index=Int64Index([3187, 3188, 3189, 3190, 3191], dtype='int64') - Size: 5 \n",
            "\n",
            "Fold: 57\n",
            "Test:  index=Int64Index([3192, 3193, 3194, 3195, 3196], dtype='int64') - Size: 5 \n",
            "\n"
          ]
        },
        {
          "output_type": "stream",
          "name": "stderr",
          "text": [
            "/usr/local/lib/python3.10/dist-packages/sklearn/neural_network/_multilayer_perceptron.py:686: ConvergenceWarning: Stochastic Optimizer: Maximum iterations (200) reached and the optimization hasn't converged yet.\n",
            "  warnings.warn(\n"
          ]
        },
        {
          "output_type": "stream",
          "name": "stdout",
          "text": [
            "Fold: 58\n",
            "Test:  index=Int64Index([3197, 3198, 3199, 3200, 3201], dtype='int64') - Size: 5 \n",
            "\n"
          ]
        },
        {
          "output_type": "stream",
          "name": "stderr",
          "text": [
            "/usr/local/lib/python3.10/dist-packages/sklearn/neural_network/_multilayer_perceptron.py:686: ConvergenceWarning: Stochastic Optimizer: Maximum iterations (200) reached and the optimization hasn't converged yet.\n",
            "  warnings.warn(\n"
          ]
        },
        {
          "output_type": "stream",
          "name": "stdout",
          "text": [
            "Fold: 59\n",
            "Test:  index=Int64Index([3202, 3203, 3204, 3205, 3206], dtype='int64') - Size: 5 \n",
            "\n",
            "Fold: 60\n",
            "Test:  index=Int64Index([3207, 3208, 3209, 3210, 3211], dtype='int64') - Size: 5 \n",
            "\n"
          ]
        },
        {
          "output_type": "stream",
          "name": "stderr",
          "text": [
            "/usr/local/lib/python3.10/dist-packages/sklearn/neural_network/_multilayer_perceptron.py:686: ConvergenceWarning: Stochastic Optimizer: Maximum iterations (200) reached and the optimization hasn't converged yet.\n",
            "  warnings.warn(\n"
          ]
        },
        {
          "output_type": "stream",
          "name": "stdout",
          "text": [
            "Fold: 61\n",
            "Test:  index=Int64Index([3212, 3213, 3214, 3215, 3216], dtype='int64') - Size: 5 \n",
            "\n"
          ]
        },
        {
          "output_type": "stream",
          "name": "stderr",
          "text": [
            "/usr/local/lib/python3.10/dist-packages/sklearn/neural_network/_multilayer_perceptron.py:686: ConvergenceWarning: Stochastic Optimizer: Maximum iterations (200) reached and the optimization hasn't converged yet.\n",
            "  warnings.warn(\n"
          ]
        },
        {
          "output_type": "stream",
          "name": "stdout",
          "text": [
            "Fold: 62\n",
            "Test:  index=Int64Index([3217, 3218, 3219, 3220, 3221], dtype='int64') - Size: 5 \n",
            "\n"
          ]
        },
        {
          "output_type": "stream",
          "name": "stderr",
          "text": [
            "/usr/local/lib/python3.10/dist-packages/sklearn/neural_network/_multilayer_perceptron.py:686: ConvergenceWarning: Stochastic Optimizer: Maximum iterations (200) reached and the optimization hasn't converged yet.\n",
            "  warnings.warn(\n"
          ]
        },
        {
          "output_type": "stream",
          "name": "stdout",
          "text": [
            "Fold: 63\n",
            "Test:  index=Int64Index([3222, 3223, 3224, 3225, 3226], dtype='int64') - Size: 5 \n",
            "\n",
            "Fold: 64\n",
            "Test:  index=Int64Index([3227, 3228, 3229, 3230, 3231], dtype='int64') - Size: 5 \n",
            "\n"
          ]
        },
        {
          "output_type": "stream",
          "name": "stderr",
          "text": [
            "/usr/local/lib/python3.10/dist-packages/sklearn/neural_network/_multilayer_perceptron.py:686: ConvergenceWarning: Stochastic Optimizer: Maximum iterations (200) reached and the optimization hasn't converged yet.\n",
            "  warnings.warn(\n"
          ]
        },
        {
          "output_type": "stream",
          "name": "stdout",
          "text": [
            "Fold: 65\n",
            "Test:  index=Int64Index([3232, 3233, 3234, 3235, 3236], dtype='int64') - Size: 5 \n",
            "\n",
            "Fold: 66\n",
            "Test:  index=Int64Index([3237, 3238, 3239, 3240, 3241], dtype='int64') - Size: 5 \n",
            "\n"
          ]
        },
        {
          "output_type": "stream",
          "name": "stderr",
          "text": [
            "/usr/local/lib/python3.10/dist-packages/sklearn/neural_network/_multilayer_perceptron.py:686: ConvergenceWarning: Stochastic Optimizer: Maximum iterations (200) reached and the optimization hasn't converged yet.\n",
            "  warnings.warn(\n"
          ]
        },
        {
          "output_type": "stream",
          "name": "stdout",
          "text": [
            "Fold: 67\n",
            "Test:  index=Int64Index([3242, 3243, 3244, 3245, 3246], dtype='int64') - Size: 5 \n",
            "\n"
          ]
        },
        {
          "output_type": "stream",
          "name": "stderr",
          "text": [
            "/usr/local/lib/python3.10/dist-packages/sklearn/neural_network/_multilayer_perceptron.py:686: ConvergenceWarning: Stochastic Optimizer: Maximum iterations (200) reached and the optimization hasn't converged yet.\n",
            "  warnings.warn(\n"
          ]
        },
        {
          "output_type": "stream",
          "name": "stdout",
          "text": [
            "Fold: 68\n",
            "Test:  index=Int64Index([3247, 3248, 3249, 3250, 3251], dtype='int64') - Size: 5 \n",
            "\n",
            "Fold: 69\n",
            "Test:  index=Int64Index([3252, 3253, 3254, 3255, 3256], dtype='int64') - Size: 5 \n",
            "\n"
          ]
        },
        {
          "output_type": "stream",
          "name": "stderr",
          "text": [
            "/usr/local/lib/python3.10/dist-packages/sklearn/neural_network/_multilayer_perceptron.py:686: ConvergenceWarning: Stochastic Optimizer: Maximum iterations (200) reached and the optimization hasn't converged yet.\n",
            "  warnings.warn(\n"
          ]
        },
        {
          "output_type": "stream",
          "name": "stdout",
          "text": [
            "Fold: 70\n",
            "Test:  index=Int64Index([3257, 3258, 3259, 3260, 3261], dtype='int64') - Size: 5 \n",
            "\n"
          ]
        },
        {
          "output_type": "stream",
          "name": "stderr",
          "text": [
            "/usr/local/lib/python3.10/dist-packages/sklearn/neural_network/_multilayer_perceptron.py:686: ConvergenceWarning: Stochastic Optimizer: Maximum iterations (200) reached and the optimization hasn't converged yet.\n",
            "  warnings.warn(\n"
          ]
        },
        {
          "output_type": "stream",
          "name": "stdout",
          "text": [
            "Fold: 71\n",
            "Test:  index=Int64Index([3262, 3263, 3264, 3265, 3266], dtype='int64') - Size: 5 \n",
            "\n"
          ]
        },
        {
          "output_type": "stream",
          "name": "stderr",
          "text": [
            "/usr/local/lib/python3.10/dist-packages/sklearn/neural_network/_multilayer_perceptron.py:686: ConvergenceWarning: Stochastic Optimizer: Maximum iterations (200) reached and the optimization hasn't converged yet.\n",
            "  warnings.warn(\n"
          ]
        },
        {
          "output_type": "stream",
          "name": "stdout",
          "text": [
            "Fold: 72\n",
            "Test:  index=Int64Index([3267, 3268, 3269, 3270, 3271], dtype='int64') - Size: 5 \n",
            "\n",
            "Fold: 73\n",
            "Test:  index=Int64Index([3272, 3273, 3274, 3275, 3276], dtype='int64') - Size: 5 \n",
            "\n"
          ]
        },
        {
          "output_type": "stream",
          "name": "stderr",
          "text": [
            "/usr/local/lib/python3.10/dist-packages/sklearn/neural_network/_multilayer_perceptron.py:686: ConvergenceWarning: Stochastic Optimizer: Maximum iterations (200) reached and the optimization hasn't converged yet.\n",
            "  warnings.warn(\n"
          ]
        },
        {
          "output_type": "stream",
          "name": "stdout",
          "text": [
            "Fold: 74\n",
            "Test:  index=Int64Index([3277, 3278, 3279, 3280, 3281], dtype='int64') - Size: 5 \n",
            "\n"
          ]
        },
        {
          "output_type": "stream",
          "name": "stderr",
          "text": [
            "/usr/local/lib/python3.10/dist-packages/sklearn/neural_network/_multilayer_perceptron.py:686: ConvergenceWarning: Stochastic Optimizer: Maximum iterations (200) reached and the optimization hasn't converged yet.\n",
            "  warnings.warn(\n"
          ]
        },
        {
          "output_type": "stream",
          "name": "stdout",
          "text": [
            "Fold: 75\n",
            "Test:  index=Int64Index([3282, 3283, 3284, 3285, 3286], dtype='int64') - Size: 5 \n",
            "\n"
          ]
        },
        {
          "output_type": "stream",
          "name": "stderr",
          "text": [
            "/usr/local/lib/python3.10/dist-packages/sklearn/neural_network/_multilayer_perceptron.py:686: ConvergenceWarning: Stochastic Optimizer: Maximum iterations (200) reached and the optimization hasn't converged yet.\n",
            "  warnings.warn(\n"
          ]
        },
        {
          "output_type": "stream",
          "name": "stdout",
          "text": [
            "Fold: 76\n",
            "Test:  index=Int64Index([3287, 3288, 3289, 3290, 3291], dtype='int64') - Size: 5 \n",
            "\n",
            "Fold: 77\n",
            "Test:  index=Int64Index([3292, 3293, 3294, 3295, 3296], dtype='int64') - Size: 5 \n",
            "\n",
            "Fold: 78\n",
            "Test:  index=Int64Index([3297, 3298, 3299, 3300, 3301], dtype='int64') - Size: 5 \n",
            "\n",
            "Fold: 79\n",
            "Test:  index=Int64Index([3302, 3303, 3304, 3305, 3306], dtype='int64') - Size: 5 \n",
            "\n",
            "Fold: 80\n",
            "Test:  index=Int64Index([3307, 3308, 3309, 3310, 3311], dtype='int64') - Size: 5 \n",
            "\n",
            "Fold: 81\n",
            "Test:  index=Int64Index([3312, 3313, 3314, 3315, 3316], dtype='int64') - Size: 5 \n",
            "\n",
            "Fold: 82\n",
            "Test:  index=Int64Index([3317, 3318, 3319, 3320, 3321], dtype='int64') - Size: 5 \n",
            "\n",
            "Fold: 83\n",
            "Test:  index=Int64Index([3322, 3323], dtype='int64') - Size: 2 \n",
            "\n"
          ]
        }
      ],
      "source": [
        "regressor = MLPRegressor(random_state=1111)\n",
        "y_pred_window, y_test_window = expanding_window(regressor, X, y, window_size=5)"
      ]
    },
    {
      "cell_type": "code",
      "source": [
        "evaluate_regressor(y_test_window, y_pred_window)"
      ],
      "metadata": {
        "colab": {
          "base_uri": "https://localhost:8080/"
        },
        "id": "K7W2HPBzvv8S",
        "outputId": "1f725145-e2c2-48e9-e4ee-eb5463cd237b"
      },
      "execution_count": 145,
      "outputs": [
        {
          "output_type": "stream",
          "name": "stdout",
          "text": [
            "RMSE =  1.4794723216829302\n",
            "MAE =  1.1516520476149823\n"
          ]
        }
      ]
    },
    {
      "cell_type": "code",
      "source": [
        "generate_output(y_test_window, y_pred_window)"
      ],
      "metadata": {
        "colab": {
          "base_uri": "https://localhost:8080/",
          "height": 424
        },
        "id": "xyjxHAbqzaEF",
        "outputId": "ae9219b5-867f-4bec-c63b-fb4ac066a8e0"
      },
      "execution_count": 146,
      "outputs": [
        {
          "output_type": "execute_result",
          "data": {
            "text/plain": [
              "         Date  Prediction\n",
              "0    20220301   -0.269820\n",
              "1    20220401    0.187273\n",
              "2    20220501   -0.036275\n",
              "3    20220601   -0.044110\n",
              "4    20220701   -0.339065\n",
              "..        ...         ...\n",
              "412  20230824   -0.060709\n",
              "413  20230825   -0.522799\n",
              "414  20230828   -0.136674\n",
              "415  20230829    0.238705\n",
              "416  20230830   -0.340838\n",
              "\n",
              "[417 rows x 2 columns]"
            ],
            "text/html": [
              "\n",
              "  <div id=\"df-1416fb52-11f6-44c2-83f5-94f54da203f2\" class=\"colab-df-container\">\n",
              "    <div>\n",
              "<style scoped>\n",
              "    .dataframe tbody tr th:only-of-type {\n",
              "        vertical-align: middle;\n",
              "    }\n",
              "\n",
              "    .dataframe tbody tr th {\n",
              "        vertical-align: top;\n",
              "    }\n",
              "\n",
              "    .dataframe thead th {\n",
              "        text-align: right;\n",
              "    }\n",
              "</style>\n",
              "<table border=\"1\" class=\"dataframe\">\n",
              "  <thead>\n",
              "    <tr style=\"text-align: right;\">\n",
              "      <th></th>\n",
              "      <th>Date</th>\n",
              "      <th>Prediction</th>\n",
              "    </tr>\n",
              "  </thead>\n",
              "  <tbody>\n",
              "    <tr>\n",
              "      <th>0</th>\n",
              "      <td>20220301</td>\n",
              "      <td>-0.269820</td>\n",
              "    </tr>\n",
              "    <tr>\n",
              "      <th>1</th>\n",
              "      <td>20220401</td>\n",
              "      <td>0.187273</td>\n",
              "    </tr>\n",
              "    <tr>\n",
              "      <th>2</th>\n",
              "      <td>20220501</td>\n",
              "      <td>-0.036275</td>\n",
              "    </tr>\n",
              "    <tr>\n",
              "      <th>3</th>\n",
              "      <td>20220601</td>\n",
              "      <td>-0.044110</td>\n",
              "    </tr>\n",
              "    <tr>\n",
              "      <th>4</th>\n",
              "      <td>20220701</td>\n",
              "      <td>-0.339065</td>\n",
              "    </tr>\n",
              "    <tr>\n",
              "      <th>...</th>\n",
              "      <td>...</td>\n",
              "      <td>...</td>\n",
              "    </tr>\n",
              "    <tr>\n",
              "      <th>412</th>\n",
              "      <td>20230824</td>\n",
              "      <td>-0.060709</td>\n",
              "    </tr>\n",
              "    <tr>\n",
              "      <th>413</th>\n",
              "      <td>20230825</td>\n",
              "      <td>-0.522799</td>\n",
              "    </tr>\n",
              "    <tr>\n",
              "      <th>414</th>\n",
              "      <td>20230828</td>\n",
              "      <td>-0.136674</td>\n",
              "    </tr>\n",
              "    <tr>\n",
              "      <th>415</th>\n",
              "      <td>20230829</td>\n",
              "      <td>0.238705</td>\n",
              "    </tr>\n",
              "    <tr>\n",
              "      <th>416</th>\n",
              "      <td>20230830</td>\n",
              "      <td>-0.340838</td>\n",
              "    </tr>\n",
              "  </tbody>\n",
              "</table>\n",
              "<p>417 rows × 2 columns</p>\n",
              "</div>\n",
              "    <div class=\"colab-df-buttons\">\n",
              "\n",
              "  <div class=\"colab-df-container\">\n",
              "    <button class=\"colab-df-convert\" onclick=\"convertToInteractive('df-1416fb52-11f6-44c2-83f5-94f54da203f2')\"\n",
              "            title=\"Convert this dataframe to an interactive table.\"\n",
              "            style=\"display:none;\">\n",
              "\n",
              "  <svg xmlns=\"http://www.w3.org/2000/svg\" height=\"24px\" viewBox=\"0 -960 960 960\">\n",
              "    <path d=\"M120-120v-720h720v720H120Zm60-500h600v-160H180v160Zm220 220h160v-160H400v160Zm0 220h160v-160H400v160ZM180-400h160v-160H180v160Zm440 0h160v-160H620v160ZM180-180h160v-160H180v160Zm440 0h160v-160H620v160Z\"/>\n",
              "  </svg>\n",
              "    </button>\n",
              "\n",
              "  <style>\n",
              "    .colab-df-container {\n",
              "      display:flex;\n",
              "      gap: 12px;\n",
              "    }\n",
              "\n",
              "    .colab-df-convert {\n",
              "      background-color: #E8F0FE;\n",
              "      border: none;\n",
              "      border-radius: 50%;\n",
              "      cursor: pointer;\n",
              "      display: none;\n",
              "      fill: #1967D2;\n",
              "      height: 32px;\n",
              "      padding: 0 0 0 0;\n",
              "      width: 32px;\n",
              "    }\n",
              "\n",
              "    .colab-df-convert:hover {\n",
              "      background-color: #E2EBFA;\n",
              "      box-shadow: 0px 1px 2px rgba(60, 64, 67, 0.3), 0px 1px 3px 1px rgba(60, 64, 67, 0.15);\n",
              "      fill: #174EA6;\n",
              "    }\n",
              "\n",
              "    .colab-df-buttons div {\n",
              "      margin-bottom: 4px;\n",
              "    }\n",
              "\n",
              "    [theme=dark] .colab-df-convert {\n",
              "      background-color: #3B4455;\n",
              "      fill: #D2E3FC;\n",
              "    }\n",
              "\n",
              "    [theme=dark] .colab-df-convert:hover {\n",
              "      background-color: #434B5C;\n",
              "      box-shadow: 0px 1px 3px 1px rgba(0, 0, 0, 0.15);\n",
              "      filter: drop-shadow(0px 1px 2px rgba(0, 0, 0, 0.3));\n",
              "      fill: #FFFFFF;\n",
              "    }\n",
              "  </style>\n",
              "\n",
              "    <script>\n",
              "      const buttonEl =\n",
              "        document.querySelector('#df-1416fb52-11f6-44c2-83f5-94f54da203f2 button.colab-df-convert');\n",
              "      buttonEl.style.display =\n",
              "        google.colab.kernel.accessAllowed ? 'block' : 'none';\n",
              "\n",
              "      async function convertToInteractive(key) {\n",
              "        const element = document.querySelector('#df-1416fb52-11f6-44c2-83f5-94f54da203f2');\n",
              "        const dataTable =\n",
              "          await google.colab.kernel.invokeFunction('convertToInteractive',\n",
              "                                                    [key], {});\n",
              "        if (!dataTable) return;\n",
              "\n",
              "        const docLinkHtml = 'Like what you see? Visit the ' +\n",
              "          '<a target=\"_blank\" href=https://colab.research.google.com/notebooks/data_table.ipynb>data table notebook</a>'\n",
              "          + ' to learn more about interactive tables.';\n",
              "        element.innerHTML = '';\n",
              "        dataTable['output_type'] = 'display_data';\n",
              "        await google.colab.output.renderOutput(dataTable, element);\n",
              "        const docLink = document.createElement('div');\n",
              "        docLink.innerHTML = docLinkHtml;\n",
              "        element.appendChild(docLink);\n",
              "      }\n",
              "    </script>\n",
              "  </div>\n",
              "\n",
              "\n",
              "<div id=\"df-262df05e-0209-4be4-9520-b3e151586fa6\">\n",
              "  <button class=\"colab-df-quickchart\" onclick=\"quickchart('df-262df05e-0209-4be4-9520-b3e151586fa6')\"\n",
              "            title=\"Suggest charts.\"\n",
              "            style=\"display:none;\">\n",
              "\n",
              "<svg xmlns=\"http://www.w3.org/2000/svg\" height=\"24px\"viewBox=\"0 0 24 24\"\n",
              "     width=\"24px\">\n",
              "    <g>\n",
              "        <path d=\"M19 3H5c-1.1 0-2 .9-2 2v14c0 1.1.9 2 2 2h14c1.1 0 2-.9 2-2V5c0-1.1-.9-2-2-2zM9 17H7v-7h2v7zm4 0h-2V7h2v10zm4 0h-2v-4h2v4z\"/>\n",
              "    </g>\n",
              "</svg>\n",
              "  </button>\n",
              "\n",
              "<style>\n",
              "  .colab-df-quickchart {\n",
              "      --bg-color: #E8F0FE;\n",
              "      --fill-color: #1967D2;\n",
              "      --hover-bg-color: #E2EBFA;\n",
              "      --hover-fill-color: #174EA6;\n",
              "      --disabled-fill-color: #AAA;\n",
              "      --disabled-bg-color: #DDD;\n",
              "  }\n",
              "\n",
              "  [theme=dark] .colab-df-quickchart {\n",
              "      --bg-color: #3B4455;\n",
              "      --fill-color: #D2E3FC;\n",
              "      --hover-bg-color: #434B5C;\n",
              "      --hover-fill-color: #FFFFFF;\n",
              "      --disabled-bg-color: #3B4455;\n",
              "      --disabled-fill-color: #666;\n",
              "  }\n",
              "\n",
              "  .colab-df-quickchart {\n",
              "    background-color: var(--bg-color);\n",
              "    border: none;\n",
              "    border-radius: 50%;\n",
              "    cursor: pointer;\n",
              "    display: none;\n",
              "    fill: var(--fill-color);\n",
              "    height: 32px;\n",
              "    padding: 0;\n",
              "    width: 32px;\n",
              "  }\n",
              "\n",
              "  .colab-df-quickchart:hover {\n",
              "    background-color: var(--hover-bg-color);\n",
              "    box-shadow: 0 1px 2px rgba(60, 64, 67, 0.3), 0 1px 3px 1px rgba(60, 64, 67, 0.15);\n",
              "    fill: var(--button-hover-fill-color);\n",
              "  }\n",
              "\n",
              "  .colab-df-quickchart-complete:disabled,\n",
              "  .colab-df-quickchart-complete:disabled:hover {\n",
              "    background-color: var(--disabled-bg-color);\n",
              "    fill: var(--disabled-fill-color);\n",
              "    box-shadow: none;\n",
              "  }\n",
              "\n",
              "  .colab-df-spinner {\n",
              "    border: 2px solid var(--fill-color);\n",
              "    border-color: transparent;\n",
              "    border-bottom-color: var(--fill-color);\n",
              "    animation:\n",
              "      spin 1s steps(1) infinite;\n",
              "  }\n",
              "\n",
              "  @keyframes spin {\n",
              "    0% {\n",
              "      border-color: transparent;\n",
              "      border-bottom-color: var(--fill-color);\n",
              "      border-left-color: var(--fill-color);\n",
              "    }\n",
              "    20% {\n",
              "      border-color: transparent;\n",
              "      border-left-color: var(--fill-color);\n",
              "      border-top-color: var(--fill-color);\n",
              "    }\n",
              "    30% {\n",
              "      border-color: transparent;\n",
              "      border-left-color: var(--fill-color);\n",
              "      border-top-color: var(--fill-color);\n",
              "      border-right-color: var(--fill-color);\n",
              "    }\n",
              "    40% {\n",
              "      border-color: transparent;\n",
              "      border-right-color: var(--fill-color);\n",
              "      border-top-color: var(--fill-color);\n",
              "    }\n",
              "    60% {\n",
              "      border-color: transparent;\n",
              "      border-right-color: var(--fill-color);\n",
              "    }\n",
              "    80% {\n",
              "      border-color: transparent;\n",
              "      border-right-color: var(--fill-color);\n",
              "      border-bottom-color: var(--fill-color);\n",
              "    }\n",
              "    90% {\n",
              "      border-color: transparent;\n",
              "      border-bottom-color: var(--fill-color);\n",
              "    }\n",
              "  }\n",
              "</style>\n",
              "\n",
              "  <script>\n",
              "    async function quickchart(key) {\n",
              "      const quickchartButtonEl =\n",
              "        document.querySelector('#' + key + ' button');\n",
              "      quickchartButtonEl.disabled = true;  // To prevent multiple clicks.\n",
              "      quickchartButtonEl.classList.add('colab-df-spinner');\n",
              "      try {\n",
              "        const charts = await google.colab.kernel.invokeFunction(\n",
              "            'suggestCharts', [key], {});\n",
              "      } catch (error) {\n",
              "        console.error('Error during call to suggestCharts:', error);\n",
              "      }\n",
              "      quickchartButtonEl.classList.remove('colab-df-spinner');\n",
              "      quickchartButtonEl.classList.add('colab-df-quickchart-complete');\n",
              "    }\n",
              "    (() => {\n",
              "      let quickchartButtonEl =\n",
              "        document.querySelector('#df-262df05e-0209-4be4-9520-b3e151586fa6 button');\n",
              "      quickchartButtonEl.style.display =\n",
              "        google.colab.kernel.accessAllowed ? 'block' : 'none';\n",
              "    })();\n",
              "  </script>\n",
              "</div>\n",
              "    </div>\n",
              "  </div>\n"
            ]
          },
          "metadata": {},
          "execution_count": 146
        }
      ]
    },
    {
      "cell_type": "markdown",
      "metadata": {
        "id": "XcITIglYqgXD"
      },
      "source": [
        "### Time Series Split (1 Days)"
      ]
    },
    {
      "cell_type": "code",
      "execution_count": 147,
      "metadata": {
        "colab": {
          "base_uri": "https://localhost:8080/"
        },
        "id": "PTSZ3Ojkqjuz",
        "outputId": "54886294-6251-4494-c1c9-3e0d6196b079"
      },
      "outputs": [
        {
          "output_type": "stream",
          "name": "stdout",
          "text": [
            "Fold: 0\n",
            "Test:  index=Int64Index([2907], dtype='int64') - Size: 1 \n",
            "\n",
            "Fold: 1\n",
            "Test:  index=Int64Index([2908], dtype='int64') - Size: 1 \n",
            "\n",
            "Fold: 2\n",
            "Test:  index=Int64Index([2909], dtype='int64') - Size: 1 \n",
            "\n",
            "Fold: 3\n",
            "Test:  index=Int64Index([2910], dtype='int64') - Size: 1 \n",
            "\n",
            "Fold: 4\n",
            "Test:  index=Int64Index([2911], dtype='int64') - Size: 1 \n",
            "\n"
          ]
        },
        {
          "output_type": "stream",
          "name": "stderr",
          "text": [
            "/usr/local/lib/python3.10/dist-packages/sklearn/neural_network/_multilayer_perceptron.py:686: ConvergenceWarning: Stochastic Optimizer: Maximum iterations (200) reached and the optimization hasn't converged yet.\n",
            "  warnings.warn(\n"
          ]
        },
        {
          "output_type": "stream",
          "name": "stdout",
          "text": [
            "Fold: 5\n",
            "Test:  index=Int64Index([2912], dtype='int64') - Size: 1 \n",
            "\n",
            "Fold: 6\n",
            "Test:  index=Int64Index([2913], dtype='int64') - Size: 1 \n",
            "\n",
            "Fold: 7\n",
            "Test:  index=Int64Index([2914], dtype='int64') - Size: 1 \n",
            "\n",
            "Fold: 8\n",
            "Test:  index=Int64Index([2915], dtype='int64') - Size: 1 \n",
            "\n"
          ]
        },
        {
          "output_type": "stream",
          "name": "stderr",
          "text": [
            "/usr/local/lib/python3.10/dist-packages/sklearn/neural_network/_multilayer_perceptron.py:686: ConvergenceWarning: Stochastic Optimizer: Maximum iterations (200) reached and the optimization hasn't converged yet.\n",
            "  warnings.warn(\n"
          ]
        },
        {
          "output_type": "stream",
          "name": "stdout",
          "text": [
            "Fold: 9\n",
            "Test:  index=Int64Index([2916], dtype='int64') - Size: 1 \n",
            "\n",
            "Fold: 10\n",
            "Test:  index=Int64Index([2917], dtype='int64') - Size: 1 \n",
            "\n",
            "Fold: 11\n",
            "Test:  index=Int64Index([2918], dtype='int64') - Size: 1 \n",
            "\n"
          ]
        },
        {
          "output_type": "stream",
          "name": "stderr",
          "text": [
            "/usr/local/lib/python3.10/dist-packages/sklearn/neural_network/_multilayer_perceptron.py:686: ConvergenceWarning: Stochastic Optimizer: Maximum iterations (200) reached and the optimization hasn't converged yet.\n",
            "  warnings.warn(\n"
          ]
        },
        {
          "output_type": "stream",
          "name": "stdout",
          "text": [
            "Fold: 12\n",
            "Test:  index=Int64Index([2919], dtype='int64') - Size: 1 \n",
            "\n",
            "Fold: 13\n",
            "Test:  index=Int64Index([2920], dtype='int64') - Size: 1 \n",
            "\n"
          ]
        },
        {
          "output_type": "stream",
          "name": "stderr",
          "text": [
            "/usr/local/lib/python3.10/dist-packages/sklearn/neural_network/_multilayer_perceptron.py:686: ConvergenceWarning: Stochastic Optimizer: Maximum iterations (200) reached and the optimization hasn't converged yet.\n",
            "  warnings.warn(\n"
          ]
        },
        {
          "output_type": "stream",
          "name": "stdout",
          "text": [
            "Fold: 14\n",
            "Test:  index=Int64Index([2921], dtype='int64') - Size: 1 \n",
            "\n",
            "Fold: 15\n",
            "Test:  index=Int64Index([2922], dtype='int64') - Size: 1 \n",
            "\n"
          ]
        },
        {
          "output_type": "stream",
          "name": "stderr",
          "text": [
            "/usr/local/lib/python3.10/dist-packages/sklearn/neural_network/_multilayer_perceptron.py:686: ConvergenceWarning: Stochastic Optimizer: Maximum iterations (200) reached and the optimization hasn't converged yet.\n",
            "  warnings.warn(\n"
          ]
        },
        {
          "output_type": "stream",
          "name": "stdout",
          "text": [
            "Fold: 16\n",
            "Test:  index=Int64Index([2923], dtype='int64') - Size: 1 \n",
            "\n",
            "Fold: 17\n",
            "Test:  index=Int64Index([2924], dtype='int64') - Size: 1 \n",
            "\n"
          ]
        },
        {
          "output_type": "stream",
          "name": "stderr",
          "text": [
            "/usr/local/lib/python3.10/dist-packages/sklearn/neural_network/_multilayer_perceptron.py:686: ConvergenceWarning: Stochastic Optimizer: Maximum iterations (200) reached and the optimization hasn't converged yet.\n",
            "  warnings.warn(\n"
          ]
        },
        {
          "output_type": "stream",
          "name": "stdout",
          "text": [
            "Fold: 18\n",
            "Test:  index=Int64Index([2925], dtype='int64') - Size: 1 \n",
            "\n"
          ]
        },
        {
          "output_type": "stream",
          "name": "stderr",
          "text": [
            "/usr/local/lib/python3.10/dist-packages/sklearn/neural_network/_multilayer_perceptron.py:686: ConvergenceWarning: Stochastic Optimizer: Maximum iterations (200) reached and the optimization hasn't converged yet.\n",
            "  warnings.warn(\n"
          ]
        },
        {
          "output_type": "stream",
          "name": "stdout",
          "text": [
            "Fold: 19\n",
            "Test:  index=Int64Index([2926], dtype='int64') - Size: 1 \n",
            "\n"
          ]
        },
        {
          "output_type": "stream",
          "name": "stderr",
          "text": [
            "/usr/local/lib/python3.10/dist-packages/sklearn/neural_network/_multilayer_perceptron.py:686: ConvergenceWarning: Stochastic Optimizer: Maximum iterations (200) reached and the optimization hasn't converged yet.\n",
            "  warnings.warn(\n"
          ]
        },
        {
          "output_type": "stream",
          "name": "stdout",
          "text": [
            "Fold: 20\n",
            "Test:  index=Int64Index([2927], dtype='int64') - Size: 1 \n",
            "\n"
          ]
        },
        {
          "output_type": "stream",
          "name": "stderr",
          "text": [
            "/usr/local/lib/python3.10/dist-packages/sklearn/neural_network/_multilayer_perceptron.py:686: ConvergenceWarning: Stochastic Optimizer: Maximum iterations (200) reached and the optimization hasn't converged yet.\n",
            "  warnings.warn(\n"
          ]
        },
        {
          "output_type": "stream",
          "name": "stdout",
          "text": [
            "Fold: 21\n",
            "Test:  index=Int64Index([2928], dtype='int64') - Size: 1 \n",
            "\n"
          ]
        },
        {
          "output_type": "stream",
          "name": "stderr",
          "text": [
            "/usr/local/lib/python3.10/dist-packages/sklearn/neural_network/_multilayer_perceptron.py:686: ConvergenceWarning: Stochastic Optimizer: Maximum iterations (200) reached and the optimization hasn't converged yet.\n",
            "  warnings.warn(\n"
          ]
        },
        {
          "output_type": "stream",
          "name": "stdout",
          "text": [
            "Fold: 22\n",
            "Test:  index=Int64Index([2929], dtype='int64') - Size: 1 \n",
            "\n"
          ]
        },
        {
          "output_type": "stream",
          "name": "stderr",
          "text": [
            "/usr/local/lib/python3.10/dist-packages/sklearn/neural_network/_multilayer_perceptron.py:686: ConvergenceWarning: Stochastic Optimizer: Maximum iterations (200) reached and the optimization hasn't converged yet.\n",
            "  warnings.warn(\n"
          ]
        },
        {
          "output_type": "stream",
          "name": "stdout",
          "text": [
            "Fold: 23\n",
            "Test:  index=Int64Index([2930], dtype='int64') - Size: 1 \n",
            "\n",
            "Fold: 24\n",
            "Test:  index=Int64Index([2931], dtype='int64') - Size: 1 \n",
            "\n"
          ]
        },
        {
          "output_type": "stream",
          "name": "stderr",
          "text": [
            "/usr/local/lib/python3.10/dist-packages/sklearn/neural_network/_multilayer_perceptron.py:686: ConvergenceWarning: Stochastic Optimizer: Maximum iterations (200) reached and the optimization hasn't converged yet.\n",
            "  warnings.warn(\n"
          ]
        },
        {
          "output_type": "stream",
          "name": "stdout",
          "text": [
            "Fold: 25\n",
            "Test:  index=Int64Index([2932], dtype='int64') - Size: 1 \n",
            "\n",
            "Fold: 26\n",
            "Test:  index=Int64Index([2933], dtype='int64') - Size: 1 \n",
            "\n"
          ]
        },
        {
          "output_type": "stream",
          "name": "stderr",
          "text": [
            "/usr/local/lib/python3.10/dist-packages/sklearn/neural_network/_multilayer_perceptron.py:686: ConvergenceWarning: Stochastic Optimizer: Maximum iterations (200) reached and the optimization hasn't converged yet.\n",
            "  warnings.warn(\n"
          ]
        },
        {
          "output_type": "stream",
          "name": "stdout",
          "text": [
            "Fold: 27\n",
            "Test:  index=Int64Index([2934], dtype='int64') - Size: 1 \n",
            "\n",
            "Fold: 28\n",
            "Test:  index=Int64Index([2935], dtype='int64') - Size: 1 \n",
            "\n"
          ]
        },
        {
          "output_type": "stream",
          "name": "stderr",
          "text": [
            "/usr/local/lib/python3.10/dist-packages/sklearn/neural_network/_multilayer_perceptron.py:686: ConvergenceWarning: Stochastic Optimizer: Maximum iterations (200) reached and the optimization hasn't converged yet.\n",
            "  warnings.warn(\n"
          ]
        },
        {
          "output_type": "stream",
          "name": "stdout",
          "text": [
            "Fold: 29\n",
            "Test:  index=Int64Index([2936], dtype='int64') - Size: 1 \n",
            "\n"
          ]
        },
        {
          "output_type": "stream",
          "name": "stderr",
          "text": [
            "/usr/local/lib/python3.10/dist-packages/sklearn/neural_network/_multilayer_perceptron.py:686: ConvergenceWarning: Stochastic Optimizer: Maximum iterations (200) reached and the optimization hasn't converged yet.\n",
            "  warnings.warn(\n"
          ]
        },
        {
          "output_type": "stream",
          "name": "stdout",
          "text": [
            "Fold: 30\n",
            "Test:  index=Int64Index([2937], dtype='int64') - Size: 1 \n",
            "\n"
          ]
        },
        {
          "output_type": "stream",
          "name": "stderr",
          "text": [
            "/usr/local/lib/python3.10/dist-packages/sklearn/neural_network/_multilayer_perceptron.py:686: ConvergenceWarning: Stochastic Optimizer: Maximum iterations (200) reached and the optimization hasn't converged yet.\n",
            "  warnings.warn(\n"
          ]
        },
        {
          "output_type": "stream",
          "name": "stdout",
          "text": [
            "Fold: 31\n",
            "Test:  index=Int64Index([2938], dtype='int64') - Size: 1 \n",
            "\n"
          ]
        },
        {
          "output_type": "stream",
          "name": "stderr",
          "text": [
            "/usr/local/lib/python3.10/dist-packages/sklearn/neural_network/_multilayer_perceptron.py:686: ConvergenceWarning: Stochastic Optimizer: Maximum iterations (200) reached and the optimization hasn't converged yet.\n",
            "  warnings.warn(\n"
          ]
        },
        {
          "output_type": "stream",
          "name": "stdout",
          "text": [
            "Fold: 32\n",
            "Test:  index=Int64Index([2939], dtype='int64') - Size: 1 \n",
            "\n"
          ]
        },
        {
          "output_type": "stream",
          "name": "stderr",
          "text": [
            "/usr/local/lib/python3.10/dist-packages/sklearn/neural_network/_multilayer_perceptron.py:686: ConvergenceWarning: Stochastic Optimizer: Maximum iterations (200) reached and the optimization hasn't converged yet.\n",
            "  warnings.warn(\n"
          ]
        },
        {
          "output_type": "stream",
          "name": "stdout",
          "text": [
            "Fold: 33\n",
            "Test:  index=Int64Index([2940], dtype='int64') - Size: 1 \n",
            "\n",
            "Fold: 34\n",
            "Test:  index=Int64Index([2941], dtype='int64') - Size: 1 \n",
            "\n"
          ]
        },
        {
          "output_type": "stream",
          "name": "stderr",
          "text": [
            "/usr/local/lib/python3.10/dist-packages/sklearn/neural_network/_multilayer_perceptron.py:686: ConvergenceWarning: Stochastic Optimizer: Maximum iterations (200) reached and the optimization hasn't converged yet.\n",
            "  warnings.warn(\n"
          ]
        },
        {
          "output_type": "stream",
          "name": "stdout",
          "text": [
            "Fold: 35\n",
            "Test:  index=Int64Index([2942], dtype='int64') - Size: 1 \n",
            "\n"
          ]
        },
        {
          "output_type": "stream",
          "name": "stderr",
          "text": [
            "/usr/local/lib/python3.10/dist-packages/sklearn/neural_network/_multilayer_perceptron.py:686: ConvergenceWarning: Stochastic Optimizer: Maximum iterations (200) reached and the optimization hasn't converged yet.\n",
            "  warnings.warn(\n"
          ]
        },
        {
          "output_type": "stream",
          "name": "stdout",
          "text": [
            "Fold: 36\n",
            "Test:  index=Int64Index([2943], dtype='int64') - Size: 1 \n",
            "\n"
          ]
        },
        {
          "output_type": "stream",
          "name": "stderr",
          "text": [
            "/usr/local/lib/python3.10/dist-packages/sklearn/neural_network/_multilayer_perceptron.py:686: ConvergenceWarning: Stochastic Optimizer: Maximum iterations (200) reached and the optimization hasn't converged yet.\n",
            "  warnings.warn(\n"
          ]
        },
        {
          "output_type": "stream",
          "name": "stdout",
          "text": [
            "Fold: 37\n",
            "Test:  index=Int64Index([2944], dtype='int64') - Size: 1 \n",
            "\n"
          ]
        },
        {
          "output_type": "stream",
          "name": "stderr",
          "text": [
            "/usr/local/lib/python3.10/dist-packages/sklearn/neural_network/_multilayer_perceptron.py:686: ConvergenceWarning: Stochastic Optimizer: Maximum iterations (200) reached and the optimization hasn't converged yet.\n",
            "  warnings.warn(\n"
          ]
        },
        {
          "output_type": "stream",
          "name": "stdout",
          "text": [
            "Fold: 38\n",
            "Test:  index=Int64Index([2945], dtype='int64') - Size: 1 \n",
            "\n"
          ]
        },
        {
          "output_type": "stream",
          "name": "stderr",
          "text": [
            "/usr/local/lib/python3.10/dist-packages/sklearn/neural_network/_multilayer_perceptron.py:686: ConvergenceWarning: Stochastic Optimizer: Maximum iterations (200) reached and the optimization hasn't converged yet.\n",
            "  warnings.warn(\n"
          ]
        },
        {
          "output_type": "stream",
          "name": "stdout",
          "text": [
            "Fold: 39\n",
            "Test:  index=Int64Index([2946], dtype='int64') - Size: 1 \n",
            "\n",
            "Fold: 40\n",
            "Test:  index=Int64Index([2947], dtype='int64') - Size: 1 \n",
            "\n",
            "Fold: 41\n",
            "Test:  index=Int64Index([2948], dtype='int64') - Size: 1 \n",
            "\n"
          ]
        },
        {
          "output_type": "stream",
          "name": "stderr",
          "text": [
            "/usr/local/lib/python3.10/dist-packages/sklearn/neural_network/_multilayer_perceptron.py:686: ConvergenceWarning: Stochastic Optimizer: Maximum iterations (200) reached and the optimization hasn't converged yet.\n",
            "  warnings.warn(\n"
          ]
        },
        {
          "output_type": "stream",
          "name": "stdout",
          "text": [
            "Fold: 42\n",
            "Test:  index=Int64Index([2949], dtype='int64') - Size: 1 \n",
            "\n"
          ]
        },
        {
          "output_type": "stream",
          "name": "stderr",
          "text": [
            "/usr/local/lib/python3.10/dist-packages/sklearn/neural_network/_multilayer_perceptron.py:686: ConvergenceWarning: Stochastic Optimizer: Maximum iterations (200) reached and the optimization hasn't converged yet.\n",
            "  warnings.warn(\n"
          ]
        },
        {
          "output_type": "stream",
          "name": "stdout",
          "text": [
            "Fold: 43\n",
            "Test:  index=Int64Index([2950], dtype='int64') - Size: 1 \n",
            "\n",
            "Fold: 44\n",
            "Test:  index=Int64Index([2951], dtype='int64') - Size: 1 \n",
            "\n"
          ]
        },
        {
          "output_type": "stream",
          "name": "stderr",
          "text": [
            "/usr/local/lib/python3.10/dist-packages/sklearn/neural_network/_multilayer_perceptron.py:686: ConvergenceWarning: Stochastic Optimizer: Maximum iterations (200) reached and the optimization hasn't converged yet.\n",
            "  warnings.warn(\n"
          ]
        },
        {
          "output_type": "stream",
          "name": "stdout",
          "text": [
            "Fold: 45\n",
            "Test:  index=Int64Index([2952], dtype='int64') - Size: 1 \n",
            "\n"
          ]
        },
        {
          "output_type": "stream",
          "name": "stderr",
          "text": [
            "/usr/local/lib/python3.10/dist-packages/sklearn/neural_network/_multilayer_perceptron.py:686: ConvergenceWarning: Stochastic Optimizer: Maximum iterations (200) reached and the optimization hasn't converged yet.\n",
            "  warnings.warn(\n"
          ]
        },
        {
          "output_type": "stream",
          "name": "stdout",
          "text": [
            "Fold: 46\n",
            "Test:  index=Int64Index([2953], dtype='int64') - Size: 1 \n",
            "\n",
            "Fold: 47\n",
            "Test:  index=Int64Index([2954], dtype='int64') - Size: 1 \n",
            "\n"
          ]
        },
        {
          "output_type": "stream",
          "name": "stderr",
          "text": [
            "/usr/local/lib/python3.10/dist-packages/sklearn/neural_network/_multilayer_perceptron.py:686: ConvergenceWarning: Stochastic Optimizer: Maximum iterations (200) reached and the optimization hasn't converged yet.\n",
            "  warnings.warn(\n"
          ]
        },
        {
          "output_type": "stream",
          "name": "stdout",
          "text": [
            "Fold: 48\n",
            "Test:  index=Int64Index([2955], dtype='int64') - Size: 1 \n",
            "\n",
            "Fold: 49\n",
            "Test:  index=Int64Index([2956], dtype='int64') - Size: 1 \n",
            "\n"
          ]
        },
        {
          "output_type": "stream",
          "name": "stderr",
          "text": [
            "/usr/local/lib/python3.10/dist-packages/sklearn/neural_network/_multilayer_perceptron.py:686: ConvergenceWarning: Stochastic Optimizer: Maximum iterations (200) reached and the optimization hasn't converged yet.\n",
            "  warnings.warn(\n"
          ]
        },
        {
          "output_type": "stream",
          "name": "stdout",
          "text": [
            "Fold: 50\n",
            "Test:  index=Int64Index([2957], dtype='int64') - Size: 1 \n",
            "\n"
          ]
        },
        {
          "output_type": "stream",
          "name": "stderr",
          "text": [
            "/usr/local/lib/python3.10/dist-packages/sklearn/neural_network/_multilayer_perceptron.py:686: ConvergenceWarning: Stochastic Optimizer: Maximum iterations (200) reached and the optimization hasn't converged yet.\n",
            "  warnings.warn(\n"
          ]
        },
        {
          "output_type": "stream",
          "name": "stdout",
          "text": [
            "Fold: 51\n",
            "Test:  index=Int64Index([2958], dtype='int64') - Size: 1 \n",
            "\n",
            "Fold: 52\n",
            "Test:  index=Int64Index([2959], dtype='int64') - Size: 1 \n",
            "\n"
          ]
        },
        {
          "output_type": "stream",
          "name": "stderr",
          "text": [
            "/usr/local/lib/python3.10/dist-packages/sklearn/neural_network/_multilayer_perceptron.py:686: ConvergenceWarning: Stochastic Optimizer: Maximum iterations (200) reached and the optimization hasn't converged yet.\n",
            "  warnings.warn(\n"
          ]
        },
        {
          "output_type": "stream",
          "name": "stdout",
          "text": [
            "Fold: 53\n",
            "Test:  index=Int64Index([2960], dtype='int64') - Size: 1 \n",
            "\n"
          ]
        },
        {
          "output_type": "stream",
          "name": "stderr",
          "text": [
            "/usr/local/lib/python3.10/dist-packages/sklearn/neural_network/_multilayer_perceptron.py:686: ConvergenceWarning: Stochastic Optimizer: Maximum iterations (200) reached and the optimization hasn't converged yet.\n",
            "  warnings.warn(\n"
          ]
        },
        {
          "output_type": "stream",
          "name": "stdout",
          "text": [
            "Fold: 54\n",
            "Test:  index=Int64Index([2961], dtype='int64') - Size: 1 \n",
            "\n"
          ]
        },
        {
          "output_type": "stream",
          "name": "stderr",
          "text": [
            "/usr/local/lib/python3.10/dist-packages/sklearn/neural_network/_multilayer_perceptron.py:686: ConvergenceWarning: Stochastic Optimizer: Maximum iterations (200) reached and the optimization hasn't converged yet.\n",
            "  warnings.warn(\n"
          ]
        },
        {
          "output_type": "stream",
          "name": "stdout",
          "text": [
            "Fold: 55\n",
            "Test:  index=Int64Index([2962], dtype='int64') - Size: 1 \n",
            "\n",
            "Fold: 56\n",
            "Test:  index=Int64Index([2963], dtype='int64') - Size: 1 \n",
            "\n"
          ]
        },
        {
          "output_type": "stream",
          "name": "stderr",
          "text": [
            "/usr/local/lib/python3.10/dist-packages/sklearn/neural_network/_multilayer_perceptron.py:686: ConvergenceWarning: Stochastic Optimizer: Maximum iterations (200) reached and the optimization hasn't converged yet.\n",
            "  warnings.warn(\n"
          ]
        },
        {
          "output_type": "stream",
          "name": "stdout",
          "text": [
            "Fold: 57\n",
            "Test:  index=Int64Index([2964], dtype='int64') - Size: 1 \n",
            "\n"
          ]
        },
        {
          "output_type": "stream",
          "name": "stderr",
          "text": [
            "/usr/local/lib/python3.10/dist-packages/sklearn/neural_network/_multilayer_perceptron.py:686: ConvergenceWarning: Stochastic Optimizer: Maximum iterations (200) reached and the optimization hasn't converged yet.\n",
            "  warnings.warn(\n"
          ]
        },
        {
          "output_type": "stream",
          "name": "stdout",
          "text": [
            "Fold: 58\n",
            "Test:  index=Int64Index([2965], dtype='int64') - Size: 1 \n",
            "\n",
            "Fold: 59\n",
            "Test:  index=Int64Index([2966], dtype='int64') - Size: 1 \n",
            "\n",
            "Fold: 60\n",
            "Test:  index=Int64Index([2967], dtype='int64') - Size: 1 \n",
            "\n"
          ]
        },
        {
          "output_type": "stream",
          "name": "stderr",
          "text": [
            "/usr/local/lib/python3.10/dist-packages/sklearn/neural_network/_multilayer_perceptron.py:686: ConvergenceWarning: Stochastic Optimizer: Maximum iterations (200) reached and the optimization hasn't converged yet.\n",
            "  warnings.warn(\n"
          ]
        },
        {
          "output_type": "stream",
          "name": "stdout",
          "text": [
            "Fold: 61\n",
            "Test:  index=Int64Index([2968], dtype='int64') - Size: 1 \n",
            "\n",
            "Fold: 62\n",
            "Test:  index=Int64Index([2969], dtype='int64') - Size: 1 \n",
            "\n",
            "Fold: 63\n",
            "Test:  index=Int64Index([2970], dtype='int64') - Size: 1 \n",
            "\n",
            "Fold: 64\n",
            "Test:  index=Int64Index([2971], dtype='int64') - Size: 1 \n",
            "\n",
            "Fold: 65\n",
            "Test:  index=Int64Index([2972], dtype='int64') - Size: 1 \n",
            "\n"
          ]
        },
        {
          "output_type": "stream",
          "name": "stderr",
          "text": [
            "/usr/local/lib/python3.10/dist-packages/sklearn/neural_network/_multilayer_perceptron.py:686: ConvergenceWarning: Stochastic Optimizer: Maximum iterations (200) reached and the optimization hasn't converged yet.\n",
            "  warnings.warn(\n"
          ]
        },
        {
          "output_type": "stream",
          "name": "stdout",
          "text": [
            "Fold: 66\n",
            "Test:  index=Int64Index([2973], dtype='int64') - Size: 1 \n",
            "\n",
            "Fold: 67\n",
            "Test:  index=Int64Index([2974], dtype='int64') - Size: 1 \n",
            "\n"
          ]
        },
        {
          "output_type": "stream",
          "name": "stderr",
          "text": [
            "/usr/local/lib/python3.10/dist-packages/sklearn/neural_network/_multilayer_perceptron.py:686: ConvergenceWarning: Stochastic Optimizer: Maximum iterations (200) reached and the optimization hasn't converged yet.\n",
            "  warnings.warn(\n"
          ]
        },
        {
          "output_type": "stream",
          "name": "stdout",
          "text": [
            "Fold: 68\n",
            "Test:  index=Int64Index([2975], dtype='int64') - Size: 1 \n",
            "\n"
          ]
        },
        {
          "output_type": "stream",
          "name": "stderr",
          "text": [
            "/usr/local/lib/python3.10/dist-packages/sklearn/neural_network/_multilayer_perceptron.py:686: ConvergenceWarning: Stochastic Optimizer: Maximum iterations (200) reached and the optimization hasn't converged yet.\n",
            "  warnings.warn(\n"
          ]
        },
        {
          "output_type": "stream",
          "name": "stdout",
          "text": [
            "Fold: 69\n",
            "Test:  index=Int64Index([2976], dtype='int64') - Size: 1 \n",
            "\n",
            "Fold: 70\n",
            "Test:  index=Int64Index([2977], dtype='int64') - Size: 1 \n",
            "\n"
          ]
        },
        {
          "output_type": "stream",
          "name": "stderr",
          "text": [
            "/usr/local/lib/python3.10/dist-packages/sklearn/neural_network/_multilayer_perceptron.py:686: ConvergenceWarning: Stochastic Optimizer: Maximum iterations (200) reached and the optimization hasn't converged yet.\n",
            "  warnings.warn(\n"
          ]
        },
        {
          "output_type": "stream",
          "name": "stdout",
          "text": [
            "Fold: 71\n",
            "Test:  index=Int64Index([2978], dtype='int64') - Size: 1 \n",
            "\n"
          ]
        },
        {
          "output_type": "stream",
          "name": "stderr",
          "text": [
            "/usr/local/lib/python3.10/dist-packages/sklearn/neural_network/_multilayer_perceptron.py:686: ConvergenceWarning: Stochastic Optimizer: Maximum iterations (200) reached and the optimization hasn't converged yet.\n",
            "  warnings.warn(\n"
          ]
        },
        {
          "output_type": "stream",
          "name": "stdout",
          "text": [
            "Fold: 72\n",
            "Test:  index=Int64Index([2979], dtype='int64') - Size: 1 \n",
            "\n",
            "Fold: 73\n",
            "Test:  index=Int64Index([2980], dtype='int64') - Size: 1 \n",
            "\n"
          ]
        },
        {
          "output_type": "stream",
          "name": "stderr",
          "text": [
            "/usr/local/lib/python3.10/dist-packages/sklearn/neural_network/_multilayer_perceptron.py:686: ConvergenceWarning: Stochastic Optimizer: Maximum iterations (200) reached and the optimization hasn't converged yet.\n",
            "  warnings.warn(\n"
          ]
        },
        {
          "output_type": "stream",
          "name": "stdout",
          "text": [
            "Fold: 74\n",
            "Test:  index=Int64Index([2981], dtype='int64') - Size: 1 \n",
            "\n"
          ]
        },
        {
          "output_type": "stream",
          "name": "stderr",
          "text": [
            "/usr/local/lib/python3.10/dist-packages/sklearn/neural_network/_multilayer_perceptron.py:686: ConvergenceWarning: Stochastic Optimizer: Maximum iterations (200) reached and the optimization hasn't converged yet.\n",
            "  warnings.warn(\n"
          ]
        },
        {
          "output_type": "stream",
          "name": "stdout",
          "text": [
            "Fold: 75\n",
            "Test:  index=Int64Index([2982], dtype='int64') - Size: 1 \n",
            "\n",
            "Fold: 76\n",
            "Test:  index=Int64Index([2983], dtype='int64') - Size: 1 \n",
            "\n"
          ]
        },
        {
          "output_type": "stream",
          "name": "stderr",
          "text": [
            "/usr/local/lib/python3.10/dist-packages/sklearn/neural_network/_multilayer_perceptron.py:686: ConvergenceWarning: Stochastic Optimizer: Maximum iterations (200) reached and the optimization hasn't converged yet.\n",
            "  warnings.warn(\n"
          ]
        },
        {
          "output_type": "stream",
          "name": "stdout",
          "text": [
            "Fold: 77\n",
            "Test:  index=Int64Index([2984], dtype='int64') - Size: 1 \n",
            "\n"
          ]
        },
        {
          "output_type": "stream",
          "name": "stderr",
          "text": [
            "/usr/local/lib/python3.10/dist-packages/sklearn/neural_network/_multilayer_perceptron.py:686: ConvergenceWarning: Stochastic Optimizer: Maximum iterations (200) reached and the optimization hasn't converged yet.\n",
            "  warnings.warn(\n"
          ]
        },
        {
          "output_type": "stream",
          "name": "stdout",
          "text": [
            "Fold: 78\n",
            "Test:  index=Int64Index([2985], dtype='int64') - Size: 1 \n",
            "\n"
          ]
        },
        {
          "output_type": "stream",
          "name": "stderr",
          "text": [
            "/usr/local/lib/python3.10/dist-packages/sklearn/neural_network/_multilayer_perceptron.py:686: ConvergenceWarning: Stochastic Optimizer: Maximum iterations (200) reached and the optimization hasn't converged yet.\n",
            "  warnings.warn(\n"
          ]
        },
        {
          "output_type": "stream",
          "name": "stdout",
          "text": [
            "Fold: 79\n",
            "Test:  index=Int64Index([2986], dtype='int64') - Size: 1 \n",
            "\n"
          ]
        },
        {
          "output_type": "stream",
          "name": "stderr",
          "text": [
            "/usr/local/lib/python3.10/dist-packages/sklearn/neural_network/_multilayer_perceptron.py:686: ConvergenceWarning: Stochastic Optimizer: Maximum iterations (200) reached and the optimization hasn't converged yet.\n",
            "  warnings.warn(\n"
          ]
        },
        {
          "output_type": "stream",
          "name": "stdout",
          "text": [
            "Fold: 80\n",
            "Test:  index=Int64Index([2987], dtype='int64') - Size: 1 \n",
            "\n"
          ]
        },
        {
          "output_type": "stream",
          "name": "stderr",
          "text": [
            "/usr/local/lib/python3.10/dist-packages/sklearn/neural_network/_multilayer_perceptron.py:686: ConvergenceWarning: Stochastic Optimizer: Maximum iterations (200) reached and the optimization hasn't converged yet.\n",
            "  warnings.warn(\n"
          ]
        },
        {
          "output_type": "stream",
          "name": "stdout",
          "text": [
            "Fold: 81\n",
            "Test:  index=Int64Index([2988], dtype='int64') - Size: 1 \n",
            "\n"
          ]
        },
        {
          "output_type": "stream",
          "name": "stderr",
          "text": [
            "/usr/local/lib/python3.10/dist-packages/sklearn/neural_network/_multilayer_perceptron.py:686: ConvergenceWarning: Stochastic Optimizer: Maximum iterations (200) reached and the optimization hasn't converged yet.\n",
            "  warnings.warn(\n"
          ]
        },
        {
          "output_type": "stream",
          "name": "stdout",
          "text": [
            "Fold: 82\n",
            "Test:  index=Int64Index([2989], dtype='int64') - Size: 1 \n",
            "\n"
          ]
        },
        {
          "output_type": "stream",
          "name": "stderr",
          "text": [
            "/usr/local/lib/python3.10/dist-packages/sklearn/neural_network/_multilayer_perceptron.py:686: ConvergenceWarning: Stochastic Optimizer: Maximum iterations (200) reached and the optimization hasn't converged yet.\n",
            "  warnings.warn(\n"
          ]
        },
        {
          "output_type": "stream",
          "name": "stdout",
          "text": [
            "Fold: 83\n",
            "Test:  index=Int64Index([2990], dtype='int64') - Size: 1 \n",
            "\n"
          ]
        },
        {
          "output_type": "stream",
          "name": "stderr",
          "text": [
            "/usr/local/lib/python3.10/dist-packages/sklearn/neural_network/_multilayer_perceptron.py:686: ConvergenceWarning: Stochastic Optimizer: Maximum iterations (200) reached and the optimization hasn't converged yet.\n",
            "  warnings.warn(\n"
          ]
        },
        {
          "output_type": "stream",
          "name": "stdout",
          "text": [
            "Fold: 84\n",
            "Test:  index=Int64Index([2991], dtype='int64') - Size: 1 \n",
            "\n",
            "Fold: 85\n",
            "Test:  index=Int64Index([2992], dtype='int64') - Size: 1 \n",
            "\n"
          ]
        },
        {
          "output_type": "stream",
          "name": "stderr",
          "text": [
            "/usr/local/lib/python3.10/dist-packages/sklearn/neural_network/_multilayer_perceptron.py:686: ConvergenceWarning: Stochastic Optimizer: Maximum iterations (200) reached and the optimization hasn't converged yet.\n",
            "  warnings.warn(\n"
          ]
        },
        {
          "output_type": "stream",
          "name": "stdout",
          "text": [
            "Fold: 86\n",
            "Test:  index=Int64Index([2993], dtype='int64') - Size: 1 \n",
            "\n"
          ]
        },
        {
          "output_type": "stream",
          "name": "stderr",
          "text": [
            "/usr/local/lib/python3.10/dist-packages/sklearn/neural_network/_multilayer_perceptron.py:686: ConvergenceWarning: Stochastic Optimizer: Maximum iterations (200) reached and the optimization hasn't converged yet.\n",
            "  warnings.warn(\n"
          ]
        },
        {
          "output_type": "stream",
          "name": "stdout",
          "text": [
            "Fold: 87\n",
            "Test:  index=Int64Index([2994], dtype='int64') - Size: 1 \n",
            "\n"
          ]
        },
        {
          "output_type": "stream",
          "name": "stderr",
          "text": [
            "/usr/local/lib/python3.10/dist-packages/sklearn/neural_network/_multilayer_perceptron.py:686: ConvergenceWarning: Stochastic Optimizer: Maximum iterations (200) reached and the optimization hasn't converged yet.\n",
            "  warnings.warn(\n"
          ]
        },
        {
          "output_type": "stream",
          "name": "stdout",
          "text": [
            "Fold: 88\n",
            "Test:  index=Int64Index([2995], dtype='int64') - Size: 1 \n",
            "\n",
            "Fold: 89\n",
            "Test:  index=Int64Index([2996], dtype='int64') - Size: 1 \n",
            "\n"
          ]
        },
        {
          "output_type": "stream",
          "name": "stderr",
          "text": [
            "/usr/local/lib/python3.10/dist-packages/sklearn/neural_network/_multilayer_perceptron.py:686: ConvergenceWarning: Stochastic Optimizer: Maximum iterations (200) reached and the optimization hasn't converged yet.\n",
            "  warnings.warn(\n"
          ]
        },
        {
          "output_type": "stream",
          "name": "stdout",
          "text": [
            "Fold: 90\n",
            "Test:  index=Int64Index([2997], dtype='int64') - Size: 1 \n",
            "\n"
          ]
        },
        {
          "output_type": "stream",
          "name": "stderr",
          "text": [
            "/usr/local/lib/python3.10/dist-packages/sklearn/neural_network/_multilayer_perceptron.py:686: ConvergenceWarning: Stochastic Optimizer: Maximum iterations (200) reached and the optimization hasn't converged yet.\n",
            "  warnings.warn(\n"
          ]
        },
        {
          "output_type": "stream",
          "name": "stdout",
          "text": [
            "Fold: 91\n",
            "Test:  index=Int64Index([2998], dtype='int64') - Size: 1 \n",
            "\n"
          ]
        },
        {
          "output_type": "stream",
          "name": "stderr",
          "text": [
            "/usr/local/lib/python3.10/dist-packages/sklearn/neural_network/_multilayer_perceptron.py:686: ConvergenceWarning: Stochastic Optimizer: Maximum iterations (200) reached and the optimization hasn't converged yet.\n",
            "  warnings.warn(\n"
          ]
        },
        {
          "output_type": "stream",
          "name": "stdout",
          "text": [
            "Fold: 92\n",
            "Test:  index=Int64Index([2999], dtype='int64') - Size: 1 \n",
            "\n",
            "Fold: 93\n",
            "Test:  index=Int64Index([3000], dtype='int64') - Size: 1 \n",
            "\n",
            "Fold: 94\n",
            "Test:  index=Int64Index([3001], dtype='int64') - Size: 1 \n",
            "\n",
            "Fold: 95\n",
            "Test:  index=Int64Index([3002], dtype='int64') - Size: 1 \n",
            "\n"
          ]
        },
        {
          "output_type": "stream",
          "name": "stderr",
          "text": [
            "/usr/local/lib/python3.10/dist-packages/sklearn/neural_network/_multilayer_perceptron.py:686: ConvergenceWarning: Stochastic Optimizer: Maximum iterations (200) reached and the optimization hasn't converged yet.\n",
            "  warnings.warn(\n"
          ]
        },
        {
          "output_type": "stream",
          "name": "stdout",
          "text": [
            "Fold: 96\n",
            "Test:  index=Int64Index([3003], dtype='int64') - Size: 1 \n",
            "\n",
            "Fold: 97\n",
            "Test:  index=Int64Index([3004], dtype='int64') - Size: 1 \n",
            "\n",
            "Fold: 98\n",
            "Test:  index=Int64Index([3005], dtype='int64') - Size: 1 \n",
            "\n"
          ]
        },
        {
          "output_type": "stream",
          "name": "stderr",
          "text": [
            "/usr/local/lib/python3.10/dist-packages/sklearn/neural_network/_multilayer_perceptron.py:686: ConvergenceWarning: Stochastic Optimizer: Maximum iterations (200) reached and the optimization hasn't converged yet.\n",
            "  warnings.warn(\n"
          ]
        },
        {
          "output_type": "stream",
          "name": "stdout",
          "text": [
            "Fold: 99\n",
            "Test:  index=Int64Index([3006], dtype='int64') - Size: 1 \n",
            "\n"
          ]
        },
        {
          "output_type": "stream",
          "name": "stderr",
          "text": [
            "/usr/local/lib/python3.10/dist-packages/sklearn/neural_network/_multilayer_perceptron.py:686: ConvergenceWarning: Stochastic Optimizer: Maximum iterations (200) reached and the optimization hasn't converged yet.\n",
            "  warnings.warn(\n"
          ]
        },
        {
          "output_type": "stream",
          "name": "stdout",
          "text": [
            "Fold: 100\n",
            "Test:  index=Int64Index([3007], dtype='int64') - Size: 1 \n",
            "\n"
          ]
        },
        {
          "output_type": "stream",
          "name": "stderr",
          "text": [
            "/usr/local/lib/python3.10/dist-packages/sklearn/neural_network/_multilayer_perceptron.py:686: ConvergenceWarning: Stochastic Optimizer: Maximum iterations (200) reached and the optimization hasn't converged yet.\n",
            "  warnings.warn(\n"
          ]
        },
        {
          "output_type": "stream",
          "name": "stdout",
          "text": [
            "Fold: 101\n",
            "Test:  index=Int64Index([3008], dtype='int64') - Size: 1 \n",
            "\n"
          ]
        },
        {
          "output_type": "stream",
          "name": "stderr",
          "text": [
            "/usr/local/lib/python3.10/dist-packages/sklearn/neural_network/_multilayer_perceptron.py:686: ConvergenceWarning: Stochastic Optimizer: Maximum iterations (200) reached and the optimization hasn't converged yet.\n",
            "  warnings.warn(\n"
          ]
        },
        {
          "output_type": "stream",
          "name": "stdout",
          "text": [
            "Fold: 102\n",
            "Test:  index=Int64Index([3009], dtype='int64') - Size: 1 \n",
            "\n"
          ]
        },
        {
          "output_type": "stream",
          "name": "stderr",
          "text": [
            "/usr/local/lib/python3.10/dist-packages/sklearn/neural_network/_multilayer_perceptron.py:686: ConvergenceWarning: Stochastic Optimizer: Maximum iterations (200) reached and the optimization hasn't converged yet.\n",
            "  warnings.warn(\n"
          ]
        },
        {
          "output_type": "stream",
          "name": "stdout",
          "text": [
            "Fold: 103\n",
            "Test:  index=Int64Index([3010], dtype='int64') - Size: 1 \n",
            "\n",
            "Fold: 104\n",
            "Test:  index=Int64Index([3011], dtype='int64') - Size: 1 \n",
            "\n"
          ]
        },
        {
          "output_type": "stream",
          "name": "stderr",
          "text": [
            "/usr/local/lib/python3.10/dist-packages/sklearn/neural_network/_multilayer_perceptron.py:686: ConvergenceWarning: Stochastic Optimizer: Maximum iterations (200) reached and the optimization hasn't converged yet.\n",
            "  warnings.warn(\n"
          ]
        },
        {
          "output_type": "stream",
          "name": "stdout",
          "text": [
            "Fold: 105\n",
            "Test:  index=Int64Index([3012], dtype='int64') - Size: 1 \n",
            "\n",
            "Fold: 106\n",
            "Test:  index=Int64Index([3013], dtype='int64') - Size: 1 \n",
            "\n"
          ]
        },
        {
          "output_type": "stream",
          "name": "stderr",
          "text": [
            "/usr/local/lib/python3.10/dist-packages/sklearn/neural_network/_multilayer_perceptron.py:686: ConvergenceWarning: Stochastic Optimizer: Maximum iterations (200) reached and the optimization hasn't converged yet.\n",
            "  warnings.warn(\n"
          ]
        },
        {
          "output_type": "stream",
          "name": "stdout",
          "text": [
            "Fold: 107\n",
            "Test:  index=Int64Index([3014], dtype='int64') - Size: 1 \n",
            "\n"
          ]
        },
        {
          "output_type": "stream",
          "name": "stderr",
          "text": [
            "/usr/local/lib/python3.10/dist-packages/sklearn/neural_network/_multilayer_perceptron.py:686: ConvergenceWarning: Stochastic Optimizer: Maximum iterations (200) reached and the optimization hasn't converged yet.\n",
            "  warnings.warn(\n"
          ]
        },
        {
          "output_type": "stream",
          "name": "stdout",
          "text": [
            "Fold: 108\n",
            "Test:  index=Int64Index([3015], dtype='int64') - Size: 1 \n",
            "\n",
            "Fold: 109\n",
            "Test:  index=Int64Index([3016], dtype='int64') - Size: 1 \n",
            "\n"
          ]
        },
        {
          "output_type": "stream",
          "name": "stderr",
          "text": [
            "/usr/local/lib/python3.10/dist-packages/sklearn/neural_network/_multilayer_perceptron.py:686: ConvergenceWarning: Stochastic Optimizer: Maximum iterations (200) reached and the optimization hasn't converged yet.\n",
            "  warnings.warn(\n"
          ]
        },
        {
          "output_type": "stream",
          "name": "stdout",
          "text": [
            "Fold: 110\n",
            "Test:  index=Int64Index([3017], dtype='int64') - Size: 1 \n",
            "\n"
          ]
        },
        {
          "output_type": "stream",
          "name": "stderr",
          "text": [
            "/usr/local/lib/python3.10/dist-packages/sklearn/neural_network/_multilayer_perceptron.py:686: ConvergenceWarning: Stochastic Optimizer: Maximum iterations (200) reached and the optimization hasn't converged yet.\n",
            "  warnings.warn(\n"
          ]
        },
        {
          "output_type": "stream",
          "name": "stdout",
          "text": [
            "Fold: 111\n",
            "Test:  index=Int64Index([3018], dtype='int64') - Size: 1 \n",
            "\n"
          ]
        },
        {
          "output_type": "stream",
          "name": "stderr",
          "text": [
            "/usr/local/lib/python3.10/dist-packages/sklearn/neural_network/_multilayer_perceptron.py:686: ConvergenceWarning: Stochastic Optimizer: Maximum iterations (200) reached and the optimization hasn't converged yet.\n",
            "  warnings.warn(\n"
          ]
        },
        {
          "output_type": "stream",
          "name": "stdout",
          "text": [
            "Fold: 112\n",
            "Test:  index=Int64Index([3019], dtype='int64') - Size: 1 \n",
            "\n"
          ]
        },
        {
          "output_type": "stream",
          "name": "stderr",
          "text": [
            "/usr/local/lib/python3.10/dist-packages/sklearn/neural_network/_multilayer_perceptron.py:686: ConvergenceWarning: Stochastic Optimizer: Maximum iterations (200) reached and the optimization hasn't converged yet.\n",
            "  warnings.warn(\n"
          ]
        },
        {
          "output_type": "stream",
          "name": "stdout",
          "text": [
            "Fold: 113\n",
            "Test:  index=Int64Index([3020], dtype='int64') - Size: 1 \n",
            "\n",
            "Fold: 114\n",
            "Test:  index=Int64Index([3021], dtype='int64') - Size: 1 \n",
            "\n"
          ]
        },
        {
          "output_type": "stream",
          "name": "stderr",
          "text": [
            "/usr/local/lib/python3.10/dist-packages/sklearn/neural_network/_multilayer_perceptron.py:686: ConvergenceWarning: Stochastic Optimizer: Maximum iterations (200) reached and the optimization hasn't converged yet.\n",
            "  warnings.warn(\n"
          ]
        },
        {
          "output_type": "stream",
          "name": "stdout",
          "text": [
            "Fold: 115\n",
            "Test:  index=Int64Index([3022], dtype='int64') - Size: 1 \n",
            "\n"
          ]
        },
        {
          "output_type": "stream",
          "name": "stderr",
          "text": [
            "/usr/local/lib/python3.10/dist-packages/sklearn/neural_network/_multilayer_perceptron.py:686: ConvergenceWarning: Stochastic Optimizer: Maximum iterations (200) reached and the optimization hasn't converged yet.\n",
            "  warnings.warn(\n"
          ]
        },
        {
          "output_type": "stream",
          "name": "stdout",
          "text": [
            "Fold: 116\n",
            "Test:  index=Int64Index([3023], dtype='int64') - Size: 1 \n",
            "\n",
            "Fold: 117\n",
            "Test:  index=Int64Index([3024], dtype='int64') - Size: 1 \n",
            "\n",
            "Fold: 118\n",
            "Test:  index=Int64Index([3025], dtype='int64') - Size: 1 \n",
            "\n"
          ]
        },
        {
          "output_type": "stream",
          "name": "stderr",
          "text": [
            "/usr/local/lib/python3.10/dist-packages/sklearn/neural_network/_multilayer_perceptron.py:686: ConvergenceWarning: Stochastic Optimizer: Maximum iterations (200) reached and the optimization hasn't converged yet.\n",
            "  warnings.warn(\n"
          ]
        },
        {
          "output_type": "stream",
          "name": "stdout",
          "text": [
            "Fold: 119\n",
            "Test:  index=Int64Index([3026], dtype='int64') - Size: 1 \n",
            "\n"
          ]
        },
        {
          "output_type": "stream",
          "name": "stderr",
          "text": [
            "/usr/local/lib/python3.10/dist-packages/sklearn/neural_network/_multilayer_perceptron.py:686: ConvergenceWarning: Stochastic Optimizer: Maximum iterations (200) reached and the optimization hasn't converged yet.\n",
            "  warnings.warn(\n"
          ]
        },
        {
          "output_type": "stream",
          "name": "stdout",
          "text": [
            "Fold: 120\n",
            "Test:  index=Int64Index([3027], dtype='int64') - Size: 1 \n",
            "\n",
            "Fold: 121\n",
            "Test:  index=Int64Index([3028], dtype='int64') - Size: 1 \n",
            "\n"
          ]
        },
        {
          "output_type": "stream",
          "name": "stderr",
          "text": [
            "/usr/local/lib/python3.10/dist-packages/sklearn/neural_network/_multilayer_perceptron.py:686: ConvergenceWarning: Stochastic Optimizer: Maximum iterations (200) reached and the optimization hasn't converged yet.\n",
            "  warnings.warn(\n"
          ]
        },
        {
          "output_type": "stream",
          "name": "stdout",
          "text": [
            "Fold: 122\n",
            "Test:  index=Int64Index([3029], dtype='int64') - Size: 1 \n",
            "\n",
            "Fold: 123\n",
            "Test:  index=Int64Index([3030], dtype='int64') - Size: 1 \n",
            "\n"
          ]
        },
        {
          "output_type": "stream",
          "name": "stderr",
          "text": [
            "/usr/local/lib/python3.10/dist-packages/sklearn/neural_network/_multilayer_perceptron.py:686: ConvergenceWarning: Stochastic Optimizer: Maximum iterations (200) reached and the optimization hasn't converged yet.\n",
            "  warnings.warn(\n"
          ]
        },
        {
          "output_type": "stream",
          "name": "stdout",
          "text": [
            "Fold: 124\n",
            "Test:  index=Int64Index([3031], dtype='int64') - Size: 1 \n",
            "\n",
            "Fold: 125\n",
            "Test:  index=Int64Index([3032], dtype='int64') - Size: 1 \n",
            "\n",
            "Fold: 126\n",
            "Test:  index=Int64Index([3033], dtype='int64') - Size: 1 \n",
            "\n"
          ]
        },
        {
          "output_type": "stream",
          "name": "stderr",
          "text": [
            "/usr/local/lib/python3.10/dist-packages/sklearn/neural_network/_multilayer_perceptron.py:686: ConvergenceWarning: Stochastic Optimizer: Maximum iterations (200) reached and the optimization hasn't converged yet.\n",
            "  warnings.warn(\n"
          ]
        },
        {
          "output_type": "stream",
          "name": "stdout",
          "text": [
            "Fold: 127\n",
            "Test:  index=Int64Index([3034], dtype='int64') - Size: 1 \n",
            "\n"
          ]
        },
        {
          "output_type": "stream",
          "name": "stderr",
          "text": [
            "/usr/local/lib/python3.10/dist-packages/sklearn/neural_network/_multilayer_perceptron.py:686: ConvergenceWarning: Stochastic Optimizer: Maximum iterations (200) reached and the optimization hasn't converged yet.\n",
            "  warnings.warn(\n"
          ]
        },
        {
          "output_type": "stream",
          "name": "stdout",
          "text": [
            "Fold: 128\n",
            "Test:  index=Int64Index([3035], dtype='int64') - Size: 1 \n",
            "\n"
          ]
        },
        {
          "output_type": "stream",
          "name": "stderr",
          "text": [
            "/usr/local/lib/python3.10/dist-packages/sklearn/neural_network/_multilayer_perceptron.py:686: ConvergenceWarning: Stochastic Optimizer: Maximum iterations (200) reached and the optimization hasn't converged yet.\n",
            "  warnings.warn(\n"
          ]
        },
        {
          "output_type": "stream",
          "name": "stdout",
          "text": [
            "Fold: 129\n",
            "Test:  index=Int64Index([3036], dtype='int64') - Size: 1 \n",
            "\n"
          ]
        },
        {
          "output_type": "stream",
          "name": "stderr",
          "text": [
            "/usr/local/lib/python3.10/dist-packages/sklearn/neural_network/_multilayer_perceptron.py:686: ConvergenceWarning: Stochastic Optimizer: Maximum iterations (200) reached and the optimization hasn't converged yet.\n",
            "  warnings.warn(\n"
          ]
        },
        {
          "output_type": "stream",
          "name": "stdout",
          "text": [
            "Fold: 130\n",
            "Test:  index=Int64Index([3037], dtype='int64') - Size: 1 \n",
            "\n",
            "Fold: 131\n",
            "Test:  index=Int64Index([3038], dtype='int64') - Size: 1 \n",
            "\n"
          ]
        },
        {
          "output_type": "stream",
          "name": "stderr",
          "text": [
            "/usr/local/lib/python3.10/dist-packages/sklearn/neural_network/_multilayer_perceptron.py:686: ConvergenceWarning: Stochastic Optimizer: Maximum iterations (200) reached and the optimization hasn't converged yet.\n",
            "  warnings.warn(\n"
          ]
        },
        {
          "output_type": "stream",
          "name": "stdout",
          "text": [
            "Fold: 132\n",
            "Test:  index=Int64Index([3039], dtype='int64') - Size: 1 \n",
            "\n"
          ]
        },
        {
          "output_type": "stream",
          "name": "stderr",
          "text": [
            "/usr/local/lib/python3.10/dist-packages/sklearn/neural_network/_multilayer_perceptron.py:686: ConvergenceWarning: Stochastic Optimizer: Maximum iterations (200) reached and the optimization hasn't converged yet.\n",
            "  warnings.warn(\n"
          ]
        },
        {
          "output_type": "stream",
          "name": "stdout",
          "text": [
            "Fold: 133\n",
            "Test:  index=Int64Index([3040], dtype='int64') - Size: 1 \n",
            "\n"
          ]
        },
        {
          "output_type": "stream",
          "name": "stderr",
          "text": [
            "/usr/local/lib/python3.10/dist-packages/sklearn/neural_network/_multilayer_perceptron.py:686: ConvergenceWarning: Stochastic Optimizer: Maximum iterations (200) reached and the optimization hasn't converged yet.\n",
            "  warnings.warn(\n"
          ]
        },
        {
          "output_type": "stream",
          "name": "stdout",
          "text": [
            "Fold: 134\n",
            "Test:  index=Int64Index([3041], dtype='int64') - Size: 1 \n",
            "\n"
          ]
        },
        {
          "output_type": "stream",
          "name": "stderr",
          "text": [
            "/usr/local/lib/python3.10/dist-packages/sklearn/neural_network/_multilayer_perceptron.py:686: ConvergenceWarning: Stochastic Optimizer: Maximum iterations (200) reached and the optimization hasn't converged yet.\n",
            "  warnings.warn(\n"
          ]
        },
        {
          "output_type": "stream",
          "name": "stdout",
          "text": [
            "Fold: 135\n",
            "Test:  index=Int64Index([3042], dtype='int64') - Size: 1 \n",
            "\n",
            "Fold: 136\n",
            "Test:  index=Int64Index([3043], dtype='int64') - Size: 1 \n",
            "\n",
            "Fold: 137\n",
            "Test:  index=Int64Index([3044], dtype='int64') - Size: 1 \n",
            "\n"
          ]
        },
        {
          "output_type": "stream",
          "name": "stderr",
          "text": [
            "/usr/local/lib/python3.10/dist-packages/sklearn/neural_network/_multilayer_perceptron.py:686: ConvergenceWarning: Stochastic Optimizer: Maximum iterations (200) reached and the optimization hasn't converged yet.\n",
            "  warnings.warn(\n"
          ]
        },
        {
          "output_type": "stream",
          "name": "stdout",
          "text": [
            "Fold: 138\n",
            "Test:  index=Int64Index([3045], dtype='int64') - Size: 1 \n",
            "\n",
            "Fold: 139\n",
            "Test:  index=Int64Index([3046], dtype='int64') - Size: 1 \n",
            "\n"
          ]
        },
        {
          "output_type": "stream",
          "name": "stderr",
          "text": [
            "/usr/local/lib/python3.10/dist-packages/sklearn/neural_network/_multilayer_perceptron.py:686: ConvergenceWarning: Stochastic Optimizer: Maximum iterations (200) reached and the optimization hasn't converged yet.\n",
            "  warnings.warn(\n"
          ]
        },
        {
          "output_type": "stream",
          "name": "stdout",
          "text": [
            "Fold: 140\n",
            "Test:  index=Int64Index([3047], dtype='int64') - Size: 1 \n",
            "\n"
          ]
        },
        {
          "output_type": "stream",
          "name": "stderr",
          "text": [
            "/usr/local/lib/python3.10/dist-packages/sklearn/neural_network/_multilayer_perceptron.py:686: ConvergenceWarning: Stochastic Optimizer: Maximum iterations (200) reached and the optimization hasn't converged yet.\n",
            "  warnings.warn(\n"
          ]
        },
        {
          "output_type": "stream",
          "name": "stdout",
          "text": [
            "Fold: 141\n",
            "Test:  index=Int64Index([3048], dtype='int64') - Size: 1 \n",
            "\n"
          ]
        },
        {
          "output_type": "stream",
          "name": "stderr",
          "text": [
            "/usr/local/lib/python3.10/dist-packages/sklearn/neural_network/_multilayer_perceptron.py:686: ConvergenceWarning: Stochastic Optimizer: Maximum iterations (200) reached and the optimization hasn't converged yet.\n",
            "  warnings.warn(\n"
          ]
        },
        {
          "output_type": "stream",
          "name": "stdout",
          "text": [
            "Fold: 142\n",
            "Test:  index=Int64Index([3049], dtype='int64') - Size: 1 \n",
            "\n"
          ]
        },
        {
          "output_type": "stream",
          "name": "stderr",
          "text": [
            "/usr/local/lib/python3.10/dist-packages/sklearn/neural_network/_multilayer_perceptron.py:686: ConvergenceWarning: Stochastic Optimizer: Maximum iterations (200) reached and the optimization hasn't converged yet.\n",
            "  warnings.warn(\n"
          ]
        },
        {
          "output_type": "stream",
          "name": "stdout",
          "text": [
            "Fold: 143\n",
            "Test:  index=Int64Index([3050], dtype='int64') - Size: 1 \n",
            "\n"
          ]
        },
        {
          "output_type": "stream",
          "name": "stderr",
          "text": [
            "/usr/local/lib/python3.10/dist-packages/sklearn/neural_network/_multilayer_perceptron.py:686: ConvergenceWarning: Stochastic Optimizer: Maximum iterations (200) reached and the optimization hasn't converged yet.\n",
            "  warnings.warn(\n"
          ]
        },
        {
          "output_type": "stream",
          "name": "stdout",
          "text": [
            "Fold: 144\n",
            "Test:  index=Int64Index([3051], dtype='int64') - Size: 1 \n",
            "\n"
          ]
        },
        {
          "output_type": "stream",
          "name": "stderr",
          "text": [
            "/usr/local/lib/python3.10/dist-packages/sklearn/neural_network/_multilayer_perceptron.py:686: ConvergenceWarning: Stochastic Optimizer: Maximum iterations (200) reached and the optimization hasn't converged yet.\n",
            "  warnings.warn(\n"
          ]
        },
        {
          "output_type": "stream",
          "name": "stdout",
          "text": [
            "Fold: 145\n",
            "Test:  index=Int64Index([3052], dtype='int64') - Size: 1 \n",
            "\n"
          ]
        },
        {
          "output_type": "stream",
          "name": "stderr",
          "text": [
            "/usr/local/lib/python3.10/dist-packages/sklearn/neural_network/_multilayer_perceptron.py:686: ConvergenceWarning: Stochastic Optimizer: Maximum iterations (200) reached and the optimization hasn't converged yet.\n",
            "  warnings.warn(\n"
          ]
        },
        {
          "output_type": "stream",
          "name": "stdout",
          "text": [
            "Fold: 146\n",
            "Test:  index=Int64Index([3053], dtype='int64') - Size: 1 \n",
            "\n"
          ]
        },
        {
          "output_type": "stream",
          "name": "stderr",
          "text": [
            "/usr/local/lib/python3.10/dist-packages/sklearn/neural_network/_multilayer_perceptron.py:686: ConvergenceWarning: Stochastic Optimizer: Maximum iterations (200) reached and the optimization hasn't converged yet.\n",
            "  warnings.warn(\n"
          ]
        },
        {
          "output_type": "stream",
          "name": "stdout",
          "text": [
            "Fold: 147\n",
            "Test:  index=Int64Index([3054], dtype='int64') - Size: 1 \n",
            "\n"
          ]
        },
        {
          "output_type": "stream",
          "name": "stderr",
          "text": [
            "/usr/local/lib/python3.10/dist-packages/sklearn/neural_network/_multilayer_perceptron.py:686: ConvergenceWarning: Stochastic Optimizer: Maximum iterations (200) reached and the optimization hasn't converged yet.\n",
            "  warnings.warn(\n"
          ]
        },
        {
          "output_type": "stream",
          "name": "stdout",
          "text": [
            "Fold: 148\n",
            "Test:  index=Int64Index([3055], dtype='int64') - Size: 1 \n",
            "\n"
          ]
        },
        {
          "output_type": "stream",
          "name": "stderr",
          "text": [
            "/usr/local/lib/python3.10/dist-packages/sklearn/neural_network/_multilayer_perceptron.py:686: ConvergenceWarning: Stochastic Optimizer: Maximum iterations (200) reached and the optimization hasn't converged yet.\n",
            "  warnings.warn(\n"
          ]
        },
        {
          "output_type": "stream",
          "name": "stdout",
          "text": [
            "Fold: 149\n",
            "Test:  index=Int64Index([3056], dtype='int64') - Size: 1 \n",
            "\n"
          ]
        },
        {
          "output_type": "stream",
          "name": "stderr",
          "text": [
            "/usr/local/lib/python3.10/dist-packages/sklearn/neural_network/_multilayer_perceptron.py:686: ConvergenceWarning: Stochastic Optimizer: Maximum iterations (200) reached and the optimization hasn't converged yet.\n",
            "  warnings.warn(\n"
          ]
        },
        {
          "output_type": "stream",
          "name": "stdout",
          "text": [
            "Fold: 150\n",
            "Test:  index=Int64Index([3057], dtype='int64') - Size: 1 \n",
            "\n",
            "Fold: 151\n",
            "Test:  index=Int64Index([3058], dtype='int64') - Size: 1 \n",
            "\n",
            "Fold: 152\n",
            "Test:  index=Int64Index([3059], dtype='int64') - Size: 1 \n",
            "\n"
          ]
        },
        {
          "output_type": "stream",
          "name": "stderr",
          "text": [
            "/usr/local/lib/python3.10/dist-packages/sklearn/neural_network/_multilayer_perceptron.py:686: ConvergenceWarning: Stochastic Optimizer: Maximum iterations (200) reached and the optimization hasn't converged yet.\n",
            "  warnings.warn(\n"
          ]
        },
        {
          "output_type": "stream",
          "name": "stdout",
          "text": [
            "Fold: 153\n",
            "Test:  index=Int64Index([3060], dtype='int64') - Size: 1 \n",
            "\n",
            "Fold: 154\n",
            "Test:  index=Int64Index([3061], dtype='int64') - Size: 1 \n",
            "\n"
          ]
        },
        {
          "output_type": "stream",
          "name": "stderr",
          "text": [
            "/usr/local/lib/python3.10/dist-packages/sklearn/neural_network/_multilayer_perceptron.py:686: ConvergenceWarning: Stochastic Optimizer: Maximum iterations (200) reached and the optimization hasn't converged yet.\n",
            "  warnings.warn(\n"
          ]
        },
        {
          "output_type": "stream",
          "name": "stdout",
          "text": [
            "Fold: 155\n",
            "Test:  index=Int64Index([3062], dtype='int64') - Size: 1 \n",
            "\n"
          ]
        },
        {
          "output_type": "stream",
          "name": "stderr",
          "text": [
            "/usr/local/lib/python3.10/dist-packages/sklearn/neural_network/_multilayer_perceptron.py:686: ConvergenceWarning: Stochastic Optimizer: Maximum iterations (200) reached and the optimization hasn't converged yet.\n",
            "  warnings.warn(\n"
          ]
        },
        {
          "output_type": "stream",
          "name": "stdout",
          "text": [
            "Fold: 156\n",
            "Test:  index=Int64Index([3063], dtype='int64') - Size: 1 \n",
            "\n"
          ]
        },
        {
          "output_type": "stream",
          "name": "stderr",
          "text": [
            "/usr/local/lib/python3.10/dist-packages/sklearn/neural_network/_multilayer_perceptron.py:686: ConvergenceWarning: Stochastic Optimizer: Maximum iterations (200) reached and the optimization hasn't converged yet.\n",
            "  warnings.warn(\n"
          ]
        },
        {
          "output_type": "stream",
          "name": "stdout",
          "text": [
            "Fold: 157\n",
            "Test:  index=Int64Index([3064], dtype='int64') - Size: 1 \n",
            "\n",
            "Fold: 158\n",
            "Test:  index=Int64Index([3065], dtype='int64') - Size: 1 \n",
            "\n"
          ]
        },
        {
          "output_type": "stream",
          "name": "stderr",
          "text": [
            "/usr/local/lib/python3.10/dist-packages/sklearn/neural_network/_multilayer_perceptron.py:686: ConvergenceWarning: Stochastic Optimizer: Maximum iterations (200) reached and the optimization hasn't converged yet.\n",
            "  warnings.warn(\n"
          ]
        },
        {
          "output_type": "stream",
          "name": "stdout",
          "text": [
            "Fold: 159\n",
            "Test:  index=Int64Index([3066], dtype='int64') - Size: 1 \n",
            "\n"
          ]
        },
        {
          "output_type": "stream",
          "name": "stderr",
          "text": [
            "/usr/local/lib/python3.10/dist-packages/sklearn/neural_network/_multilayer_perceptron.py:686: ConvergenceWarning: Stochastic Optimizer: Maximum iterations (200) reached and the optimization hasn't converged yet.\n",
            "  warnings.warn(\n"
          ]
        },
        {
          "output_type": "stream",
          "name": "stdout",
          "text": [
            "Fold: 160\n",
            "Test:  index=Int64Index([3067], dtype='int64') - Size: 1 \n",
            "\n"
          ]
        },
        {
          "output_type": "stream",
          "name": "stderr",
          "text": [
            "/usr/local/lib/python3.10/dist-packages/sklearn/neural_network/_multilayer_perceptron.py:686: ConvergenceWarning: Stochastic Optimizer: Maximum iterations (200) reached and the optimization hasn't converged yet.\n",
            "  warnings.warn(\n"
          ]
        },
        {
          "output_type": "stream",
          "name": "stdout",
          "text": [
            "Fold: 161\n",
            "Test:  index=Int64Index([3068], dtype='int64') - Size: 1 \n",
            "\n"
          ]
        },
        {
          "output_type": "stream",
          "name": "stderr",
          "text": [
            "/usr/local/lib/python3.10/dist-packages/sklearn/neural_network/_multilayer_perceptron.py:686: ConvergenceWarning: Stochastic Optimizer: Maximum iterations (200) reached and the optimization hasn't converged yet.\n",
            "  warnings.warn(\n"
          ]
        },
        {
          "output_type": "stream",
          "name": "stdout",
          "text": [
            "Fold: 162\n",
            "Test:  index=Int64Index([3069], dtype='int64') - Size: 1 \n",
            "\n",
            "Fold: 163\n",
            "Test:  index=Int64Index([3070], dtype='int64') - Size: 1 \n",
            "\n"
          ]
        },
        {
          "output_type": "stream",
          "name": "stderr",
          "text": [
            "/usr/local/lib/python3.10/dist-packages/sklearn/neural_network/_multilayer_perceptron.py:686: ConvergenceWarning: Stochastic Optimizer: Maximum iterations (200) reached and the optimization hasn't converged yet.\n",
            "  warnings.warn(\n"
          ]
        },
        {
          "output_type": "stream",
          "name": "stdout",
          "text": [
            "Fold: 164\n",
            "Test:  index=Int64Index([3071], dtype='int64') - Size: 1 \n",
            "\n",
            "Fold: 165\n",
            "Test:  index=Int64Index([3072], dtype='int64') - Size: 1 \n",
            "\n",
            "Fold: 166\n",
            "Test:  index=Int64Index([3073], dtype='int64') - Size: 1 \n",
            "\n",
            "Fold: 167\n",
            "Test:  index=Int64Index([3074], dtype='int64') - Size: 1 \n",
            "\n"
          ]
        },
        {
          "output_type": "stream",
          "name": "stderr",
          "text": [
            "/usr/local/lib/python3.10/dist-packages/sklearn/neural_network/_multilayer_perceptron.py:686: ConvergenceWarning: Stochastic Optimizer: Maximum iterations (200) reached and the optimization hasn't converged yet.\n",
            "  warnings.warn(\n"
          ]
        },
        {
          "output_type": "stream",
          "name": "stdout",
          "text": [
            "Fold: 168\n",
            "Test:  index=Int64Index([3075], dtype='int64') - Size: 1 \n",
            "\n",
            "Fold: 169\n",
            "Test:  index=Int64Index([3076], dtype='int64') - Size: 1 \n",
            "\n"
          ]
        },
        {
          "output_type": "stream",
          "name": "stderr",
          "text": [
            "/usr/local/lib/python3.10/dist-packages/sklearn/neural_network/_multilayer_perceptron.py:686: ConvergenceWarning: Stochastic Optimizer: Maximum iterations (200) reached and the optimization hasn't converged yet.\n",
            "  warnings.warn(\n"
          ]
        },
        {
          "output_type": "stream",
          "name": "stdout",
          "text": [
            "Fold: 170\n",
            "Test:  index=Int64Index([3077], dtype='int64') - Size: 1 \n",
            "\n"
          ]
        },
        {
          "output_type": "stream",
          "name": "stderr",
          "text": [
            "/usr/local/lib/python3.10/dist-packages/sklearn/neural_network/_multilayer_perceptron.py:686: ConvergenceWarning: Stochastic Optimizer: Maximum iterations (200) reached and the optimization hasn't converged yet.\n",
            "  warnings.warn(\n"
          ]
        },
        {
          "output_type": "stream",
          "name": "stdout",
          "text": [
            "Fold: 171\n",
            "Test:  index=Int64Index([3078], dtype='int64') - Size: 1 \n",
            "\n"
          ]
        },
        {
          "output_type": "stream",
          "name": "stderr",
          "text": [
            "/usr/local/lib/python3.10/dist-packages/sklearn/neural_network/_multilayer_perceptron.py:686: ConvergenceWarning: Stochastic Optimizer: Maximum iterations (200) reached and the optimization hasn't converged yet.\n",
            "  warnings.warn(\n"
          ]
        },
        {
          "output_type": "stream",
          "name": "stdout",
          "text": [
            "Fold: 172\n",
            "Test:  index=Int64Index([3079], dtype='int64') - Size: 1 \n",
            "\n"
          ]
        },
        {
          "output_type": "stream",
          "name": "stderr",
          "text": [
            "/usr/local/lib/python3.10/dist-packages/sklearn/neural_network/_multilayer_perceptron.py:686: ConvergenceWarning: Stochastic Optimizer: Maximum iterations (200) reached and the optimization hasn't converged yet.\n",
            "  warnings.warn(\n"
          ]
        },
        {
          "output_type": "stream",
          "name": "stdout",
          "text": [
            "Fold: 173\n",
            "Test:  index=Int64Index([3080], dtype='int64') - Size: 1 \n",
            "\n",
            "Fold: 174\n",
            "Test:  index=Int64Index([3081], dtype='int64') - Size: 1 \n",
            "\n"
          ]
        },
        {
          "output_type": "stream",
          "name": "stderr",
          "text": [
            "/usr/local/lib/python3.10/dist-packages/sklearn/neural_network/_multilayer_perceptron.py:686: ConvergenceWarning: Stochastic Optimizer: Maximum iterations (200) reached and the optimization hasn't converged yet.\n",
            "  warnings.warn(\n"
          ]
        },
        {
          "output_type": "stream",
          "name": "stdout",
          "text": [
            "Fold: 175\n",
            "Test:  index=Int64Index([3082], dtype='int64') - Size: 1 \n",
            "\n",
            "Fold: 176\n",
            "Test:  index=Int64Index([3083], dtype='int64') - Size: 1 \n",
            "\n",
            "Fold: 177\n",
            "Test:  index=Int64Index([3084], dtype='int64') - Size: 1 \n",
            "\n"
          ]
        },
        {
          "output_type": "stream",
          "name": "stderr",
          "text": [
            "/usr/local/lib/python3.10/dist-packages/sklearn/neural_network/_multilayer_perceptron.py:686: ConvergenceWarning: Stochastic Optimizer: Maximum iterations (200) reached and the optimization hasn't converged yet.\n",
            "  warnings.warn(\n"
          ]
        },
        {
          "output_type": "stream",
          "name": "stdout",
          "text": [
            "Fold: 178\n",
            "Test:  index=Int64Index([3085], dtype='int64') - Size: 1 \n",
            "\n"
          ]
        },
        {
          "output_type": "stream",
          "name": "stderr",
          "text": [
            "/usr/local/lib/python3.10/dist-packages/sklearn/neural_network/_multilayer_perceptron.py:686: ConvergenceWarning: Stochastic Optimizer: Maximum iterations (200) reached and the optimization hasn't converged yet.\n",
            "  warnings.warn(\n"
          ]
        },
        {
          "output_type": "stream",
          "name": "stdout",
          "text": [
            "Fold: 179\n",
            "Test:  index=Int64Index([3086], dtype='int64') - Size: 1 \n",
            "\n"
          ]
        },
        {
          "output_type": "stream",
          "name": "stderr",
          "text": [
            "/usr/local/lib/python3.10/dist-packages/sklearn/neural_network/_multilayer_perceptron.py:686: ConvergenceWarning: Stochastic Optimizer: Maximum iterations (200) reached and the optimization hasn't converged yet.\n",
            "  warnings.warn(\n"
          ]
        },
        {
          "output_type": "stream",
          "name": "stdout",
          "text": [
            "Fold: 180\n",
            "Test:  index=Int64Index([3087], dtype='int64') - Size: 1 \n",
            "\n",
            "Fold: 181\n",
            "Test:  index=Int64Index([3088], dtype='int64') - Size: 1 \n",
            "\n"
          ]
        },
        {
          "output_type": "stream",
          "name": "stderr",
          "text": [
            "/usr/local/lib/python3.10/dist-packages/sklearn/neural_network/_multilayer_perceptron.py:686: ConvergenceWarning: Stochastic Optimizer: Maximum iterations (200) reached and the optimization hasn't converged yet.\n",
            "  warnings.warn(\n"
          ]
        },
        {
          "output_type": "stream",
          "name": "stdout",
          "text": [
            "Fold: 182\n",
            "Test:  index=Int64Index([3089], dtype='int64') - Size: 1 \n",
            "\n",
            "Fold: 183\n",
            "Test:  index=Int64Index([3090], dtype='int64') - Size: 1 \n",
            "\n"
          ]
        },
        {
          "output_type": "stream",
          "name": "stderr",
          "text": [
            "/usr/local/lib/python3.10/dist-packages/sklearn/neural_network/_multilayer_perceptron.py:686: ConvergenceWarning: Stochastic Optimizer: Maximum iterations (200) reached and the optimization hasn't converged yet.\n",
            "  warnings.warn(\n"
          ]
        },
        {
          "output_type": "stream",
          "name": "stdout",
          "text": [
            "Fold: 184\n",
            "Test:  index=Int64Index([3091], dtype='int64') - Size: 1 \n",
            "\n",
            "Fold: 185\n",
            "Test:  index=Int64Index([3092], dtype='int64') - Size: 1 \n",
            "\n",
            "Fold: 186\n",
            "Test:  index=Int64Index([3093], dtype='int64') - Size: 1 \n",
            "\n",
            "Fold: 187\n",
            "Test:  index=Int64Index([3094], dtype='int64') - Size: 1 \n",
            "\n"
          ]
        },
        {
          "output_type": "stream",
          "name": "stderr",
          "text": [
            "/usr/local/lib/python3.10/dist-packages/sklearn/neural_network/_multilayer_perceptron.py:686: ConvergenceWarning: Stochastic Optimizer: Maximum iterations (200) reached and the optimization hasn't converged yet.\n",
            "  warnings.warn(\n"
          ]
        },
        {
          "output_type": "stream",
          "name": "stdout",
          "text": [
            "Fold: 188\n",
            "Test:  index=Int64Index([3095], dtype='int64') - Size: 1 \n",
            "\n"
          ]
        },
        {
          "output_type": "stream",
          "name": "stderr",
          "text": [
            "/usr/local/lib/python3.10/dist-packages/sklearn/neural_network/_multilayer_perceptron.py:686: ConvergenceWarning: Stochastic Optimizer: Maximum iterations (200) reached and the optimization hasn't converged yet.\n",
            "  warnings.warn(\n"
          ]
        },
        {
          "output_type": "stream",
          "name": "stdout",
          "text": [
            "Fold: 189\n",
            "Test:  index=Int64Index([3096], dtype='int64') - Size: 1 \n",
            "\n"
          ]
        },
        {
          "output_type": "stream",
          "name": "stderr",
          "text": [
            "/usr/local/lib/python3.10/dist-packages/sklearn/neural_network/_multilayer_perceptron.py:686: ConvergenceWarning: Stochastic Optimizer: Maximum iterations (200) reached and the optimization hasn't converged yet.\n",
            "  warnings.warn(\n"
          ]
        },
        {
          "output_type": "stream",
          "name": "stdout",
          "text": [
            "Fold: 190\n",
            "Test:  index=Int64Index([3097], dtype='int64') - Size: 1 \n",
            "\n",
            "Fold: 191\n",
            "Test:  index=Int64Index([3098], dtype='int64') - Size: 1 \n",
            "\n"
          ]
        },
        {
          "output_type": "stream",
          "name": "stderr",
          "text": [
            "/usr/local/lib/python3.10/dist-packages/sklearn/neural_network/_multilayer_perceptron.py:686: ConvergenceWarning: Stochastic Optimizer: Maximum iterations (200) reached and the optimization hasn't converged yet.\n",
            "  warnings.warn(\n"
          ]
        },
        {
          "output_type": "stream",
          "name": "stdout",
          "text": [
            "Fold: 192\n",
            "Test:  index=Int64Index([3099], dtype='int64') - Size: 1 \n",
            "\n",
            "Fold: 193\n",
            "Test:  index=Int64Index([3100], dtype='int64') - Size: 1 \n",
            "\n",
            "Fold: 194\n",
            "Test:  index=Int64Index([3101], dtype='int64') - Size: 1 \n",
            "\n"
          ]
        },
        {
          "output_type": "stream",
          "name": "stderr",
          "text": [
            "/usr/local/lib/python3.10/dist-packages/sklearn/neural_network/_multilayer_perceptron.py:686: ConvergenceWarning: Stochastic Optimizer: Maximum iterations (200) reached and the optimization hasn't converged yet.\n",
            "  warnings.warn(\n"
          ]
        },
        {
          "output_type": "stream",
          "name": "stdout",
          "text": [
            "Fold: 195\n",
            "Test:  index=Int64Index([3102], dtype='int64') - Size: 1 \n",
            "\n",
            "Fold: 196\n",
            "Test:  index=Int64Index([3103], dtype='int64') - Size: 1 \n",
            "\n"
          ]
        },
        {
          "output_type": "stream",
          "name": "stderr",
          "text": [
            "/usr/local/lib/python3.10/dist-packages/sklearn/neural_network/_multilayer_perceptron.py:686: ConvergenceWarning: Stochastic Optimizer: Maximum iterations (200) reached and the optimization hasn't converged yet.\n",
            "  warnings.warn(\n"
          ]
        },
        {
          "output_type": "stream",
          "name": "stdout",
          "text": [
            "Fold: 197\n",
            "Test:  index=Int64Index([3104], dtype='int64') - Size: 1 \n",
            "\n",
            "Fold: 198\n",
            "Test:  index=Int64Index([3105], dtype='int64') - Size: 1 \n",
            "\n"
          ]
        },
        {
          "output_type": "stream",
          "name": "stderr",
          "text": [
            "/usr/local/lib/python3.10/dist-packages/sklearn/neural_network/_multilayer_perceptron.py:686: ConvergenceWarning: Stochastic Optimizer: Maximum iterations (200) reached and the optimization hasn't converged yet.\n",
            "  warnings.warn(\n"
          ]
        },
        {
          "output_type": "stream",
          "name": "stdout",
          "text": [
            "Fold: 199\n",
            "Test:  index=Int64Index([3106], dtype='int64') - Size: 1 \n",
            "\n",
            "Fold: 200\n",
            "Test:  index=Int64Index([3107], dtype='int64') - Size: 1 \n",
            "\n",
            "Fold: 201\n",
            "Test:  index=Int64Index([3108], dtype='int64') - Size: 1 \n",
            "\n",
            "Fold: 202\n",
            "Test:  index=Int64Index([3109], dtype='int64') - Size: 1 \n",
            "\n",
            "Fold: 203\n",
            "Test:  index=Int64Index([3110], dtype='int64') - Size: 1 \n",
            "\n",
            "Fold: 204\n",
            "Test:  index=Int64Index([3111], dtype='int64') - Size: 1 \n",
            "\n",
            "Fold: 205\n",
            "Test:  index=Int64Index([3112], dtype='int64') - Size: 1 \n",
            "\n",
            "Fold: 206\n",
            "Test:  index=Int64Index([3113], dtype='int64') - Size: 1 \n",
            "\n",
            "Fold: 207\n",
            "Test:  index=Int64Index([3114], dtype='int64') - Size: 1 \n",
            "\n",
            "Fold: 208\n",
            "Test:  index=Int64Index([3115], dtype='int64') - Size: 1 \n",
            "\n",
            "Fold: 209\n",
            "Test:  index=Int64Index([3116], dtype='int64') - Size: 1 \n",
            "\n"
          ]
        },
        {
          "output_type": "stream",
          "name": "stderr",
          "text": [
            "/usr/local/lib/python3.10/dist-packages/sklearn/neural_network/_multilayer_perceptron.py:686: ConvergenceWarning: Stochastic Optimizer: Maximum iterations (200) reached and the optimization hasn't converged yet.\n",
            "  warnings.warn(\n"
          ]
        },
        {
          "output_type": "stream",
          "name": "stdout",
          "text": [
            "Fold: 210\n",
            "Test:  index=Int64Index([3117], dtype='int64') - Size: 1 \n",
            "\n"
          ]
        },
        {
          "output_type": "stream",
          "name": "stderr",
          "text": [
            "/usr/local/lib/python3.10/dist-packages/sklearn/neural_network/_multilayer_perceptron.py:686: ConvergenceWarning: Stochastic Optimizer: Maximum iterations (200) reached and the optimization hasn't converged yet.\n",
            "  warnings.warn(\n"
          ]
        },
        {
          "output_type": "stream",
          "name": "stdout",
          "text": [
            "Fold: 211\n",
            "Test:  index=Int64Index([3118], dtype='int64') - Size: 1 \n",
            "\n",
            "Fold: 212\n",
            "Test:  index=Int64Index([3119], dtype='int64') - Size: 1 \n",
            "\n"
          ]
        },
        {
          "output_type": "stream",
          "name": "stderr",
          "text": [
            "/usr/local/lib/python3.10/dist-packages/sklearn/neural_network/_multilayer_perceptron.py:686: ConvergenceWarning: Stochastic Optimizer: Maximum iterations (200) reached and the optimization hasn't converged yet.\n",
            "  warnings.warn(\n"
          ]
        },
        {
          "output_type": "stream",
          "name": "stdout",
          "text": [
            "Fold: 213\n",
            "Test:  index=Int64Index([3120], dtype='int64') - Size: 1 \n",
            "\n"
          ]
        },
        {
          "output_type": "stream",
          "name": "stderr",
          "text": [
            "/usr/local/lib/python3.10/dist-packages/sklearn/neural_network/_multilayer_perceptron.py:686: ConvergenceWarning: Stochastic Optimizer: Maximum iterations (200) reached and the optimization hasn't converged yet.\n",
            "  warnings.warn(\n"
          ]
        },
        {
          "output_type": "stream",
          "name": "stdout",
          "text": [
            "Fold: 214\n",
            "Test:  index=Int64Index([3121], dtype='int64') - Size: 1 \n",
            "\n",
            "Fold: 215\n",
            "Test:  index=Int64Index([3122], dtype='int64') - Size: 1 \n",
            "\n",
            "Fold: 216\n",
            "Test:  index=Int64Index([3123], dtype='int64') - Size: 1 \n",
            "\n",
            "Fold: 217\n",
            "Test:  index=Int64Index([3124], dtype='int64') - Size: 1 \n",
            "\n",
            "Fold: 218\n",
            "Test:  index=Int64Index([3125], dtype='int64') - Size: 1 \n",
            "\n",
            "Fold: 219\n",
            "Test:  index=Int64Index([3126], dtype='int64') - Size: 1 \n",
            "\n"
          ]
        },
        {
          "output_type": "stream",
          "name": "stderr",
          "text": [
            "/usr/local/lib/python3.10/dist-packages/sklearn/neural_network/_multilayer_perceptron.py:686: ConvergenceWarning: Stochastic Optimizer: Maximum iterations (200) reached and the optimization hasn't converged yet.\n",
            "  warnings.warn(\n"
          ]
        },
        {
          "output_type": "stream",
          "name": "stdout",
          "text": [
            "Fold: 220\n",
            "Test:  index=Int64Index([3127], dtype='int64') - Size: 1 \n",
            "\n",
            "Fold: 221\n",
            "Test:  index=Int64Index([3128], dtype='int64') - Size: 1 \n",
            "\n",
            "Fold: 222\n",
            "Test:  index=Int64Index([3129], dtype='int64') - Size: 1 \n",
            "\n"
          ]
        },
        {
          "output_type": "stream",
          "name": "stderr",
          "text": [
            "/usr/local/lib/python3.10/dist-packages/sklearn/neural_network/_multilayer_perceptron.py:686: ConvergenceWarning: Stochastic Optimizer: Maximum iterations (200) reached and the optimization hasn't converged yet.\n",
            "  warnings.warn(\n"
          ]
        },
        {
          "output_type": "stream",
          "name": "stdout",
          "text": [
            "Fold: 223\n",
            "Test:  index=Int64Index([3130], dtype='int64') - Size: 1 \n",
            "\n",
            "Fold: 224\n",
            "Test:  index=Int64Index([3131], dtype='int64') - Size: 1 \n",
            "\n",
            "Fold: 225\n",
            "Test:  index=Int64Index([3132], dtype='int64') - Size: 1 \n",
            "\n",
            "Fold: 226\n",
            "Test:  index=Int64Index([3133], dtype='int64') - Size: 1 \n",
            "\n",
            "Fold: 227\n",
            "Test:  index=Int64Index([3134], dtype='int64') - Size: 1 \n",
            "\n"
          ]
        },
        {
          "output_type": "stream",
          "name": "stderr",
          "text": [
            "/usr/local/lib/python3.10/dist-packages/sklearn/neural_network/_multilayer_perceptron.py:686: ConvergenceWarning: Stochastic Optimizer: Maximum iterations (200) reached and the optimization hasn't converged yet.\n",
            "  warnings.warn(\n"
          ]
        },
        {
          "output_type": "stream",
          "name": "stdout",
          "text": [
            "Fold: 228\n",
            "Test:  index=Int64Index([3135], dtype='int64') - Size: 1 \n",
            "\n",
            "Fold: 229\n",
            "Test:  index=Int64Index([3136], dtype='int64') - Size: 1 \n",
            "\n",
            "Fold: 230\n",
            "Test:  index=Int64Index([3137], dtype='int64') - Size: 1 \n",
            "\n"
          ]
        },
        {
          "output_type": "stream",
          "name": "stderr",
          "text": [
            "/usr/local/lib/python3.10/dist-packages/sklearn/neural_network/_multilayer_perceptron.py:686: ConvergenceWarning: Stochastic Optimizer: Maximum iterations (200) reached and the optimization hasn't converged yet.\n",
            "  warnings.warn(\n"
          ]
        },
        {
          "output_type": "stream",
          "name": "stdout",
          "text": [
            "Fold: 231\n",
            "Test:  index=Int64Index([3138], dtype='int64') - Size: 1 \n",
            "\n",
            "Fold: 232\n",
            "Test:  index=Int64Index([3139], dtype='int64') - Size: 1 \n",
            "\n"
          ]
        },
        {
          "output_type": "stream",
          "name": "stderr",
          "text": [
            "/usr/local/lib/python3.10/dist-packages/sklearn/neural_network/_multilayer_perceptron.py:686: ConvergenceWarning: Stochastic Optimizer: Maximum iterations (200) reached and the optimization hasn't converged yet.\n",
            "  warnings.warn(\n"
          ]
        },
        {
          "output_type": "stream",
          "name": "stdout",
          "text": [
            "Fold: 233\n",
            "Test:  index=Int64Index([3140], dtype='int64') - Size: 1 \n",
            "\n"
          ]
        },
        {
          "output_type": "stream",
          "name": "stderr",
          "text": [
            "/usr/local/lib/python3.10/dist-packages/sklearn/neural_network/_multilayer_perceptron.py:686: ConvergenceWarning: Stochastic Optimizer: Maximum iterations (200) reached and the optimization hasn't converged yet.\n",
            "  warnings.warn(\n"
          ]
        },
        {
          "output_type": "stream",
          "name": "stdout",
          "text": [
            "Fold: 234\n",
            "Test:  index=Int64Index([3141], dtype='int64') - Size: 1 \n",
            "\n",
            "Fold: 235\n",
            "Test:  index=Int64Index([3142], dtype='int64') - Size: 1 \n",
            "\n",
            "Fold: 236\n",
            "Test:  index=Int64Index([3143], dtype='int64') - Size: 1 \n",
            "\n",
            "Fold: 237\n",
            "Test:  index=Int64Index([3144], dtype='int64') - Size: 1 \n",
            "\n",
            "Fold: 238\n",
            "Test:  index=Int64Index([3145], dtype='int64') - Size: 1 \n",
            "\n",
            "Fold: 239\n",
            "Test:  index=Int64Index([3146], dtype='int64') - Size: 1 \n",
            "\n"
          ]
        },
        {
          "output_type": "stream",
          "name": "stderr",
          "text": [
            "/usr/local/lib/python3.10/dist-packages/sklearn/neural_network/_multilayer_perceptron.py:686: ConvergenceWarning: Stochastic Optimizer: Maximum iterations (200) reached and the optimization hasn't converged yet.\n",
            "  warnings.warn(\n"
          ]
        },
        {
          "output_type": "stream",
          "name": "stdout",
          "text": [
            "Fold: 240\n",
            "Test:  index=Int64Index([3147], dtype='int64') - Size: 1 \n",
            "\n",
            "Fold: 241\n",
            "Test:  index=Int64Index([3148], dtype='int64') - Size: 1 \n",
            "\n",
            "Fold: 242\n",
            "Test:  index=Int64Index([3149], dtype='int64') - Size: 1 \n",
            "\n",
            "Fold: 243\n",
            "Test:  index=Int64Index([3150], dtype='int64') - Size: 1 \n",
            "\n"
          ]
        },
        {
          "output_type": "stream",
          "name": "stderr",
          "text": [
            "/usr/local/lib/python3.10/dist-packages/sklearn/neural_network/_multilayer_perceptron.py:686: ConvergenceWarning: Stochastic Optimizer: Maximum iterations (200) reached and the optimization hasn't converged yet.\n",
            "  warnings.warn(\n"
          ]
        },
        {
          "output_type": "stream",
          "name": "stdout",
          "text": [
            "Fold: 244\n",
            "Test:  index=Int64Index([3151], dtype='int64') - Size: 1 \n",
            "\n"
          ]
        },
        {
          "output_type": "stream",
          "name": "stderr",
          "text": [
            "/usr/local/lib/python3.10/dist-packages/sklearn/neural_network/_multilayer_perceptron.py:686: ConvergenceWarning: Stochastic Optimizer: Maximum iterations (200) reached and the optimization hasn't converged yet.\n",
            "  warnings.warn(\n"
          ]
        },
        {
          "output_type": "stream",
          "name": "stdout",
          "text": [
            "Fold: 245\n",
            "Test:  index=Int64Index([3152], dtype='int64') - Size: 1 \n",
            "\n",
            "Fold: 246\n",
            "Test:  index=Int64Index([3153], dtype='int64') - Size: 1 \n",
            "\n",
            "Fold: 247\n",
            "Test:  index=Int64Index([3154], dtype='int64') - Size: 1 \n",
            "\n"
          ]
        },
        {
          "output_type": "stream",
          "name": "stderr",
          "text": [
            "/usr/local/lib/python3.10/dist-packages/sklearn/neural_network/_multilayer_perceptron.py:686: ConvergenceWarning: Stochastic Optimizer: Maximum iterations (200) reached and the optimization hasn't converged yet.\n",
            "  warnings.warn(\n"
          ]
        },
        {
          "output_type": "stream",
          "name": "stdout",
          "text": [
            "Fold: 248\n",
            "Test:  index=Int64Index([3155], dtype='int64') - Size: 1 \n",
            "\n"
          ]
        },
        {
          "output_type": "stream",
          "name": "stderr",
          "text": [
            "/usr/local/lib/python3.10/dist-packages/sklearn/neural_network/_multilayer_perceptron.py:686: ConvergenceWarning: Stochastic Optimizer: Maximum iterations (200) reached and the optimization hasn't converged yet.\n",
            "  warnings.warn(\n"
          ]
        },
        {
          "output_type": "stream",
          "name": "stdout",
          "text": [
            "Fold: 249\n",
            "Test:  index=Int64Index([3156], dtype='int64') - Size: 1 \n",
            "\n"
          ]
        },
        {
          "output_type": "stream",
          "name": "stderr",
          "text": [
            "/usr/local/lib/python3.10/dist-packages/sklearn/neural_network/_multilayer_perceptron.py:686: ConvergenceWarning: Stochastic Optimizer: Maximum iterations (200) reached and the optimization hasn't converged yet.\n",
            "  warnings.warn(\n"
          ]
        },
        {
          "output_type": "stream",
          "name": "stdout",
          "text": [
            "Fold: 250\n",
            "Test:  index=Int64Index([3157], dtype='int64') - Size: 1 \n",
            "\n",
            "Fold: 251\n",
            "Test:  index=Int64Index([3158], dtype='int64') - Size: 1 \n",
            "\n"
          ]
        },
        {
          "output_type": "stream",
          "name": "stderr",
          "text": [
            "/usr/local/lib/python3.10/dist-packages/sklearn/neural_network/_multilayer_perceptron.py:686: ConvergenceWarning: Stochastic Optimizer: Maximum iterations (200) reached and the optimization hasn't converged yet.\n",
            "  warnings.warn(\n"
          ]
        },
        {
          "output_type": "stream",
          "name": "stdout",
          "text": [
            "Fold: 252\n",
            "Test:  index=Int64Index([3159], dtype='int64') - Size: 1 \n",
            "\n"
          ]
        },
        {
          "output_type": "stream",
          "name": "stderr",
          "text": [
            "/usr/local/lib/python3.10/dist-packages/sklearn/neural_network/_multilayer_perceptron.py:686: ConvergenceWarning: Stochastic Optimizer: Maximum iterations (200) reached and the optimization hasn't converged yet.\n",
            "  warnings.warn(\n"
          ]
        },
        {
          "output_type": "stream",
          "name": "stdout",
          "text": [
            "Fold: 253\n",
            "Test:  index=Int64Index([3160], dtype='int64') - Size: 1 \n",
            "\n",
            "Fold: 254\n",
            "Test:  index=Int64Index([3161], dtype='int64') - Size: 1 \n",
            "\n"
          ]
        },
        {
          "output_type": "stream",
          "name": "stderr",
          "text": [
            "/usr/local/lib/python3.10/dist-packages/sklearn/neural_network/_multilayer_perceptron.py:686: ConvergenceWarning: Stochastic Optimizer: Maximum iterations (200) reached and the optimization hasn't converged yet.\n",
            "  warnings.warn(\n"
          ]
        },
        {
          "output_type": "stream",
          "name": "stdout",
          "text": [
            "Fold: 255\n",
            "Test:  index=Int64Index([3162], dtype='int64') - Size: 1 \n",
            "\n"
          ]
        },
        {
          "output_type": "stream",
          "name": "stderr",
          "text": [
            "/usr/local/lib/python3.10/dist-packages/sklearn/neural_network/_multilayer_perceptron.py:686: ConvergenceWarning: Stochastic Optimizer: Maximum iterations (200) reached and the optimization hasn't converged yet.\n",
            "  warnings.warn(\n"
          ]
        },
        {
          "output_type": "stream",
          "name": "stdout",
          "text": [
            "Fold: 256\n",
            "Test:  index=Int64Index([3163], dtype='int64') - Size: 1 \n",
            "\n"
          ]
        },
        {
          "output_type": "stream",
          "name": "stderr",
          "text": [
            "/usr/local/lib/python3.10/dist-packages/sklearn/neural_network/_multilayer_perceptron.py:686: ConvergenceWarning: Stochastic Optimizer: Maximum iterations (200) reached and the optimization hasn't converged yet.\n",
            "  warnings.warn(\n"
          ]
        },
        {
          "output_type": "stream",
          "name": "stdout",
          "text": [
            "Fold: 257\n",
            "Test:  index=Int64Index([3164], dtype='int64') - Size: 1 \n",
            "\n",
            "Fold: 258\n",
            "Test:  index=Int64Index([3165], dtype='int64') - Size: 1 \n",
            "\n",
            "Fold: 259\n",
            "Test:  index=Int64Index([3166], dtype='int64') - Size: 1 \n",
            "\n"
          ]
        },
        {
          "output_type": "stream",
          "name": "stderr",
          "text": [
            "/usr/local/lib/python3.10/dist-packages/sklearn/neural_network/_multilayer_perceptron.py:686: ConvergenceWarning: Stochastic Optimizer: Maximum iterations (200) reached and the optimization hasn't converged yet.\n",
            "  warnings.warn(\n"
          ]
        },
        {
          "output_type": "stream",
          "name": "stdout",
          "text": [
            "Fold: 260\n",
            "Test:  index=Int64Index([3167], dtype='int64') - Size: 1 \n",
            "\n"
          ]
        },
        {
          "output_type": "stream",
          "name": "stderr",
          "text": [
            "/usr/local/lib/python3.10/dist-packages/sklearn/neural_network/_multilayer_perceptron.py:686: ConvergenceWarning: Stochastic Optimizer: Maximum iterations (200) reached and the optimization hasn't converged yet.\n",
            "  warnings.warn(\n"
          ]
        },
        {
          "output_type": "stream",
          "name": "stdout",
          "text": [
            "Fold: 261\n",
            "Test:  index=Int64Index([3168], dtype='int64') - Size: 1 \n",
            "\n"
          ]
        },
        {
          "output_type": "stream",
          "name": "stderr",
          "text": [
            "/usr/local/lib/python3.10/dist-packages/sklearn/neural_network/_multilayer_perceptron.py:686: ConvergenceWarning: Stochastic Optimizer: Maximum iterations (200) reached and the optimization hasn't converged yet.\n",
            "  warnings.warn(\n"
          ]
        },
        {
          "output_type": "stream",
          "name": "stdout",
          "text": [
            "Fold: 262\n",
            "Test:  index=Int64Index([3169], dtype='int64') - Size: 1 \n",
            "\n"
          ]
        },
        {
          "output_type": "stream",
          "name": "stderr",
          "text": [
            "/usr/local/lib/python3.10/dist-packages/sklearn/neural_network/_multilayer_perceptron.py:686: ConvergenceWarning: Stochastic Optimizer: Maximum iterations (200) reached and the optimization hasn't converged yet.\n",
            "  warnings.warn(\n"
          ]
        },
        {
          "output_type": "stream",
          "name": "stdout",
          "text": [
            "Fold: 263\n",
            "Test:  index=Int64Index([3170], dtype='int64') - Size: 1 \n",
            "\n"
          ]
        },
        {
          "output_type": "stream",
          "name": "stderr",
          "text": [
            "/usr/local/lib/python3.10/dist-packages/sklearn/neural_network/_multilayer_perceptron.py:686: ConvergenceWarning: Stochastic Optimizer: Maximum iterations (200) reached and the optimization hasn't converged yet.\n",
            "  warnings.warn(\n"
          ]
        },
        {
          "output_type": "stream",
          "name": "stdout",
          "text": [
            "Fold: 264\n",
            "Test:  index=Int64Index([3171], dtype='int64') - Size: 1 \n",
            "\n"
          ]
        },
        {
          "output_type": "stream",
          "name": "stderr",
          "text": [
            "/usr/local/lib/python3.10/dist-packages/sklearn/neural_network/_multilayer_perceptron.py:686: ConvergenceWarning: Stochastic Optimizer: Maximum iterations (200) reached and the optimization hasn't converged yet.\n",
            "  warnings.warn(\n"
          ]
        },
        {
          "output_type": "stream",
          "name": "stdout",
          "text": [
            "Fold: 265\n",
            "Test:  index=Int64Index([3172], dtype='int64') - Size: 1 \n",
            "\n",
            "Fold: 266\n",
            "Test:  index=Int64Index([3173], dtype='int64') - Size: 1 \n",
            "\n",
            "Fold: 267\n",
            "Test:  index=Int64Index([3174], dtype='int64') - Size: 1 \n",
            "\n",
            "Fold: 268\n",
            "Test:  index=Int64Index([3175], dtype='int64') - Size: 1 \n",
            "\n"
          ]
        },
        {
          "output_type": "stream",
          "name": "stderr",
          "text": [
            "/usr/local/lib/python3.10/dist-packages/sklearn/neural_network/_multilayer_perceptron.py:686: ConvergenceWarning: Stochastic Optimizer: Maximum iterations (200) reached and the optimization hasn't converged yet.\n",
            "  warnings.warn(\n"
          ]
        },
        {
          "output_type": "stream",
          "name": "stdout",
          "text": [
            "Fold: 269\n",
            "Test:  index=Int64Index([3176], dtype='int64') - Size: 1 \n",
            "\n",
            "Fold: 270\n",
            "Test:  index=Int64Index([3177], dtype='int64') - Size: 1 \n",
            "\n",
            "Fold: 271\n",
            "Test:  index=Int64Index([3178], dtype='int64') - Size: 1 \n",
            "\n"
          ]
        },
        {
          "output_type": "stream",
          "name": "stderr",
          "text": [
            "/usr/local/lib/python3.10/dist-packages/sklearn/neural_network/_multilayer_perceptron.py:686: ConvergenceWarning: Stochastic Optimizer: Maximum iterations (200) reached and the optimization hasn't converged yet.\n",
            "  warnings.warn(\n"
          ]
        },
        {
          "output_type": "stream",
          "name": "stdout",
          "text": [
            "Fold: 272\n",
            "Test:  index=Int64Index([3179], dtype='int64') - Size: 1 \n",
            "\n",
            "Fold: 273\n",
            "Test:  index=Int64Index([3180], dtype='int64') - Size: 1 \n",
            "\n",
            "Fold: 274\n",
            "Test:  index=Int64Index([3181], dtype='int64') - Size: 1 \n",
            "\n"
          ]
        },
        {
          "output_type": "stream",
          "name": "stderr",
          "text": [
            "/usr/local/lib/python3.10/dist-packages/sklearn/neural_network/_multilayer_perceptron.py:686: ConvergenceWarning: Stochastic Optimizer: Maximum iterations (200) reached and the optimization hasn't converged yet.\n",
            "  warnings.warn(\n"
          ]
        },
        {
          "output_type": "stream",
          "name": "stdout",
          "text": [
            "Fold: 275\n",
            "Test:  index=Int64Index([3182], dtype='int64') - Size: 1 \n",
            "\n",
            "Fold: 276\n",
            "Test:  index=Int64Index([3183], dtype='int64') - Size: 1 \n",
            "\n",
            "Fold: 277\n",
            "Test:  index=Int64Index([3184], dtype='int64') - Size: 1 \n",
            "\n"
          ]
        },
        {
          "output_type": "stream",
          "name": "stderr",
          "text": [
            "/usr/local/lib/python3.10/dist-packages/sklearn/neural_network/_multilayer_perceptron.py:686: ConvergenceWarning: Stochastic Optimizer: Maximum iterations (200) reached and the optimization hasn't converged yet.\n",
            "  warnings.warn(\n"
          ]
        },
        {
          "output_type": "stream",
          "name": "stdout",
          "text": [
            "Fold: 278\n",
            "Test:  index=Int64Index([3185], dtype='int64') - Size: 1 \n",
            "\n",
            "Fold: 279\n",
            "Test:  index=Int64Index([3186], dtype='int64') - Size: 1 \n",
            "\n",
            "Fold: 280\n",
            "Test:  index=Int64Index([3187], dtype='int64') - Size: 1 \n",
            "\n"
          ]
        },
        {
          "output_type": "stream",
          "name": "stderr",
          "text": [
            "/usr/local/lib/python3.10/dist-packages/sklearn/neural_network/_multilayer_perceptron.py:686: ConvergenceWarning: Stochastic Optimizer: Maximum iterations (200) reached and the optimization hasn't converged yet.\n",
            "  warnings.warn(\n"
          ]
        },
        {
          "output_type": "stream",
          "name": "stdout",
          "text": [
            "Fold: 281\n",
            "Test:  index=Int64Index([3188], dtype='int64') - Size: 1 \n",
            "\n"
          ]
        },
        {
          "output_type": "stream",
          "name": "stderr",
          "text": [
            "/usr/local/lib/python3.10/dist-packages/sklearn/neural_network/_multilayer_perceptron.py:686: ConvergenceWarning: Stochastic Optimizer: Maximum iterations (200) reached and the optimization hasn't converged yet.\n",
            "  warnings.warn(\n"
          ]
        },
        {
          "output_type": "stream",
          "name": "stdout",
          "text": [
            "Fold: 282\n",
            "Test:  index=Int64Index([3189], dtype='int64') - Size: 1 \n",
            "\n"
          ]
        },
        {
          "output_type": "stream",
          "name": "stderr",
          "text": [
            "/usr/local/lib/python3.10/dist-packages/sklearn/neural_network/_multilayer_perceptron.py:686: ConvergenceWarning: Stochastic Optimizer: Maximum iterations (200) reached and the optimization hasn't converged yet.\n",
            "  warnings.warn(\n"
          ]
        },
        {
          "output_type": "stream",
          "name": "stdout",
          "text": [
            "Fold: 283\n",
            "Test:  index=Int64Index([3190], dtype='int64') - Size: 1 \n",
            "\n"
          ]
        },
        {
          "output_type": "stream",
          "name": "stderr",
          "text": [
            "/usr/local/lib/python3.10/dist-packages/sklearn/neural_network/_multilayer_perceptron.py:686: ConvergenceWarning: Stochastic Optimizer: Maximum iterations (200) reached and the optimization hasn't converged yet.\n",
            "  warnings.warn(\n"
          ]
        },
        {
          "output_type": "stream",
          "name": "stdout",
          "text": [
            "Fold: 284\n",
            "Test:  index=Int64Index([3191], dtype='int64') - Size: 1 \n",
            "\n",
            "Fold: 285\n",
            "Test:  index=Int64Index([3192], dtype='int64') - Size: 1 \n",
            "\n"
          ]
        },
        {
          "output_type": "stream",
          "name": "stderr",
          "text": [
            "/usr/local/lib/python3.10/dist-packages/sklearn/neural_network/_multilayer_perceptron.py:686: ConvergenceWarning: Stochastic Optimizer: Maximum iterations (200) reached and the optimization hasn't converged yet.\n",
            "  warnings.warn(\n"
          ]
        },
        {
          "output_type": "stream",
          "name": "stdout",
          "text": [
            "Fold: 286\n",
            "Test:  index=Int64Index([3193], dtype='int64') - Size: 1 \n",
            "\n"
          ]
        },
        {
          "output_type": "stream",
          "name": "stderr",
          "text": [
            "/usr/local/lib/python3.10/dist-packages/sklearn/neural_network/_multilayer_perceptron.py:686: ConvergenceWarning: Stochastic Optimizer: Maximum iterations (200) reached and the optimization hasn't converged yet.\n",
            "  warnings.warn(\n"
          ]
        },
        {
          "output_type": "stream",
          "name": "stdout",
          "text": [
            "Fold: 287\n",
            "Test:  index=Int64Index([3194], dtype='int64') - Size: 1 \n",
            "\n"
          ]
        },
        {
          "output_type": "stream",
          "name": "stderr",
          "text": [
            "/usr/local/lib/python3.10/dist-packages/sklearn/neural_network/_multilayer_perceptron.py:686: ConvergenceWarning: Stochastic Optimizer: Maximum iterations (200) reached and the optimization hasn't converged yet.\n",
            "  warnings.warn(\n"
          ]
        },
        {
          "output_type": "stream",
          "name": "stdout",
          "text": [
            "Fold: 288\n",
            "Test:  index=Int64Index([3195], dtype='int64') - Size: 1 \n",
            "\n"
          ]
        },
        {
          "output_type": "stream",
          "name": "stderr",
          "text": [
            "/usr/local/lib/python3.10/dist-packages/sklearn/neural_network/_multilayer_perceptron.py:686: ConvergenceWarning: Stochastic Optimizer: Maximum iterations (200) reached and the optimization hasn't converged yet.\n",
            "  warnings.warn(\n"
          ]
        },
        {
          "output_type": "stream",
          "name": "stdout",
          "text": [
            "Fold: 289\n",
            "Test:  index=Int64Index([3196], dtype='int64') - Size: 1 \n",
            "\n",
            "Fold: 290\n",
            "Test:  index=Int64Index([3197], dtype='int64') - Size: 1 \n",
            "\n"
          ]
        },
        {
          "output_type": "stream",
          "name": "stderr",
          "text": [
            "/usr/local/lib/python3.10/dist-packages/sklearn/neural_network/_multilayer_perceptron.py:686: ConvergenceWarning: Stochastic Optimizer: Maximum iterations (200) reached and the optimization hasn't converged yet.\n",
            "  warnings.warn(\n"
          ]
        },
        {
          "output_type": "stream",
          "name": "stdout",
          "text": [
            "Fold: 291\n",
            "Test:  index=Int64Index([3198], dtype='int64') - Size: 1 \n",
            "\n"
          ]
        },
        {
          "output_type": "stream",
          "name": "stderr",
          "text": [
            "/usr/local/lib/python3.10/dist-packages/sklearn/neural_network/_multilayer_perceptron.py:686: ConvergenceWarning: Stochastic Optimizer: Maximum iterations (200) reached and the optimization hasn't converged yet.\n",
            "  warnings.warn(\n"
          ]
        },
        {
          "output_type": "stream",
          "name": "stdout",
          "text": [
            "Fold: 292\n",
            "Test:  index=Int64Index([3199], dtype='int64') - Size: 1 \n",
            "\n"
          ]
        },
        {
          "output_type": "stream",
          "name": "stderr",
          "text": [
            "/usr/local/lib/python3.10/dist-packages/sklearn/neural_network/_multilayer_perceptron.py:686: ConvergenceWarning: Stochastic Optimizer: Maximum iterations (200) reached and the optimization hasn't converged yet.\n",
            "  warnings.warn(\n"
          ]
        },
        {
          "output_type": "stream",
          "name": "stdout",
          "text": [
            "Fold: 293\n",
            "Test:  index=Int64Index([3200], dtype='int64') - Size: 1 \n",
            "\n",
            "Fold: 294\n",
            "Test:  index=Int64Index([3201], dtype='int64') - Size: 1 \n",
            "\n",
            "Fold: 295\n",
            "Test:  index=Int64Index([3202], dtype='int64') - Size: 1 \n",
            "\n",
            "Fold: 296\n",
            "Test:  index=Int64Index([3203], dtype='int64') - Size: 1 \n",
            "\n"
          ]
        },
        {
          "output_type": "stream",
          "name": "stderr",
          "text": [
            "/usr/local/lib/python3.10/dist-packages/sklearn/neural_network/_multilayer_perceptron.py:686: ConvergenceWarning: Stochastic Optimizer: Maximum iterations (200) reached and the optimization hasn't converged yet.\n",
            "  warnings.warn(\n"
          ]
        },
        {
          "output_type": "stream",
          "name": "stdout",
          "text": [
            "Fold: 297\n",
            "Test:  index=Int64Index([3204], dtype='int64') - Size: 1 \n",
            "\n"
          ]
        },
        {
          "output_type": "stream",
          "name": "stderr",
          "text": [
            "/usr/local/lib/python3.10/dist-packages/sklearn/neural_network/_multilayer_perceptron.py:686: ConvergenceWarning: Stochastic Optimizer: Maximum iterations (200) reached and the optimization hasn't converged yet.\n",
            "  warnings.warn(\n"
          ]
        },
        {
          "output_type": "stream",
          "name": "stdout",
          "text": [
            "Fold: 298\n",
            "Test:  index=Int64Index([3205], dtype='int64') - Size: 1 \n",
            "\n"
          ]
        },
        {
          "output_type": "stream",
          "name": "stderr",
          "text": [
            "/usr/local/lib/python3.10/dist-packages/sklearn/neural_network/_multilayer_perceptron.py:686: ConvergenceWarning: Stochastic Optimizer: Maximum iterations (200) reached and the optimization hasn't converged yet.\n",
            "  warnings.warn(\n"
          ]
        },
        {
          "output_type": "stream",
          "name": "stdout",
          "text": [
            "Fold: 299\n",
            "Test:  index=Int64Index([3206], dtype='int64') - Size: 1 \n",
            "\n"
          ]
        },
        {
          "output_type": "stream",
          "name": "stderr",
          "text": [
            "/usr/local/lib/python3.10/dist-packages/sklearn/neural_network/_multilayer_perceptron.py:686: ConvergenceWarning: Stochastic Optimizer: Maximum iterations (200) reached and the optimization hasn't converged yet.\n",
            "  warnings.warn(\n"
          ]
        },
        {
          "output_type": "stream",
          "name": "stdout",
          "text": [
            "Fold: 300\n",
            "Test:  index=Int64Index([3207], dtype='int64') - Size: 1 \n",
            "\n"
          ]
        },
        {
          "output_type": "stream",
          "name": "stderr",
          "text": [
            "/usr/local/lib/python3.10/dist-packages/sklearn/neural_network/_multilayer_perceptron.py:686: ConvergenceWarning: Stochastic Optimizer: Maximum iterations (200) reached and the optimization hasn't converged yet.\n",
            "  warnings.warn(\n"
          ]
        },
        {
          "output_type": "stream",
          "name": "stdout",
          "text": [
            "Fold: 301\n",
            "Test:  index=Int64Index([3208], dtype='int64') - Size: 1 \n",
            "\n",
            "Fold: 302\n",
            "Test:  index=Int64Index([3209], dtype='int64') - Size: 1 \n",
            "\n"
          ]
        },
        {
          "output_type": "stream",
          "name": "stderr",
          "text": [
            "/usr/local/lib/python3.10/dist-packages/sklearn/neural_network/_multilayer_perceptron.py:686: ConvergenceWarning: Stochastic Optimizer: Maximum iterations (200) reached and the optimization hasn't converged yet.\n",
            "  warnings.warn(\n"
          ]
        },
        {
          "output_type": "stream",
          "name": "stdout",
          "text": [
            "Fold: 303\n",
            "Test:  index=Int64Index([3210], dtype='int64') - Size: 1 \n",
            "\n"
          ]
        },
        {
          "output_type": "stream",
          "name": "stderr",
          "text": [
            "/usr/local/lib/python3.10/dist-packages/sklearn/neural_network/_multilayer_perceptron.py:686: ConvergenceWarning: Stochastic Optimizer: Maximum iterations (200) reached and the optimization hasn't converged yet.\n",
            "  warnings.warn(\n"
          ]
        },
        {
          "output_type": "stream",
          "name": "stdout",
          "text": [
            "Fold: 304\n",
            "Test:  index=Int64Index([3211], dtype='int64') - Size: 1 \n",
            "\n",
            "Fold: 305\n",
            "Test:  index=Int64Index([3212], dtype='int64') - Size: 1 \n",
            "\n"
          ]
        },
        {
          "output_type": "stream",
          "name": "stderr",
          "text": [
            "/usr/local/lib/python3.10/dist-packages/sklearn/neural_network/_multilayer_perceptron.py:686: ConvergenceWarning: Stochastic Optimizer: Maximum iterations (200) reached and the optimization hasn't converged yet.\n",
            "  warnings.warn(\n"
          ]
        },
        {
          "output_type": "stream",
          "name": "stdout",
          "text": [
            "Fold: 306\n",
            "Test:  index=Int64Index([3213], dtype='int64') - Size: 1 \n",
            "\n"
          ]
        },
        {
          "output_type": "stream",
          "name": "stderr",
          "text": [
            "/usr/local/lib/python3.10/dist-packages/sklearn/neural_network/_multilayer_perceptron.py:686: ConvergenceWarning: Stochastic Optimizer: Maximum iterations (200) reached and the optimization hasn't converged yet.\n",
            "  warnings.warn(\n"
          ]
        },
        {
          "output_type": "stream",
          "name": "stdout",
          "text": [
            "Fold: 307\n",
            "Test:  index=Int64Index([3214], dtype='int64') - Size: 1 \n",
            "\n",
            "Fold: 308\n",
            "Test:  index=Int64Index([3215], dtype='int64') - Size: 1 \n",
            "\n"
          ]
        },
        {
          "output_type": "stream",
          "name": "stderr",
          "text": [
            "/usr/local/lib/python3.10/dist-packages/sklearn/neural_network/_multilayer_perceptron.py:686: ConvergenceWarning: Stochastic Optimizer: Maximum iterations (200) reached and the optimization hasn't converged yet.\n",
            "  warnings.warn(\n"
          ]
        },
        {
          "output_type": "stream",
          "name": "stdout",
          "text": [
            "Fold: 309\n",
            "Test:  index=Int64Index([3216], dtype='int64') - Size: 1 \n",
            "\n"
          ]
        },
        {
          "output_type": "stream",
          "name": "stderr",
          "text": [
            "/usr/local/lib/python3.10/dist-packages/sklearn/neural_network/_multilayer_perceptron.py:686: ConvergenceWarning: Stochastic Optimizer: Maximum iterations (200) reached and the optimization hasn't converged yet.\n",
            "  warnings.warn(\n"
          ]
        },
        {
          "output_type": "stream",
          "name": "stdout",
          "text": [
            "Fold: 310\n",
            "Test:  index=Int64Index([3217], dtype='int64') - Size: 1 \n",
            "\n",
            "Fold: 311\n",
            "Test:  index=Int64Index([3218], dtype='int64') - Size: 1 \n",
            "\n"
          ]
        },
        {
          "output_type": "stream",
          "name": "stderr",
          "text": [
            "/usr/local/lib/python3.10/dist-packages/sklearn/neural_network/_multilayer_perceptron.py:686: ConvergenceWarning: Stochastic Optimizer: Maximum iterations (200) reached and the optimization hasn't converged yet.\n",
            "  warnings.warn(\n"
          ]
        },
        {
          "output_type": "stream",
          "name": "stdout",
          "text": [
            "Fold: 312\n",
            "Test:  index=Int64Index([3219], dtype='int64') - Size: 1 \n",
            "\n"
          ]
        },
        {
          "output_type": "stream",
          "name": "stderr",
          "text": [
            "/usr/local/lib/python3.10/dist-packages/sklearn/neural_network/_multilayer_perceptron.py:686: ConvergenceWarning: Stochastic Optimizer: Maximum iterations (200) reached and the optimization hasn't converged yet.\n",
            "  warnings.warn(\n"
          ]
        },
        {
          "output_type": "stream",
          "name": "stdout",
          "text": [
            "Fold: 313\n",
            "Test:  index=Int64Index([3220], dtype='int64') - Size: 1 \n",
            "\n",
            "Fold: 314\n",
            "Test:  index=Int64Index([3221], dtype='int64') - Size: 1 \n",
            "\n"
          ]
        },
        {
          "output_type": "stream",
          "name": "stderr",
          "text": [
            "/usr/local/lib/python3.10/dist-packages/sklearn/neural_network/_multilayer_perceptron.py:686: ConvergenceWarning: Stochastic Optimizer: Maximum iterations (200) reached and the optimization hasn't converged yet.\n",
            "  warnings.warn(\n"
          ]
        },
        {
          "output_type": "stream",
          "name": "stdout",
          "text": [
            "Fold: 315\n",
            "Test:  index=Int64Index([3222], dtype='int64') - Size: 1 \n",
            "\n"
          ]
        },
        {
          "output_type": "stream",
          "name": "stderr",
          "text": [
            "/usr/local/lib/python3.10/dist-packages/sklearn/neural_network/_multilayer_perceptron.py:686: ConvergenceWarning: Stochastic Optimizer: Maximum iterations (200) reached and the optimization hasn't converged yet.\n",
            "  warnings.warn(\n"
          ]
        },
        {
          "output_type": "stream",
          "name": "stdout",
          "text": [
            "Fold: 316\n",
            "Test:  index=Int64Index([3223], dtype='int64') - Size: 1 \n",
            "\n"
          ]
        },
        {
          "output_type": "stream",
          "name": "stderr",
          "text": [
            "/usr/local/lib/python3.10/dist-packages/sklearn/neural_network/_multilayer_perceptron.py:686: ConvergenceWarning: Stochastic Optimizer: Maximum iterations (200) reached and the optimization hasn't converged yet.\n",
            "  warnings.warn(\n"
          ]
        },
        {
          "output_type": "stream",
          "name": "stdout",
          "text": [
            "Fold: 317\n",
            "Test:  index=Int64Index([3224], dtype='int64') - Size: 1 \n",
            "\n"
          ]
        },
        {
          "output_type": "stream",
          "name": "stderr",
          "text": [
            "/usr/local/lib/python3.10/dist-packages/sklearn/neural_network/_multilayer_perceptron.py:686: ConvergenceWarning: Stochastic Optimizer: Maximum iterations (200) reached and the optimization hasn't converged yet.\n",
            "  warnings.warn(\n"
          ]
        },
        {
          "output_type": "stream",
          "name": "stdout",
          "text": [
            "Fold: 318\n",
            "Test:  index=Int64Index([3225], dtype='int64') - Size: 1 \n",
            "\n"
          ]
        },
        {
          "output_type": "stream",
          "name": "stderr",
          "text": [
            "/usr/local/lib/python3.10/dist-packages/sklearn/neural_network/_multilayer_perceptron.py:686: ConvergenceWarning: Stochastic Optimizer: Maximum iterations (200) reached and the optimization hasn't converged yet.\n",
            "  warnings.warn(\n"
          ]
        },
        {
          "output_type": "stream",
          "name": "stdout",
          "text": [
            "Fold: 319\n",
            "Test:  index=Int64Index([3226], dtype='int64') - Size: 1 \n",
            "\n"
          ]
        },
        {
          "output_type": "stream",
          "name": "stderr",
          "text": [
            "/usr/local/lib/python3.10/dist-packages/sklearn/neural_network/_multilayer_perceptron.py:686: ConvergenceWarning: Stochastic Optimizer: Maximum iterations (200) reached and the optimization hasn't converged yet.\n",
            "  warnings.warn(\n"
          ]
        },
        {
          "output_type": "stream",
          "name": "stdout",
          "text": [
            "Fold: 320\n",
            "Test:  index=Int64Index([3227], dtype='int64') - Size: 1 \n",
            "\n",
            "Fold: 321\n",
            "Test:  index=Int64Index([3228], dtype='int64') - Size: 1 \n",
            "\n",
            "Fold: 322\n",
            "Test:  index=Int64Index([3229], dtype='int64') - Size: 1 \n",
            "\n"
          ]
        },
        {
          "output_type": "stream",
          "name": "stderr",
          "text": [
            "/usr/local/lib/python3.10/dist-packages/sklearn/neural_network/_multilayer_perceptron.py:686: ConvergenceWarning: Stochastic Optimizer: Maximum iterations (200) reached and the optimization hasn't converged yet.\n",
            "  warnings.warn(\n"
          ]
        },
        {
          "output_type": "stream",
          "name": "stdout",
          "text": [
            "Fold: 323\n",
            "Test:  index=Int64Index([3230], dtype='int64') - Size: 1 \n",
            "\n"
          ]
        },
        {
          "output_type": "stream",
          "name": "stderr",
          "text": [
            "/usr/local/lib/python3.10/dist-packages/sklearn/neural_network/_multilayer_perceptron.py:686: ConvergenceWarning: Stochastic Optimizer: Maximum iterations (200) reached and the optimization hasn't converged yet.\n",
            "  warnings.warn(\n"
          ]
        },
        {
          "output_type": "stream",
          "name": "stdout",
          "text": [
            "Fold: 324\n",
            "Test:  index=Int64Index([3231], dtype='int64') - Size: 1 \n",
            "\n",
            "Fold: 325\n",
            "Test:  index=Int64Index([3232], dtype='int64') - Size: 1 \n",
            "\n"
          ]
        },
        {
          "output_type": "stream",
          "name": "stderr",
          "text": [
            "/usr/local/lib/python3.10/dist-packages/sklearn/neural_network/_multilayer_perceptron.py:686: ConvergenceWarning: Stochastic Optimizer: Maximum iterations (200) reached and the optimization hasn't converged yet.\n",
            "  warnings.warn(\n"
          ]
        },
        {
          "output_type": "stream",
          "name": "stdout",
          "text": [
            "Fold: 326\n",
            "Test:  index=Int64Index([3233], dtype='int64') - Size: 1 \n",
            "\n"
          ]
        },
        {
          "output_type": "stream",
          "name": "stderr",
          "text": [
            "/usr/local/lib/python3.10/dist-packages/sklearn/neural_network/_multilayer_perceptron.py:686: ConvergenceWarning: Stochastic Optimizer: Maximum iterations (200) reached and the optimization hasn't converged yet.\n",
            "  warnings.warn(\n"
          ]
        },
        {
          "output_type": "stream",
          "name": "stdout",
          "text": [
            "Fold: 327\n",
            "Test:  index=Int64Index([3234], dtype='int64') - Size: 1 \n",
            "\n"
          ]
        },
        {
          "output_type": "stream",
          "name": "stderr",
          "text": [
            "/usr/local/lib/python3.10/dist-packages/sklearn/neural_network/_multilayer_perceptron.py:686: ConvergenceWarning: Stochastic Optimizer: Maximum iterations (200) reached and the optimization hasn't converged yet.\n",
            "  warnings.warn(\n"
          ]
        },
        {
          "output_type": "stream",
          "name": "stdout",
          "text": [
            "Fold: 328\n",
            "Test:  index=Int64Index([3235], dtype='int64') - Size: 1 \n",
            "\n"
          ]
        },
        {
          "output_type": "stream",
          "name": "stderr",
          "text": [
            "/usr/local/lib/python3.10/dist-packages/sklearn/neural_network/_multilayer_perceptron.py:686: ConvergenceWarning: Stochastic Optimizer: Maximum iterations (200) reached and the optimization hasn't converged yet.\n",
            "  warnings.warn(\n"
          ]
        },
        {
          "output_type": "stream",
          "name": "stdout",
          "text": [
            "Fold: 329\n",
            "Test:  index=Int64Index([3236], dtype='int64') - Size: 1 \n",
            "\n"
          ]
        },
        {
          "output_type": "stream",
          "name": "stderr",
          "text": [
            "/usr/local/lib/python3.10/dist-packages/sklearn/neural_network/_multilayer_perceptron.py:686: ConvergenceWarning: Stochastic Optimizer: Maximum iterations (200) reached and the optimization hasn't converged yet.\n",
            "  warnings.warn(\n"
          ]
        },
        {
          "output_type": "stream",
          "name": "stdout",
          "text": [
            "Fold: 330\n",
            "Test:  index=Int64Index([3237], dtype='int64') - Size: 1 \n",
            "\n"
          ]
        },
        {
          "output_type": "stream",
          "name": "stderr",
          "text": [
            "/usr/local/lib/python3.10/dist-packages/sklearn/neural_network/_multilayer_perceptron.py:686: ConvergenceWarning: Stochastic Optimizer: Maximum iterations (200) reached and the optimization hasn't converged yet.\n",
            "  warnings.warn(\n"
          ]
        },
        {
          "output_type": "stream",
          "name": "stdout",
          "text": [
            "Fold: 331\n",
            "Test:  index=Int64Index([3238], dtype='int64') - Size: 1 \n",
            "\n"
          ]
        },
        {
          "output_type": "stream",
          "name": "stderr",
          "text": [
            "/usr/local/lib/python3.10/dist-packages/sklearn/neural_network/_multilayer_perceptron.py:686: ConvergenceWarning: Stochastic Optimizer: Maximum iterations (200) reached and the optimization hasn't converged yet.\n",
            "  warnings.warn(\n"
          ]
        },
        {
          "output_type": "stream",
          "name": "stdout",
          "text": [
            "Fold: 332\n",
            "Test:  index=Int64Index([3239], dtype='int64') - Size: 1 \n",
            "\n"
          ]
        },
        {
          "output_type": "stream",
          "name": "stderr",
          "text": [
            "/usr/local/lib/python3.10/dist-packages/sklearn/neural_network/_multilayer_perceptron.py:686: ConvergenceWarning: Stochastic Optimizer: Maximum iterations (200) reached and the optimization hasn't converged yet.\n",
            "  warnings.warn(\n"
          ]
        },
        {
          "output_type": "stream",
          "name": "stdout",
          "text": [
            "Fold: 333\n",
            "Test:  index=Int64Index([3240], dtype='int64') - Size: 1 \n",
            "\n",
            "Fold: 334\n",
            "Test:  index=Int64Index([3241], dtype='int64') - Size: 1 \n",
            "\n"
          ]
        },
        {
          "output_type": "stream",
          "name": "stderr",
          "text": [
            "/usr/local/lib/python3.10/dist-packages/sklearn/neural_network/_multilayer_perceptron.py:686: ConvergenceWarning: Stochastic Optimizer: Maximum iterations (200) reached and the optimization hasn't converged yet.\n",
            "  warnings.warn(\n"
          ]
        },
        {
          "output_type": "stream",
          "name": "stdout",
          "text": [
            "Fold: 335\n",
            "Test:  index=Int64Index([3242], dtype='int64') - Size: 1 \n",
            "\n"
          ]
        },
        {
          "output_type": "stream",
          "name": "stderr",
          "text": [
            "/usr/local/lib/python3.10/dist-packages/sklearn/neural_network/_multilayer_perceptron.py:686: ConvergenceWarning: Stochastic Optimizer: Maximum iterations (200) reached and the optimization hasn't converged yet.\n",
            "  warnings.warn(\n"
          ]
        },
        {
          "output_type": "stream",
          "name": "stdout",
          "text": [
            "Fold: 336\n",
            "Test:  index=Int64Index([3243], dtype='int64') - Size: 1 \n",
            "\n"
          ]
        },
        {
          "output_type": "stream",
          "name": "stderr",
          "text": [
            "/usr/local/lib/python3.10/dist-packages/sklearn/neural_network/_multilayer_perceptron.py:686: ConvergenceWarning: Stochastic Optimizer: Maximum iterations (200) reached and the optimization hasn't converged yet.\n",
            "  warnings.warn(\n"
          ]
        },
        {
          "output_type": "stream",
          "name": "stdout",
          "text": [
            "Fold: 337\n",
            "Test:  index=Int64Index([3244], dtype='int64') - Size: 1 \n",
            "\n"
          ]
        },
        {
          "output_type": "stream",
          "name": "stderr",
          "text": [
            "/usr/local/lib/python3.10/dist-packages/sklearn/neural_network/_multilayer_perceptron.py:686: ConvergenceWarning: Stochastic Optimizer: Maximum iterations (200) reached and the optimization hasn't converged yet.\n",
            "  warnings.warn(\n"
          ]
        },
        {
          "output_type": "stream",
          "name": "stdout",
          "text": [
            "Fold: 338\n",
            "Test:  index=Int64Index([3245], dtype='int64') - Size: 1 \n",
            "\n",
            "Fold: 339\n",
            "Test:  index=Int64Index([3246], dtype='int64') - Size: 1 \n",
            "\n"
          ]
        },
        {
          "output_type": "stream",
          "name": "stderr",
          "text": [
            "/usr/local/lib/python3.10/dist-packages/sklearn/neural_network/_multilayer_perceptron.py:686: ConvergenceWarning: Stochastic Optimizer: Maximum iterations (200) reached and the optimization hasn't converged yet.\n",
            "  warnings.warn(\n"
          ]
        },
        {
          "output_type": "stream",
          "name": "stdout",
          "text": [
            "Fold: 340\n",
            "Test:  index=Int64Index([3247], dtype='int64') - Size: 1 \n",
            "\n"
          ]
        },
        {
          "output_type": "stream",
          "name": "stderr",
          "text": [
            "/usr/local/lib/python3.10/dist-packages/sklearn/neural_network/_multilayer_perceptron.py:686: ConvergenceWarning: Stochastic Optimizer: Maximum iterations (200) reached and the optimization hasn't converged yet.\n",
            "  warnings.warn(\n"
          ]
        },
        {
          "output_type": "stream",
          "name": "stdout",
          "text": [
            "Fold: 341\n",
            "Test:  index=Int64Index([3248], dtype='int64') - Size: 1 \n",
            "\n"
          ]
        },
        {
          "output_type": "stream",
          "name": "stderr",
          "text": [
            "/usr/local/lib/python3.10/dist-packages/sklearn/neural_network/_multilayer_perceptron.py:686: ConvergenceWarning: Stochastic Optimizer: Maximum iterations (200) reached and the optimization hasn't converged yet.\n",
            "  warnings.warn(\n"
          ]
        },
        {
          "output_type": "stream",
          "name": "stdout",
          "text": [
            "Fold: 342\n",
            "Test:  index=Int64Index([3249], dtype='int64') - Size: 1 \n",
            "\n"
          ]
        },
        {
          "output_type": "stream",
          "name": "stderr",
          "text": [
            "/usr/local/lib/python3.10/dist-packages/sklearn/neural_network/_multilayer_perceptron.py:686: ConvergenceWarning: Stochastic Optimizer: Maximum iterations (200) reached and the optimization hasn't converged yet.\n",
            "  warnings.warn(\n"
          ]
        },
        {
          "output_type": "stream",
          "name": "stdout",
          "text": [
            "Fold: 343\n",
            "Test:  index=Int64Index([3250], dtype='int64') - Size: 1 \n",
            "\n",
            "Fold: 344\n",
            "Test:  index=Int64Index([3251], dtype='int64') - Size: 1 \n",
            "\n"
          ]
        },
        {
          "output_type": "stream",
          "name": "stderr",
          "text": [
            "/usr/local/lib/python3.10/dist-packages/sklearn/neural_network/_multilayer_perceptron.py:686: ConvergenceWarning: Stochastic Optimizer: Maximum iterations (200) reached and the optimization hasn't converged yet.\n",
            "  warnings.warn(\n"
          ]
        },
        {
          "output_type": "stream",
          "name": "stdout",
          "text": [
            "Fold: 345\n",
            "Test:  index=Int64Index([3252], dtype='int64') - Size: 1 \n",
            "\n"
          ]
        },
        {
          "output_type": "stream",
          "name": "stderr",
          "text": [
            "/usr/local/lib/python3.10/dist-packages/sklearn/neural_network/_multilayer_perceptron.py:686: ConvergenceWarning: Stochastic Optimizer: Maximum iterations (200) reached and the optimization hasn't converged yet.\n",
            "  warnings.warn(\n"
          ]
        },
        {
          "output_type": "stream",
          "name": "stdout",
          "text": [
            "Fold: 346\n",
            "Test:  index=Int64Index([3253], dtype='int64') - Size: 1 \n",
            "\n"
          ]
        },
        {
          "output_type": "stream",
          "name": "stderr",
          "text": [
            "/usr/local/lib/python3.10/dist-packages/sklearn/neural_network/_multilayer_perceptron.py:686: ConvergenceWarning: Stochastic Optimizer: Maximum iterations (200) reached and the optimization hasn't converged yet.\n",
            "  warnings.warn(\n"
          ]
        },
        {
          "output_type": "stream",
          "name": "stdout",
          "text": [
            "Fold: 347\n",
            "Test:  index=Int64Index([3254], dtype='int64') - Size: 1 \n",
            "\n",
            "Fold: 348\n",
            "Test:  index=Int64Index([3255], dtype='int64') - Size: 1 \n",
            "\n"
          ]
        },
        {
          "output_type": "stream",
          "name": "stderr",
          "text": [
            "/usr/local/lib/python3.10/dist-packages/sklearn/neural_network/_multilayer_perceptron.py:686: ConvergenceWarning: Stochastic Optimizer: Maximum iterations (200) reached and the optimization hasn't converged yet.\n",
            "  warnings.warn(\n"
          ]
        },
        {
          "output_type": "stream",
          "name": "stdout",
          "text": [
            "Fold: 349\n",
            "Test:  index=Int64Index([3256], dtype='int64') - Size: 1 \n",
            "\n"
          ]
        },
        {
          "output_type": "stream",
          "name": "stderr",
          "text": [
            "/usr/local/lib/python3.10/dist-packages/sklearn/neural_network/_multilayer_perceptron.py:686: ConvergenceWarning: Stochastic Optimizer: Maximum iterations (200) reached and the optimization hasn't converged yet.\n",
            "  warnings.warn(\n"
          ]
        },
        {
          "output_type": "stream",
          "name": "stdout",
          "text": [
            "Fold: 350\n",
            "Test:  index=Int64Index([3257], dtype='int64') - Size: 1 \n",
            "\n",
            "Fold: 351\n",
            "Test:  index=Int64Index([3258], dtype='int64') - Size: 1 \n",
            "\n"
          ]
        },
        {
          "output_type": "stream",
          "name": "stderr",
          "text": [
            "/usr/local/lib/python3.10/dist-packages/sklearn/neural_network/_multilayer_perceptron.py:686: ConvergenceWarning: Stochastic Optimizer: Maximum iterations (200) reached and the optimization hasn't converged yet.\n",
            "  warnings.warn(\n"
          ]
        },
        {
          "output_type": "stream",
          "name": "stdout",
          "text": [
            "Fold: 352\n",
            "Test:  index=Int64Index([3259], dtype='int64') - Size: 1 \n",
            "\n"
          ]
        },
        {
          "output_type": "stream",
          "name": "stderr",
          "text": [
            "/usr/local/lib/python3.10/dist-packages/sklearn/neural_network/_multilayer_perceptron.py:686: ConvergenceWarning: Stochastic Optimizer: Maximum iterations (200) reached and the optimization hasn't converged yet.\n",
            "  warnings.warn(\n"
          ]
        },
        {
          "output_type": "stream",
          "name": "stdout",
          "text": [
            "Fold: 353\n",
            "Test:  index=Int64Index([3260], dtype='int64') - Size: 1 \n",
            "\n"
          ]
        },
        {
          "output_type": "stream",
          "name": "stderr",
          "text": [
            "/usr/local/lib/python3.10/dist-packages/sklearn/neural_network/_multilayer_perceptron.py:686: ConvergenceWarning: Stochastic Optimizer: Maximum iterations (200) reached and the optimization hasn't converged yet.\n",
            "  warnings.warn(\n"
          ]
        },
        {
          "output_type": "stream",
          "name": "stdout",
          "text": [
            "Fold: 354\n",
            "Test:  index=Int64Index([3261], dtype='int64') - Size: 1 \n",
            "\n"
          ]
        },
        {
          "output_type": "stream",
          "name": "stderr",
          "text": [
            "/usr/local/lib/python3.10/dist-packages/sklearn/neural_network/_multilayer_perceptron.py:686: ConvergenceWarning: Stochastic Optimizer: Maximum iterations (200) reached and the optimization hasn't converged yet.\n",
            "  warnings.warn(\n"
          ]
        },
        {
          "output_type": "stream",
          "name": "stdout",
          "text": [
            "Fold: 355\n",
            "Test:  index=Int64Index([3262], dtype='int64') - Size: 1 \n",
            "\n"
          ]
        },
        {
          "output_type": "stream",
          "name": "stderr",
          "text": [
            "/usr/local/lib/python3.10/dist-packages/sklearn/neural_network/_multilayer_perceptron.py:686: ConvergenceWarning: Stochastic Optimizer: Maximum iterations (200) reached and the optimization hasn't converged yet.\n",
            "  warnings.warn(\n"
          ]
        },
        {
          "output_type": "stream",
          "name": "stdout",
          "text": [
            "Fold: 356\n",
            "Test:  index=Int64Index([3263], dtype='int64') - Size: 1 \n",
            "\n"
          ]
        },
        {
          "output_type": "stream",
          "name": "stderr",
          "text": [
            "/usr/local/lib/python3.10/dist-packages/sklearn/neural_network/_multilayer_perceptron.py:686: ConvergenceWarning: Stochastic Optimizer: Maximum iterations (200) reached and the optimization hasn't converged yet.\n",
            "  warnings.warn(\n"
          ]
        },
        {
          "output_type": "stream",
          "name": "stdout",
          "text": [
            "Fold: 357\n",
            "Test:  index=Int64Index([3264], dtype='int64') - Size: 1 \n",
            "\n"
          ]
        },
        {
          "output_type": "stream",
          "name": "stderr",
          "text": [
            "/usr/local/lib/python3.10/dist-packages/sklearn/neural_network/_multilayer_perceptron.py:686: ConvergenceWarning: Stochastic Optimizer: Maximum iterations (200) reached and the optimization hasn't converged yet.\n",
            "  warnings.warn(\n"
          ]
        },
        {
          "output_type": "stream",
          "name": "stdout",
          "text": [
            "Fold: 358\n",
            "Test:  index=Int64Index([3265], dtype='int64') - Size: 1 \n",
            "\n"
          ]
        },
        {
          "output_type": "stream",
          "name": "stderr",
          "text": [
            "/usr/local/lib/python3.10/dist-packages/sklearn/neural_network/_multilayer_perceptron.py:686: ConvergenceWarning: Stochastic Optimizer: Maximum iterations (200) reached and the optimization hasn't converged yet.\n",
            "  warnings.warn(\n"
          ]
        },
        {
          "output_type": "stream",
          "name": "stdout",
          "text": [
            "Fold: 359\n",
            "Test:  index=Int64Index([3266], dtype='int64') - Size: 1 \n",
            "\n"
          ]
        },
        {
          "output_type": "stream",
          "name": "stderr",
          "text": [
            "/usr/local/lib/python3.10/dist-packages/sklearn/neural_network/_multilayer_perceptron.py:686: ConvergenceWarning: Stochastic Optimizer: Maximum iterations (200) reached and the optimization hasn't converged yet.\n",
            "  warnings.warn(\n"
          ]
        },
        {
          "output_type": "stream",
          "name": "stdout",
          "text": [
            "Fold: 360\n",
            "Test:  index=Int64Index([3267], dtype='int64') - Size: 1 \n",
            "\n"
          ]
        },
        {
          "output_type": "stream",
          "name": "stderr",
          "text": [
            "/usr/local/lib/python3.10/dist-packages/sklearn/neural_network/_multilayer_perceptron.py:686: ConvergenceWarning: Stochastic Optimizer: Maximum iterations (200) reached and the optimization hasn't converged yet.\n",
            "  warnings.warn(\n"
          ]
        },
        {
          "output_type": "stream",
          "name": "stdout",
          "text": [
            "Fold: 361\n",
            "Test:  index=Int64Index([3268], dtype='int64') - Size: 1 \n",
            "\n"
          ]
        },
        {
          "output_type": "stream",
          "name": "stderr",
          "text": [
            "/usr/local/lib/python3.10/dist-packages/sklearn/neural_network/_multilayer_perceptron.py:686: ConvergenceWarning: Stochastic Optimizer: Maximum iterations (200) reached and the optimization hasn't converged yet.\n",
            "  warnings.warn(\n"
          ]
        },
        {
          "output_type": "stream",
          "name": "stdout",
          "text": [
            "Fold: 362\n",
            "Test:  index=Int64Index([3269], dtype='int64') - Size: 1 \n",
            "\n"
          ]
        },
        {
          "output_type": "stream",
          "name": "stderr",
          "text": [
            "/usr/local/lib/python3.10/dist-packages/sklearn/neural_network/_multilayer_perceptron.py:686: ConvergenceWarning: Stochastic Optimizer: Maximum iterations (200) reached and the optimization hasn't converged yet.\n",
            "  warnings.warn(\n"
          ]
        },
        {
          "output_type": "stream",
          "name": "stdout",
          "text": [
            "Fold: 363\n",
            "Test:  index=Int64Index([3270], dtype='int64') - Size: 1 \n",
            "\n"
          ]
        },
        {
          "output_type": "stream",
          "name": "stderr",
          "text": [
            "/usr/local/lib/python3.10/dist-packages/sklearn/neural_network/_multilayer_perceptron.py:686: ConvergenceWarning: Stochastic Optimizer: Maximum iterations (200) reached and the optimization hasn't converged yet.\n",
            "  warnings.warn(\n"
          ]
        },
        {
          "output_type": "stream",
          "name": "stdout",
          "text": [
            "Fold: 364\n",
            "Test:  index=Int64Index([3271], dtype='int64') - Size: 1 \n",
            "\n"
          ]
        },
        {
          "output_type": "stream",
          "name": "stderr",
          "text": [
            "/usr/local/lib/python3.10/dist-packages/sklearn/neural_network/_multilayer_perceptron.py:686: ConvergenceWarning: Stochastic Optimizer: Maximum iterations (200) reached and the optimization hasn't converged yet.\n",
            "  warnings.warn(\n"
          ]
        },
        {
          "output_type": "stream",
          "name": "stdout",
          "text": [
            "Fold: 365\n",
            "Test:  index=Int64Index([3272], dtype='int64') - Size: 1 \n",
            "\n",
            "Fold: 366\n",
            "Test:  index=Int64Index([3273], dtype='int64') - Size: 1 \n",
            "\n"
          ]
        },
        {
          "output_type": "stream",
          "name": "stderr",
          "text": [
            "/usr/local/lib/python3.10/dist-packages/sklearn/neural_network/_multilayer_perceptron.py:686: ConvergenceWarning: Stochastic Optimizer: Maximum iterations (200) reached and the optimization hasn't converged yet.\n",
            "  warnings.warn(\n"
          ]
        },
        {
          "output_type": "stream",
          "name": "stdout",
          "text": [
            "Fold: 367\n",
            "Test:  index=Int64Index([3274], dtype='int64') - Size: 1 \n",
            "\n"
          ]
        },
        {
          "output_type": "stream",
          "name": "stderr",
          "text": [
            "/usr/local/lib/python3.10/dist-packages/sklearn/neural_network/_multilayer_perceptron.py:686: ConvergenceWarning: Stochastic Optimizer: Maximum iterations (200) reached and the optimization hasn't converged yet.\n",
            "  warnings.warn(\n"
          ]
        },
        {
          "output_type": "stream",
          "name": "stdout",
          "text": [
            "Fold: 368\n",
            "Test:  index=Int64Index([3275], dtype='int64') - Size: 1 \n",
            "\n",
            "Fold: 369\n",
            "Test:  index=Int64Index([3276], dtype='int64') - Size: 1 \n",
            "\n"
          ]
        },
        {
          "output_type": "stream",
          "name": "stderr",
          "text": [
            "/usr/local/lib/python3.10/dist-packages/sklearn/neural_network/_multilayer_perceptron.py:686: ConvergenceWarning: Stochastic Optimizer: Maximum iterations (200) reached and the optimization hasn't converged yet.\n",
            "  warnings.warn(\n"
          ]
        },
        {
          "output_type": "stream",
          "name": "stdout",
          "text": [
            "Fold: 370\n",
            "Test:  index=Int64Index([3277], dtype='int64') - Size: 1 \n",
            "\n"
          ]
        },
        {
          "output_type": "stream",
          "name": "stderr",
          "text": [
            "/usr/local/lib/python3.10/dist-packages/sklearn/neural_network/_multilayer_perceptron.py:686: ConvergenceWarning: Stochastic Optimizer: Maximum iterations (200) reached and the optimization hasn't converged yet.\n",
            "  warnings.warn(\n"
          ]
        },
        {
          "output_type": "stream",
          "name": "stdout",
          "text": [
            "Fold: 371\n",
            "Test:  index=Int64Index([3278], dtype='int64') - Size: 1 \n",
            "\n"
          ]
        },
        {
          "output_type": "stream",
          "name": "stderr",
          "text": [
            "/usr/local/lib/python3.10/dist-packages/sklearn/neural_network/_multilayer_perceptron.py:686: ConvergenceWarning: Stochastic Optimizer: Maximum iterations (200) reached and the optimization hasn't converged yet.\n",
            "  warnings.warn(\n"
          ]
        },
        {
          "output_type": "stream",
          "name": "stdout",
          "text": [
            "Fold: 372\n",
            "Test:  index=Int64Index([3279], dtype='int64') - Size: 1 \n",
            "\n"
          ]
        },
        {
          "output_type": "stream",
          "name": "stderr",
          "text": [
            "/usr/local/lib/python3.10/dist-packages/sklearn/neural_network/_multilayer_perceptron.py:686: ConvergenceWarning: Stochastic Optimizer: Maximum iterations (200) reached and the optimization hasn't converged yet.\n",
            "  warnings.warn(\n"
          ]
        },
        {
          "output_type": "stream",
          "name": "stdout",
          "text": [
            "Fold: 373\n",
            "Test:  index=Int64Index([3280], dtype='int64') - Size: 1 \n",
            "\n"
          ]
        },
        {
          "output_type": "stream",
          "name": "stderr",
          "text": [
            "/usr/local/lib/python3.10/dist-packages/sklearn/neural_network/_multilayer_perceptron.py:686: ConvergenceWarning: Stochastic Optimizer: Maximum iterations (200) reached and the optimization hasn't converged yet.\n",
            "  warnings.warn(\n"
          ]
        },
        {
          "output_type": "stream",
          "name": "stdout",
          "text": [
            "Fold: 374\n",
            "Test:  index=Int64Index([3281], dtype='int64') - Size: 1 \n",
            "\n"
          ]
        },
        {
          "output_type": "stream",
          "name": "stderr",
          "text": [
            "/usr/local/lib/python3.10/dist-packages/sklearn/neural_network/_multilayer_perceptron.py:686: ConvergenceWarning: Stochastic Optimizer: Maximum iterations (200) reached and the optimization hasn't converged yet.\n",
            "  warnings.warn(\n"
          ]
        },
        {
          "output_type": "stream",
          "name": "stdout",
          "text": [
            "Fold: 375\n",
            "Test:  index=Int64Index([3282], dtype='int64') - Size: 1 \n",
            "\n"
          ]
        },
        {
          "output_type": "stream",
          "name": "stderr",
          "text": [
            "/usr/local/lib/python3.10/dist-packages/sklearn/neural_network/_multilayer_perceptron.py:686: ConvergenceWarning: Stochastic Optimizer: Maximum iterations (200) reached and the optimization hasn't converged yet.\n",
            "  warnings.warn(\n"
          ]
        },
        {
          "output_type": "stream",
          "name": "stdout",
          "text": [
            "Fold: 376\n",
            "Test:  index=Int64Index([3283], dtype='int64') - Size: 1 \n",
            "\n"
          ]
        },
        {
          "output_type": "stream",
          "name": "stderr",
          "text": [
            "/usr/local/lib/python3.10/dist-packages/sklearn/neural_network/_multilayer_perceptron.py:686: ConvergenceWarning: Stochastic Optimizer: Maximum iterations (200) reached and the optimization hasn't converged yet.\n",
            "  warnings.warn(\n"
          ]
        },
        {
          "output_type": "stream",
          "name": "stdout",
          "text": [
            "Fold: 377\n",
            "Test:  index=Int64Index([3284], dtype='int64') - Size: 1 \n",
            "\n",
            "Fold: 378\n",
            "Test:  index=Int64Index([3285], dtype='int64') - Size: 1 \n",
            "\n"
          ]
        },
        {
          "output_type": "stream",
          "name": "stderr",
          "text": [
            "/usr/local/lib/python3.10/dist-packages/sklearn/neural_network/_multilayer_perceptron.py:686: ConvergenceWarning: Stochastic Optimizer: Maximum iterations (200) reached and the optimization hasn't converged yet.\n",
            "  warnings.warn(\n"
          ]
        },
        {
          "output_type": "stream",
          "name": "stdout",
          "text": [
            "Fold: 379\n",
            "Test:  index=Int64Index([3286], dtype='int64') - Size: 1 \n",
            "\n"
          ]
        },
        {
          "output_type": "stream",
          "name": "stderr",
          "text": [
            "/usr/local/lib/python3.10/dist-packages/sklearn/neural_network/_multilayer_perceptron.py:686: ConvergenceWarning: Stochastic Optimizer: Maximum iterations (200) reached and the optimization hasn't converged yet.\n",
            "  warnings.warn(\n"
          ]
        },
        {
          "output_type": "stream",
          "name": "stdout",
          "text": [
            "Fold: 380\n",
            "Test:  index=Int64Index([3287], dtype='int64') - Size: 1 \n",
            "\n"
          ]
        },
        {
          "output_type": "stream",
          "name": "stderr",
          "text": [
            "/usr/local/lib/python3.10/dist-packages/sklearn/neural_network/_multilayer_perceptron.py:686: ConvergenceWarning: Stochastic Optimizer: Maximum iterations (200) reached and the optimization hasn't converged yet.\n",
            "  warnings.warn(\n"
          ]
        },
        {
          "output_type": "stream",
          "name": "stdout",
          "text": [
            "Fold: 381\n",
            "Test:  index=Int64Index([3288], dtype='int64') - Size: 1 \n",
            "\n",
            "Fold: 382\n",
            "Test:  index=Int64Index([3289], dtype='int64') - Size: 1 \n",
            "\n"
          ]
        },
        {
          "output_type": "stream",
          "name": "stderr",
          "text": [
            "/usr/local/lib/python3.10/dist-packages/sklearn/neural_network/_multilayer_perceptron.py:686: ConvergenceWarning: Stochastic Optimizer: Maximum iterations (200) reached and the optimization hasn't converged yet.\n",
            "  warnings.warn(\n"
          ]
        },
        {
          "output_type": "stream",
          "name": "stdout",
          "text": [
            "Fold: 383\n",
            "Test:  index=Int64Index([3290], dtype='int64') - Size: 1 \n",
            "\n"
          ]
        },
        {
          "output_type": "stream",
          "name": "stderr",
          "text": [
            "/usr/local/lib/python3.10/dist-packages/sklearn/neural_network/_multilayer_perceptron.py:686: ConvergenceWarning: Stochastic Optimizer: Maximum iterations (200) reached and the optimization hasn't converged yet.\n",
            "  warnings.warn(\n"
          ]
        },
        {
          "output_type": "stream",
          "name": "stdout",
          "text": [
            "Fold: 384\n",
            "Test:  index=Int64Index([3291], dtype='int64') - Size: 1 \n",
            "\n"
          ]
        },
        {
          "output_type": "stream",
          "name": "stderr",
          "text": [
            "/usr/local/lib/python3.10/dist-packages/sklearn/neural_network/_multilayer_perceptron.py:686: ConvergenceWarning: Stochastic Optimizer: Maximum iterations (200) reached and the optimization hasn't converged yet.\n",
            "  warnings.warn(\n"
          ]
        },
        {
          "output_type": "stream",
          "name": "stdout",
          "text": [
            "Fold: 385\n",
            "Test:  index=Int64Index([3292], dtype='int64') - Size: 1 \n",
            "\n"
          ]
        },
        {
          "output_type": "stream",
          "name": "stderr",
          "text": [
            "/usr/local/lib/python3.10/dist-packages/sklearn/neural_network/_multilayer_perceptron.py:686: ConvergenceWarning: Stochastic Optimizer: Maximum iterations (200) reached and the optimization hasn't converged yet.\n",
            "  warnings.warn(\n"
          ]
        },
        {
          "output_type": "stream",
          "name": "stdout",
          "text": [
            "Fold: 386\n",
            "Test:  index=Int64Index([3293], dtype='int64') - Size: 1 \n",
            "\n"
          ]
        },
        {
          "output_type": "stream",
          "name": "stderr",
          "text": [
            "/usr/local/lib/python3.10/dist-packages/sklearn/neural_network/_multilayer_perceptron.py:686: ConvergenceWarning: Stochastic Optimizer: Maximum iterations (200) reached and the optimization hasn't converged yet.\n",
            "  warnings.warn(\n"
          ]
        },
        {
          "output_type": "stream",
          "name": "stdout",
          "text": [
            "Fold: 387\n",
            "Test:  index=Int64Index([3294], dtype='int64') - Size: 1 \n",
            "\n"
          ]
        },
        {
          "output_type": "stream",
          "name": "stderr",
          "text": [
            "/usr/local/lib/python3.10/dist-packages/sklearn/neural_network/_multilayer_perceptron.py:686: ConvergenceWarning: Stochastic Optimizer: Maximum iterations (200) reached and the optimization hasn't converged yet.\n",
            "  warnings.warn(\n"
          ]
        },
        {
          "output_type": "stream",
          "name": "stdout",
          "text": [
            "Fold: 388\n",
            "Test:  index=Int64Index([3295], dtype='int64') - Size: 1 \n",
            "\n",
            "Fold: 389\n",
            "Test:  index=Int64Index([3296], dtype='int64') - Size: 1 \n",
            "\n"
          ]
        },
        {
          "output_type": "stream",
          "name": "stderr",
          "text": [
            "/usr/local/lib/python3.10/dist-packages/sklearn/neural_network/_multilayer_perceptron.py:686: ConvergenceWarning: Stochastic Optimizer: Maximum iterations (200) reached and the optimization hasn't converged yet.\n",
            "  warnings.warn(\n"
          ]
        },
        {
          "output_type": "stream",
          "name": "stdout",
          "text": [
            "Fold: 390\n",
            "Test:  index=Int64Index([3297], dtype='int64') - Size: 1 \n",
            "\n"
          ]
        },
        {
          "output_type": "stream",
          "name": "stderr",
          "text": [
            "/usr/local/lib/python3.10/dist-packages/sklearn/neural_network/_multilayer_perceptron.py:686: ConvergenceWarning: Stochastic Optimizer: Maximum iterations (200) reached and the optimization hasn't converged yet.\n",
            "  warnings.warn(\n"
          ]
        },
        {
          "output_type": "stream",
          "name": "stdout",
          "text": [
            "Fold: 391\n",
            "Test:  index=Int64Index([3298], dtype='int64') - Size: 1 \n",
            "\n",
            "Fold: 392\n",
            "Test:  index=Int64Index([3299], dtype='int64') - Size: 1 \n",
            "\n",
            "Fold: 393\n",
            "Test:  index=Int64Index([3300], dtype='int64') - Size: 1 \n",
            "\n"
          ]
        },
        {
          "output_type": "stream",
          "name": "stderr",
          "text": [
            "/usr/local/lib/python3.10/dist-packages/sklearn/neural_network/_multilayer_perceptron.py:686: ConvergenceWarning: Stochastic Optimizer: Maximum iterations (200) reached and the optimization hasn't converged yet.\n",
            "  warnings.warn(\n"
          ]
        },
        {
          "output_type": "stream",
          "name": "stdout",
          "text": [
            "Fold: 394\n",
            "Test:  index=Int64Index([3301], dtype='int64') - Size: 1 \n",
            "\n"
          ]
        },
        {
          "output_type": "stream",
          "name": "stderr",
          "text": [
            "/usr/local/lib/python3.10/dist-packages/sklearn/neural_network/_multilayer_perceptron.py:686: ConvergenceWarning: Stochastic Optimizer: Maximum iterations (200) reached and the optimization hasn't converged yet.\n",
            "  warnings.warn(\n"
          ]
        },
        {
          "output_type": "stream",
          "name": "stdout",
          "text": [
            "Fold: 395\n",
            "Test:  index=Int64Index([3302], dtype='int64') - Size: 1 \n",
            "\n"
          ]
        },
        {
          "output_type": "stream",
          "name": "stderr",
          "text": [
            "/usr/local/lib/python3.10/dist-packages/sklearn/neural_network/_multilayer_perceptron.py:686: ConvergenceWarning: Stochastic Optimizer: Maximum iterations (200) reached and the optimization hasn't converged yet.\n",
            "  warnings.warn(\n"
          ]
        },
        {
          "output_type": "stream",
          "name": "stdout",
          "text": [
            "Fold: 396\n",
            "Test:  index=Int64Index([3303], dtype='int64') - Size: 1 \n",
            "\n"
          ]
        },
        {
          "output_type": "stream",
          "name": "stderr",
          "text": [
            "/usr/local/lib/python3.10/dist-packages/sklearn/neural_network/_multilayer_perceptron.py:686: ConvergenceWarning: Stochastic Optimizer: Maximum iterations (200) reached and the optimization hasn't converged yet.\n",
            "  warnings.warn(\n"
          ]
        },
        {
          "output_type": "stream",
          "name": "stdout",
          "text": [
            "Fold: 397\n",
            "Test:  index=Int64Index([3304], dtype='int64') - Size: 1 \n",
            "\n"
          ]
        },
        {
          "output_type": "stream",
          "name": "stderr",
          "text": [
            "/usr/local/lib/python3.10/dist-packages/sklearn/neural_network/_multilayer_perceptron.py:686: ConvergenceWarning: Stochastic Optimizer: Maximum iterations (200) reached and the optimization hasn't converged yet.\n",
            "  warnings.warn(\n"
          ]
        },
        {
          "output_type": "stream",
          "name": "stdout",
          "text": [
            "Fold: 398\n",
            "Test:  index=Int64Index([3305], dtype='int64') - Size: 1 \n",
            "\n"
          ]
        },
        {
          "output_type": "stream",
          "name": "stderr",
          "text": [
            "/usr/local/lib/python3.10/dist-packages/sklearn/neural_network/_multilayer_perceptron.py:686: ConvergenceWarning: Stochastic Optimizer: Maximum iterations (200) reached and the optimization hasn't converged yet.\n",
            "  warnings.warn(\n"
          ]
        },
        {
          "output_type": "stream",
          "name": "stdout",
          "text": [
            "Fold: 399\n",
            "Test:  index=Int64Index([3306], dtype='int64') - Size: 1 \n",
            "\n",
            "Fold: 400\n",
            "Test:  index=Int64Index([3307], dtype='int64') - Size: 1 \n",
            "\n",
            "Fold: 401\n",
            "Test:  index=Int64Index([3308], dtype='int64') - Size: 1 \n",
            "\n",
            "Fold: 402\n",
            "Test:  index=Int64Index([3309], dtype='int64') - Size: 1 \n",
            "\n",
            "Fold: 403\n",
            "Test:  index=Int64Index([3310], dtype='int64') - Size: 1 \n",
            "\n",
            "Fold: 404\n",
            "Test:  index=Int64Index([3311], dtype='int64') - Size: 1 \n",
            "\n",
            "Fold: 405\n",
            "Test:  index=Int64Index([3312], dtype='int64') - Size: 1 \n",
            "\n"
          ]
        },
        {
          "output_type": "stream",
          "name": "stderr",
          "text": [
            "/usr/local/lib/python3.10/dist-packages/sklearn/neural_network/_multilayer_perceptron.py:686: ConvergenceWarning: Stochastic Optimizer: Maximum iterations (200) reached and the optimization hasn't converged yet.\n",
            "  warnings.warn(\n"
          ]
        },
        {
          "output_type": "stream",
          "name": "stdout",
          "text": [
            "Fold: 406\n",
            "Test:  index=Int64Index([3313], dtype='int64') - Size: 1 \n",
            "\n",
            "Fold: 407\n",
            "Test:  index=Int64Index([3314], dtype='int64') - Size: 1 \n",
            "\n"
          ]
        },
        {
          "output_type": "stream",
          "name": "stderr",
          "text": [
            "/usr/local/lib/python3.10/dist-packages/sklearn/neural_network/_multilayer_perceptron.py:686: ConvergenceWarning: Stochastic Optimizer: Maximum iterations (200) reached and the optimization hasn't converged yet.\n",
            "  warnings.warn(\n"
          ]
        },
        {
          "output_type": "stream",
          "name": "stdout",
          "text": [
            "Fold: 408\n",
            "Test:  index=Int64Index([3315], dtype='int64') - Size: 1 \n",
            "\n",
            "Fold: 409\n",
            "Test:  index=Int64Index([3316], dtype='int64') - Size: 1 \n",
            "\n",
            "Fold: 410\n",
            "Test:  index=Int64Index([3317], dtype='int64') - Size: 1 \n",
            "\n"
          ]
        },
        {
          "output_type": "stream",
          "name": "stderr",
          "text": [
            "/usr/local/lib/python3.10/dist-packages/sklearn/neural_network/_multilayer_perceptron.py:686: ConvergenceWarning: Stochastic Optimizer: Maximum iterations (200) reached and the optimization hasn't converged yet.\n",
            "  warnings.warn(\n"
          ]
        },
        {
          "output_type": "stream",
          "name": "stdout",
          "text": [
            "Fold: 411\n",
            "Test:  index=Int64Index([3318], dtype='int64') - Size: 1 \n",
            "\n",
            "Fold: 412\n",
            "Test:  index=Int64Index([3319], dtype='int64') - Size: 1 \n",
            "\n"
          ]
        },
        {
          "output_type": "stream",
          "name": "stderr",
          "text": [
            "/usr/local/lib/python3.10/dist-packages/sklearn/neural_network/_multilayer_perceptron.py:686: ConvergenceWarning: Stochastic Optimizer: Maximum iterations (200) reached and the optimization hasn't converged yet.\n",
            "  warnings.warn(\n"
          ]
        },
        {
          "output_type": "stream",
          "name": "stdout",
          "text": [
            "Fold: 413\n",
            "Test:  index=Int64Index([3320], dtype='int64') - Size: 1 \n",
            "\n"
          ]
        },
        {
          "output_type": "stream",
          "name": "stderr",
          "text": [
            "/usr/local/lib/python3.10/dist-packages/sklearn/neural_network/_multilayer_perceptron.py:686: ConvergenceWarning: Stochastic Optimizer: Maximum iterations (200) reached and the optimization hasn't converged yet.\n",
            "  warnings.warn(\n"
          ]
        },
        {
          "output_type": "stream",
          "name": "stdout",
          "text": [
            "Fold: 414\n",
            "Test:  index=Int64Index([3321], dtype='int64') - Size: 1 \n",
            "\n",
            "Fold: 415\n",
            "Test:  index=Int64Index([3322], dtype='int64') - Size: 1 \n",
            "\n"
          ]
        },
        {
          "output_type": "stream",
          "name": "stderr",
          "text": [
            "/usr/local/lib/python3.10/dist-packages/sklearn/neural_network/_multilayer_perceptron.py:686: ConvergenceWarning: Stochastic Optimizer: Maximum iterations (200) reached and the optimization hasn't converged yet.\n",
            "  warnings.warn(\n"
          ]
        },
        {
          "output_type": "stream",
          "name": "stdout",
          "text": [
            "Fold: 416\n",
            "Test:  index=Int64Index([3323], dtype='int64') - Size: 1 \n",
            "\n",
            "RMSE =  1.3246313711992275\n",
            "MAE =  1.019878099138729\n"
          ]
        }
      ],
      "source": [
        "regressor = MLPRegressor(random_state=1111)\n",
        "y_pred_window, y_test_window = expanding_window(regressor, X, y, window_size=1)\n",
        "evaluate_regressor(y_test_window, y_pred_window)"
      ]
    },
    {
      "cell_type": "code",
      "source": [
        "evaluate_regressor(y_test_window, y_pred_window)"
      ],
      "metadata": {
        "colab": {
          "base_uri": "https://localhost:8080/"
        },
        "id": "FYo6z_TPCHJ9",
        "outputId": "d2d4a680-089d-4608-983d-7940a0736aaf"
      },
      "execution_count": 148,
      "outputs": [
        {
          "output_type": "stream",
          "name": "stdout",
          "text": [
            "RMSE =  1.3246313711992275\n",
            "MAE =  1.019878099138729\n"
          ]
        }
      ]
    },
    {
      "cell_type": "code",
      "source": [
        "generate_output(y_test_window, y_pred_window)"
      ],
      "metadata": {
        "colab": {
          "base_uri": "https://localhost:8080/",
          "height": 424
        },
        "id": "GRA2Al5NCJo5",
        "outputId": "d870994e-f8c5-4b35-e950-0bdfe383f900"
      },
      "execution_count": 149,
      "outputs": [
        {
          "output_type": "execute_result",
          "data": {
            "text/plain": [
              "         Date  Prediction\n",
              "0    20220301   -0.227614\n",
              "1    20220401   -0.193570\n",
              "2    20220501   -0.056624\n",
              "3    20220601   -0.152913\n",
              "4    20220701   -0.233585\n",
              "..        ...         ...\n",
              "412  20230824    0.161862\n",
              "413  20230825   -0.287187\n",
              "414  20230828   -0.200110\n",
              "415  20230829    0.228439\n",
              "416  20230830    0.015730\n",
              "\n",
              "[417 rows x 2 columns]"
            ],
            "text/html": [
              "\n",
              "  <div id=\"df-fd94212d-8970-47bc-8a62-f895e4b364e2\" class=\"colab-df-container\">\n",
              "    <div>\n",
              "<style scoped>\n",
              "    .dataframe tbody tr th:only-of-type {\n",
              "        vertical-align: middle;\n",
              "    }\n",
              "\n",
              "    .dataframe tbody tr th {\n",
              "        vertical-align: top;\n",
              "    }\n",
              "\n",
              "    .dataframe thead th {\n",
              "        text-align: right;\n",
              "    }\n",
              "</style>\n",
              "<table border=\"1\" class=\"dataframe\">\n",
              "  <thead>\n",
              "    <tr style=\"text-align: right;\">\n",
              "      <th></th>\n",
              "      <th>Date</th>\n",
              "      <th>Prediction</th>\n",
              "    </tr>\n",
              "  </thead>\n",
              "  <tbody>\n",
              "    <tr>\n",
              "      <th>0</th>\n",
              "      <td>20220301</td>\n",
              "      <td>-0.227614</td>\n",
              "    </tr>\n",
              "    <tr>\n",
              "      <th>1</th>\n",
              "      <td>20220401</td>\n",
              "      <td>-0.193570</td>\n",
              "    </tr>\n",
              "    <tr>\n",
              "      <th>2</th>\n",
              "      <td>20220501</td>\n",
              "      <td>-0.056624</td>\n",
              "    </tr>\n",
              "    <tr>\n",
              "      <th>3</th>\n",
              "      <td>20220601</td>\n",
              "      <td>-0.152913</td>\n",
              "    </tr>\n",
              "    <tr>\n",
              "      <th>4</th>\n",
              "      <td>20220701</td>\n",
              "      <td>-0.233585</td>\n",
              "    </tr>\n",
              "    <tr>\n",
              "      <th>...</th>\n",
              "      <td>...</td>\n",
              "      <td>...</td>\n",
              "    </tr>\n",
              "    <tr>\n",
              "      <th>412</th>\n",
              "      <td>20230824</td>\n",
              "      <td>0.161862</td>\n",
              "    </tr>\n",
              "    <tr>\n",
              "      <th>413</th>\n",
              "      <td>20230825</td>\n",
              "      <td>-0.287187</td>\n",
              "    </tr>\n",
              "    <tr>\n",
              "      <th>414</th>\n",
              "      <td>20230828</td>\n",
              "      <td>-0.200110</td>\n",
              "    </tr>\n",
              "    <tr>\n",
              "      <th>415</th>\n",
              "      <td>20230829</td>\n",
              "      <td>0.228439</td>\n",
              "    </tr>\n",
              "    <tr>\n",
              "      <th>416</th>\n",
              "      <td>20230830</td>\n",
              "      <td>0.015730</td>\n",
              "    </tr>\n",
              "  </tbody>\n",
              "</table>\n",
              "<p>417 rows × 2 columns</p>\n",
              "</div>\n",
              "    <div class=\"colab-df-buttons\">\n",
              "\n",
              "  <div class=\"colab-df-container\">\n",
              "    <button class=\"colab-df-convert\" onclick=\"convertToInteractive('df-fd94212d-8970-47bc-8a62-f895e4b364e2')\"\n",
              "            title=\"Convert this dataframe to an interactive table.\"\n",
              "            style=\"display:none;\">\n",
              "\n",
              "  <svg xmlns=\"http://www.w3.org/2000/svg\" height=\"24px\" viewBox=\"0 -960 960 960\">\n",
              "    <path d=\"M120-120v-720h720v720H120Zm60-500h600v-160H180v160Zm220 220h160v-160H400v160Zm0 220h160v-160H400v160ZM180-400h160v-160H180v160Zm440 0h160v-160H620v160ZM180-180h160v-160H180v160Zm440 0h160v-160H620v160Z\"/>\n",
              "  </svg>\n",
              "    </button>\n",
              "\n",
              "  <style>\n",
              "    .colab-df-container {\n",
              "      display:flex;\n",
              "      gap: 12px;\n",
              "    }\n",
              "\n",
              "    .colab-df-convert {\n",
              "      background-color: #E8F0FE;\n",
              "      border: none;\n",
              "      border-radius: 50%;\n",
              "      cursor: pointer;\n",
              "      display: none;\n",
              "      fill: #1967D2;\n",
              "      height: 32px;\n",
              "      padding: 0 0 0 0;\n",
              "      width: 32px;\n",
              "    }\n",
              "\n",
              "    .colab-df-convert:hover {\n",
              "      background-color: #E2EBFA;\n",
              "      box-shadow: 0px 1px 2px rgba(60, 64, 67, 0.3), 0px 1px 3px 1px rgba(60, 64, 67, 0.15);\n",
              "      fill: #174EA6;\n",
              "    }\n",
              "\n",
              "    .colab-df-buttons div {\n",
              "      margin-bottom: 4px;\n",
              "    }\n",
              "\n",
              "    [theme=dark] .colab-df-convert {\n",
              "      background-color: #3B4455;\n",
              "      fill: #D2E3FC;\n",
              "    }\n",
              "\n",
              "    [theme=dark] .colab-df-convert:hover {\n",
              "      background-color: #434B5C;\n",
              "      box-shadow: 0px 1px 3px 1px rgba(0, 0, 0, 0.15);\n",
              "      filter: drop-shadow(0px 1px 2px rgba(0, 0, 0, 0.3));\n",
              "      fill: #FFFFFF;\n",
              "    }\n",
              "  </style>\n",
              "\n",
              "    <script>\n",
              "      const buttonEl =\n",
              "        document.querySelector('#df-fd94212d-8970-47bc-8a62-f895e4b364e2 button.colab-df-convert');\n",
              "      buttonEl.style.display =\n",
              "        google.colab.kernel.accessAllowed ? 'block' : 'none';\n",
              "\n",
              "      async function convertToInteractive(key) {\n",
              "        const element = document.querySelector('#df-fd94212d-8970-47bc-8a62-f895e4b364e2');\n",
              "        const dataTable =\n",
              "          await google.colab.kernel.invokeFunction('convertToInteractive',\n",
              "                                                    [key], {});\n",
              "        if (!dataTable) return;\n",
              "\n",
              "        const docLinkHtml = 'Like what you see? Visit the ' +\n",
              "          '<a target=\"_blank\" href=https://colab.research.google.com/notebooks/data_table.ipynb>data table notebook</a>'\n",
              "          + ' to learn more about interactive tables.';\n",
              "        element.innerHTML = '';\n",
              "        dataTable['output_type'] = 'display_data';\n",
              "        await google.colab.output.renderOutput(dataTable, element);\n",
              "        const docLink = document.createElement('div');\n",
              "        docLink.innerHTML = docLinkHtml;\n",
              "        element.appendChild(docLink);\n",
              "      }\n",
              "    </script>\n",
              "  </div>\n",
              "\n",
              "\n",
              "<div id=\"df-fae8e5c4-61a7-4ea6-aa7c-0e4ca280e0e0\">\n",
              "  <button class=\"colab-df-quickchart\" onclick=\"quickchart('df-fae8e5c4-61a7-4ea6-aa7c-0e4ca280e0e0')\"\n",
              "            title=\"Suggest charts.\"\n",
              "            style=\"display:none;\">\n",
              "\n",
              "<svg xmlns=\"http://www.w3.org/2000/svg\" height=\"24px\"viewBox=\"0 0 24 24\"\n",
              "     width=\"24px\">\n",
              "    <g>\n",
              "        <path d=\"M19 3H5c-1.1 0-2 .9-2 2v14c0 1.1.9 2 2 2h14c1.1 0 2-.9 2-2V5c0-1.1-.9-2-2-2zM9 17H7v-7h2v7zm4 0h-2V7h2v10zm4 0h-2v-4h2v4z\"/>\n",
              "    </g>\n",
              "</svg>\n",
              "  </button>\n",
              "\n",
              "<style>\n",
              "  .colab-df-quickchart {\n",
              "      --bg-color: #E8F0FE;\n",
              "      --fill-color: #1967D2;\n",
              "      --hover-bg-color: #E2EBFA;\n",
              "      --hover-fill-color: #174EA6;\n",
              "      --disabled-fill-color: #AAA;\n",
              "      --disabled-bg-color: #DDD;\n",
              "  }\n",
              "\n",
              "  [theme=dark] .colab-df-quickchart {\n",
              "      --bg-color: #3B4455;\n",
              "      --fill-color: #D2E3FC;\n",
              "      --hover-bg-color: #434B5C;\n",
              "      --hover-fill-color: #FFFFFF;\n",
              "      --disabled-bg-color: #3B4455;\n",
              "      --disabled-fill-color: #666;\n",
              "  }\n",
              "\n",
              "  .colab-df-quickchart {\n",
              "    background-color: var(--bg-color);\n",
              "    border: none;\n",
              "    border-radius: 50%;\n",
              "    cursor: pointer;\n",
              "    display: none;\n",
              "    fill: var(--fill-color);\n",
              "    height: 32px;\n",
              "    padding: 0;\n",
              "    width: 32px;\n",
              "  }\n",
              "\n",
              "  .colab-df-quickchart:hover {\n",
              "    background-color: var(--hover-bg-color);\n",
              "    box-shadow: 0 1px 2px rgba(60, 64, 67, 0.3), 0 1px 3px 1px rgba(60, 64, 67, 0.15);\n",
              "    fill: var(--button-hover-fill-color);\n",
              "  }\n",
              "\n",
              "  .colab-df-quickchart-complete:disabled,\n",
              "  .colab-df-quickchart-complete:disabled:hover {\n",
              "    background-color: var(--disabled-bg-color);\n",
              "    fill: var(--disabled-fill-color);\n",
              "    box-shadow: none;\n",
              "  }\n",
              "\n",
              "  .colab-df-spinner {\n",
              "    border: 2px solid var(--fill-color);\n",
              "    border-color: transparent;\n",
              "    border-bottom-color: var(--fill-color);\n",
              "    animation:\n",
              "      spin 1s steps(1) infinite;\n",
              "  }\n",
              "\n",
              "  @keyframes spin {\n",
              "    0% {\n",
              "      border-color: transparent;\n",
              "      border-bottom-color: var(--fill-color);\n",
              "      border-left-color: var(--fill-color);\n",
              "    }\n",
              "    20% {\n",
              "      border-color: transparent;\n",
              "      border-left-color: var(--fill-color);\n",
              "      border-top-color: var(--fill-color);\n",
              "    }\n",
              "    30% {\n",
              "      border-color: transparent;\n",
              "      border-left-color: var(--fill-color);\n",
              "      border-top-color: var(--fill-color);\n",
              "      border-right-color: var(--fill-color);\n",
              "    }\n",
              "    40% {\n",
              "      border-color: transparent;\n",
              "      border-right-color: var(--fill-color);\n",
              "      border-top-color: var(--fill-color);\n",
              "    }\n",
              "    60% {\n",
              "      border-color: transparent;\n",
              "      border-right-color: var(--fill-color);\n",
              "    }\n",
              "    80% {\n",
              "      border-color: transparent;\n",
              "      border-right-color: var(--fill-color);\n",
              "      border-bottom-color: var(--fill-color);\n",
              "    }\n",
              "    90% {\n",
              "      border-color: transparent;\n",
              "      border-bottom-color: var(--fill-color);\n",
              "    }\n",
              "  }\n",
              "</style>\n",
              "\n",
              "  <script>\n",
              "    async function quickchart(key) {\n",
              "      const quickchartButtonEl =\n",
              "        document.querySelector('#' + key + ' button');\n",
              "      quickchartButtonEl.disabled = true;  // To prevent multiple clicks.\n",
              "      quickchartButtonEl.classList.add('colab-df-spinner');\n",
              "      try {\n",
              "        const charts = await google.colab.kernel.invokeFunction(\n",
              "            'suggestCharts', [key], {});\n",
              "      } catch (error) {\n",
              "        console.error('Error during call to suggestCharts:', error);\n",
              "      }\n",
              "      quickchartButtonEl.classList.remove('colab-df-spinner');\n",
              "      quickchartButtonEl.classList.add('colab-df-quickchart-complete');\n",
              "    }\n",
              "    (() => {\n",
              "      let quickchartButtonEl =\n",
              "        document.querySelector('#df-fae8e5c4-61a7-4ea6-aa7c-0e4ca280e0e0 button');\n",
              "      quickchartButtonEl.style.display =\n",
              "        google.colab.kernel.accessAllowed ? 'block' : 'none';\n",
              "    })();\n",
              "  </script>\n",
              "</div>\n",
              "    </div>\n",
              "  </div>\n"
            ]
          },
          "metadata": {},
          "execution_count": 149
        }
      ]
    },
    {
      "cell_type": "markdown",
      "metadata": {
        "id": "mZTdjVuuaDqf"
      },
      "source": [
        "## Baseline"
      ]
    },
    {
      "cell_type": "code",
      "execution_count": null,
      "metadata": {
        "id": "CxBBuO_r0mHQ"
      },
      "outputs": [],
      "source": [
        "y_test_aux = df.loc[df['year'] >= 2022, ['Date', 'Output']].reset_index()\n",
        "\n",
        "y_train = df.loc[df['year'] < 2022, 'Output']\n",
        "X_train = df.loc[df['year']  < 2022].drop(['Output', 'Return', 'Date'], axis=\"columns\")\n",
        "\n",
        "y_test = df.loc[df['year'] >= 2022, 'Return']\n",
        "X_test = df.loc[df['year'] >= 2022].drop(['Output', 'Return', 'Date'], axis=\"columns\")"
      ]
    },
    {
      "cell_type": "code",
      "source": [
        "pd.DataFrame(y_test)"
      ],
      "metadata": {
        "colab": {
          "base_uri": "https://localhost:8080/",
          "height": 424
        },
        "id": "1l8HSAnYn8zo",
        "outputId": "b488e610-0216-486e-b4d2-1da13cf71dcd"
      },
      "execution_count": null,
      "outputs": [
        {
          "output_type": "execute_result",
          "data": {
            "text/plain": [
              "      Return\n",
              "2907   -0.29\n",
              "2908    1.47\n",
              "2909   -0.19\n",
              "2910    0.42\n",
              "2911    0.97\n",
              "...      ...\n",
              "3319    2.52\n",
              "3320    0.15\n",
              "3321   -0.78\n",
              "3322    0.17\n",
              "3323    0.22\n",
              "\n",
              "[417 rows x 1 columns]"
            ],
            "text/html": [
              "\n",
              "  <div id=\"df-bb5484f3-58b4-4fdd-aa67-e6a4e8000ee0\" class=\"colab-df-container\">\n",
              "    <div>\n",
              "<style scoped>\n",
              "    .dataframe tbody tr th:only-of-type {\n",
              "        vertical-align: middle;\n",
              "    }\n",
              "\n",
              "    .dataframe tbody tr th {\n",
              "        vertical-align: top;\n",
              "    }\n",
              "\n",
              "    .dataframe thead th {\n",
              "        text-align: right;\n",
              "    }\n",
              "</style>\n",
              "<table border=\"1\" class=\"dataframe\">\n",
              "  <thead>\n",
              "    <tr style=\"text-align: right;\">\n",
              "      <th></th>\n",
              "      <th>Return</th>\n",
              "    </tr>\n",
              "  </thead>\n",
              "  <tbody>\n",
              "    <tr>\n",
              "      <th>2907</th>\n",
              "      <td>-0.29</td>\n",
              "    </tr>\n",
              "    <tr>\n",
              "      <th>2908</th>\n",
              "      <td>1.47</td>\n",
              "    </tr>\n",
              "    <tr>\n",
              "      <th>2909</th>\n",
              "      <td>-0.19</td>\n",
              "    </tr>\n",
              "    <tr>\n",
              "      <th>2910</th>\n",
              "      <td>0.42</td>\n",
              "    </tr>\n",
              "    <tr>\n",
              "      <th>2911</th>\n",
              "      <td>0.97</td>\n",
              "    </tr>\n",
              "    <tr>\n",
              "      <th>...</th>\n",
              "      <td>...</td>\n",
              "    </tr>\n",
              "    <tr>\n",
              "      <th>3319</th>\n",
              "      <td>2.52</td>\n",
              "    </tr>\n",
              "    <tr>\n",
              "      <th>3320</th>\n",
              "      <td>0.15</td>\n",
              "    </tr>\n",
              "    <tr>\n",
              "      <th>3321</th>\n",
              "      <td>-0.78</td>\n",
              "    </tr>\n",
              "    <tr>\n",
              "      <th>3322</th>\n",
              "      <td>0.17</td>\n",
              "    </tr>\n",
              "    <tr>\n",
              "      <th>3323</th>\n",
              "      <td>0.22</td>\n",
              "    </tr>\n",
              "  </tbody>\n",
              "</table>\n",
              "<p>417 rows × 1 columns</p>\n",
              "</div>\n",
              "    <div class=\"colab-df-buttons\">\n",
              "\n",
              "  <div class=\"colab-df-container\">\n",
              "    <button class=\"colab-df-convert\" onclick=\"convertToInteractive('df-bb5484f3-58b4-4fdd-aa67-e6a4e8000ee0')\"\n",
              "            title=\"Convert this dataframe to an interactive table.\"\n",
              "            style=\"display:none;\">\n",
              "\n",
              "  <svg xmlns=\"http://www.w3.org/2000/svg\" height=\"24px\" viewBox=\"0 -960 960 960\">\n",
              "    <path d=\"M120-120v-720h720v720H120Zm60-500h600v-160H180v160Zm220 220h160v-160H400v160Zm0 220h160v-160H400v160ZM180-400h160v-160H180v160Zm440 0h160v-160H620v160ZM180-180h160v-160H180v160Zm440 0h160v-160H620v160Z\"/>\n",
              "  </svg>\n",
              "    </button>\n",
              "\n",
              "  <style>\n",
              "    .colab-df-container {\n",
              "      display:flex;\n",
              "      gap: 12px;\n",
              "    }\n",
              "\n",
              "    .colab-df-convert {\n",
              "      background-color: #E8F0FE;\n",
              "      border: none;\n",
              "      border-radius: 50%;\n",
              "      cursor: pointer;\n",
              "      display: none;\n",
              "      fill: #1967D2;\n",
              "      height: 32px;\n",
              "      padding: 0 0 0 0;\n",
              "      width: 32px;\n",
              "    }\n",
              "\n",
              "    .colab-df-convert:hover {\n",
              "      background-color: #E2EBFA;\n",
              "      box-shadow: 0px 1px 2px rgba(60, 64, 67, 0.3), 0px 1px 3px 1px rgba(60, 64, 67, 0.15);\n",
              "      fill: #174EA6;\n",
              "    }\n",
              "\n",
              "    .colab-df-buttons div {\n",
              "      margin-bottom: 4px;\n",
              "    }\n",
              "\n",
              "    [theme=dark] .colab-df-convert {\n",
              "      background-color: #3B4455;\n",
              "      fill: #D2E3FC;\n",
              "    }\n",
              "\n",
              "    [theme=dark] .colab-df-convert:hover {\n",
              "      background-color: #434B5C;\n",
              "      box-shadow: 0px 1px 3px 1px rgba(0, 0, 0, 0.15);\n",
              "      filter: drop-shadow(0px 1px 2px rgba(0, 0, 0, 0.3));\n",
              "      fill: #FFFFFF;\n",
              "    }\n",
              "  </style>\n",
              "\n",
              "    <script>\n",
              "      const buttonEl =\n",
              "        document.querySelector('#df-bb5484f3-58b4-4fdd-aa67-e6a4e8000ee0 button.colab-df-convert');\n",
              "      buttonEl.style.display =\n",
              "        google.colab.kernel.accessAllowed ? 'block' : 'none';\n",
              "\n",
              "      async function convertToInteractive(key) {\n",
              "        const element = document.querySelector('#df-bb5484f3-58b4-4fdd-aa67-e6a4e8000ee0');\n",
              "        const dataTable =\n",
              "          await google.colab.kernel.invokeFunction('convertToInteractive',\n",
              "                                                    [key], {});\n",
              "        if (!dataTable) return;\n",
              "\n",
              "        const docLinkHtml = 'Like what you see? Visit the ' +\n",
              "          '<a target=\"_blank\" href=https://colab.research.google.com/notebooks/data_table.ipynb>data table notebook</a>'\n",
              "          + ' to learn more about interactive tables.';\n",
              "        element.innerHTML = '';\n",
              "        dataTable['output_type'] = 'display_data';\n",
              "        await google.colab.output.renderOutput(dataTable, element);\n",
              "        const docLink = document.createElement('div');\n",
              "        docLink.innerHTML = docLinkHtml;\n",
              "        element.appendChild(docLink);\n",
              "      }\n",
              "    </script>\n",
              "  </div>\n",
              "\n",
              "\n",
              "<div id=\"df-facc1056-729c-4f92-a400-655beb436c9b\">\n",
              "  <button class=\"colab-df-quickchart\" onclick=\"quickchart('df-facc1056-729c-4f92-a400-655beb436c9b')\"\n",
              "            title=\"Suggest charts.\"\n",
              "            style=\"display:none;\">\n",
              "\n",
              "<svg xmlns=\"http://www.w3.org/2000/svg\" height=\"24px\"viewBox=\"0 0 24 24\"\n",
              "     width=\"24px\">\n",
              "    <g>\n",
              "        <path d=\"M19 3H5c-1.1 0-2 .9-2 2v14c0 1.1.9 2 2 2h14c1.1 0 2-.9 2-2V5c0-1.1-.9-2-2-2zM9 17H7v-7h2v7zm4 0h-2V7h2v10zm4 0h-2v-4h2v4z\"/>\n",
              "    </g>\n",
              "</svg>\n",
              "  </button>\n",
              "\n",
              "<style>\n",
              "  .colab-df-quickchart {\n",
              "      --bg-color: #E8F0FE;\n",
              "      --fill-color: #1967D2;\n",
              "      --hover-bg-color: #E2EBFA;\n",
              "      --hover-fill-color: #174EA6;\n",
              "      --disabled-fill-color: #AAA;\n",
              "      --disabled-bg-color: #DDD;\n",
              "  }\n",
              "\n",
              "  [theme=dark] .colab-df-quickchart {\n",
              "      --bg-color: #3B4455;\n",
              "      --fill-color: #D2E3FC;\n",
              "      --hover-bg-color: #434B5C;\n",
              "      --hover-fill-color: #FFFFFF;\n",
              "      --disabled-bg-color: #3B4455;\n",
              "      --disabled-fill-color: #666;\n",
              "  }\n",
              "\n",
              "  .colab-df-quickchart {\n",
              "    background-color: var(--bg-color);\n",
              "    border: none;\n",
              "    border-radius: 50%;\n",
              "    cursor: pointer;\n",
              "    display: none;\n",
              "    fill: var(--fill-color);\n",
              "    height: 32px;\n",
              "    padding: 0;\n",
              "    width: 32px;\n",
              "  }\n",
              "\n",
              "  .colab-df-quickchart:hover {\n",
              "    background-color: var(--hover-bg-color);\n",
              "    box-shadow: 0 1px 2px rgba(60, 64, 67, 0.3), 0 1px 3px 1px rgba(60, 64, 67, 0.15);\n",
              "    fill: var(--button-hover-fill-color);\n",
              "  }\n",
              "\n",
              "  .colab-df-quickchart-complete:disabled,\n",
              "  .colab-df-quickchart-complete:disabled:hover {\n",
              "    background-color: var(--disabled-bg-color);\n",
              "    fill: var(--disabled-fill-color);\n",
              "    box-shadow: none;\n",
              "  }\n",
              "\n",
              "  .colab-df-spinner {\n",
              "    border: 2px solid var(--fill-color);\n",
              "    border-color: transparent;\n",
              "    border-bottom-color: var(--fill-color);\n",
              "    animation:\n",
              "      spin 1s steps(1) infinite;\n",
              "  }\n",
              "\n",
              "  @keyframes spin {\n",
              "    0% {\n",
              "      border-color: transparent;\n",
              "      border-bottom-color: var(--fill-color);\n",
              "      border-left-color: var(--fill-color);\n",
              "    }\n",
              "    20% {\n",
              "      border-color: transparent;\n",
              "      border-left-color: var(--fill-color);\n",
              "      border-top-color: var(--fill-color);\n",
              "    }\n",
              "    30% {\n",
              "      border-color: transparent;\n",
              "      border-left-color: var(--fill-color);\n",
              "      border-top-color: var(--fill-color);\n",
              "      border-right-color: var(--fill-color);\n",
              "    }\n",
              "    40% {\n",
              "      border-color: transparent;\n",
              "      border-right-color: var(--fill-color);\n",
              "      border-top-color: var(--fill-color);\n",
              "    }\n",
              "    60% {\n",
              "      border-color: transparent;\n",
              "      border-right-color: var(--fill-color);\n",
              "    }\n",
              "    80% {\n",
              "      border-color: transparent;\n",
              "      border-right-color: var(--fill-color);\n",
              "      border-bottom-color: var(--fill-color);\n",
              "    }\n",
              "    90% {\n",
              "      border-color: transparent;\n",
              "      border-bottom-color: var(--fill-color);\n",
              "    }\n",
              "  }\n",
              "</style>\n",
              "\n",
              "  <script>\n",
              "    async function quickchart(key) {\n",
              "      const quickchartButtonEl =\n",
              "        document.querySelector('#' + key + ' button');\n",
              "      quickchartButtonEl.disabled = true;  // To prevent multiple clicks.\n",
              "      quickchartButtonEl.classList.add('colab-df-spinner');\n",
              "      try {\n",
              "        const charts = await google.colab.kernel.invokeFunction(\n",
              "            'suggestCharts', [key], {});\n",
              "      } catch (error) {\n",
              "        console.error('Error during call to suggestCharts:', error);\n",
              "      }\n",
              "      quickchartButtonEl.classList.remove('colab-df-spinner');\n",
              "      quickchartButtonEl.classList.add('colab-df-quickchart-complete');\n",
              "    }\n",
              "    (() => {\n",
              "      let quickchartButtonEl =\n",
              "        document.querySelector('#df-facc1056-729c-4f92-a400-655beb436c9b button');\n",
              "      quickchartButtonEl.style.display =\n",
              "        google.colab.kernel.accessAllowed ? 'block' : 'none';\n",
              "    })();\n",
              "  </script>\n",
              "</div>\n",
              "    </div>\n",
              "  </div>\n"
            ]
          },
          "metadata": {},
          "execution_count": 16
        }
      ]
    },
    {
      "cell_type": "code",
      "execution_count": null,
      "metadata": {
        "colab": {
          "base_uri": "https://localhost:8080/",
          "height": 424
        },
        "id": "ED1Q4g3HZr1A",
        "outputId": "8723a84c-231b-42b7-fb89-c426969295e8"
      },
      "outputs": [
        {
          "output_type": "execute_result",
          "data": {
            "text/plain": [
              "      Return\n",
              "2907    0.00\n",
              "2908   -0.29\n",
              "2909    1.47\n",
              "2910   -0.19\n",
              "2911    0.42\n",
              "...      ...\n",
              "3319    0.87\n",
              "3320    2.52\n",
              "3321    0.15\n",
              "3322   -0.78\n",
              "3323    0.17\n",
              "\n",
              "[417 rows x 1 columns]"
            ],
            "text/html": [
              "\n",
              "  <div id=\"df-8f9826d4-5311-4f12-9b09-b033f148d0af\" class=\"colab-df-container\">\n",
              "    <div>\n",
              "<style scoped>\n",
              "    .dataframe tbody tr th:only-of-type {\n",
              "        vertical-align: middle;\n",
              "    }\n",
              "\n",
              "    .dataframe tbody tr th {\n",
              "        vertical-align: top;\n",
              "    }\n",
              "\n",
              "    .dataframe thead th {\n",
              "        text-align: right;\n",
              "    }\n",
              "</style>\n",
              "<table border=\"1\" class=\"dataframe\">\n",
              "  <thead>\n",
              "    <tr style=\"text-align: right;\">\n",
              "      <th></th>\n",
              "      <th>Return</th>\n",
              "    </tr>\n",
              "  </thead>\n",
              "  <tbody>\n",
              "    <tr>\n",
              "      <th>2907</th>\n",
              "      <td>0.00</td>\n",
              "    </tr>\n",
              "    <tr>\n",
              "      <th>2908</th>\n",
              "      <td>-0.29</td>\n",
              "    </tr>\n",
              "    <tr>\n",
              "      <th>2909</th>\n",
              "      <td>1.47</td>\n",
              "    </tr>\n",
              "    <tr>\n",
              "      <th>2910</th>\n",
              "      <td>-0.19</td>\n",
              "    </tr>\n",
              "    <tr>\n",
              "      <th>2911</th>\n",
              "      <td>0.42</td>\n",
              "    </tr>\n",
              "    <tr>\n",
              "      <th>...</th>\n",
              "      <td>...</td>\n",
              "    </tr>\n",
              "    <tr>\n",
              "      <th>3319</th>\n",
              "      <td>0.87</td>\n",
              "    </tr>\n",
              "    <tr>\n",
              "      <th>3320</th>\n",
              "      <td>2.52</td>\n",
              "    </tr>\n",
              "    <tr>\n",
              "      <th>3321</th>\n",
              "      <td>0.15</td>\n",
              "    </tr>\n",
              "    <tr>\n",
              "      <th>3322</th>\n",
              "      <td>-0.78</td>\n",
              "    </tr>\n",
              "    <tr>\n",
              "      <th>3323</th>\n",
              "      <td>0.17</td>\n",
              "    </tr>\n",
              "  </tbody>\n",
              "</table>\n",
              "<p>417 rows × 1 columns</p>\n",
              "</div>\n",
              "    <div class=\"colab-df-buttons\">\n",
              "\n",
              "  <div class=\"colab-df-container\">\n",
              "    <button class=\"colab-df-convert\" onclick=\"convertToInteractive('df-8f9826d4-5311-4f12-9b09-b033f148d0af')\"\n",
              "            title=\"Convert this dataframe to an interactive table.\"\n",
              "            style=\"display:none;\">\n",
              "\n",
              "  <svg xmlns=\"http://www.w3.org/2000/svg\" height=\"24px\" viewBox=\"0 -960 960 960\">\n",
              "    <path d=\"M120-120v-720h720v720H120Zm60-500h600v-160H180v160Zm220 220h160v-160H400v160Zm0 220h160v-160H400v160ZM180-400h160v-160H180v160Zm440 0h160v-160H620v160ZM180-180h160v-160H180v160Zm440 0h160v-160H620v160Z\"/>\n",
              "  </svg>\n",
              "    </button>\n",
              "\n",
              "  <style>\n",
              "    .colab-df-container {\n",
              "      display:flex;\n",
              "      gap: 12px;\n",
              "    }\n",
              "\n",
              "    .colab-df-convert {\n",
              "      background-color: #E8F0FE;\n",
              "      border: none;\n",
              "      border-radius: 50%;\n",
              "      cursor: pointer;\n",
              "      display: none;\n",
              "      fill: #1967D2;\n",
              "      height: 32px;\n",
              "      padding: 0 0 0 0;\n",
              "      width: 32px;\n",
              "    }\n",
              "\n",
              "    .colab-df-convert:hover {\n",
              "      background-color: #E2EBFA;\n",
              "      box-shadow: 0px 1px 2px rgba(60, 64, 67, 0.3), 0px 1px 3px 1px rgba(60, 64, 67, 0.15);\n",
              "      fill: #174EA6;\n",
              "    }\n",
              "\n",
              "    .colab-df-buttons div {\n",
              "      margin-bottom: 4px;\n",
              "    }\n",
              "\n",
              "    [theme=dark] .colab-df-convert {\n",
              "      background-color: #3B4455;\n",
              "      fill: #D2E3FC;\n",
              "    }\n",
              "\n",
              "    [theme=dark] .colab-df-convert:hover {\n",
              "      background-color: #434B5C;\n",
              "      box-shadow: 0px 1px 3px 1px rgba(0, 0, 0, 0.15);\n",
              "      filter: drop-shadow(0px 1px 2px rgba(0, 0, 0, 0.3));\n",
              "      fill: #FFFFFF;\n",
              "    }\n",
              "  </style>\n",
              "\n",
              "    <script>\n",
              "      const buttonEl =\n",
              "        document.querySelector('#df-8f9826d4-5311-4f12-9b09-b033f148d0af button.colab-df-convert');\n",
              "      buttonEl.style.display =\n",
              "        google.colab.kernel.accessAllowed ? 'block' : 'none';\n",
              "\n",
              "      async function convertToInteractive(key) {\n",
              "        const element = document.querySelector('#df-8f9826d4-5311-4f12-9b09-b033f148d0af');\n",
              "        const dataTable =\n",
              "          await google.colab.kernel.invokeFunction('convertToInteractive',\n",
              "                                                    [key], {});\n",
              "        if (!dataTable) return;\n",
              "\n",
              "        const docLinkHtml = 'Like what you see? Visit the ' +\n",
              "          '<a target=\"_blank\" href=https://colab.research.google.com/notebooks/data_table.ipynb>data table notebook</a>'\n",
              "          + ' to learn more about interactive tables.';\n",
              "        element.innerHTML = '';\n",
              "        dataTable['output_type'] = 'display_data';\n",
              "        await google.colab.output.renderOutput(dataTable, element);\n",
              "        const docLink = document.createElement('div');\n",
              "        docLink.innerHTML = docLinkHtml;\n",
              "        element.appendChild(docLink);\n",
              "      }\n",
              "    </script>\n",
              "  </div>\n",
              "\n",
              "\n",
              "<div id=\"df-c52e6448-7718-413c-a563-893ba6755d5d\">\n",
              "  <button class=\"colab-df-quickchart\" onclick=\"quickchart('df-c52e6448-7718-413c-a563-893ba6755d5d')\"\n",
              "            title=\"Suggest charts.\"\n",
              "            style=\"display:none;\">\n",
              "\n",
              "<svg xmlns=\"http://www.w3.org/2000/svg\" height=\"24px\"viewBox=\"0 0 24 24\"\n",
              "     width=\"24px\">\n",
              "    <g>\n",
              "        <path d=\"M19 3H5c-1.1 0-2 .9-2 2v14c0 1.1.9 2 2 2h14c1.1 0 2-.9 2-2V5c0-1.1-.9-2-2-2zM9 17H7v-7h2v7zm4 0h-2V7h2v10zm4 0h-2v-4h2v4z\"/>\n",
              "    </g>\n",
              "</svg>\n",
              "  </button>\n",
              "\n",
              "<style>\n",
              "  .colab-df-quickchart {\n",
              "      --bg-color: #E8F0FE;\n",
              "      --fill-color: #1967D2;\n",
              "      --hover-bg-color: #E2EBFA;\n",
              "      --hover-fill-color: #174EA6;\n",
              "      --disabled-fill-color: #AAA;\n",
              "      --disabled-bg-color: #DDD;\n",
              "  }\n",
              "\n",
              "  [theme=dark] .colab-df-quickchart {\n",
              "      --bg-color: #3B4455;\n",
              "      --fill-color: #D2E3FC;\n",
              "      --hover-bg-color: #434B5C;\n",
              "      --hover-fill-color: #FFFFFF;\n",
              "      --disabled-bg-color: #3B4455;\n",
              "      --disabled-fill-color: #666;\n",
              "  }\n",
              "\n",
              "  .colab-df-quickchart {\n",
              "    background-color: var(--bg-color);\n",
              "    border: none;\n",
              "    border-radius: 50%;\n",
              "    cursor: pointer;\n",
              "    display: none;\n",
              "    fill: var(--fill-color);\n",
              "    height: 32px;\n",
              "    padding: 0;\n",
              "    width: 32px;\n",
              "  }\n",
              "\n",
              "  .colab-df-quickchart:hover {\n",
              "    background-color: var(--hover-bg-color);\n",
              "    box-shadow: 0 1px 2px rgba(60, 64, 67, 0.3), 0 1px 3px 1px rgba(60, 64, 67, 0.15);\n",
              "    fill: var(--button-hover-fill-color);\n",
              "  }\n",
              "\n",
              "  .colab-df-quickchart-complete:disabled,\n",
              "  .colab-df-quickchart-complete:disabled:hover {\n",
              "    background-color: var(--disabled-bg-color);\n",
              "    fill: var(--disabled-fill-color);\n",
              "    box-shadow: none;\n",
              "  }\n",
              "\n",
              "  .colab-df-spinner {\n",
              "    border: 2px solid var(--fill-color);\n",
              "    border-color: transparent;\n",
              "    border-bottom-color: var(--fill-color);\n",
              "    animation:\n",
              "      spin 1s steps(1) infinite;\n",
              "  }\n",
              "\n",
              "  @keyframes spin {\n",
              "    0% {\n",
              "      border-color: transparent;\n",
              "      border-bottom-color: var(--fill-color);\n",
              "      border-left-color: var(--fill-color);\n",
              "    }\n",
              "    20% {\n",
              "      border-color: transparent;\n",
              "      border-left-color: var(--fill-color);\n",
              "      border-top-color: var(--fill-color);\n",
              "    }\n",
              "    30% {\n",
              "      border-color: transparent;\n",
              "      border-left-color: var(--fill-color);\n",
              "      border-top-color: var(--fill-color);\n",
              "      border-right-color: var(--fill-color);\n",
              "    }\n",
              "    40% {\n",
              "      border-color: transparent;\n",
              "      border-right-color: var(--fill-color);\n",
              "      border-top-color: var(--fill-color);\n",
              "    }\n",
              "    60% {\n",
              "      border-color: transparent;\n",
              "      border-right-color: var(--fill-color);\n",
              "    }\n",
              "    80% {\n",
              "      border-color: transparent;\n",
              "      border-right-color: var(--fill-color);\n",
              "      border-bottom-color: var(--fill-color);\n",
              "    }\n",
              "    90% {\n",
              "      border-color: transparent;\n",
              "      border-bottom-color: var(--fill-color);\n",
              "    }\n",
              "  }\n",
              "</style>\n",
              "\n",
              "  <script>\n",
              "    async function quickchart(key) {\n",
              "      const quickchartButtonEl =\n",
              "        document.querySelector('#' + key + ' button');\n",
              "      quickchartButtonEl.disabled = true;  // To prevent multiple clicks.\n",
              "      quickchartButtonEl.classList.add('colab-df-spinner');\n",
              "      try {\n",
              "        const charts = await google.colab.kernel.invokeFunction(\n",
              "            'suggestCharts', [key], {});\n",
              "      } catch (error) {\n",
              "        console.error('Error during call to suggestCharts:', error);\n",
              "      }\n",
              "      quickchartButtonEl.classList.remove('colab-df-spinner');\n",
              "      quickchartButtonEl.classList.add('colab-df-quickchart-complete');\n",
              "    }\n",
              "    (() => {\n",
              "      let quickchartButtonEl =\n",
              "        document.querySelector('#df-c52e6448-7718-413c-a563-893ba6755d5d button');\n",
              "      quickchartButtonEl.style.display =\n",
              "        google.colab.kernel.accessAllowed ? 'block' : 'none';\n",
              "    })();\n",
              "  </script>\n",
              "</div>\n",
              "    </div>\n",
              "  </div>\n"
            ]
          },
          "metadata": {},
          "execution_count": 17
        }
      ],
      "source": [
        "y_pred_base_regressor = pd.DataFrame(y_test).shift(1, fill_value=0)\n",
        "y_pred_base_regressor"
      ]
    },
    {
      "cell_type": "code",
      "execution_count": null,
      "metadata": {
        "colab": {
          "base_uri": "https://localhost:8080/"
        },
        "id": "bKRu_1870fDv",
        "outputId": "a5032c28-15b3-4d46-e372-66d50ab70d3b"
      },
      "outputs": [
        {
          "output_type": "stream",
          "name": "stdout",
          "text": [
            "RMSE =  1.8736469778487927\n",
            "MAE =  1.4565947242206225\n"
          ]
        }
      ],
      "source": [
        "evaluate_regressor(y_test, y_pred_base_regressor)"
      ]
    }
  ],
  "metadata": {
    "colab": {
      "collapsed_sections": [
        "c-rLcypHZZYA",
        "taAMk2BS041G",
        "49vjOte91LE5",
        "l6W4LmWWsjb_",
        "YPzAHh1HrefY",
        "dk6w4EUw50aC",
        "-dlUexgnr6tw",
        "ox7ntUgssiqV",
        "VY8Y5xzd0tWI"
      ],
      "provenance": []
    },
    "kernelspec": {
      "display_name": "Python 3",
      "name": "python3"
    },
    "language_info": {
      "name": "python"
    }
  },
  "nbformat": 4,
  "nbformat_minor": 0
}